{
 "cells": [
  {
   "cell_type": "markdown",
   "metadata": {},
   "source": [
    "# Аналитика продаж.\n",
    "---\n",
    "У нас есть данные о продажах магазина на платформе WB, нам необходимо расчитать метрики по показателям и составить дашборд для деомонстрации показателей.\n",
    "\n",
    "- Метрики:\n",
    "    - Выручка\n",
    "\t- Прибыль\n",
    "\t- Рентабельность\n",
    "\t- АКБ\n",
    "\t- Средний чек\n",
    "\t- Затраты на логистику\n",
    "\n",
    "Информация о данных:\n",
    "\n",
    "У нас есть база данных составленная в Excel формате и содержащая несколько листов:\n",
    "- Продажи (Содержит информацию о продажах магазина на WB)\n",
    "- СПР_стоимость_доставки (Содержит инфомацию о ценах доставки для продуктов)\n",
    "- СПР_даты_заказа (даты заказов продуктов на WB)\n",
    "- СПР_продукты (Содержит список продуктов магазина)\n",
    "- СПР_покупатели (Содержит информацию о совершавших заказы)\n",
    "\n",
    "\n",
    "СОДЕРЖАНИЕ:\n",
    "1. [Импортируем необходимые библиотеки](##импортируем-необходимые-библиотеки)\n",
    "2. [Подключаемся к базе данных](##подключаемся-к-базе-данных)\n",
    "    - [Общая информация о данных](###общая_информация_о_данных)\n",
    "3. [Предобработка данных](##предобработка-данных)\n",
    "4. [Сохраняем преобразованную таблицу](##Сохраняем-таблицу)\n",
    "5. [Ссылка на дашборд](##дашборд)\n",
    "---"
   ]
  },
  {
   "cell_type": "markdown",
   "metadata": {},
   "source": [
    "## Импортируем необходимые библиотеки"
   ]
  },
  {
   "cell_type": "code",
   "execution_count": 11,
   "metadata": {},
   "outputs": [],
   "source": [
    "# для работы с таблицей нам понадобится только одна библиотека\n",
    "import pandas as pd"
   ]
  },
  {
   "cell_type": "markdown",
   "metadata": {},
   "source": [
    "## Подключаемся к базе данных"
   ]
  },
  {
   "cell_type": "code",
   "execution_count": 12,
   "metadata": {},
   "outputs": [],
   "source": [
    "# Загрузим каждый лист из базы данных \n",
    "data_prod = pd.read_excel(r\"C:\\Users\\0_0\\OneDrive\\Рабочий стол\\База данных (1).xlsx\", sheet_name='Продажи')\n",
    "data_dost = pd.read_excel(r\"C:\\Users\\0_0\\OneDrive\\Рабочий стол\\База данных (1).xlsx\", sheet_name='СПР_стоимость_доставки')\n",
    "data_date = pd.read_excel(r\"C:\\Users\\0_0\\OneDrive\\Рабочий стол\\База данных (1).xlsx\", sheet_name='СПР_даты_заказа')\n",
    "data_product = pd.read_excel(r\"C:\\Users\\0_0\\OneDrive\\Рабочий стол\\База данных (1).xlsx\", sheet_name='СПР_продукты')\n",
    "data_buyer = pd.read_excel(r\"C:\\Users\\0_0\\OneDrive\\Рабочий стол\\База данных (1).xlsx\", sheet_name='СПР_покупатели')"
   ]
  },
  {
   "cell_type": "markdown",
   "metadata": {},
   "source": [
    "### Общая информация о данных\n",
    "\n",
    "Выведем информацию о каждой таблице."
   ]
  },
  {
   "cell_type": "code",
   "execution_count": 13,
   "metadata": {},
   "outputs": [],
   "source": [
    "# Создаем функцию для вывода общей информации о таблице\n",
    "def info(data):\n",
    "\tdisplay(data.info()) # общая информация о столбцах\n",
    "\tprint(f'Общая длина строк в датафрейме = {len(data)}') # длинна таблицы\n",
    "\tdisplay(pd.DataFrame(data.isna().sum()).style.background_gradient('Greens')) # пропуски в столбцах\n",
    "\tdisplay(data.head())"
   ]
  },
  {
   "cell_type": "markdown",
   "metadata": {},
   "source": [
    "#### Таблица продаж"
   ]
  },
  {
   "cell_type": "code",
   "execution_count": 14,
   "metadata": {},
   "outputs": [
    {
     "name": "stdout",
     "output_type": "stream",
     "text": [
      "<class 'pandas.core.frame.DataFrame'>\n",
      "RangeIndex: 730 entries, 0 to 729\n",
      "Data columns (total 10 columns):\n",
      " #   Column             Non-Null Count  Dtype \n",
      "---  ------             --------------  ----- \n",
      " 0   Order_ID           730 non-null    int64 \n",
      " 1   Приоритет          730 non-null    object\n",
      " 2   Количество         730 non-null    int64 \n",
      " 3   Выручка            730 non-null    object\n",
      " 4   Метод доставки     730 non-null    object\n",
      " 5   Прибыль            730 non-null    object\n",
      " 6   Покупатель         730 non-null    object\n",
      " 7   Регион             730 non-null    object\n",
      " 8   Продукт            730 non-null    object\n",
      " 9   Упаковка продукта  730 non-null    object\n",
      "dtypes: int64(2), object(8)\n",
      "memory usage: 57.2+ KB\n"
     ]
    },
    {
     "data": {
      "text/plain": [
       "None"
      ]
     },
     "metadata": {},
     "output_type": "display_data"
    },
    {
     "name": "stdout",
     "output_type": "stream",
     "text": [
      "Общая длина строк в датафрейме = 730\n"
     ]
    },
    {
     "data": {
      "text/html": [
       "<style type=\"text/css\">\n",
       "#T_a6408_row0_col0, #T_a6408_row1_col0, #T_a6408_row2_col0, #T_a6408_row3_col0, #T_a6408_row4_col0, #T_a6408_row5_col0, #T_a6408_row6_col0, #T_a6408_row7_col0, #T_a6408_row8_col0, #T_a6408_row9_col0 {\n",
       "  background-color: #f7fcf5;\n",
       "  color: #000000;\n",
       "}\n",
       "</style>\n",
       "<table id=\"T_a6408\">\n",
       "  <thead>\n",
       "    <tr>\n",
       "      <th class=\"blank level0\" >&nbsp;</th>\n",
       "      <th id=\"T_a6408_level0_col0\" class=\"col_heading level0 col0\" >0</th>\n",
       "    </tr>\n",
       "  </thead>\n",
       "  <tbody>\n",
       "    <tr>\n",
       "      <th id=\"T_a6408_level0_row0\" class=\"row_heading level0 row0\" >Order_ID</th>\n",
       "      <td id=\"T_a6408_row0_col0\" class=\"data row0 col0\" >0</td>\n",
       "    </tr>\n",
       "    <tr>\n",
       "      <th id=\"T_a6408_level0_row1\" class=\"row_heading level0 row1\" >Приоритет</th>\n",
       "      <td id=\"T_a6408_row1_col0\" class=\"data row1 col0\" >0</td>\n",
       "    </tr>\n",
       "    <tr>\n",
       "      <th id=\"T_a6408_level0_row2\" class=\"row_heading level0 row2\" >Количество</th>\n",
       "      <td id=\"T_a6408_row2_col0\" class=\"data row2 col0\" >0</td>\n",
       "    </tr>\n",
       "    <tr>\n",
       "      <th id=\"T_a6408_level0_row3\" class=\"row_heading level0 row3\" >Выручка</th>\n",
       "      <td id=\"T_a6408_row3_col0\" class=\"data row3 col0\" >0</td>\n",
       "    </tr>\n",
       "    <tr>\n",
       "      <th id=\"T_a6408_level0_row4\" class=\"row_heading level0 row4\" >Метод доставки</th>\n",
       "      <td id=\"T_a6408_row4_col0\" class=\"data row4 col0\" >0</td>\n",
       "    </tr>\n",
       "    <tr>\n",
       "      <th id=\"T_a6408_level0_row5\" class=\"row_heading level0 row5\" >Прибыль</th>\n",
       "      <td id=\"T_a6408_row5_col0\" class=\"data row5 col0\" >0</td>\n",
       "    </tr>\n",
       "    <tr>\n",
       "      <th id=\"T_a6408_level0_row6\" class=\"row_heading level0 row6\" >Покупатель</th>\n",
       "      <td id=\"T_a6408_row6_col0\" class=\"data row6 col0\" >0</td>\n",
       "    </tr>\n",
       "    <tr>\n",
       "      <th id=\"T_a6408_level0_row7\" class=\"row_heading level0 row7\" >Регион</th>\n",
       "      <td id=\"T_a6408_row7_col0\" class=\"data row7 col0\" >0</td>\n",
       "    </tr>\n",
       "    <tr>\n",
       "      <th id=\"T_a6408_level0_row8\" class=\"row_heading level0 row8\" >Продукт</th>\n",
       "      <td id=\"T_a6408_row8_col0\" class=\"data row8 col0\" >0</td>\n",
       "    </tr>\n",
       "    <tr>\n",
       "      <th id=\"T_a6408_level0_row9\" class=\"row_heading level0 row9\" >Упаковка продукта</th>\n",
       "      <td id=\"T_a6408_row9_col0\" class=\"data row9 col0\" >0</td>\n",
       "    </tr>\n",
       "  </tbody>\n",
       "</table>\n"
      ],
      "text/plain": [
       "<pandas.io.formats.style.Styler at 0x172df1db110>"
      ]
     },
     "metadata": {},
     "output_type": "display_data"
    },
    {
     "data": {
      "text/html": [
       "<div>\n",
       "<style scoped>\n",
       "    .dataframe tbody tr th:only-of-type {\n",
       "        vertical-align: middle;\n",
       "    }\n",
       "\n",
       "    .dataframe tbody tr th {\n",
       "        vertical-align: top;\n",
       "    }\n",
       "\n",
       "    .dataframe thead th {\n",
       "        text-align: right;\n",
       "    }\n",
       "</style>\n",
       "<table border=\"1\" class=\"dataframe\">\n",
       "  <thead>\n",
       "    <tr style=\"text-align: right;\">\n",
       "      <th></th>\n",
       "      <th>Order_ID</th>\n",
       "      <th>Приоритет</th>\n",
       "      <th>Количество</th>\n",
       "      <th>Выручка</th>\n",
       "      <th>Метод доставки</th>\n",
       "      <th>Прибыль</th>\n",
       "      <th>Покупатель</th>\n",
       "      <th>Регион</th>\n",
       "      <th>Продукт</th>\n",
       "      <th>Упаковка продукта</th>\n",
       "    </tr>\n",
       "  </thead>\n",
       "  <tbody>\n",
       "    <tr>\n",
       "      <th>0</th>\n",
       "      <td>643</td>\n",
       "      <td>High</td>\n",
       "      <td>21</td>\n",
       "      <td>2 781.82</td>\n",
       "      <td>Express Air</td>\n",
       "      <td>-695.26</td>\n",
       "      <td>Monica Federle</td>\n",
       "      <td>Nunavut</td>\n",
       "      <td>SAFCO Commercial Wire Shelving, Black</td>\n",
       "      <td>Large Box</td>\n",
       "    </tr>\n",
       "    <tr>\n",
       "      <th>1</th>\n",
       "      <td>8995</td>\n",
       "      <td>High</td>\n",
       "      <td>35</td>\n",
       "      <td>3 389.93</td>\n",
       "      <td>Express Air</td>\n",
       "      <td>737.94</td>\n",
       "      <td>Beth Paige</td>\n",
       "      <td>Northwest Territories</td>\n",
       "      <td>Luxo Professional Combination Clamp-On Lamps</td>\n",
       "      <td>Large Box</td>\n",
       "    </tr>\n",
       "    <tr>\n",
       "      <th>2</th>\n",
       "      <td>9127</td>\n",
       "      <td>Not Specified</td>\n",
       "      <td>7</td>\n",
       "      <td>2 039.56</td>\n",
       "      <td>Express Air</td>\n",
       "      <td>-329.49</td>\n",
       "      <td>Bryan Davis</td>\n",
       "      <td>Northwest Territories</td>\n",
       "      <td>Tennsco Snap-Together Open Shelving Units, Sta...</td>\n",
       "      <td>Large Box</td>\n",
       "    </tr>\n",
       "    <tr>\n",
       "      <th>3</th>\n",
       "      <td>26272</td>\n",
       "      <td>Low</td>\n",
       "      <td>6</td>\n",
       "      <td>905.94</td>\n",
       "      <td>Express Air</td>\n",
       "      <td>-4.19</td>\n",
       "      <td>Carlos Daly</td>\n",
       "      <td>Northwest Territories</td>\n",
       "      <td>Hon Olson Stacker Stools</td>\n",
       "      <td>Large Box</td>\n",
       "    </tr>\n",
       "    <tr>\n",
       "      <th>4</th>\n",
       "      <td>36646</td>\n",
       "      <td>Medium</td>\n",
       "      <td>24</td>\n",
       "      <td>1 168.15</td>\n",
       "      <td>Express Air</td>\n",
       "      <td>-743.96</td>\n",
       "      <td>Muhammed MacIntyre</td>\n",
       "      <td>Northwest Territories</td>\n",
       "      <td>Tennsco Industrial Shelving</td>\n",
       "      <td>Large Box</td>\n",
       "    </tr>\n",
       "  </tbody>\n",
       "</table>\n",
       "</div>"
      ],
      "text/plain": [
       "   Order_ID      Приоритет  Количество   Выручка Метод доставки  Прибыль  \\\n",
       "0       643           High          21  2 781.82    Express Air  -695.26   \n",
       "1      8995           High          35  3 389.93    Express Air   737.94   \n",
       "2      9127  Not Specified           7  2 039.56    Express Air  -329.49   \n",
       "3     26272            Low           6    905.94    Express Air    -4.19   \n",
       "4     36646         Medium          24  1 168.15    Express Air  -743.96   \n",
       "\n",
       "           Покупатель                 Регион  \\\n",
       "0      Monica Federle                Nunavut   \n",
       "1          Beth Paige  Northwest Territories   \n",
       "2         Bryan Davis  Northwest Territories   \n",
       "3         Carlos Daly  Northwest Territories   \n",
       "4  Muhammed MacIntyre  Northwest Territories   \n",
       "\n",
       "                                             Продукт Упаковка продукта  \n",
       "0              SAFCO Commercial Wire Shelving, Black         Large Box  \n",
       "1       Luxo Professional Combination Clamp-On Lamps         Large Box  \n",
       "2  Tennsco Snap-Together Open Shelving Units, Sta...         Large Box  \n",
       "3                           Hon Olson Stacker Stools         Large Box  \n",
       "4                        Tennsco Industrial Shelving         Large Box  "
      ]
     },
     "metadata": {},
     "output_type": "display_data"
    }
   ],
   "source": [
    "# общая информация о таблице продаж\n",
    "info(data_prod)"
   ]
  },
  {
   "cell_type": "markdown",
   "metadata": {},
   "source": [
    "#### Таблица стоимости доставки"
   ]
  },
  {
   "cell_type": "code",
   "execution_count": 15,
   "metadata": {},
   "outputs": [
    {
     "name": "stdout",
     "output_type": "stream",
     "text": [
      "<class 'pandas.core.frame.DataFrame'>\n",
      "RangeIndex: 2 entries, 0 to 1\n",
      "Data columns (total 2 columns):\n",
      " #   Column              Non-Null Count  Dtype \n",
      "---  ------              --------------  ----- \n",
      " 0   Метод доставки      2 non-null      object\n",
      " 1   Стоимость доставки  2 non-null      int64 \n",
      "dtypes: int64(1), object(1)\n",
      "memory usage: 164.0+ bytes\n"
     ]
    },
    {
     "data": {
      "text/plain": [
       "None"
      ]
     },
     "metadata": {},
     "output_type": "display_data"
    },
    {
     "name": "stdout",
     "output_type": "stream",
     "text": [
      "Общая длина строк в датафрейме = 2\n"
     ]
    },
    {
     "data": {
      "text/html": [
       "<style type=\"text/css\">\n",
       "#T_a986b_row0_col0, #T_a986b_row1_col0 {\n",
       "  background-color: #f7fcf5;\n",
       "  color: #000000;\n",
       "}\n",
       "</style>\n",
       "<table id=\"T_a986b\">\n",
       "  <thead>\n",
       "    <tr>\n",
       "      <th class=\"blank level0\" >&nbsp;</th>\n",
       "      <th id=\"T_a986b_level0_col0\" class=\"col_heading level0 col0\" >0</th>\n",
       "    </tr>\n",
       "  </thead>\n",
       "  <tbody>\n",
       "    <tr>\n",
       "      <th id=\"T_a986b_level0_row0\" class=\"row_heading level0 row0\" >Метод доставки</th>\n",
       "      <td id=\"T_a986b_row0_col0\" class=\"data row0 col0\" >0</td>\n",
       "    </tr>\n",
       "    <tr>\n",
       "      <th id=\"T_a986b_level0_row1\" class=\"row_heading level0 row1\" >Стоимость доставки</th>\n",
       "      <td id=\"T_a986b_row1_col0\" class=\"data row1 col0\" >0</td>\n",
       "    </tr>\n",
       "  </tbody>\n",
       "</table>\n"
      ],
      "text/plain": [
       "<pandas.io.formats.style.Styler at 0x172de7882d0>"
      ]
     },
     "metadata": {},
     "output_type": "display_data"
    },
    {
     "data": {
      "text/html": [
       "<div>\n",
       "<style scoped>\n",
       "    .dataframe tbody tr th:only-of-type {\n",
       "        vertical-align: middle;\n",
       "    }\n",
       "\n",
       "    .dataframe tbody tr th {\n",
       "        vertical-align: top;\n",
       "    }\n",
       "\n",
       "    .dataframe thead th {\n",
       "        text-align: right;\n",
       "    }\n",
       "</style>\n",
       "<table border=\"1\" class=\"dataframe\">\n",
       "  <thead>\n",
       "    <tr style=\"text-align: right;\">\n",
       "      <th></th>\n",
       "      <th>Метод доставки</th>\n",
       "      <th>Стоимость доставки</th>\n",
       "    </tr>\n",
       "  </thead>\n",
       "  <tbody>\n",
       "    <tr>\n",
       "      <th>0</th>\n",
       "      <td>Express Air</td>\n",
       "      <td>10</td>\n",
       "    </tr>\n",
       "    <tr>\n",
       "      <th>1</th>\n",
       "      <td>Regular Air</td>\n",
       "      <td>5</td>\n",
       "    </tr>\n",
       "  </tbody>\n",
       "</table>\n",
       "</div>"
      ],
      "text/plain": [
       "  Метод доставки  Стоимость доставки\n",
       "0    Express Air                  10\n",
       "1    Regular Air                   5"
      ]
     },
     "metadata": {},
     "output_type": "display_data"
    }
   ],
   "source": [
    "# таблица стоимости доставки\n",
    "info(data_dost)"
   ]
  },
  {
   "cell_type": "markdown",
   "metadata": {},
   "source": [
    "#### Таблица с датами заказов"
   ]
  },
  {
   "cell_type": "code",
   "execution_count": 16,
   "metadata": {},
   "outputs": [
    {
     "name": "stdout",
     "output_type": "stream",
     "text": [
      "<class 'pandas.core.frame.DataFrame'>\n",
      "RangeIndex: 571 entries, 0 to 570\n",
      "Data columns (total 2 columns):\n",
      " #   Column    Non-Null Count  Dtype         \n",
      "---  ------    --------------  -----         \n",
      " 0   Order_ID  571 non-null    int64         \n",
      " 1   Дата      571 non-null    datetime64[ns]\n",
      "dtypes: datetime64[ns](1), int64(1)\n",
      "memory usage: 9.1 KB\n"
     ]
    },
    {
     "data": {
      "text/plain": [
       "None"
      ]
     },
     "metadata": {},
     "output_type": "display_data"
    },
    {
     "name": "stdout",
     "output_type": "stream",
     "text": [
      "Общая длина строк в датафрейме = 571\n"
     ]
    },
    {
     "data": {
      "text/html": [
       "<style type=\"text/css\">\n",
       "#T_11c7a_row0_col0, #T_11c7a_row1_col0 {\n",
       "  background-color: #f7fcf5;\n",
       "  color: #000000;\n",
       "}\n",
       "</style>\n",
       "<table id=\"T_11c7a\">\n",
       "  <thead>\n",
       "    <tr>\n",
       "      <th class=\"blank level0\" >&nbsp;</th>\n",
       "      <th id=\"T_11c7a_level0_col0\" class=\"col_heading level0 col0\" >0</th>\n",
       "    </tr>\n",
       "  </thead>\n",
       "  <tbody>\n",
       "    <tr>\n",
       "      <th id=\"T_11c7a_level0_row0\" class=\"row_heading level0 row0\" >Order_ID</th>\n",
       "      <td id=\"T_11c7a_row0_col0\" class=\"data row0 col0\" >0</td>\n",
       "    </tr>\n",
       "    <tr>\n",
       "      <th id=\"T_11c7a_level0_row1\" class=\"row_heading level0 row1\" >Дата</th>\n",
       "      <td id=\"T_11c7a_row1_col0\" class=\"data row1 col0\" >0</td>\n",
       "    </tr>\n",
       "  </tbody>\n",
       "</table>\n"
      ],
      "text/plain": [
       "<pandas.io.formats.style.Styler at 0x172db052450>"
      ]
     },
     "metadata": {},
     "output_type": "display_data"
    },
    {
     "data": {
      "text/html": [
       "<div>\n",
       "<style scoped>\n",
       "    .dataframe tbody tr th:only-of-type {\n",
       "        vertical-align: middle;\n",
       "    }\n",
       "\n",
       "    .dataframe tbody tr th {\n",
       "        vertical-align: top;\n",
       "    }\n",
       "\n",
       "    .dataframe thead th {\n",
       "        text-align: right;\n",
       "    }\n",
       "</style>\n",
       "<table border=\"1\" class=\"dataframe\">\n",
       "  <thead>\n",
       "    <tr style=\"text-align: right;\">\n",
       "      <th></th>\n",
       "      <th>Order_ID</th>\n",
       "      <th>Дата</th>\n",
       "    </tr>\n",
       "  </thead>\n",
       "  <tbody>\n",
       "    <tr>\n",
       "      <th>0</th>\n",
       "      <td>35</td>\n",
       "      <td>2022-01-01</td>\n",
       "    </tr>\n",
       "    <tr>\n",
       "      <th>1</th>\n",
       "      <td>293</td>\n",
       "      <td>2022-01-01</td>\n",
       "    </tr>\n",
       "    <tr>\n",
       "      <th>2</th>\n",
       "      <td>322</td>\n",
       "      <td>2022-01-01</td>\n",
       "    </tr>\n",
       "    <tr>\n",
       "      <th>3</th>\n",
       "      <td>450</td>\n",
       "      <td>2022-01-01</td>\n",
       "    </tr>\n",
       "    <tr>\n",
       "      <th>4</th>\n",
       "      <td>483</td>\n",
       "      <td>2022-01-01</td>\n",
       "    </tr>\n",
       "  </tbody>\n",
       "</table>\n",
       "</div>"
      ],
      "text/plain": [
       "   Order_ID       Дата\n",
       "0        35 2022-01-01\n",
       "1       293 2022-01-01\n",
       "2       322 2022-01-01\n",
       "3       450 2022-01-01\n",
       "4       483 2022-01-01"
      ]
     },
     "metadata": {},
     "output_type": "display_data"
    }
   ],
   "source": [
    "# таблица с датами \n",
    "info(data_date)"
   ]
  },
  {
   "cell_type": "markdown",
   "metadata": {},
   "source": [
    "#### Таблица с продуктами магазина"
   ]
  },
  {
   "cell_type": "code",
   "execution_count": 17,
   "metadata": {},
   "outputs": [
    {
     "name": "stdout",
     "output_type": "stream",
     "text": [
      "<class 'pandas.core.frame.DataFrame'>\n",
      "RangeIndex: 445 entries, 0 to 444\n",
      "Data columns (total 3 columns):\n",
      " #   Column                 Non-Null Count  Dtype \n",
      "---  ------                 --------------  ----- \n",
      " 0   Категория продукта     445 non-null    object\n",
      " 1   Подкатегория продукта  445 non-null    object\n",
      " 2   Продукт                445 non-null    object\n",
      "dtypes: object(3)\n",
      "memory usage: 10.6+ KB\n"
     ]
    },
    {
     "data": {
      "text/plain": [
       "None"
      ]
     },
     "metadata": {},
     "output_type": "display_data"
    },
    {
     "name": "stdout",
     "output_type": "stream",
     "text": [
      "Общая длина строк в датафрейме = 445\n"
     ]
    },
    {
     "data": {
      "text/html": [
       "<style type=\"text/css\">\n",
       "#T_6965d_row0_col0, #T_6965d_row1_col0, #T_6965d_row2_col0 {\n",
       "  background-color: #f7fcf5;\n",
       "  color: #000000;\n",
       "}\n",
       "</style>\n",
       "<table id=\"T_6965d\">\n",
       "  <thead>\n",
       "    <tr>\n",
       "      <th class=\"blank level0\" >&nbsp;</th>\n",
       "      <th id=\"T_6965d_level0_col0\" class=\"col_heading level0 col0\" >0</th>\n",
       "    </tr>\n",
       "  </thead>\n",
       "  <tbody>\n",
       "    <tr>\n",
       "      <th id=\"T_6965d_level0_row0\" class=\"row_heading level0 row0\" >Категория продукта</th>\n",
       "      <td id=\"T_6965d_row0_col0\" class=\"data row0 col0\" >0</td>\n",
       "    </tr>\n",
       "    <tr>\n",
       "      <th id=\"T_6965d_level0_row1\" class=\"row_heading level0 row1\" >Подкатегория продукта</th>\n",
       "      <td id=\"T_6965d_row1_col0\" class=\"data row1 col0\" >0</td>\n",
       "    </tr>\n",
       "    <tr>\n",
       "      <th id=\"T_6965d_level0_row2\" class=\"row_heading level0 row2\" >Продукт</th>\n",
       "      <td id=\"T_6965d_row2_col0\" class=\"data row2 col0\" >0</td>\n",
       "    </tr>\n",
       "  </tbody>\n",
       "</table>\n"
      ],
      "text/plain": [
       "<pandas.io.formats.style.Styler at 0x172df4698d0>"
      ]
     },
     "metadata": {},
     "output_type": "display_data"
    },
    {
     "data": {
      "text/html": [
       "<div>\n",
       "<style scoped>\n",
       "    .dataframe tbody tr th:only-of-type {\n",
       "        vertical-align: middle;\n",
       "    }\n",
       "\n",
       "    .dataframe tbody tr th {\n",
       "        vertical-align: top;\n",
       "    }\n",
       "\n",
       "    .dataframe thead th {\n",
       "        text-align: right;\n",
       "    }\n",
       "</style>\n",
       "<table border=\"1\" class=\"dataframe\">\n",
       "  <thead>\n",
       "    <tr style=\"text-align: right;\">\n",
       "      <th></th>\n",
       "      <th>Категория продукта</th>\n",
       "      <th>Подкатегория продукта</th>\n",
       "      <th>Продукт</th>\n",
       "    </tr>\n",
       "  </thead>\n",
       "  <tbody>\n",
       "    <tr>\n",
       "      <th>0</th>\n",
       "      <td>Office Supplies</td>\n",
       "      <td>Storage &amp; Organization</td>\n",
       "      <td>SAFCO Commercial Wire Shelving, Black</td>\n",
       "    </tr>\n",
       "    <tr>\n",
       "      <th>1</th>\n",
       "      <td>Furniture</td>\n",
       "      <td>Office Furnishings</td>\n",
       "      <td>Luxo Professional Combination Clamp-On Lamps</td>\n",
       "    </tr>\n",
       "    <tr>\n",
       "      <th>2</th>\n",
       "      <td>Office Supplies</td>\n",
       "      <td>Storage &amp; Organization</td>\n",
       "      <td>Tennsco Snap-Together Open Shelving Units, Sta...</td>\n",
       "    </tr>\n",
       "    <tr>\n",
       "      <th>3</th>\n",
       "      <td>Furniture</td>\n",
       "      <td>Chairs &amp; Chairmats</td>\n",
       "      <td>Hon Olson Stacker Stools</td>\n",
       "    </tr>\n",
       "    <tr>\n",
       "      <th>4</th>\n",
       "      <td>Office Supplies</td>\n",
       "      <td>Storage &amp; Organization</td>\n",
       "      <td>Tennsco Industrial Shelving</td>\n",
       "    </tr>\n",
       "  </tbody>\n",
       "</table>\n",
       "</div>"
      ],
      "text/plain": [
       "  Категория продукта   Подкатегория продукта  \\\n",
       "0    Office Supplies  Storage & Organization   \n",
       "1          Furniture      Office Furnishings   \n",
       "2    Office Supplies  Storage & Organization   \n",
       "3          Furniture      Chairs & Chairmats   \n",
       "4    Office Supplies  Storage & Organization   \n",
       "\n",
       "                                             Продукт  \n",
       "0              SAFCO Commercial Wire Shelving, Black  \n",
       "1       Luxo Professional Combination Clamp-On Lamps  \n",
       "2  Tennsco Snap-Together Open Shelving Units, Sta...  \n",
       "3                           Hon Olson Stacker Stools  \n",
       "4                        Tennsco Industrial Shelving  "
      ]
     },
     "metadata": {},
     "output_type": "display_data"
    }
   ],
   "source": [
    "# таблица с продуктами\n",
    "info(data_product)"
   ]
  },
  {
   "cell_type": "markdown",
   "metadata": {},
   "source": [
    "#### Таблица с покупателями"
   ]
  },
  {
   "cell_type": "code",
   "execution_count": 18,
   "metadata": {},
   "outputs": [
    {
     "name": "stdout",
     "output_type": "stream",
     "text": [
      "<class 'pandas.core.frame.DataFrame'>\n",
      "RangeIndex: 192 entries, 0 to 191\n",
      "Data columns (total 2 columns):\n",
      " #   Column              Non-Null Count  Dtype \n",
      "---  ------              --------------  ----- \n",
      " 0   Покупатель          192 non-null    object\n",
      " 1   Сегмент покупателя  192 non-null    object\n",
      "dtypes: object(2)\n",
      "memory usage: 3.1+ KB\n"
     ]
    },
    {
     "data": {
      "text/plain": [
       "None"
      ]
     },
     "metadata": {},
     "output_type": "display_data"
    },
    {
     "name": "stdout",
     "output_type": "stream",
     "text": [
      "Общая длина строк в датафрейме = 192\n"
     ]
    },
    {
     "data": {
      "text/html": [
       "<style type=\"text/css\">\n",
       "#T_aac39_row0_col0, #T_aac39_row1_col0 {\n",
       "  background-color: #f7fcf5;\n",
       "  color: #000000;\n",
       "}\n",
       "</style>\n",
       "<table id=\"T_aac39\">\n",
       "  <thead>\n",
       "    <tr>\n",
       "      <th class=\"blank level0\" >&nbsp;</th>\n",
       "      <th id=\"T_aac39_level0_col0\" class=\"col_heading level0 col0\" >0</th>\n",
       "    </tr>\n",
       "  </thead>\n",
       "  <tbody>\n",
       "    <tr>\n",
       "      <th id=\"T_aac39_level0_row0\" class=\"row_heading level0 row0\" >Покупатель</th>\n",
       "      <td id=\"T_aac39_row0_col0\" class=\"data row0 col0\" >0</td>\n",
       "    </tr>\n",
       "    <tr>\n",
       "      <th id=\"T_aac39_level0_row1\" class=\"row_heading level0 row1\" >Сегмент покупателя</th>\n",
       "      <td id=\"T_aac39_row1_col0\" class=\"data row1 col0\" >0</td>\n",
       "    </tr>\n",
       "  </tbody>\n",
       "</table>\n"
      ],
      "text/plain": [
       "<pandas.io.formats.style.Styler at 0x172df46b710>"
      ]
     },
     "metadata": {},
     "output_type": "display_data"
    },
    {
     "data": {
      "text/html": [
       "<div>\n",
       "<style scoped>\n",
       "    .dataframe tbody tr th:only-of-type {\n",
       "        vertical-align: middle;\n",
       "    }\n",
       "\n",
       "    .dataframe tbody tr th {\n",
       "        vertical-align: top;\n",
       "    }\n",
       "\n",
       "    .dataframe thead th {\n",
       "        text-align: right;\n",
       "    }\n",
       "</style>\n",
       "<table border=\"1\" class=\"dataframe\">\n",
       "  <thead>\n",
       "    <tr style=\"text-align: right;\">\n",
       "      <th></th>\n",
       "      <th>Покупатель</th>\n",
       "      <th>Сегмент покупателя</th>\n",
       "    </tr>\n",
       "  </thead>\n",
       "  <tbody>\n",
       "    <tr>\n",
       "      <th>0</th>\n",
       "      <td>Monica Federle</td>\n",
       "      <td>Corporate</td>\n",
       "    </tr>\n",
       "    <tr>\n",
       "      <th>1</th>\n",
       "      <td>Beth Paige</td>\n",
       "      <td>Consumer</td>\n",
       "    </tr>\n",
       "    <tr>\n",
       "      <th>2</th>\n",
       "      <td>Bryan Davis</td>\n",
       "      <td>Corporate</td>\n",
       "    </tr>\n",
       "    <tr>\n",
       "      <th>3</th>\n",
       "      <td>Carlos Daly</td>\n",
       "      <td>Home Office</td>\n",
       "    </tr>\n",
       "    <tr>\n",
       "      <th>4</th>\n",
       "      <td>Muhammed MacIntyre</td>\n",
       "      <td>Small Business</td>\n",
       "    </tr>\n",
       "  </tbody>\n",
       "</table>\n",
       "</div>"
      ],
      "text/plain": [
       "           Покупатель Сегмент покупателя\n",
       "0      Monica Federle          Corporate\n",
       "1          Beth Paige           Consumer\n",
       "2         Bryan Davis          Corporate\n",
       "3         Carlos Daly        Home Office\n",
       "4  Muhammed MacIntyre     Small Business"
      ]
     },
     "metadata": {},
     "output_type": "display_data"
    }
   ],
   "source": [
    "# таблица с покупкателями\n",
    "info(data_buyer)"
   ]
  },
  {
   "cell_type": "markdown",
   "metadata": {},
   "source": [
    "## Предобработка данных\n",
    "\n",
    "Исправим ошибки, удалим пропуски, подготовим данные к работе.\n",
    "\n",
    "Из прошлого раздела мы нашли ошибки только в таблице продаж с неправильными типами данных для числовых значений выручки и прибыли, исправим их."
   ]
  },
  {
   "cell_type": "code",
   "execution_count": 19,
   "metadata": {},
   "outputs": [
    {
     "name": "stdout",
     "output_type": "stream",
     "text": [
      "<class 'pandas.core.frame.DataFrame'>\n",
      "RangeIndex: 730 entries, 0 to 729\n",
      "Data columns (total 10 columns):\n",
      " #   Column             Non-Null Count  Dtype  \n",
      "---  ------             --------------  -----  \n",
      " 0   Order_ID           730 non-null    int64  \n",
      " 1   Приоритет          730 non-null    object \n",
      " 2   Количество         730 non-null    int64  \n",
      " 3   Выручка            730 non-null    float64\n",
      " 4   Метод доставки     730 non-null    object \n",
      " 5   Прибыль            730 non-null    float64\n",
      " 6   Покупатель         730 non-null    object \n",
      " 7   Регион             730 non-null    object \n",
      " 8   Продукт            730 non-null    object \n",
      " 9   Упаковка продукта  730 non-null    object \n",
      "dtypes: float64(2), int64(2), object(6)\n",
      "memory usage: 57.2+ KB\n"
     ]
    }
   ],
   "source": [
    "# Удаляем лишние разделители и пробелы, и приводим значения к типу float\n",
    "data_prod['Выручка'] = data_prod['Выручка'].str.replace(\n",
    "\t'\\xa0', '', regex=False).str.replace(' ', '', regex=False).astype(float) \n",
    "\n",
    "data_prod['Прибыль'] = data_prod['Прибыль'].str.replace(\n",
    "\t'\\xa0', '', regex=False).str.replace(' ', '', regex=False).astype(float)\n",
    "data_prod.info()"
   ]
  },
  {
   "cell_type": "markdown",
   "metadata": {},
   "source": [
    "Мы исправили неправильную типизацию, проупсков в данных не найденно, теперь можно переходить к созданию новой таблицы."
   ]
  },
  {
   "cell_type": "markdown",
   "metadata": {},
   "source": [
    "## Сохраняем таблицу\n",
    "\n",
    "Сохраняем исправленные таблицы в базу данных Excel для будущей работы в Tableau."
   ]
  },
  {
   "cell_type": "code",
   "execution_count": null,
   "metadata": {},
   "outputs": [],
   "source": [
    "# Имя файла для сохранения\n",
    "output_file = 'предобработанная_БД.xlsx'\n",
    "\n",
    "# Используем ExcelWriter для записи в один файл с несколькими листами\n",
    "#with pd.ExcelWriter(output_file, engine='openpyxl') as writer:\n",
    "\t#data_prod.to_excel(writer, sheet_name='Продажи', index=False)\n",
    "\t#data_dost.to_excel(writer, sheet_name='Стоимость доставки', index=False)\n",
    "\t#data_date.to_excel(writer, sheet_name='Даты', index=False)\n",
    "\t#data_product.to_excel(writer, sheet_name='Продукты', index=False)\n",
    "\t#data_buyer.to_excel(writer, sheet_name='Покупатели', index=False)"
   ]
  },
  {
   "cell_type": "markdown",
   "metadata": {},
   "source": [
    "Фаил успешно сохранен, далее работа будет проводится в Tableau.\n",
    "\n",
    "## Ссылка на дашборд: \n",
    "\n",
    "https://public.tableau.com/app/profile/samur.yusupov/viz/_17367029792670/sheet11?publish=yes\n"
   ]
  }
 ],
 "metadata": {
  "kernelspec": {
   "display_name": "base",
   "language": "python",
   "name": "python3"
  },
  "language_info": {
   "codemirror_mode": {
    "name": "ipython",
    "version": 3
   },
   "file_extension": ".py",
   "mimetype": "text/x-python",
   "name": "python",
   "nbconvert_exporter": "python",
   "pygments_lexer": "ipython3",
   "version": "3.11.5"
  }
 },
 "nbformat": 4,
 "nbformat_minor": 2
}
