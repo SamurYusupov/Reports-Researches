{
 "cells": [
  {
   "cell_type": "markdown",
   "metadata": {
    "id": "sIfNaMOxgFyK"
   },
   "source": [
    "## Исследование данных о российском кинопрокате"
   ]
  },
  {
   "cell_type": "markdown",
   "metadata": {},
   "source": [
    "Основная цель проекта:\n",
    "- Нам нужно изучить рынок российского кинопроката и выявить текущие тренды. Уделите внимание фильмам, которые получили государственную поддержку. Попробуйте ответить на вопрос, насколько такие фильмы интересны зрителю.\n",
    "\n",
    "Краткое описание данных:\n",
    "\n",
    "У нас имеются две таблицы с описанием фильмов. Названия картин, их прокатные удостоверения, даты премьер, показатели возвратной и невозвратной государственной поддержки, жанры и типы фильмов, студия , режиссеры, и государства создания фильмов, также имеется информация о потраченном бюджете команд фильмов, рейтинги и кассовые сборы фильмов в кинотеатрах. \n",
    "\n",
    "Содержание данных:\n",
    "\n",
    "Таблица `mkrf_movies` содержит информацию из реестра прокатных удостоверений. У одного фильма может быть несколько прокатных удостоверений.\n",
    "\n",
    "- `title` — название фильма;\n",
    "- `puNumber` — номер прокатного удостоверения;\n",
    "- `show_start_date` — дата премьеры фильма;\n",
    "- `type` — тип фильма;\n",
    "- `film_studio` — студия-производитель;\n",
    "- `production_country` — страна-производитель;\n",
    "- `director` — режиссёр;\n",
    "- `producer` — продюсер;\n",
    "- `age_restriction` — возрастная категория;\n",
    "- `refundable_support` _—_ объём возвратных средств государственной поддержки;\n",
    "`nonrefundable_support` _—_ объём невозвратных средств государственной поддержки;\n",
    "- `financing_source` _—_ источник государственного финансирования;\n",
    "- `budget` _—_ общий бюджет фильма;\n",
    "- `ratings` _—_ рейтинг фильма на КиноПоиске;\n",
    "- `genres` _—_ жанр фильма.\n",
    "\n",
    "Столбец `budget` уже включает в себя полный объём государственной поддержки. Данные в этом столбце указаны только для тех фильмов, которые получили государственную поддержку.\n",
    "\n",
    "Таблица `mkrf_shows` содержит сведения о показах фильмов в российских кинотеатрах.\n",
    "\n",
    "- `puNumber` — номер прокатного удостоверения;\n",
    "- `box_office` — сборы в рублях.\n",
    "\n",
    "Информация в датафрейме опубликованна на [портале открытых данных Министерства культуры](http://opendata.mkrf.ru/) и на сайте \"Кинопоиск\"."
   ]
  },
  {
   "cell_type": "markdown",
   "metadata": {
    "id": "3bSlkCsbgFyL"
   },
   "source": [
    "### Шаг 1. Откройте файлы с данными и объедините их в один датафрейм. \n",
    "\n",
    "Объедините данные таким образом, чтобы все объекты из датасета `mkrf_movies`(data_movies) обязательно вошли в получившийся датафрейм. "
   ]
  },
  {
   "cell_type": "code",
   "execution_count": 1,
   "metadata": {
    "id": "dw87FlzMgFyM"
   },
   "outputs": [],
   "source": [
    "# загружаем необходимые библиотеки\n",
    "import pandas as pd\n",
    "import numpy as np\n",
    "import matplotlib.pyplot as plt\n",
    "import plotly.express as px\n",
    "import plotly.graph_objs as go\n",
    "from plotly.subplots import make_subplots"
   ]
  },
  {
   "cell_type": "code",
   "execution_count": 2,
   "metadata": {},
   "outputs": [],
   "source": [
    "# указываем ссылки из облачного хранилища\n",
    "movies_id = '1TDFPuLaiSZuQk4q7iC-RPR7vBYbnBBtf'\n",
    "movies_url = 'https://drive.google.com/uc?id=' + movies_id\n",
    "\n",
    "shows_id = '1v1cN5z9OVueNvFAAX8sSWWz82yiMtPHx'\n",
    "shows_url = 'https://drive.google.com/uc?id=' + shows_id\n",
    "\n",
    "# загружаем данные о фильмах\n",
    "data_movies = pd.read_csv(movies_url)\n",
    "#display(data_movies.head())\n",
    "\n",
    "# загружаем данные о показах\n",
    "data_shows = pd.read_csv(shows_url)\n",
    "#display(data_shows.head())"
   ]
  },
  {
   "cell_type": "code",
   "execution_count": 3,
   "metadata": {},
   "outputs": [
    {
     "name": "stdout",
     "output_type": "stream",
     "text": [
      "<class 'pandas.core.frame.DataFrame'>\n",
      "RangeIndex: 7486 entries, 0 to 7485\n",
      "Data columns (total 15 columns):\n",
      " #   Column                 Non-Null Count  Dtype  \n",
      "---  ------                 --------------  -----  \n",
      " 0   title                  7486 non-null   object \n",
      " 1   puNumber               7486 non-null   object \n",
      " 2   show_start_date        7486 non-null   object \n",
      " 3   type                   7486 non-null   object \n",
      " 4   film_studio            7468 non-null   object \n",
      " 5   production_country     7484 non-null   object \n",
      " 6   director               7477 non-null   object \n",
      " 7   producer               6918 non-null   object \n",
      " 8   age_restriction        7486 non-null   object \n",
      " 9   refundable_support     332 non-null    float64\n",
      " 10  nonrefundable_support  332 non-null    float64\n",
      " 11  budget                 332 non-null    float64\n",
      " 12  financing_source       332 non-null    object \n",
      " 13  ratings                6519 non-null   object \n",
      " 14  genres                 6510 non-null   object \n",
      "dtypes: float64(3), object(12)\n",
      "memory usage: 877.4+ KB\n"
     ]
    }
   ],
   "source": [
    "# выводим общую информацию о таблице с фильмами\n",
    "data_movies.info()"
   ]
  },
  {
   "cell_type": "code",
   "execution_count": 4,
   "metadata": {},
   "outputs": [
    {
     "name": "stdout",
     "output_type": "stream",
     "text": [
      "<class 'pandas.core.frame.DataFrame'>\n",
      "RangeIndex: 3158 entries, 0 to 3157\n",
      "Data columns (total 2 columns):\n",
      " #   Column      Non-Null Count  Dtype  \n",
      "---  ------      --------------  -----  \n",
      " 0   puNumber    3158 non-null   int64  \n",
      " 1   box_office  3158 non-null   float64\n",
      "dtypes: float64(1), int64(1)\n",
      "memory usage: 49.5 KB\n"
     ]
    }
   ],
   "source": [
    "# выводим общую информацию о таблице с показами\n",
    "data_shows.info()"
   ]
  },
  {
   "cell_type": "code",
   "execution_count": 5,
   "metadata": {},
   "outputs": [
    {
     "data": {
      "text/html": [
       "<div>\n",
       "<style scoped>\n",
       "    .dataframe tbody tr th:only-of-type {\n",
       "        vertical-align: middle;\n",
       "    }\n",
       "\n",
       "    .dataframe tbody tr th {\n",
       "        vertical-align: top;\n",
       "    }\n",
       "\n",
       "    .dataframe thead th {\n",
       "        text-align: right;\n",
       "    }\n",
       "</style>\n",
       "<table border=\"1\" class=\"dataframe\">\n",
       "  <thead>\n",
       "    <tr style=\"text-align: right;\">\n",
       "      <th></th>\n",
       "      <th>title</th>\n",
       "      <th>puNumber</th>\n",
       "      <th>show_start_date</th>\n",
       "      <th>type</th>\n",
       "      <th>film_studio</th>\n",
       "      <th>production_country</th>\n",
       "      <th>director</th>\n",
       "      <th>producer</th>\n",
       "      <th>age_restriction</th>\n",
       "      <th>refundable_support</th>\n",
       "      <th>nonrefundable_support</th>\n",
       "      <th>budget</th>\n",
       "      <th>financing_source</th>\n",
       "      <th>ratings</th>\n",
       "      <th>genres</th>\n",
       "    </tr>\n",
       "  </thead>\n",
       "  <tbody>\n",
       "    <tr>\n",
       "      <th>0</th>\n",
       "      <td>Открытый простор</td>\n",
       "      <td>221048915</td>\n",
       "      <td>2015-11-27T12:00:00.000Z</td>\n",
       "      <td>Художественный</td>\n",
       "      <td>Тачстоун Пикчерз, Кобальт Пикчерз, Бикон Пикче...</td>\n",
       "      <td>США</td>\n",
       "      <td>Кевин Костнер</td>\n",
       "      <td>Дэвид Валдес, Кевин Костнер, Джейк Эбертс</td>\n",
       "      <td>«18+» - запрещено для детей</td>\n",
       "      <td>NaN</td>\n",
       "      <td>NaN</td>\n",
       "      <td>NaN</td>\n",
       "      <td>NaN</td>\n",
       "      <td>7.2</td>\n",
       "      <td>боевик,драма,мелодрама</td>\n",
       "    </tr>\n",
       "    <tr>\n",
       "      <th>1</th>\n",
       "      <td>Особо важное задание</td>\n",
       "      <td>111013716</td>\n",
       "      <td>2016-09-13T12:00:00.000Z</td>\n",
       "      <td>Художественный</td>\n",
       "      <td>Киностудия \"Мосфильм\"</td>\n",
       "      <td>СССР</td>\n",
       "      <td>Е.Матвеев</td>\n",
       "      <td>NaN</td>\n",
       "      <td>«6+» - для детей старше 6 лет</td>\n",
       "      <td>NaN</td>\n",
       "      <td>NaN</td>\n",
       "      <td>NaN</td>\n",
       "      <td>NaN</td>\n",
       "      <td>6.6</td>\n",
       "      <td>драма,военный</td>\n",
       "    </tr>\n",
       "    <tr>\n",
       "      <th>2</th>\n",
       "      <td>Особо опасен</td>\n",
       "      <td>221038416</td>\n",
       "      <td>2016-10-10T12:00:00.000Z</td>\n",
       "      <td>Художественный</td>\n",
       "      <td>Юниверсал Пикчерз, Кикстарт Продакшнз, Марк Пл...</td>\n",
       "      <td>США</td>\n",
       "      <td>Тимур Бекмамбетов</td>\n",
       "      <td>Джим Лемли, Джейсон Нетер, Марк Е.Платт, Яйн Смит</td>\n",
       "      <td>«18+» - запрещено для детей</td>\n",
       "      <td>NaN</td>\n",
       "      <td>NaN</td>\n",
       "      <td>NaN</td>\n",
       "      <td>NaN</td>\n",
       "      <td>6.8</td>\n",
       "      <td>фантастика,боевик,триллер</td>\n",
       "    </tr>\n",
       "    <tr>\n",
       "      <th>3</th>\n",
       "      <td>Особо опасен</td>\n",
       "      <td>221026916</td>\n",
       "      <td>2016-06-10T12:00:00.000Z</td>\n",
       "      <td>Художественный</td>\n",
       "      <td>Юниверсал Пикчерз, Кикстарт Продакшнз, Марк Пл...</td>\n",
       "      <td>США</td>\n",
       "      <td>Тимур Бекмамбетов</td>\n",
       "      <td>Джим Лемли, Джейсон Нетер, Марк Е.Платт, Яйн Смит</td>\n",
       "      <td>«18+» - запрещено для детей</td>\n",
       "      <td>NaN</td>\n",
       "      <td>NaN</td>\n",
       "      <td>NaN</td>\n",
       "      <td>NaN</td>\n",
       "      <td>6.8</td>\n",
       "      <td>фантастика,боевик,триллер</td>\n",
       "    </tr>\n",
       "    <tr>\n",
       "      <th>4</th>\n",
       "      <td>Особо опасен</td>\n",
       "      <td>221030815</td>\n",
       "      <td>2015-07-29T12:00:00.000Z</td>\n",
       "      <td>Художественный</td>\n",
       "      <td>Юниверсал Пикчерз, Кикстарт Продакшнз, Марк Пл...</td>\n",
       "      <td>США</td>\n",
       "      <td>Тимур Бекмамбетов</td>\n",
       "      <td>Джим Лемли, Джейсон Нетер, Марк Е.Платт, Яйн Смит</td>\n",
       "      <td>«18+» - запрещено для детей</td>\n",
       "      <td>NaN</td>\n",
       "      <td>NaN</td>\n",
       "      <td>NaN</td>\n",
       "      <td>NaN</td>\n",
       "      <td>6.8</td>\n",
       "      <td>фантастика,боевик,триллер</td>\n",
       "    </tr>\n",
       "  </tbody>\n",
       "</table>\n",
       "</div>"
      ],
      "text/plain": [
       "                  title   puNumber           show_start_date            type  \\\n",
       "0      Открытый простор  221048915  2015-11-27T12:00:00.000Z  Художественный   \n",
       "1  Особо важное задание  111013716  2016-09-13T12:00:00.000Z  Художественный   \n",
       "2          Особо опасен  221038416  2016-10-10T12:00:00.000Z  Художественный   \n",
       "3          Особо опасен  221026916  2016-06-10T12:00:00.000Z  Художественный   \n",
       "4          Особо опасен  221030815  2015-07-29T12:00:00.000Z  Художественный   \n",
       "\n",
       "                                         film_studio production_country  \\\n",
       "0  Тачстоун Пикчерз, Кобальт Пикчерз, Бикон Пикче...                США   \n",
       "1                              Киностудия \"Мосфильм\"               СССР   \n",
       "2  Юниверсал Пикчерз, Кикстарт Продакшнз, Марк Пл...                США   \n",
       "3  Юниверсал Пикчерз, Кикстарт Продакшнз, Марк Пл...                США   \n",
       "4  Юниверсал Пикчерз, Кикстарт Продакшнз, Марк Пл...                США   \n",
       "\n",
       "            director                                           producer  \\\n",
       "0      Кевин Костнер          Дэвид Валдес, Кевин Костнер, Джейк Эбертс   \n",
       "1          Е.Матвеев                                                NaN   \n",
       "2  Тимур Бекмамбетов  Джим Лемли, Джейсон Нетер, Марк Е.Платт, Яйн Смит   \n",
       "3  Тимур Бекмамбетов  Джим Лемли, Джейсон Нетер, Марк Е.Платт, Яйн Смит   \n",
       "4  Тимур Бекмамбетов  Джим Лемли, Джейсон Нетер, Марк Е.Платт, Яйн Смит   \n",
       "\n",
       "                 age_restriction  refundable_support  nonrefundable_support  \\\n",
       "0    «18+» - запрещено для детей                 NaN                    NaN   \n",
       "1  «6+» - для детей старше 6 лет                 NaN                    NaN   \n",
       "2    «18+» - запрещено для детей                 NaN                    NaN   \n",
       "3    «18+» - запрещено для детей                 NaN                    NaN   \n",
       "4    «18+» - запрещено для детей                 NaN                    NaN   \n",
       "\n",
       "   budget financing_source ratings                     genres  \n",
       "0     NaN              NaN     7.2     боевик,драма,мелодрама  \n",
       "1     NaN              NaN     6.6              драма,военный  \n",
       "2     NaN              NaN     6.8  фантастика,боевик,триллер  \n",
       "3     NaN              NaN     6.8  фантастика,боевик,триллер  \n",
       "4     NaN              NaN     6.8  фантастика,боевик,триллер  "
      ]
     },
     "metadata": {},
     "output_type": "display_data"
    },
    {
     "data": {
      "text/html": [
       "<div>\n",
       "<style scoped>\n",
       "    .dataframe tbody tr th:only-of-type {\n",
       "        vertical-align: middle;\n",
       "    }\n",
       "\n",
       "    .dataframe tbody tr th {\n",
       "        vertical-align: top;\n",
       "    }\n",
       "\n",
       "    .dataframe thead th {\n",
       "        text-align: right;\n",
       "    }\n",
       "</style>\n",
       "<table border=\"1\" class=\"dataframe\">\n",
       "  <thead>\n",
       "    <tr style=\"text-align: right;\">\n",
       "      <th></th>\n",
       "      <th>puNumber</th>\n",
       "      <th>box_office</th>\n",
       "    </tr>\n",
       "  </thead>\n",
       "  <tbody>\n",
       "    <tr>\n",
       "      <th>0</th>\n",
       "      <td>111000113</td>\n",
       "      <td>2.450000e+03</td>\n",
       "    </tr>\n",
       "    <tr>\n",
       "      <th>1</th>\n",
       "      <td>111000115</td>\n",
       "      <td>6.104000e+04</td>\n",
       "    </tr>\n",
       "    <tr>\n",
       "      <th>2</th>\n",
       "      <td>111000116</td>\n",
       "      <td>1.530300e+08</td>\n",
       "    </tr>\n",
       "    <tr>\n",
       "      <th>3</th>\n",
       "      <td>111000117</td>\n",
       "      <td>1.226096e+07</td>\n",
       "    </tr>\n",
       "    <tr>\n",
       "      <th>4</th>\n",
       "      <td>111000118</td>\n",
       "      <td>1.636841e+08</td>\n",
       "    </tr>\n",
       "  </tbody>\n",
       "</table>\n",
       "</div>"
      ],
      "text/plain": [
       "    puNumber    box_office\n",
       "0  111000113  2.450000e+03\n",
       "1  111000115  6.104000e+04\n",
       "2  111000116  1.530300e+08\n",
       "3  111000117  1.226096e+07\n",
       "4  111000118  1.636841e+08"
      ]
     },
     "execution_count": 5,
     "metadata": {},
     "output_type": "execute_result"
    }
   ],
   "source": [
    "# выведем первые пять строк каждой таблицы\n",
    "display(data_movies.head())\n",
    "data_shows.head()"
   ]
  },
  {
   "cell_type": "markdown",
   "metadata": {},
   "source": [
    "##### Объеденим две таблицы в одну для удобства анализа"
   ]
  },
  {
   "cell_type": "code",
   "execution_count": 6,
   "metadata": {},
   "outputs": [
    {
     "name": "stdout",
     "output_type": "stream",
     "text": [
      "<class 'pandas.core.frame.DataFrame'>\n",
      "RangeIndex: 7485 entries, 0 to 7484\n",
      "Data columns (total 16 columns):\n",
      " #   Column                 Non-Null Count  Dtype  \n",
      "---  ------                 --------------  -----  \n",
      " 0   title                  7485 non-null   object \n",
      " 1   puNumber               7485 non-null   int32  \n",
      " 2   show_start_date        7485 non-null   object \n",
      " 3   type                   7485 non-null   object \n",
      " 4   film_studio            7467 non-null   object \n",
      " 5   production_country     7483 non-null   object \n",
      " 6   director               7476 non-null   object \n",
      " 7   producer               6917 non-null   object \n",
      " 8   age_restriction        7485 non-null   object \n",
      " 9   refundable_support     332 non-null    float64\n",
      " 10  nonrefundable_support  332 non-null    float64\n",
      " 11  budget                 332 non-null    float64\n",
      " 12  financing_source       332 non-null    object \n",
      " 13  ratings                6519 non-null   object \n",
      " 14  genres                 6510 non-null   object \n",
      " 15  box_office             3158 non-null   float64\n",
      "dtypes: float64(4), int32(1), object(11)\n",
      "memory usage: 906.5+ KB\n",
      "Длина таблицы с фильмами = 7485\n",
      "Длина таблицы с показами = 3158\n",
      "Длина итоговой таблицы = 7485\n"
     ]
    }
   ],
   "source": [
    "# В стобце найдена строка не подходящая для изменения типа, поэтому нам необходимо её удалить\n",
    "#display(data_movies[data_movies['puNumber'] == 'нет'])\n",
    "data_movies = data_movies.loc[data_movies['puNumber'] != 'нет']\n",
    "data_movies[data_movies['puNumber'] == 'нет']\n",
    "\n",
    "# Мы меням тип столбца по которому будем проводить объединение таблиц\n",
    "data_movies['puNumber'] = data_movies['puNumber'].astype(int)\n",
    "#data_movies.info()\n",
    "\n",
    "# Приступаем к объединению таблиц\n",
    "data = data_movies.merge(\n",
    "    data_shows, on= 'puNumber', how='left'\n",
    ")\n",
    "data.info()\n",
    "\n",
    "# проверим длину таблиц\n",
    "print(f'Длина таблицы с фильмами = {len(data_movies)}')\n",
    "print(f'Длина таблицы с показами = {len(data_shows)}')\n",
    "print(f'Длина итоговой таблицы = {len(data)}')"
   ]
  },
  {
   "cell_type": "markdown",
   "metadata": {},
   "source": [
    "Мы объединили таблицы сохранив все строки из таблицы с фильмами"
   ]
  },
  {
   "cell_type": "markdown",
   "metadata": {
    "id": "KLDGpPG0gFyM"
   },
   "source": [
    "### Шаг 2. Предобработка данных"
   ]
  },
  {
   "cell_type": "markdown",
   "metadata": {
    "id": "ssWwKXsxgFyO"
   },
   "source": [
    "Проверим типы данных"
   ]
  },
  {
   "cell_type": "code",
   "execution_count": 7,
   "metadata": {
    "id": "kVGSplJOgFyO"
   },
   "outputs": [
    {
     "data": {
      "text/html": [
       "<div>\n",
       "<style scoped>\n",
       "    .dataframe tbody tr th:only-of-type {\n",
       "        vertical-align: middle;\n",
       "    }\n",
       "\n",
       "    .dataframe tbody tr th {\n",
       "        vertical-align: top;\n",
       "    }\n",
       "\n",
       "    .dataframe thead th {\n",
       "        text-align: right;\n",
       "    }\n",
       "</style>\n",
       "<table border=\"1\" class=\"dataframe\">\n",
       "  <thead>\n",
       "    <tr style=\"text-align: right;\">\n",
       "      <th></th>\n",
       "      <th>title</th>\n",
       "      <th>puNumber</th>\n",
       "      <th>show_start_date</th>\n",
       "      <th>type</th>\n",
       "      <th>film_studio</th>\n",
       "      <th>production_country</th>\n",
       "      <th>director</th>\n",
       "      <th>producer</th>\n",
       "      <th>age_restriction</th>\n",
       "      <th>refundable_support</th>\n",
       "      <th>nonrefundable_support</th>\n",
       "      <th>budget</th>\n",
       "      <th>financing_source</th>\n",
       "      <th>ratings</th>\n",
       "      <th>genres</th>\n",
       "      <th>box_office</th>\n",
       "    </tr>\n",
       "  </thead>\n",
       "  <tbody>\n",
       "    <tr>\n",
       "      <th>0</th>\n",
       "      <td>Открытый простор</td>\n",
       "      <td>221048915</td>\n",
       "      <td>2015-11-27T12:00:00.000Z</td>\n",
       "      <td>Художественный</td>\n",
       "      <td>Тачстоун Пикчерз, Кобальт Пикчерз, Бикон Пикче...</td>\n",
       "      <td>США</td>\n",
       "      <td>Кевин Костнер</td>\n",
       "      <td>Дэвид Валдес, Кевин Костнер, Джейк Эбертс</td>\n",
       "      <td>«18+» - запрещено для детей</td>\n",
       "      <td>NaN</td>\n",
       "      <td>NaN</td>\n",
       "      <td>NaN</td>\n",
       "      <td>NaN</td>\n",
       "      <td>7.2</td>\n",
       "      <td>боевик,драма,мелодрама</td>\n",
       "      <td>NaN</td>\n",
       "    </tr>\n",
       "    <tr>\n",
       "      <th>1</th>\n",
       "      <td>Особо важное задание</td>\n",
       "      <td>111013716</td>\n",
       "      <td>2016-09-13T12:00:00.000Z</td>\n",
       "      <td>Художественный</td>\n",
       "      <td>Киностудия \"Мосфильм\"</td>\n",
       "      <td>СССР</td>\n",
       "      <td>Е.Матвеев</td>\n",
       "      <td>NaN</td>\n",
       "      <td>«6+» - для детей старше 6 лет</td>\n",
       "      <td>NaN</td>\n",
       "      <td>NaN</td>\n",
       "      <td>NaN</td>\n",
       "      <td>NaN</td>\n",
       "      <td>6.6</td>\n",
       "      <td>драма,военный</td>\n",
       "      <td>NaN</td>\n",
       "    </tr>\n",
       "    <tr>\n",
       "      <th>2</th>\n",
       "      <td>Особо опасен</td>\n",
       "      <td>221038416</td>\n",
       "      <td>2016-10-10T12:00:00.000Z</td>\n",
       "      <td>Художественный</td>\n",
       "      <td>Юниверсал Пикчерз, Кикстарт Продакшнз, Марк Пл...</td>\n",
       "      <td>США</td>\n",
       "      <td>Тимур Бекмамбетов</td>\n",
       "      <td>Джим Лемли, Джейсон Нетер, Марк Е.Платт, Яйн Смит</td>\n",
       "      <td>«18+» - запрещено для детей</td>\n",
       "      <td>NaN</td>\n",
       "      <td>NaN</td>\n",
       "      <td>NaN</td>\n",
       "      <td>NaN</td>\n",
       "      <td>6.8</td>\n",
       "      <td>фантастика,боевик,триллер</td>\n",
       "      <td>NaN</td>\n",
       "    </tr>\n",
       "    <tr>\n",
       "      <th>3</th>\n",
       "      <td>Особо опасен</td>\n",
       "      <td>221026916</td>\n",
       "      <td>2016-06-10T12:00:00.000Z</td>\n",
       "      <td>Художественный</td>\n",
       "      <td>Юниверсал Пикчерз, Кикстарт Продакшнз, Марк Пл...</td>\n",
       "      <td>США</td>\n",
       "      <td>Тимур Бекмамбетов</td>\n",
       "      <td>Джим Лемли, Джейсон Нетер, Марк Е.Платт, Яйн Смит</td>\n",
       "      <td>«18+» - запрещено для детей</td>\n",
       "      <td>NaN</td>\n",
       "      <td>NaN</td>\n",
       "      <td>NaN</td>\n",
       "      <td>NaN</td>\n",
       "      <td>6.8</td>\n",
       "      <td>фантастика,боевик,триллер</td>\n",
       "      <td>NaN</td>\n",
       "    </tr>\n",
       "    <tr>\n",
       "      <th>4</th>\n",
       "      <td>Особо опасен</td>\n",
       "      <td>221030815</td>\n",
       "      <td>2015-07-29T12:00:00.000Z</td>\n",
       "      <td>Художественный</td>\n",
       "      <td>Юниверсал Пикчерз, Кикстарт Продакшнз, Марк Пл...</td>\n",
       "      <td>США</td>\n",
       "      <td>Тимур Бекмамбетов</td>\n",
       "      <td>Джим Лемли, Джейсон Нетер, Марк Е.Платт, Яйн Смит</td>\n",
       "      <td>«18+» - запрещено для детей</td>\n",
       "      <td>NaN</td>\n",
       "      <td>NaN</td>\n",
       "      <td>NaN</td>\n",
       "      <td>NaN</td>\n",
       "      <td>6.8</td>\n",
       "      <td>фантастика,боевик,триллер</td>\n",
       "      <td>NaN</td>\n",
       "    </tr>\n",
       "  </tbody>\n",
       "</table>\n",
       "</div>"
      ],
      "text/plain": [
       "                  title   puNumber           show_start_date            type  \\\n",
       "0      Открытый простор  221048915  2015-11-27T12:00:00.000Z  Художественный   \n",
       "1  Особо важное задание  111013716  2016-09-13T12:00:00.000Z  Художественный   \n",
       "2          Особо опасен  221038416  2016-10-10T12:00:00.000Z  Художественный   \n",
       "3          Особо опасен  221026916  2016-06-10T12:00:00.000Z  Художественный   \n",
       "4          Особо опасен  221030815  2015-07-29T12:00:00.000Z  Художественный   \n",
       "\n",
       "                                         film_studio production_country  \\\n",
       "0  Тачстоун Пикчерз, Кобальт Пикчерз, Бикон Пикче...                США   \n",
       "1                              Киностудия \"Мосфильм\"               СССР   \n",
       "2  Юниверсал Пикчерз, Кикстарт Продакшнз, Марк Пл...                США   \n",
       "3  Юниверсал Пикчерз, Кикстарт Продакшнз, Марк Пл...                США   \n",
       "4  Юниверсал Пикчерз, Кикстарт Продакшнз, Марк Пл...                США   \n",
       "\n",
       "            director                                           producer  \\\n",
       "0      Кевин Костнер          Дэвид Валдес, Кевин Костнер, Джейк Эбертс   \n",
       "1          Е.Матвеев                                                NaN   \n",
       "2  Тимур Бекмамбетов  Джим Лемли, Джейсон Нетер, Марк Е.Платт, Яйн Смит   \n",
       "3  Тимур Бекмамбетов  Джим Лемли, Джейсон Нетер, Марк Е.Платт, Яйн Смит   \n",
       "4  Тимур Бекмамбетов  Джим Лемли, Джейсон Нетер, Марк Е.Платт, Яйн Смит   \n",
       "\n",
       "                 age_restriction  refundable_support  nonrefundable_support  \\\n",
       "0    «18+» - запрещено для детей                 NaN                    NaN   \n",
       "1  «6+» - для детей старше 6 лет                 NaN                    NaN   \n",
       "2    «18+» - запрещено для детей                 NaN                    NaN   \n",
       "3    «18+» - запрещено для детей                 NaN                    NaN   \n",
       "4    «18+» - запрещено для детей                 NaN                    NaN   \n",
       "\n",
       "   budget financing_source ratings                     genres  box_office  \n",
       "0     NaN              NaN     7.2     боевик,драма,мелодрама         NaN  \n",
       "1     NaN              NaN     6.6              драма,военный         NaN  \n",
       "2     NaN              NaN     6.8  фантастика,боевик,триллер         NaN  \n",
       "3     NaN              NaN     6.8  фантастика,боевик,триллер         NaN  \n",
       "4     NaN              NaN     6.8  фантастика,боевик,триллер         NaN  "
      ]
     },
     "metadata": {},
     "output_type": "display_data"
    },
    {
     "name": "stdout",
     "output_type": "stream",
     "text": [
      "<class 'pandas.core.frame.DataFrame'>\n",
      "RangeIndex: 7485 entries, 0 to 7484\n",
      "Data columns (total 16 columns):\n",
      " #   Column                 Non-Null Count  Dtype  \n",
      "---  ------                 --------------  -----  \n",
      " 0   title                  7485 non-null   object \n",
      " 1   puNumber               7485 non-null   int32  \n",
      " 2   show_start_date        7485 non-null   object \n",
      " 3   type                   7485 non-null   object \n",
      " 4   film_studio            7467 non-null   object \n",
      " 5   production_country     7483 non-null   object \n",
      " 6   director               7476 non-null   object \n",
      " 7   producer               6917 non-null   object \n",
      " 8   age_restriction        7485 non-null   object \n",
      " 9   refundable_support     332 non-null    float64\n",
      " 10  nonrefundable_support  332 non-null    float64\n",
      " 11  budget                 332 non-null    float64\n",
      " 12  financing_source       332 non-null    object \n",
      " 13  ratings                6519 non-null   object \n",
      " 14  genres                 6510 non-null   object \n",
      " 15  box_office             3158 non-null   float64\n",
      "dtypes: float64(4), int32(1), object(11)\n",
      "memory usage: 906.5+ KB\n"
     ]
    },
    {
     "data": {
      "text/plain": [
       "4699    2010-12-21T12:00:00.000Z\n",
       "2644    2015-07-20T12:00:00.000Z\n",
       "5393    2011-11-23T12:00:00.000Z\n",
       "1679    2013-12-27T12:00:00.000Z\n",
       "2073    2015-02-06T12:00:00.000Z\n",
       "7222    2019-09-23T12:00:00.000Z\n",
       "6198    2018-09-03T12:00:00.000Z\n",
       "5686    2018-01-11T12:00:00.000Z\n",
       "6595    2019-01-19T12:00:00.000Z\n",
       "6849    2019-04-11T12:00:00.000Z\n",
       "2254    2014-09-10T12:00:00.000Z\n",
       "3664    2016-09-13T12:00:00.000Z\n",
       "2206    2016-05-30T12:00:00.000Z\n",
       "6123    2018-08-10T12:00:00.000Z\n",
       "2083    2015-02-17T12:00:00.000Z\n",
       "Name: show_start_date, dtype: object"
      ]
     },
     "execution_count": 7,
     "metadata": {},
     "output_type": "execute_result"
    }
   ],
   "source": [
    "display(data.head())\n",
    "data.info()\n",
    "data['show_start_date'].sample(15) "
   ]
  },
  {
   "cell_type": "markdown",
   "metadata": {},
   "source": [
    "**Наблюдение:\n",
    "У нас 11 столбцов с типом данных object. В некоторых из них хранятся категориальные переменные, названия фильмов, имена авторов и так далее.**\n",
    "\n",
    "Изучим отдельно некоторые столбцы:\n"
   ]
  },
  {
   "cell_type": "code",
   "execution_count": 8,
   "metadata": {},
   "outputs": [
    {
     "data": {
      "text/plain": [
       "array(['2015-11-27T12:00:00.000Z', '2016-09-13T12:00:00.000Z',\n",
       "       '2016-10-10T12:00:00.000Z', ..., '2019-12-24T12:00:00.000Z',\n",
       "       '2019-12-28T12:00:00.000Z', '2019-12-30T12:00:00.000Z'],\n",
       "      dtype=object)"
      ]
     },
     "metadata": {},
     "output_type": "display_data"
    },
    {
     "data": {
      "text/plain": [
       "array(['7.2', '6.6', '6.8', '7.7', '8.3', '8.0', '7.8', '8.1', '7.1',\n",
       "       '6.0', '7.4', '5.8', '8.7', '6.3', '6.9', '5.0', '4.3', '7.3',\n",
       "       '7.0', '6.4', nan, '8.2', '7.5', '6.7', '7.9', '5.9', '6.2', '5.6',\n",
       "       '6.5', '2.4', '7.6', '6.1', '8.6', '8.5', '8.8', '5.5', '5.1',\n",
       "       '5.7', '5.4', '99%', '4.4', '4.5', '5.3', '4.1', '8.4', '2.6',\n",
       "       '3.8', '4.6', '4.8', '4.0', '3.0', '1.6', '4.2', '5.2', '4.7',\n",
       "       '4.9', '3.9', '2.7', '3.3', '2.9', '28%', '3.7', '1.4', '3.1',\n",
       "       '97%', '3.5', '3.2', '2.8', '1.5', '2.1', '2.5', '9.2', '3.4',\n",
       "       '1.1', '3.6', '83%', '64%', '91%', '94%', '62%', '79%', '90%',\n",
       "       '19%', '88%', '1.0', '89%', '1.3', '1.9', '1.8', '1.2', '1.7',\n",
       "       '9.0', '98%', '8.9', '9.1'], dtype=object)"
      ]
     },
     "execution_count": 8,
     "metadata": {},
     "output_type": "execute_result"
    }
   ],
   "source": [
    "# изучим столбец со временем\n",
    "display(data['show_start_date'].unique())\n",
    "\n",
    "# изучим столбец с возрастным рейтингом фильма\n",
    "data['ratings'].unique()"
   ]
  },
  {
   "cell_type": "markdown",
   "metadata": {},
   "source": [
    "\n",
    "*Задчи:*\n",
    "* Изменим тип данных в столбце 'show_start_date', так как в столбце указано время, которое должно соответствовать типу DateTime.\n",
    "\n",
    "* В столбце `rating` числовые столбцы указаны в строковом типе, также указаны проценты, поэтому исправим эти ошибки."
   ]
  },
  {
   "cell_type": "code",
   "execution_count": 9,
   "metadata": {},
   "outputs": [
    {
     "name": "stdout",
     "output_type": "stream",
     "text": [
      "<class 'pandas.core.frame.DataFrame'>\n",
      "RangeIndex: 7485 entries, 0 to 7484\n",
      "Data columns (total 16 columns):\n",
      " #   Column                 Non-Null Count  Dtype         \n",
      "---  ------                 --------------  -----         \n",
      " 0   title                  7485 non-null   object        \n",
      " 1   puNumber               7485 non-null   int32         \n",
      " 2   show_start_date        7485 non-null   datetime64[ns]\n",
      " 3   type                   7485 non-null   object        \n",
      " 4   film_studio            7467 non-null   object        \n",
      " 5   production_country     7483 non-null   object        \n",
      " 6   director               7476 non-null   object        \n",
      " 7   producer               6917 non-null   object        \n",
      " 8   age_restriction        7485 non-null   object        \n",
      " 9   refundable_support     332 non-null    float64       \n",
      " 10  nonrefundable_support  332 non-null    float64       \n",
      " 11  budget                 332 non-null    float64       \n",
      " 12  financing_source       332 non-null    object        \n",
      " 13  ratings                6519 non-null   object        \n",
      " 14  genres                 6510 non-null   object        \n",
      " 15  box_office             3158 non-null   float64       \n",
      "dtypes: datetime64[ns](1), float64(4), int32(1), object(10)\n",
      "memory usage: 906.5+ KB\n"
     ]
    },
    {
     "data": {
      "text/html": [
       "<div>\n",
       "<style scoped>\n",
       "    .dataframe tbody tr th:only-of-type {\n",
       "        vertical-align: middle;\n",
       "    }\n",
       "\n",
       "    .dataframe tbody tr th {\n",
       "        vertical-align: top;\n",
       "    }\n",
       "\n",
       "    .dataframe thead th {\n",
       "        text-align: right;\n",
       "    }\n",
       "</style>\n",
       "<table border=\"1\" class=\"dataframe\">\n",
       "  <thead>\n",
       "    <tr style=\"text-align: right;\">\n",
       "      <th></th>\n",
       "      <th>title</th>\n",
       "      <th>puNumber</th>\n",
       "      <th>show_start_date</th>\n",
       "      <th>type</th>\n",
       "      <th>film_studio</th>\n",
       "      <th>production_country</th>\n",
       "      <th>director</th>\n",
       "      <th>producer</th>\n",
       "      <th>age_restriction</th>\n",
       "      <th>refundable_support</th>\n",
       "      <th>nonrefundable_support</th>\n",
       "      <th>budget</th>\n",
       "      <th>financing_source</th>\n",
       "      <th>ratings</th>\n",
       "      <th>genres</th>\n",
       "      <th>box_office</th>\n",
       "    </tr>\n",
       "  </thead>\n",
       "  <tbody>\n",
       "    <tr>\n",
       "      <th>0</th>\n",
       "      <td>Открытый простор</td>\n",
       "      <td>221048915</td>\n",
       "      <td>2015-11-27 12:00:00</td>\n",
       "      <td>Художественный</td>\n",
       "      <td>Тачстоун Пикчерз, Кобальт Пикчерз, Бикон Пикче...</td>\n",
       "      <td>США</td>\n",
       "      <td>Кевин Костнер</td>\n",
       "      <td>Дэвид Валдес, Кевин Костнер, Джейк Эбертс</td>\n",
       "      <td>«18+» - запрещено для детей</td>\n",
       "      <td>NaN</td>\n",
       "      <td>NaN</td>\n",
       "      <td>NaN</td>\n",
       "      <td>NaN</td>\n",
       "      <td>7.2</td>\n",
       "      <td>боевик,драма,мелодрама</td>\n",
       "      <td>NaN</td>\n",
       "    </tr>\n",
       "    <tr>\n",
       "      <th>1</th>\n",
       "      <td>Особо важное задание</td>\n",
       "      <td>111013716</td>\n",
       "      <td>2016-09-13 12:00:00</td>\n",
       "      <td>Художественный</td>\n",
       "      <td>Киностудия \"Мосфильм\"</td>\n",
       "      <td>СССР</td>\n",
       "      <td>Е.Матвеев</td>\n",
       "      <td>NaN</td>\n",
       "      <td>«6+» - для детей старше 6 лет</td>\n",
       "      <td>NaN</td>\n",
       "      <td>NaN</td>\n",
       "      <td>NaN</td>\n",
       "      <td>NaN</td>\n",
       "      <td>6.6</td>\n",
       "      <td>драма,военный</td>\n",
       "      <td>NaN</td>\n",
       "    </tr>\n",
       "    <tr>\n",
       "      <th>2</th>\n",
       "      <td>Особо опасен</td>\n",
       "      <td>221038416</td>\n",
       "      <td>2016-10-10 12:00:00</td>\n",
       "      <td>Художественный</td>\n",
       "      <td>Юниверсал Пикчерз, Кикстарт Продакшнз, Марк Пл...</td>\n",
       "      <td>США</td>\n",
       "      <td>Тимур Бекмамбетов</td>\n",
       "      <td>Джим Лемли, Джейсон Нетер, Марк Е.Платт, Яйн Смит</td>\n",
       "      <td>«18+» - запрещено для детей</td>\n",
       "      <td>NaN</td>\n",
       "      <td>NaN</td>\n",
       "      <td>NaN</td>\n",
       "      <td>NaN</td>\n",
       "      <td>6.8</td>\n",
       "      <td>фантастика,боевик,триллер</td>\n",
       "      <td>NaN</td>\n",
       "    </tr>\n",
       "    <tr>\n",
       "      <th>3</th>\n",
       "      <td>Особо опасен</td>\n",
       "      <td>221026916</td>\n",
       "      <td>2016-06-10 12:00:00</td>\n",
       "      <td>Художественный</td>\n",
       "      <td>Юниверсал Пикчерз, Кикстарт Продакшнз, Марк Пл...</td>\n",
       "      <td>США</td>\n",
       "      <td>Тимур Бекмамбетов</td>\n",
       "      <td>Джим Лемли, Джейсон Нетер, Марк Е.Платт, Яйн Смит</td>\n",
       "      <td>«18+» - запрещено для детей</td>\n",
       "      <td>NaN</td>\n",
       "      <td>NaN</td>\n",
       "      <td>NaN</td>\n",
       "      <td>NaN</td>\n",
       "      <td>6.8</td>\n",
       "      <td>фантастика,боевик,триллер</td>\n",
       "      <td>NaN</td>\n",
       "    </tr>\n",
       "    <tr>\n",
       "      <th>4</th>\n",
       "      <td>Особо опасен</td>\n",
       "      <td>221030815</td>\n",
       "      <td>2015-07-29 12:00:00</td>\n",
       "      <td>Художественный</td>\n",
       "      <td>Юниверсал Пикчерз, Кикстарт Продакшнз, Марк Пл...</td>\n",
       "      <td>США</td>\n",
       "      <td>Тимур Бекмамбетов</td>\n",
       "      <td>Джим Лемли, Джейсон Нетер, Марк Е.Платт, Яйн Смит</td>\n",
       "      <td>«18+» - запрещено для детей</td>\n",
       "      <td>NaN</td>\n",
       "      <td>NaN</td>\n",
       "      <td>NaN</td>\n",
       "      <td>NaN</td>\n",
       "      <td>6.8</td>\n",
       "      <td>фантастика,боевик,триллер</td>\n",
       "      <td>NaN</td>\n",
       "    </tr>\n",
       "  </tbody>\n",
       "</table>\n",
       "</div>"
      ],
      "text/plain": [
       "                  title   puNumber     show_start_date            type  \\\n",
       "0      Открытый простор  221048915 2015-11-27 12:00:00  Художественный   \n",
       "1  Особо важное задание  111013716 2016-09-13 12:00:00  Художественный   \n",
       "2          Особо опасен  221038416 2016-10-10 12:00:00  Художественный   \n",
       "3          Особо опасен  221026916 2016-06-10 12:00:00  Художественный   \n",
       "4          Особо опасен  221030815 2015-07-29 12:00:00  Художественный   \n",
       "\n",
       "                                         film_studio production_country  \\\n",
       "0  Тачстоун Пикчерз, Кобальт Пикчерз, Бикон Пикче...                США   \n",
       "1                              Киностудия \"Мосфильм\"               СССР   \n",
       "2  Юниверсал Пикчерз, Кикстарт Продакшнз, Марк Пл...                США   \n",
       "3  Юниверсал Пикчерз, Кикстарт Продакшнз, Марк Пл...                США   \n",
       "4  Юниверсал Пикчерз, Кикстарт Продакшнз, Марк Пл...                США   \n",
       "\n",
       "            director                                           producer  \\\n",
       "0      Кевин Костнер          Дэвид Валдес, Кевин Костнер, Джейк Эбертс   \n",
       "1          Е.Матвеев                                                NaN   \n",
       "2  Тимур Бекмамбетов  Джим Лемли, Джейсон Нетер, Марк Е.Платт, Яйн Смит   \n",
       "3  Тимур Бекмамбетов  Джим Лемли, Джейсон Нетер, Марк Е.Платт, Яйн Смит   \n",
       "4  Тимур Бекмамбетов  Джим Лемли, Джейсон Нетер, Марк Е.Платт, Яйн Смит   \n",
       "\n",
       "                 age_restriction  refundable_support  nonrefundable_support  \\\n",
       "0    «18+» - запрещено для детей                 NaN                    NaN   \n",
       "1  «6+» - для детей старше 6 лет                 NaN                    NaN   \n",
       "2    «18+» - запрещено для детей                 NaN                    NaN   \n",
       "3    «18+» - запрещено для детей                 NaN                    NaN   \n",
       "4    «18+» - запрещено для детей                 NaN                    NaN   \n",
       "\n",
       "   budget financing_source ratings                     genres  box_office  \n",
       "0     NaN              NaN     7.2     боевик,драма,мелодрама         NaN  \n",
       "1     NaN              NaN     6.6              драма,военный         NaN  \n",
       "2     NaN              NaN     6.8  фантастика,боевик,триллер         NaN  \n",
       "3     NaN              NaN     6.8  фантастика,боевик,триллер         NaN  \n",
       "4     NaN              NaN     6.8  фантастика,боевик,триллер         NaN  "
      ]
     },
     "execution_count": 9,
     "metadata": {},
     "output_type": "execute_result"
    }
   ],
   "source": [
    "# Конвертация строк в даты с учетом временной зоны\n",
    "data['show_start_date'] = pd.to_datetime(\n",
    "\tdata['show_start_date'], \n",
    "\tformat='%Y-%m-%dT%H:%M:%S.%fZ', \n",
    "\terrors='coerce', \n",
    "\tutc=True\n",
    ")\n",
    "\n",
    "# Удаление временной зоны\n",
    "data['show_start_date'] = data['show_start_date'].dt.tz_localize(None)\n",
    "\n",
    "#data['ratings'] = data['ratings'].astype('float')'''\n",
    "data.info()\n",
    "data.head()"
   ]
  },
  {
   "cell_type": "code",
   "execution_count": 10,
   "metadata": {},
   "outputs": [
    {
     "data": {
      "text/plain": [
       "array([ 7.2,  6.6,  6.8,  7.7,  8.3,  8. ,  7.8,  8.1,  7.1,  6. ,  7.4,\n",
       "        5.8,  8.7,  6.3,  6.9,  5. ,  4.3,  7.3,  7. ,  6.4,  nan,  8.2,\n",
       "        7.5,  6.7,  7.9,  5.9,  6.2,  5.6,  6.5,  2.4,  7.6,  6.1,  8.6,\n",
       "        8.5,  8.8,  5.5,  5.1,  5.7,  5.4, 99. ,  4.4,  4.5,  5.3,  4.1,\n",
       "        8.4,  2.6,  3.8,  4.6,  4.8,  4. ,  3. ,  1.6,  4.2,  5.2,  4.7,\n",
       "        4.9,  3.9,  2.7,  3.3,  2.9, 28. ,  3.7,  1.4,  3.1, 97. ,  3.5,\n",
       "        3.2,  2.8,  1.5,  2.1,  2.5,  9.2,  3.4,  1.1,  3.6, 83. , 64. ,\n",
       "       91. , 94. , 62. , 79. , 90. , 19. , 88. ,  1. , 89. ,  1.3,  1.9,\n",
       "        1.8,  1.2,  1.7,  9. , 98. ,  8.9,  9.1])"
      ]
     },
     "execution_count": 10,
     "metadata": {},
     "output_type": "execute_result"
    }
   ],
   "source": [
    "# убираем ошибки в столбце `ratings`:\n",
    "data['ratings'] = data['ratings'].str.rstrip('%').astype(float)\n",
    "\n",
    "data['ratings'].unique()"
   ]
  },
  {
   "cell_type": "code",
   "execution_count": 11,
   "metadata": {},
   "outputs": [
    {
     "name": "stdout",
     "output_type": "stream",
     "text": [
      "<class 'pandas.core.frame.DataFrame'>\n",
      "RangeIndex: 7485 entries, 0 to 7484\n",
      "Data columns (total 16 columns):\n",
      " #   Column                 Non-Null Count  Dtype         \n",
      "---  ------                 --------------  -----         \n",
      " 0   title                  7485 non-null   object        \n",
      " 1   puNumber               7485 non-null   int32         \n",
      " 2   show_start_date        7485 non-null   datetime64[ns]\n",
      " 3   type                   7485 non-null   object        \n",
      " 4   film_studio            7467 non-null   object        \n",
      " 5   production_country     7483 non-null   object        \n",
      " 6   director               7476 non-null   object        \n",
      " 7   producer               6917 non-null   object        \n",
      " 8   age_restriction        7485 non-null   object        \n",
      " 9   refundable_support     332 non-null    float64       \n",
      " 10  nonrefundable_support  332 non-null    float64       \n",
      " 11  budget                 332 non-null    float64       \n",
      " 12  financing_source       332 non-null    object        \n",
      " 13  ratings                6519 non-null   float64       \n",
      " 14  genres                 6510 non-null   object        \n",
      " 15  box_office             3158 non-null   float64       \n",
      "dtypes: datetime64[ns](1), float64(5), int32(1), object(9)\n",
      "memory usage: 906.5+ KB\n"
     ]
    }
   ],
   "source": [
    "data.info()"
   ]
  },
  {
   "cell_type": "markdown",
   "metadata": {},
   "source": [
    "**Вывод:**\n",
    "\n",
    "Мы изменили тип данных в столбце `show_start_date` и `ratings`."
   ]
  },
  {
   "cell_type": "markdown",
   "metadata": {
    "id": "i0MOLbF-gFyP"
   },
   "source": [
    "#### Шаг 2.2. Пропуски в датафрейме"
   ]
  },
  {
   "cell_type": "code",
   "execution_count": 12,
   "metadata": {
    "id": "8MJD_lkngFyP"
   },
   "outputs": [
    {
     "name": "stdout",
     "output_type": "stream",
     "text": [
      "title                       0\n",
      "puNumber                    0\n",
      "show_start_date             0\n",
      "type                        0\n",
      "film_studio                18\n",
      "production_country          2\n",
      "director                    9\n",
      "producer                  568\n",
      "age_restriction             0\n",
      "refundable_support       7153\n",
      "nonrefundable_support    7153\n",
      "budget                   7153\n",
      "financing_source         7153\n",
      "ratings                   966\n",
      "genres                    975\n",
      "box_office               4327\n",
      "dtype: int64\n",
      " Количество строк в DataFrame = 7485\n"
     ]
    }
   ],
   "source": [
    "# общее колимчество пропусков в каждом столбце\n",
    "print(data.isna().sum())\n",
    "\n",
    "# общее количество строк в таблице\n",
    "print(f' Количество строк в DataFrame = {len(data)}')"
   ]
  },
  {
   "cell_type": "code",
   "execution_count": 13,
   "metadata": {},
   "outputs": [
    {
     "data": {
      "text/html": [
       "<style type=\"text/css\">\n",
       "#T_9336e_row0_col0, #T_9336e_row1_col0, #T_9336e_row2_col0, #T_9336e_row3_col0, #T_9336e_row4_col0, #T_9336e_row5_col0, #T_9336e_row6_col0, #T_9336e_row8_col0 {\n",
       "  background-color: #fff5f0;\n",
       "  color: #000000;\n",
       "}\n",
       "#T_9336e_row7_col0 {\n",
       "  background-color: #fee7dc;\n",
       "  color: #000000;\n",
       "}\n",
       "#T_9336e_row9_col0, #T_9336e_row10_col0, #T_9336e_row11_col0, #T_9336e_row12_col0 {\n",
       "  background-color: #67000d;\n",
       "  color: #f1f1f1;\n",
       "}\n",
       "#T_9336e_row13_col0, #T_9336e_row14_col0 {\n",
       "  background-color: #fedecf;\n",
       "  color: #000000;\n",
       "}\n",
       "#T_9336e_row15_col0 {\n",
       "  background-color: #f14331;\n",
       "  color: #f1f1f1;\n",
       "}\n",
       "</style>\n",
       "<table id=\"T_9336e\">\n",
       "  <thead>\n",
       "    <tr>\n",
       "      <th class=\"blank level0\" >&nbsp;</th>\n",
       "      <th id=\"T_9336e_level0_col0\" class=\"col_heading level0 col0\" >0</th>\n",
       "    </tr>\n",
       "  </thead>\n",
       "  <tbody>\n",
       "    <tr>\n",
       "      <th id=\"T_9336e_level0_row0\" class=\"row_heading level0 row0\" >title</th>\n",
       "      <td id=\"T_9336e_row0_col0\" class=\"data row0 col0\" >0.000000</td>\n",
       "    </tr>\n",
       "    <tr>\n",
       "      <th id=\"T_9336e_level0_row1\" class=\"row_heading level0 row1\" >puNumber</th>\n",
       "      <td id=\"T_9336e_row1_col0\" class=\"data row1 col0\" >0.000000</td>\n",
       "    </tr>\n",
       "    <tr>\n",
       "      <th id=\"T_9336e_level0_row2\" class=\"row_heading level0 row2\" >show_start_date</th>\n",
       "      <td id=\"T_9336e_row2_col0\" class=\"data row2 col0\" >0.000000</td>\n",
       "    </tr>\n",
       "    <tr>\n",
       "      <th id=\"T_9336e_level0_row3\" class=\"row_heading level0 row3\" >type</th>\n",
       "      <td id=\"T_9336e_row3_col0\" class=\"data row3 col0\" >0.000000</td>\n",
       "    </tr>\n",
       "    <tr>\n",
       "      <th id=\"T_9336e_level0_row4\" class=\"row_heading level0 row4\" >film_studio</th>\n",
       "      <td id=\"T_9336e_row4_col0\" class=\"data row4 col0\" >0.000000</td>\n",
       "    </tr>\n",
       "    <tr>\n",
       "      <th id=\"T_9336e_level0_row5\" class=\"row_heading level0 row5\" >production_country</th>\n",
       "      <td id=\"T_9336e_row5_col0\" class=\"data row5 col0\" >0.000000</td>\n",
       "    </tr>\n",
       "    <tr>\n",
       "      <th id=\"T_9336e_level0_row6\" class=\"row_heading level0 row6\" >director</th>\n",
       "      <td id=\"T_9336e_row6_col0\" class=\"data row6 col0\" >0.000000</td>\n",
       "    </tr>\n",
       "    <tr>\n",
       "      <th id=\"T_9336e_level0_row7\" class=\"row_heading level0 row7\" >producer</th>\n",
       "      <td id=\"T_9336e_row7_col0\" class=\"data row7 col0\" >8.000000</td>\n",
       "    </tr>\n",
       "    <tr>\n",
       "      <th id=\"T_9336e_level0_row8\" class=\"row_heading level0 row8\" >age_restriction</th>\n",
       "      <td id=\"T_9336e_row8_col0\" class=\"data row8 col0\" >0.000000</td>\n",
       "    </tr>\n",
       "    <tr>\n",
       "      <th id=\"T_9336e_level0_row9\" class=\"row_heading level0 row9\" >refundable_support</th>\n",
       "      <td id=\"T_9336e_row9_col0\" class=\"data row9 col0\" >96.000000</td>\n",
       "    </tr>\n",
       "    <tr>\n",
       "      <th id=\"T_9336e_level0_row10\" class=\"row_heading level0 row10\" >nonrefundable_support</th>\n",
       "      <td id=\"T_9336e_row10_col0\" class=\"data row10 col0\" >96.000000</td>\n",
       "    </tr>\n",
       "    <tr>\n",
       "      <th id=\"T_9336e_level0_row11\" class=\"row_heading level0 row11\" >budget</th>\n",
       "      <td id=\"T_9336e_row11_col0\" class=\"data row11 col0\" >96.000000</td>\n",
       "    </tr>\n",
       "    <tr>\n",
       "      <th id=\"T_9336e_level0_row12\" class=\"row_heading level0 row12\" >financing_source</th>\n",
       "      <td id=\"T_9336e_row12_col0\" class=\"data row12 col0\" >96.000000</td>\n",
       "    </tr>\n",
       "    <tr>\n",
       "      <th id=\"T_9336e_level0_row13\" class=\"row_heading level0 row13\" >ratings</th>\n",
       "      <td id=\"T_9336e_row13_col0\" class=\"data row13 col0\" >13.000000</td>\n",
       "    </tr>\n",
       "    <tr>\n",
       "      <th id=\"T_9336e_level0_row14\" class=\"row_heading level0 row14\" >genres</th>\n",
       "      <td id=\"T_9336e_row14_col0\" class=\"data row14 col0\" >13.000000</td>\n",
       "    </tr>\n",
       "    <tr>\n",
       "      <th id=\"T_9336e_level0_row15\" class=\"row_heading level0 row15\" >box_office</th>\n",
       "      <td id=\"T_9336e_row15_col0\" class=\"data row15 col0\" >58.000000</td>\n",
       "    </tr>\n",
       "  </tbody>\n",
       "</table>\n"
      ],
      "text/plain": [
       "<pandas.io.formats.style.Styler at 0x12e1b5e2e90>"
      ]
     },
     "execution_count": 13,
     "metadata": {},
     "output_type": "execute_result"
    }
   ],
   "source": [
    "# выведем процент пропусков в каждом столбце\n",
    "pd.DataFrame(round(data.isna().mean()*100,)).style.background_gradient('Reds')"
   ]
  },
  {
   "cell_type": "markdown",
   "metadata": {},
   "source": [
    "*Задачи:*\n",
    "Ряд строк мы удалим, а именно в столбцах: `film_studio`,`production_country`,`director`. Удаляем мы их, так как количество пропусков в них очень мало, относительно общего количества строк в датафрейме (не более 0.5% в каждом столбце). \n",
    "В трех других столбцах (refundable_support, nonrefundable_support, budget), пропусков достаточно много (95%). \n",
    "\n",
    "Если мы посмотрим на четыре связанных между собой столбца: \n",
    "1. refundable_support\n",
    "2. nonrefundable_support\n",
    "3. budget\n",
    "4. financing_source, \n",
    " то уивдим, что количесвто пропусков в этих столбцах одинаково. \n",
    " \n",
    "Это может быть связанно с тем, что данные фильмы не получали никакой финансовой поддержки от государства, поэтому нет информации о сумме возвратных и безвозвратных средств, об общем бюджете финансовой поддержки и источнике государственного финансирования. Значит пропуски в этих столбцах вполне логичны, поэтому в столбце `financing_source` мы укажем что у таких фильмов `нет финансирования`."
   ]
  },
  {
   "cell_type": "code",
   "execution_count": 14,
   "metadata": {},
   "outputs": [
    {
     "name": "stdout",
     "output_type": "stream",
     "text": [
      "title                       0\n",
      "puNumber                    0\n",
      "show_start_date             0\n",
      "type                        0\n",
      "film_studio                 0\n",
      "production_country          0\n",
      "director                    0\n",
      "producer                  564\n",
      "age_restriction             0\n",
      "refundable_support       7126\n",
      "nonrefundable_support    7126\n",
      "budget                   7126\n",
      "financing_source            0\n",
      "ratings                   947\n",
      "genres                    956\n",
      "box_office               4303\n",
      "dtype: int64\n",
      "7458\n"
     ]
    }
   ],
   "source": [
    "# удаляем строки с пропусками в вышеуказанных столбцах\n",
    "data = data.dropna(subset= ['film_studio','production_country', 'director'])\n",
    "\n",
    "# заполняем пропущенные значения в столбце 'financing_source'\n",
    "data['financing_source'] = data['financing_source'].fillna('нет финансирования')\n",
    "print(data.isna().sum())\n",
    "print(len(data))"
   ]
  },
  {
   "cell_type": "markdown",
   "metadata": {
    "id": "4c6k1t9ygFyQ"
   },
   "source": [
    "#### Шаг 2.3. Дубликаты в датафрейме"
   ]
  },
  {
   "cell_type": "code",
   "execution_count": 15,
   "metadata": {
    "id": "aKck8RIdgFyQ"
   },
   "outputs": [
    {
     "name": "stdout",
     "output_type": "stream",
     "text": [
      "Количество явных дубликатов = 0\n"
     ]
    }
   ],
   "source": [
    "print( f'Количество явных дубликатов = {data.duplicated().sum()}')"
   ]
  },
  {
   "cell_type": "markdown",
   "metadata": {},
   "source": [
    "Как мы выяснили явных дубликатов в DataFrame нет, при поиске явных дубликатов важно учитывать, что у одного и того же фильма может быть несколько прокатных удостоверений, а значит и строчки будут повторятся. Но каждое прокатное удостоверение относится лишь к одному фильму, значит будем проверять именно по столбцу 'puNumber'"
   ]
  },
  {
   "cell_type": "code",
   "execution_count": 16,
   "metadata": {},
   "outputs": [
    {
     "name": "stdout",
     "output_type": "stream",
     "text": [
      "Количество совпадений по столбцу `puNumber` = 2\n"
     ]
    },
    {
     "data": {
      "text/plain": [
       "puNumber\n",
       "221054410    2\n",
       "221154310    2\n",
       "121010811    1\n",
       "221049511    1\n",
       "221049411    1\n",
       "Name: count, dtype: int64"
      ]
     },
     "metadata": {},
     "output_type": "display_data"
    }
   ],
   "source": [
    "# найдем количество совпадений по столбцу\n",
    "print(f\"Количество совпадений по столбцу `puNumber` = {data.duplicated(subset='puNumber').sum()}\")\n",
    "display(data['puNumber'].value_counts().head())\n",
    "\n",
    "# удаляем совпадения\n",
    "data = data[data['puNumber'] != 221154310]\n",
    "\n",
    "# проверка \n",
    "# display(data['puNumber'].value_counts().head())"
   ]
  },
  {
   "cell_type": "markdown",
   "metadata": {},
   "source": [
    "Стоит также проверить совпадения и в других столбцах, проверим конкретно столбец с названием фильма `title`."
   ]
  },
  {
   "cell_type": "code",
   "execution_count": 17,
   "metadata": {},
   "outputs": [
    {
     "name": "stdout",
     "output_type": "stream",
     "text": [
      "Количество строк с совпадениями по столбцу с названием фильма = 711\n"
     ]
    }
   ],
   "source": [
    "print(f\"Количество строк с совпадениями по столбцу с названием фильма = {data.duplicated(subset='title').sum()}\")"
   ]
  },
  {
   "cell_type": "code",
   "execution_count": 18,
   "metadata": {},
   "outputs": [
    {
     "data": {
      "text/html": [
       "<div>\n",
       "<style scoped>\n",
       "    .dataframe tbody tr th:only-of-type {\n",
       "        vertical-align: middle;\n",
       "    }\n",
       "\n",
       "    .dataframe tbody tr th {\n",
       "        vertical-align: top;\n",
       "    }\n",
       "\n",
       "    .dataframe thead th {\n",
       "        text-align: right;\n",
       "    }\n",
       "</style>\n",
       "<table border=\"1\" class=\"dataframe\">\n",
       "  <thead>\n",
       "    <tr style=\"text-align: right;\">\n",
       "      <th></th>\n",
       "      <th>title</th>\n",
       "      <th>puNumber</th>\n",
       "      <th>show_start_date</th>\n",
       "      <th>type</th>\n",
       "      <th>film_studio</th>\n",
       "      <th>production_country</th>\n",
       "      <th>director</th>\n",
       "      <th>producer</th>\n",
       "      <th>age_restriction</th>\n",
       "      <th>refundable_support</th>\n",
       "      <th>nonrefundable_support</th>\n",
       "      <th>budget</th>\n",
       "      <th>financing_source</th>\n",
       "      <th>ratings</th>\n",
       "      <th>genres</th>\n",
       "      <th>box_office</th>\n",
       "    </tr>\n",
       "  </thead>\n",
       "  <tbody>\n",
       "    <tr>\n",
       "      <th>3</th>\n",
       "      <td>Особо опасен</td>\n",
       "      <td>221026916</td>\n",
       "      <td>2016-06-10 12:00:00</td>\n",
       "      <td>Художественный</td>\n",
       "      <td>Юниверсал Пикчерз, Кикстарт Продакшнз, Марк Пл...</td>\n",
       "      <td>США</td>\n",
       "      <td>Тимур Бекмамбетов</td>\n",
       "      <td>Джим Лемли, Джейсон Нетер, Марк Е.Платт, Яйн Смит</td>\n",
       "      <td>«18+» - запрещено для детей</td>\n",
       "      <td>NaN</td>\n",
       "      <td>NaN</td>\n",
       "      <td>NaN</td>\n",
       "      <td>нет финансирования</td>\n",
       "      <td>6.8</td>\n",
       "      <td>фантастика,боевик,триллер</td>\n",
       "      <td>NaN</td>\n",
       "    </tr>\n",
       "    <tr>\n",
       "      <th>4</th>\n",
       "      <td>Особо опасен</td>\n",
       "      <td>221030815</td>\n",
       "      <td>2015-07-29 12:00:00</td>\n",
       "      <td>Художественный</td>\n",
       "      <td>Юниверсал Пикчерз, Кикстарт Продакшнз, Марк Пл...</td>\n",
       "      <td>США</td>\n",
       "      <td>Тимур Бекмамбетов</td>\n",
       "      <td>Джим Лемли, Джейсон Нетер, Марк Е.Платт, Яйн Смит</td>\n",
       "      <td>«18+» - запрещено для детей</td>\n",
       "      <td>NaN</td>\n",
       "      <td>NaN</td>\n",
       "      <td>NaN</td>\n",
       "      <td>нет финансирования</td>\n",
       "      <td>6.8</td>\n",
       "      <td>фантастика,боевик,триллер</td>\n",
       "      <td>NaN</td>\n",
       "    </tr>\n",
       "    <tr>\n",
       "      <th>41</th>\n",
       "      <td>Алекс и Эмма</td>\n",
       "      <td>221004616</td>\n",
       "      <td>2016-02-09 12:00:00</td>\n",
       "      <td>Художественный</td>\n",
       "      <td>Эскейп Артистс, Франчайз Пикчерз, Рейнер-Грэйс...</td>\n",
       "      <td>США</td>\n",
       "      <td>Роб Райнер</td>\n",
       "      <td>Тодд Блэк, Элан Грейсман, Джереми Левен, Роб Р...</td>\n",
       "      <td>«16+» - для детей старше 16 лет</td>\n",
       "      <td>NaN</td>\n",
       "      <td>NaN</td>\n",
       "      <td>NaN</td>\n",
       "      <td>нет финансирования</td>\n",
       "      <td>6.4</td>\n",
       "      <td>мелодрама,комедия</td>\n",
       "      <td>NaN</td>\n",
       "    </tr>\n",
       "    <tr>\n",
       "      <th>110</th>\n",
       "      <td>Гарри Поттер и орден Феникса /По роману Дж.К.Р...</td>\n",
       "      <td>121026316</td>\n",
       "      <td>2016-09-23 12:00:00</td>\n",
       "      <td>Художественный</td>\n",
       "      <td>Уорнер Бразерс, Хэйдей Филмз</td>\n",
       "      <td>США - Великобритания</td>\n",
       "      <td>Дэвид Йетс</td>\n",
       "      <td>Дэйвид Баррон, Дэйвид Хейман</td>\n",
       "      <td>«16+» - для детей старше 16 лет</td>\n",
       "      <td>NaN</td>\n",
       "      <td>NaN</td>\n",
       "      <td>NaN</td>\n",
       "      <td>нет финансирования</td>\n",
       "      <td>7.7</td>\n",
       "      <td>фэнтези,приключения,семейный</td>\n",
       "      <td>759526.0</td>\n",
       "    </tr>\n",
       "    <tr>\n",
       "      <th>113</th>\n",
       "      <td>Гарри Поттер и узник Азкабана /По роману Дж.К....</td>\n",
       "      <td>121026116</td>\n",
       "      <td>2016-09-23 12:00:00</td>\n",
       "      <td>Художественный</td>\n",
       "      <td>Хэйдей Филмз, 1492 Пикчерз, Уорнер Бразерс</td>\n",
       "      <td>США</td>\n",
       "      <td>Альфонсо Куарон</td>\n",
       "      <td>Майкл Барната</td>\n",
       "      <td>«12+» - для детей старше 12 лет</td>\n",
       "      <td>NaN</td>\n",
       "      <td>NaN</td>\n",
       "      <td>NaN</td>\n",
       "      <td>нет финансирования</td>\n",
       "      <td>8.2</td>\n",
       "      <td>фэнтези,приключения,семейный</td>\n",
       "      <td>1125302.0</td>\n",
       "    </tr>\n",
       "  </tbody>\n",
       "</table>\n",
       "</div>"
      ],
      "text/plain": [
       "                                                 title   puNumber  \\\n",
       "3                                         Особо опасен  221026916   \n",
       "4                                         Особо опасен  221030815   \n",
       "41                                        Алекс и Эмма  221004616   \n",
       "110  Гарри Поттер и орден Феникса /По роману Дж.К.Р...  121026316   \n",
       "113  Гарри Поттер и узник Азкабана /По роману Дж.К....  121026116   \n",
       "\n",
       "        show_start_date            type  \\\n",
       "3   2016-06-10 12:00:00  Художественный   \n",
       "4   2015-07-29 12:00:00  Художественный   \n",
       "41  2016-02-09 12:00:00  Художественный   \n",
       "110 2016-09-23 12:00:00  Художественный   \n",
       "113 2016-09-23 12:00:00  Художественный   \n",
       "\n",
       "                                           film_studio    production_country  \\\n",
       "3    Юниверсал Пикчерз, Кикстарт Продакшнз, Марк Пл...                   США   \n",
       "4    Юниверсал Пикчерз, Кикстарт Продакшнз, Марк Пл...                   США   \n",
       "41   Эскейп Артистс, Франчайз Пикчерз, Рейнер-Грэйс...                   США   \n",
       "110                       Уорнер Бразерс, Хэйдей Филмз  США - Великобритания   \n",
       "113         Хэйдей Филмз, 1492 Пикчерз, Уорнер Бразерс                   США   \n",
       "\n",
       "              director                                           producer  \\\n",
       "3    Тимур Бекмамбетов  Джим Лемли, Джейсон Нетер, Марк Е.Платт, Яйн Смит   \n",
       "4    Тимур Бекмамбетов  Джим Лемли, Джейсон Нетер, Марк Е.Платт, Яйн Смит   \n",
       "41          Роб Райнер  Тодд Блэк, Элан Грейсман, Джереми Левен, Роб Р...   \n",
       "110         Дэвид Йетс                       Дэйвид Баррон, Дэйвид Хейман   \n",
       "113    Альфонсо Куарон                                      Майкл Барната   \n",
       "\n",
       "                     age_restriction  refundable_support  \\\n",
       "3        «18+» - запрещено для детей                 NaN   \n",
       "4        «18+» - запрещено для детей                 NaN   \n",
       "41   «16+» - для детей старше 16 лет                 NaN   \n",
       "110  «16+» - для детей старше 16 лет                 NaN   \n",
       "113  «12+» - для детей старше 12 лет                 NaN   \n",
       "\n",
       "     nonrefundable_support  budget    financing_source  ratings  \\\n",
       "3                      NaN     NaN  нет финансирования      6.8   \n",
       "4                      NaN     NaN  нет финансирования      6.8   \n",
       "41                     NaN     NaN  нет финансирования      6.4   \n",
       "110                    NaN     NaN  нет финансирования      7.7   \n",
       "113                    NaN     NaN  нет финансирования      8.2   \n",
       "\n",
       "                           genres  box_office  \n",
       "3       фантастика,боевик,триллер         NaN  \n",
       "4       фантастика,боевик,триллер         NaN  \n",
       "41              мелодрама,комедия         NaN  \n",
       "110  фэнтези,приключения,семейный    759526.0  \n",
       "113  фэнтези,приключения,семейный   1125302.0  "
      ]
     },
     "metadata": {},
     "output_type": "display_data"
    }
   ],
   "source": [
    "display(data[data.duplicated(subset=['title'])].head())"
   ]
  },
  {
   "cell_type": "markdown",
   "metadata": {},
   "source": [
    "Мы выяснили, что в таблице 711 строк с совпадениями в названии, удалим все дубликаты. Мы будем удалять все строки оставляя только первое вхождение строк."
   ]
  },
  {
   "cell_type": "code",
   "execution_count": 19,
   "metadata": {},
   "outputs": [
    {
     "name": "stdout",
     "output_type": "stream",
     "text": [
      "0\n"
     ]
    }
   ],
   "source": [
    "# удалим строки оставив первое вхождение\n",
    "data = data.drop_duplicates(subset='title',keep='first')\n",
    "\n",
    "# проверяем результат\n",
    "print(data.duplicated(subset='title').sum())"
   ]
  },
  {
   "cell_type": "markdown",
   "metadata": {
    "id": "52fOPrEBgFyQ"
   },
   "source": [
    "#### Шаг 2.4. Категориальные значения\n",
    "\n",
    "- Посмотрим, какая общая проблема встречается почти во всех категориальных столбцах;\n",
    "- Исправим проблемные значения в поле `type`."
   ]
  },
  {
   "cell_type": "markdown",
   "metadata": {},
   "source": [
    "У нас в таблице несколько категориальных столбцов: \n",
    "1. type\n",
    "2. age_restriction\n",
    "3. financing_source"
   ]
  },
  {
   "cell_type": "code",
   "execution_count": 20,
   "metadata": {
    "id": "PnXKIVdFgFyR"
   },
   "outputs": [
    {
     "name": "stdout",
     "output_type": "stream",
     "text": [
      "type\n",
      "Художественный                3923\n",
      " Художественный               1345\n",
      "Анимационный                   766\n",
      "Прочие                         385\n",
      "Документальный                 275\n",
      "Научно-популярный               49\n",
      " Анимационный                    1\n",
      "Музыкально-развлекательный       1\n",
      "Name: count, dtype: int64\n",
      "\n",
      "age_restriction\n",
      "«16+» - для детей старше 16 лет           2510\n",
      "«12+» - для детей старше 12 лет           1471\n",
      "«18+» - запрещено для детей               1423\n",
      "«0+» - для любой зрительской аудитории     741\n",
      "«6+» - для детей старше 6 лет              600\n",
      "Name: count, dtype: int64\n",
      "\n"
     ]
    },
    {
     "data": {
      "text/plain": [
       "financing_source\n",
       "нет финансирования                  6416\n",
       "Министерство культуры                163\n",
       "Фонд кино                            144\n",
       "Министерство культуры, Фонд кино      22\n",
       "Name: count, dtype: int64"
      ]
     },
     "execution_count": 20,
     "metadata": {},
     "output_type": "execute_result"
    }
   ],
   "source": [
    "print(data['type'].value_counts())\n",
    "print()\n",
    "print(data['age_restriction'].value_counts())\n",
    "print()\n",
    "data['financing_source'].value_counts()"
   ]
  },
  {
   "cell_type": "markdown",
   "metadata": {},
   "source": [
    "В различных значениях столбца 'type' есть ошибки и повторения. А значения столбца 'age_restriction' заменим на итак общеизвестные и общепонятные обозначения (6+, 0+ и так далее)"
   ]
  },
  {
   "cell_type": "code",
   "execution_count": 21,
   "metadata": {},
   "outputs": [
    {
     "name": "stdout",
     "output_type": "stream",
     "text": [
      "type\n",
      "Художественный                5268\n",
      "Анимационный                   767\n",
      "Прочие                         385\n",
      "Документальный                 275\n",
      "Научно-популярный               49\n",
      "Музыкально-развлекательный       1\n",
      "Name: count, dtype: int64\n"
     ]
    },
    {
     "data": {
      "text/plain": [
       "age_restriction\n",
       "16+    2510\n",
       "12+    1471\n",
       "18+    1423\n",
       "0+      741\n",
       "6+      600\n",
       "Name: count, dtype: int64"
      ]
     },
     "execution_count": 21,
     "metadata": {},
     "output_type": "execute_result"
    }
   ],
   "source": [
    "wrong_names = [' Художественный',' Анимационный']\n",
    "right_names = ['Художественный', 'Анимационный']\n",
    "data['type'] = data['type'].replace(wrong_names,right_names)\n",
    "\n",
    "wrong_age = [\n",
    "    '«16+» - для детей старше 16 лет', \n",
    "    '«18+» - запрещено для детей', \n",
    "    '«12+» - для детей старше 12 лет', \n",
    "    '«0+» - для любой зрительской аудитории', \n",
    "    '«6+» - для детей старше 6 лет'\n",
    "]\n",
    "\n",
    "right_age = [\n",
    "    '16+',\n",
    "    '18+',\n",
    "    '12+',\n",
    "    '0+',\n",
    "    '6+'\n",
    "]\n",
    "\n",
    "data['age_restriction'] = data['age_restriction'].replace(wrong_age,right_age)\n",
    "print(data['type'].value_counts())\n",
    "data['age_restriction'].value_counts()"
   ]
  },
  {
   "cell_type": "markdown",
   "metadata": {
    "id": "XFSN5lrEgFyR"
   },
   "source": [
    "#### Шаг 2.5. Количественные значения"
   ]
  },
  {
   "cell_type": "markdown",
   "metadata": {},
   "source": [
    "Столбцы с количественными значениями у нас:\n",
    "1. refundable_support\n",
    "2. nonrefundable_support\n",
    "3. budget"
   ]
  },
  {
   "cell_type": "code",
   "execution_count": 22,
   "metadata": {
    "id": "YbzClBxagFyS"
   },
   "outputs": [
    {
     "data": {
      "text/html": [
       "<div>\n",
       "<style scoped>\n",
       "    .dataframe tbody tr th:only-of-type {\n",
       "        vertical-align: middle;\n",
       "    }\n",
       "\n",
       "    .dataframe tbody tr th {\n",
       "        vertical-align: top;\n",
       "    }\n",
       "\n",
       "    .dataframe thead th {\n",
       "        text-align: right;\n",
       "    }\n",
       "</style>\n",
       "<table border=\"1\" class=\"dataframe\">\n",
       "  <thead>\n",
       "    <tr style=\"text-align: right;\">\n",
       "      <th></th>\n",
       "      <th>title</th>\n",
       "      <th>puNumber</th>\n",
       "      <th>show_start_date</th>\n",
       "      <th>type</th>\n",
       "      <th>film_studio</th>\n",
       "      <th>production_country</th>\n",
       "      <th>director</th>\n",
       "      <th>producer</th>\n",
       "      <th>age_restriction</th>\n",
       "      <th>refundable_support</th>\n",
       "      <th>nonrefundable_support</th>\n",
       "      <th>budget</th>\n",
       "      <th>financing_source</th>\n",
       "      <th>ratings</th>\n",
       "      <th>genres</th>\n",
       "      <th>box_office</th>\n",
       "    </tr>\n",
       "  </thead>\n",
       "  <tbody>\n",
       "    <tr>\n",
       "      <th>2052</th>\n",
       "      <td>14+</td>\n",
       "      <td>111023614</td>\n",
       "      <td>2014-12-19 12:00:00</td>\n",
       "      <td>Художественный</td>\n",
       "      <td>ООО Киностудия  \"Сентябрь\"</td>\n",
       "      <td>Россия</td>\n",
       "      <td>А.Зайцев</td>\n",
       "      <td>О.Гранина, А.Зайцев</td>\n",
       "      <td>16+</td>\n",
       "      <td>0.0</td>\n",
       "      <td>23000000.0</td>\n",
       "      <td>0.0</td>\n",
       "      <td>Министерство культуры, Фонд кино</td>\n",
       "      <td>6.6</td>\n",
       "      <td>мелодрама</td>\n",
       "      <td>1.023402e+07</td>\n",
       "    </tr>\n",
       "    <tr>\n",
       "      <th>2057</th>\n",
       "      <td>Дуxless 2</td>\n",
       "      <td>111000415</td>\n",
       "      <td>2015-01-26 12:00:00</td>\n",
       "      <td>Художественный</td>\n",
       "      <td>ООО \"Киностудия \"Слово\", ООО \"Арт Пикчерс Студия\"</td>\n",
       "      <td>Россия</td>\n",
       "      <td>Р.Прыгунов</td>\n",
       "      <td>П.Ануров, Ф.Бондарчук, Д.Рудовский</td>\n",
       "      <td>16+</td>\n",
       "      <td>0.0</td>\n",
       "      <td>75000000.0</td>\n",
       "      <td>0.0</td>\n",
       "      <td>Фонд кино</td>\n",
       "      <td>6.6</td>\n",
       "      <td>драма</td>\n",
       "      <td>4.461635e+08</td>\n",
       "    </tr>\n",
       "    <tr>\n",
       "      <th>2471</th>\n",
       "      <td>Воин (2015)</td>\n",
       "      <td>111017315</td>\n",
       "      <td>2015-09-28 12:00:00</td>\n",
       "      <td>Художественный</td>\n",
       "      <td>ООО \"Форпост Продакшн\", ООО \"Арт Пикчерс Студия\"</td>\n",
       "      <td>Россия</td>\n",
       "      <td>А.Андрианов</td>\n",
       "      <td>ООО \"Арт Пикчерс Студия\"</td>\n",
       "      <td>12+</td>\n",
       "      <td>10000000.0</td>\n",
       "      <td>70000000.0</td>\n",
       "      <td>0.0</td>\n",
       "      <td>Фонд кино</td>\n",
       "      <td>7.8</td>\n",
       "      <td>боевик,драма,криминал</td>\n",
       "      <td>1.965724e+08</td>\n",
       "    </tr>\n",
       "    <tr>\n",
       "      <th>2531</th>\n",
       "      <td>Бармен.</td>\n",
       "      <td>111009615</td>\n",
       "      <td>2015-05-26 12:00:00</td>\n",
       "      <td>Художественный</td>\n",
       "      <td>АО \"ВайТ Медиа\", ООО \"Арт Пикчерс Студия\"</td>\n",
       "      <td>Россия</td>\n",
       "      <td>Д.Штурманова</td>\n",
       "      <td>Т.Вайнштейн</td>\n",
       "      <td>16+</td>\n",
       "      <td>20000000.0</td>\n",
       "      <td>0.0</td>\n",
       "      <td>0.0</td>\n",
       "      <td>Фонд кино</td>\n",
       "      <td>6.2</td>\n",
       "      <td>комедия,фэнтези</td>\n",
       "      <td>6.741897e+07</td>\n",
       "    </tr>\n",
       "    <tr>\n",
       "      <th>2614</th>\n",
       "      <td>Савва. Сердце воина</td>\n",
       "      <td>114001715</td>\n",
       "      <td>2015-07-21 12:00:00</td>\n",
       "      <td>Анимационный</td>\n",
       "      <td>ООО \"Глюкоза Продакшн\", ООО \"Арт Пикчерс Студия\"</td>\n",
       "      <td>Россия</td>\n",
       "      <td>М.Фадеев</td>\n",
       "      <td>А.Чистяков</td>\n",
       "      <td>6+</td>\n",
       "      <td>60000000.0</td>\n",
       "      <td>100000000.0</td>\n",
       "      <td>0.0</td>\n",
       "      <td>Фонд кино</td>\n",
       "      <td>4.6</td>\n",
       "      <td>мультфильм,приключения,фэнтези</td>\n",
       "      <td>1.844876e+08</td>\n",
       "    </tr>\n",
       "    <tr>\n",
       "      <th>2683</th>\n",
       "      <td>Тряпичный союз</td>\n",
       "      <td>111010215</td>\n",
       "      <td>2015-06-08 12:00:00</td>\n",
       "      <td>Художественный</td>\n",
       "      <td>ООО \"Кинокомпания \"КОКТЕБЕЛЬ\"</td>\n",
       "      <td>Россия</td>\n",
       "      <td>М.Местецкий</td>\n",
       "      <td>Р.Борисевич, А.Кушаев</td>\n",
       "      <td>18+</td>\n",
       "      <td>0.0</td>\n",
       "      <td>59000000.0</td>\n",
       "      <td>0.0</td>\n",
       "      <td>Фонд кино</td>\n",
       "      <td>6.3</td>\n",
       "      <td>комедия,драма</td>\n",
       "      <td>1.957739e+06</td>\n",
       "    </tr>\n",
       "    <tr>\n",
       "      <th>2787</th>\n",
       "      <td>Срочно выйду замуж</td>\n",
       "      <td>111017115</td>\n",
       "      <td>2015-09-30 12:00:00</td>\n",
       "      <td>Художественный</td>\n",
       "      <td>АО \"ВайТ Медиа\", ООО \"Арт Пикчерс Студия\"</td>\n",
       "      <td>Россия</td>\n",
       "      <td>С Чекалов</td>\n",
       "      <td>Ф.Бондарчук, Т.Вайнштейн, Д.Рудовский</td>\n",
       "      <td>16+</td>\n",
       "      <td>0.0</td>\n",
       "      <td>35000000.0</td>\n",
       "      <td>0.0</td>\n",
       "      <td>Фонд кино</td>\n",
       "      <td>5.1</td>\n",
       "      <td>комедия,мелодрама</td>\n",
       "      <td>7.293778e+07</td>\n",
       "    </tr>\n",
       "    <tr>\n",
       "      <th>2873</th>\n",
       "      <td>Помню - не помню!</td>\n",
       "      <td>111004916</td>\n",
       "      <td>2016-03-01 12:00:00</td>\n",
       "      <td>Художественный</td>\n",
       "      <td>ООО \"КиноФирма\"</td>\n",
       "      <td>Россия</td>\n",
       "      <td>В.Ровенский</td>\n",
       "      <td>ООО \"КиноФирма\"</td>\n",
       "      <td>12+</td>\n",
       "      <td>0.0</td>\n",
       "      <td>6000000.0</td>\n",
       "      <td>0.0</td>\n",
       "      <td>Министерство культуры</td>\n",
       "      <td>4.3</td>\n",
       "      <td>комедия</td>\n",
       "      <td>1.536293e+07</td>\n",
       "    </tr>\n",
       "    <tr>\n",
       "      <th>3046</th>\n",
       "      <td>Любовь с ограничениями</td>\n",
       "      <td>111008216</td>\n",
       "      <td>2016-04-29 12:00:00</td>\n",
       "      <td>Художественный</td>\n",
       "      <td>АО \"ВайТ Медиа\", ООО \"Арт Пикчерс Студия\"</td>\n",
       "      <td>Россия</td>\n",
       "      <td>Д.Тюрин</td>\n",
       "      <td>Ф.Бондарчук, Т.Вайнштейн, Д.Рудовский</td>\n",
       "      <td>16+</td>\n",
       "      <td>19000000.0</td>\n",
       "      <td>51000000.0</td>\n",
       "      <td>0.0</td>\n",
       "      <td>Фонд кино</td>\n",
       "      <td>6.3</td>\n",
       "      <td>комедия,мелодрама</td>\n",
       "      <td>7.029905e+07</td>\n",
       "    </tr>\n",
       "    <tr>\n",
       "      <th>3564</th>\n",
       "      <td>Притяжение (2016)</td>\n",
       "      <td>111018116</td>\n",
       "      <td>2016-12-16 12:00:00</td>\n",
       "      <td>Художественный</td>\n",
       "      <td>ООО \"Водород 2011\",  ООО \"Арт Пикчерс Студия\"</td>\n",
       "      <td>Россия</td>\n",
       "      <td>Ф.Бондарчук</td>\n",
       "      <td>ООО \"Арт Пикчерс Студия\"</td>\n",
       "      <td>12+</td>\n",
       "      <td>0.0</td>\n",
       "      <td>250000000.0</td>\n",
       "      <td>0.0</td>\n",
       "      <td>Фонд кино</td>\n",
       "      <td>5.6</td>\n",
       "      <td>фантастика</td>\n",
       "      <td>1.038321e+09</td>\n",
       "    </tr>\n",
       "  </tbody>\n",
       "</table>\n",
       "</div>"
      ],
      "text/plain": [
       "                       title   puNumber     show_start_date            type  \\\n",
       "2052                     14+  111023614 2014-12-19 12:00:00  Художественный   \n",
       "2057               Дуxless 2  111000415 2015-01-26 12:00:00  Художественный   \n",
       "2471             Воин (2015)  111017315 2015-09-28 12:00:00  Художественный   \n",
       "2531                 Бармен.  111009615 2015-05-26 12:00:00  Художественный   \n",
       "2614     Савва. Сердце воина  114001715 2015-07-21 12:00:00    Анимационный   \n",
       "2683          Тряпичный союз  111010215 2015-06-08 12:00:00  Художественный   \n",
       "2787      Срочно выйду замуж  111017115 2015-09-30 12:00:00  Художественный   \n",
       "2873       Помню - не помню!  111004916 2016-03-01 12:00:00  Художественный   \n",
       "3046  Любовь с ограничениями  111008216 2016-04-29 12:00:00  Художественный   \n",
       "3564       Притяжение (2016)  111018116 2016-12-16 12:00:00  Художественный   \n",
       "\n",
       "                                            film_studio production_country  \\\n",
       "2052                         ООО Киностудия  \"Сентябрь\"             Россия   \n",
       "2057  ООО \"Киностудия \"Слово\", ООО \"Арт Пикчерс Студия\"             Россия   \n",
       "2471   ООО \"Форпост Продакшн\", ООО \"Арт Пикчерс Студия\"             Россия   \n",
       "2531          АО \"ВайТ Медиа\", ООО \"Арт Пикчерс Студия\"             Россия   \n",
       "2614   ООО \"Глюкоза Продакшн\", ООО \"Арт Пикчерс Студия\"             Россия   \n",
       "2683                      ООО \"Кинокомпания \"КОКТЕБЕЛЬ\"             Россия   \n",
       "2787          АО \"ВайТ Медиа\", ООО \"Арт Пикчерс Студия\"             Россия   \n",
       "2873                                    ООО \"КиноФирма\"             Россия   \n",
       "3046          АО \"ВайТ Медиа\", ООО \"Арт Пикчерс Студия\"             Россия   \n",
       "3564      ООО \"Водород 2011\",  ООО \"Арт Пикчерс Студия\"             Россия   \n",
       "\n",
       "          director                               producer age_restriction  \\\n",
       "2052      А.Зайцев                    О.Гранина, А.Зайцев             16+   \n",
       "2057    Р.Прыгунов     П.Ануров, Ф.Бондарчук, Д.Рудовский             16+   \n",
       "2471   А.Андрианов               ООО \"Арт Пикчерс Студия\"             12+   \n",
       "2531  Д.Штурманова                            Т.Вайнштейн             16+   \n",
       "2614      М.Фадеев                             А.Чистяков              6+   \n",
       "2683   М.Местецкий                  Р.Борисевич, А.Кушаев             18+   \n",
       "2787     С Чекалов  Ф.Бондарчук, Т.Вайнштейн, Д.Рудовский             16+   \n",
       "2873   В.Ровенский                        ООО \"КиноФирма\"             12+   \n",
       "3046       Д.Тюрин  Ф.Бондарчук, Т.Вайнштейн, Д.Рудовский             16+   \n",
       "3564   Ф.Бондарчук               ООО \"Арт Пикчерс Студия\"             12+   \n",
       "\n",
       "      refundable_support  nonrefundable_support  budget  \\\n",
       "2052                 0.0             23000000.0     0.0   \n",
       "2057                 0.0             75000000.0     0.0   \n",
       "2471          10000000.0             70000000.0     0.0   \n",
       "2531          20000000.0                    0.0     0.0   \n",
       "2614          60000000.0            100000000.0     0.0   \n",
       "2683                 0.0             59000000.0     0.0   \n",
       "2787                 0.0             35000000.0     0.0   \n",
       "2873                 0.0              6000000.0     0.0   \n",
       "3046          19000000.0             51000000.0     0.0   \n",
       "3564                 0.0            250000000.0     0.0   \n",
       "\n",
       "                      financing_source  ratings  \\\n",
       "2052  Министерство культуры, Фонд кино      6.6   \n",
       "2057                         Фонд кино      6.6   \n",
       "2471                         Фонд кино      7.8   \n",
       "2531                         Фонд кино      6.2   \n",
       "2614                         Фонд кино      4.6   \n",
       "2683                         Фонд кино      6.3   \n",
       "2787                         Фонд кино      5.1   \n",
       "2873             Министерство культуры      4.3   \n",
       "3046                         Фонд кино      6.3   \n",
       "3564                         Фонд кино      5.6   \n",
       "\n",
       "                              genres    box_office  \n",
       "2052                       мелодрама  1.023402e+07  \n",
       "2057                           драма  4.461635e+08  \n",
       "2471           боевик,драма,криминал  1.965724e+08  \n",
       "2531                 комедия,фэнтези  6.741897e+07  \n",
       "2614  мультфильм,приключения,фэнтези  1.844876e+08  \n",
       "2683                   комедия,драма  1.957739e+06  \n",
       "2787               комедия,мелодрама  7.293778e+07  \n",
       "2873                         комедия  1.536293e+07  \n",
       "3046               комедия,мелодрама  7.029905e+07  \n",
       "3564                      фантастика  1.038321e+09  "
      ]
     },
     "execution_count": 22,
     "metadata": {},
     "output_type": "execute_result"
    }
   ],
   "source": [
    "# создаем копию датафрейма без одновременных пропусков в количественных столбцах\n",
    "data_new = data.dropna(subset = ['refundable_support', 'nonrefundable_support', 'budget'])\n",
    "\n",
    "# количество строк с бюджетом в 0\n",
    "data_new[data_new['budget']==0.0].head(10)"
   ]
  },
  {
   "cell_type": "markdown",
   "metadata": {},
   "source": [
    "Данные в столбце budget расходятся с суммой данных из столбцов `refundable_support` и `nonrefundable_support`, также есть строки где указанны данные возвратной и невозвратной поддержки, а общий бюджет меньше, именно в таких строках мы и будем заменять показатели `refundable_support` budget на сумму показателей из `refundable_support` и `nonrefundable_support`."
   ]
  },
  {
   "cell_type": "code",
   "execution_count": 23,
   "metadata": {},
   "outputs": [
    {
     "data": {
      "text/plain": [
       "title                    0\n",
       "puNumber                 0\n",
       "show_start_date          0\n",
       "type                     0\n",
       "film_studio              0\n",
       "production_country       0\n",
       "director                 0\n",
       "producer                 0\n",
       "age_restriction          0\n",
       "refundable_support       0\n",
       "nonrefundable_support    0\n",
       "budget                   0\n",
       "financing_source         0\n",
       "ratings                  0\n",
       "genres                   0\n",
       "box_office               0\n",
       "correct_budget           0\n",
       "dtype: int64"
      ]
     },
     "execution_count": 23,
     "metadata": {},
     "output_type": "execute_result"
    }
   ],
   "source": [
    "'''строим функцию, которая среди строк где общий бюджет меньше\n",
    "   суммы значений указанных в столбцах поддержки, изменит значения бюджета'''\n",
    "\n",
    "def correct_budget(row):\n",
    "    if row['budget'] < (row['refundable_support'] + row['nonrefundable_support']):\n",
    "        row['budget'] = row['refundable_support'] + row['nonrefundable_support']\n",
    "    return row['budget']\n",
    "\n",
    "# применяем фугкцию к датафрейму\n",
    "data['correct_budget'] = data.apply(correct_budget, axis=1)\n",
    "\n",
    "# проверяем\n",
    "data[data['correct_budget'] < (data['refundable_support'] + data['nonrefundable_support'])].count()"
   ]
  },
  {
   "cell_type": "markdown",
   "metadata": {},
   "source": [
    "**Вывод:**\n",
    "\n",
    "Мы создали новый столбец в дата-фрейме, который содержит информацию о сумме показателей таких столбцов как `refundable_support` и `nonrefundable_support` при условии что показатель в столбце `budget` меньше чем сумма вышеуказанных столбцов."
   ]
  },
  {
   "cell_type": "markdown",
   "metadata": {
    "id": "Eu6oWp2CgFyS"
   },
   "source": [
    "#### Шаг 2.6. Создаем новые столбцы"
   ]
  },
  {
   "cell_type": "markdown",
   "metadata": {
    "id": "7GgW-UpAgFyS"
   },
   "source": [
    "- Создадим столбец с информацией о годе проката."
   ]
  },
  {
   "cell_type": "code",
   "execution_count": 24,
   "metadata": {
    "id": "I-yd1DkWgFyT"
   },
   "outputs": [
    {
     "data": {
      "text/html": [
       "<div>\n",
       "<style scoped>\n",
       "    .dataframe tbody tr th:only-of-type {\n",
       "        vertical-align: middle;\n",
       "    }\n",
       "\n",
       "    .dataframe tbody tr th {\n",
       "        vertical-align: top;\n",
       "    }\n",
       "\n",
       "    .dataframe thead th {\n",
       "        text-align: right;\n",
       "    }\n",
       "</style>\n",
       "<table border=\"1\" class=\"dataframe\">\n",
       "  <thead>\n",
       "    <tr style=\"text-align: right;\">\n",
       "      <th></th>\n",
       "      <th>title</th>\n",
       "      <th>puNumber</th>\n",
       "      <th>show_start_date</th>\n",
       "      <th>type</th>\n",
       "      <th>film_studio</th>\n",
       "      <th>production_country</th>\n",
       "      <th>director</th>\n",
       "      <th>producer</th>\n",
       "      <th>age_restriction</th>\n",
       "      <th>refundable_support</th>\n",
       "      <th>nonrefundable_support</th>\n",
       "      <th>budget</th>\n",
       "      <th>financing_source</th>\n",
       "      <th>ratings</th>\n",
       "      <th>genres</th>\n",
       "      <th>box_office</th>\n",
       "      <th>correct_budget</th>\n",
       "      <th>year</th>\n",
       "    </tr>\n",
       "  </thead>\n",
       "  <tbody>\n",
       "    <tr>\n",
       "      <th>0</th>\n",
       "      <td>Открытый простор</td>\n",
       "      <td>221048915</td>\n",
       "      <td>2015-11-27 12:00:00</td>\n",
       "      <td>Художественный</td>\n",
       "      <td>Тачстоун Пикчерз, Кобальт Пикчерз, Бикон Пикче...</td>\n",
       "      <td>США</td>\n",
       "      <td>Кевин Костнер</td>\n",
       "      <td>Дэвид Валдес, Кевин Костнер, Джейк Эбертс</td>\n",
       "      <td>18+</td>\n",
       "      <td>NaN</td>\n",
       "      <td>NaN</td>\n",
       "      <td>NaN</td>\n",
       "      <td>нет финансирования</td>\n",
       "      <td>7.2</td>\n",
       "      <td>боевик,драма,мелодрама</td>\n",
       "      <td>NaN</td>\n",
       "      <td>NaN</td>\n",
       "      <td>2015</td>\n",
       "    </tr>\n",
       "    <tr>\n",
       "      <th>1</th>\n",
       "      <td>Особо важное задание</td>\n",
       "      <td>111013716</td>\n",
       "      <td>2016-09-13 12:00:00</td>\n",
       "      <td>Художественный</td>\n",
       "      <td>Киностудия \"Мосфильм\"</td>\n",
       "      <td>СССР</td>\n",
       "      <td>Е.Матвеев</td>\n",
       "      <td>NaN</td>\n",
       "      <td>6+</td>\n",
       "      <td>NaN</td>\n",
       "      <td>NaN</td>\n",
       "      <td>NaN</td>\n",
       "      <td>нет финансирования</td>\n",
       "      <td>6.6</td>\n",
       "      <td>драма,военный</td>\n",
       "      <td>NaN</td>\n",
       "      <td>NaN</td>\n",
       "      <td>2016</td>\n",
       "    </tr>\n",
       "    <tr>\n",
       "      <th>2</th>\n",
       "      <td>Особо опасен</td>\n",
       "      <td>221038416</td>\n",
       "      <td>2016-10-10 12:00:00</td>\n",
       "      <td>Художественный</td>\n",
       "      <td>Юниверсал Пикчерз, Кикстарт Продакшнз, Марк Пл...</td>\n",
       "      <td>США</td>\n",
       "      <td>Тимур Бекмамбетов</td>\n",
       "      <td>Джим Лемли, Джейсон Нетер, Марк Е.Платт, Яйн Смит</td>\n",
       "      <td>18+</td>\n",
       "      <td>NaN</td>\n",
       "      <td>NaN</td>\n",
       "      <td>NaN</td>\n",
       "      <td>нет финансирования</td>\n",
       "      <td>6.8</td>\n",
       "      <td>фантастика,боевик,триллер</td>\n",
       "      <td>NaN</td>\n",
       "      <td>NaN</td>\n",
       "      <td>2016</td>\n",
       "    </tr>\n",
       "    <tr>\n",
       "      <th>5</th>\n",
       "      <td>Остановился поезд</td>\n",
       "      <td>111013816</td>\n",
       "      <td>2016-09-13 12:00:00</td>\n",
       "      <td>Художественный</td>\n",
       "      <td>Киностудия \"Мосфильм\"</td>\n",
       "      <td>СССР</td>\n",
       "      <td>В.Абдрашитов</td>\n",
       "      <td>NaN</td>\n",
       "      <td>6+</td>\n",
       "      <td>NaN</td>\n",
       "      <td>NaN</td>\n",
       "      <td>NaN</td>\n",
       "      <td>нет финансирования</td>\n",
       "      <td>7.7</td>\n",
       "      <td>драма</td>\n",
       "      <td>NaN</td>\n",
       "      <td>NaN</td>\n",
       "      <td>2016</td>\n",
       "    </tr>\n",
       "    <tr>\n",
       "      <th>6</th>\n",
       "      <td>Любовь и голуби</td>\n",
       "      <td>111007013</td>\n",
       "      <td>2013-10-18 12:00:00</td>\n",
       "      <td>Художественный</td>\n",
       "      <td>Киностудия \"Мосфильм\"</td>\n",
       "      <td>СССР</td>\n",
       "      <td>В.Меньшов</td>\n",
       "      <td>NaN</td>\n",
       "      <td>12+</td>\n",
       "      <td>NaN</td>\n",
       "      <td>NaN</td>\n",
       "      <td>NaN</td>\n",
       "      <td>нет финансирования</td>\n",
       "      <td>8.3</td>\n",
       "      <td>мелодрама,комедия</td>\n",
       "      <td>2700.0</td>\n",
       "      <td>NaN</td>\n",
       "      <td>2013</td>\n",
       "    </tr>\n",
       "  </tbody>\n",
       "</table>\n",
       "</div>"
      ],
      "text/plain": [
       "                  title   puNumber     show_start_date            type  \\\n",
       "0      Открытый простор  221048915 2015-11-27 12:00:00  Художественный   \n",
       "1  Особо важное задание  111013716 2016-09-13 12:00:00  Художественный   \n",
       "2          Особо опасен  221038416 2016-10-10 12:00:00  Художественный   \n",
       "5     Остановился поезд  111013816 2016-09-13 12:00:00  Художественный   \n",
       "6       Любовь и голуби  111007013 2013-10-18 12:00:00  Художественный   \n",
       "\n",
       "                                         film_studio production_country  \\\n",
       "0  Тачстоун Пикчерз, Кобальт Пикчерз, Бикон Пикче...                США   \n",
       "1                              Киностудия \"Мосфильм\"               СССР   \n",
       "2  Юниверсал Пикчерз, Кикстарт Продакшнз, Марк Пл...                США   \n",
       "5                              Киностудия \"Мосфильм\"               СССР   \n",
       "6                              Киностудия \"Мосфильм\"               СССР   \n",
       "\n",
       "            director                                           producer  \\\n",
       "0      Кевин Костнер          Дэвид Валдес, Кевин Костнер, Джейк Эбертс   \n",
       "1          Е.Матвеев                                                NaN   \n",
       "2  Тимур Бекмамбетов  Джим Лемли, Джейсон Нетер, Марк Е.Платт, Яйн Смит   \n",
       "5       В.Абдрашитов                                                NaN   \n",
       "6          В.Меньшов                                                NaN   \n",
       "\n",
       "  age_restriction  refundable_support  nonrefundable_support  budget  \\\n",
       "0             18+                 NaN                    NaN     NaN   \n",
       "1              6+                 NaN                    NaN     NaN   \n",
       "2             18+                 NaN                    NaN     NaN   \n",
       "5              6+                 NaN                    NaN     NaN   \n",
       "6             12+                 NaN                    NaN     NaN   \n",
       "\n",
       "     financing_source  ratings                     genres  box_office  \\\n",
       "0  нет финансирования      7.2     боевик,драма,мелодрама         NaN   \n",
       "1  нет финансирования      6.6              драма,военный         NaN   \n",
       "2  нет финансирования      6.8  фантастика,боевик,триллер         NaN   \n",
       "5  нет финансирования      7.7                      драма         NaN   \n",
       "6  нет финансирования      8.3          мелодрама,комедия      2700.0   \n",
       "\n",
       "   correct_budget  year  \n",
       "0             NaN  2015  \n",
       "1             NaN  2016  \n",
       "2             NaN  2016  \n",
       "5             NaN  2016  \n",
       "6             NaN  2013  "
      ]
     },
     "execution_count": 24,
     "metadata": {},
     "output_type": "execute_result"
    }
   ],
   "source": [
    "data['year'] = pd.DatetimeIndex(data['show_start_date']).year\n",
    "data.head()"
   ]
  },
  {
   "cell_type": "markdown",
   "metadata": {
    "id": "nFTDLDYOgFyT"
   },
   "source": [
    "- Создадим два новых столбца: с именем и фамилией главного режиссёра и основным жанром фильма. В столбцы войдут первые значения из списка режиссёров и жанров соответственно."
   ]
  },
  {
   "cell_type": "code",
   "execution_count": 25,
   "metadata": {
    "id": "LSbRZKbMgFyU"
   },
   "outputs": [],
   "source": [
    "# создаем функцию для заполнения нового столбца\n",
    "def new_col(col_name, new_name):\n",
    "    data[new_name] = data[col_name].str.split(',').str[0]\n",
    "    data[new_name] = data[new_name].str.strip()\n",
    "    return \n",
    "\n",
    "# применям  функцию и проверяем результат\n",
    "new_col('director', 'main_director')\n",
    "#data.head(20)\n",
    "new_col('genres', 'main_genres')\n",
    "#data.head(20)"
   ]
  },
  {
   "cell_type": "markdown",
   "metadata": {
    "id": "1FsCXHwdgFyU"
   },
   "source": [
    "- Посчитаем, какую долю от общего бюджета фильма составляет государственная поддержка."
   ]
  },
  {
   "cell_type": "markdown",
   "metadata": {},
   "source": [
    "Важно помнить, что верные показатели бюджета указанны именно в столбце `correct_budget`."
   ]
  },
  {
   "cell_type": "code",
   "execution_count": 26,
   "metadata": {
    "id": "LV6qFuZLgFyV"
   },
   "outputs": [
    {
     "data": {
      "text/plain": [
       "count    329.000000\n",
       "mean       0.542518\n",
       "std        0.197433\n",
       "min        0.044043\n",
       "25%        0.384615\n",
       "50%        0.615385\n",
       "75%        0.661977\n",
       "max        1.000000\n",
       "Name: budget_share, dtype: float64"
      ]
     },
     "execution_count": 26,
     "metadata": {},
     "output_type": "execute_result"
    }
   ],
   "source": [
    "# создаем столбец с долей гос. поддержки\n",
    "data['budget_share'] = (data['refundable_support'] + data['nonrefundable_support']) / data['correct_budget']\n",
    "#data[data['correct_budget'] >= 0]\n",
    "#data.info()\n",
    "data['budget_share'].describe()"
   ]
  },
  {
   "cell_type": "markdown",
   "metadata": {},
   "source": [
    "**Вывод:**\n",
    "\n",
    "Мы создали столбцы:\n",
    "- с годом проката\n",
    "- с именем и фамилией главного режиссера\n",
    "- с основным жанром фильма\n",
    "- с долей государственной поддержки в общем бюджете фильма"
   ]
  },
  {
   "cell_type": "markdown",
   "metadata": {
    "id": "6t4EukPLgFyV"
   },
   "source": [
    "### Шаг 3. Исследовательский анализ"
   ]
  },
  {
   "cell_type": "markdown",
   "metadata": {
    "id": "vAH8WCzugFyV"
   },
   "source": [
    "#### Посмотрим, сколько фильмов выходило в прокат каждый год. Посчитаем, какую долю составляют фильмы с указанной информацией о прокате в кинотеатрах. Проанализируем, как эта доля менялась по годам. Сделаем вывод о том, какой период полнее всего представлен в данных."
   ]
  },
  {
   "cell_type": "code",
   "execution_count": 27,
   "metadata": {
    "id": "ABeV47y7gFyW"
   },
   "outputs": [
    {
     "data": {
      "text/plain": [
       "year\n",
       "2010    757\n",
       "2011    475\n",
       "2012    516\n",
       "2013    589\n",
       "2014    728\n",
       "2015    661\n",
       "2016    770\n",
       "2017    498\n",
       "2018    864\n",
       "2019    887\n",
       "Name: title, dtype: int64"
      ]
     },
     "execution_count": 27,
     "metadata": {},
     "output_type": "execute_result"
    }
   ],
   "source": [
    "# посчитаем количество фильмов для каждого года\n",
    "data.groupby('year')['title'].count()"
   ]
  },
  {
   "cell_type": "markdown",
   "metadata": {},
   "source": [
    "Мы указали сколько фильмов в нашем датафрейме соответствуют тому или иному значению года от 2010 по 2019. О прокате в кинотеатрах будут указывать данные о сборах фильма (`box_office`)"
   ]
  },
  {
   "cell_type": "code",
   "execution_count": 28,
   "metadata": {},
   "outputs": [
    {
     "name": "stdout",
     "output_type": "stream",
     "text": [
      "Количество строк в датафрейме / всего фильмов нашей таблице = 6745\n",
      "Количество фильмов с известной информацией о прокате в кинотеатрах = 3014\n",
      "Количество фильмов без известной информации о прокате в кинотеатрах = 3731\n",
      "Доля фильмов имеющих информацию о прокате = 0.45\n",
      "Доля фильмов не имеющих информацию о прокате = 0.55\n"
     ]
    }
   ],
   "source": [
    "print(f\"Количество строк в датафрейме / всего фильмов нашей таблице = {len(data['box_office'])}\")\n",
    "\n",
    "print(f\"Количество фильмов с известной информацией о прокате в кинотеатрах = {len(data['box_office']) - data['box_office'].isna().sum()}\")\n",
    "\n",
    "print(f\"Количество фильмов без известной информации о прокате в кинотеатрах = {data['box_office'].isna().sum()}\")\n",
    "\n",
    "print(f\"Доля фильмов имеющих информацию о прокате = {round((len(data['box_office']) - data['box_office'].isna().sum()) / len(data['box_office']), 2)}\")\n",
    "\n",
    "print(f\"Доля фильмов не имеющих информацию о прокате = {round(data['box_office'].isna().sum() / len(data['box_office']),2)}\")"
   ]
  },
  {
   "cell_type": "code",
   "execution_count": 29,
   "metadata": {},
   "outputs": [
    {
     "data": {
      "text/html": [
       "<style type=\"text/css\">\n",
       "#T_556aa_row0_col0, #T_556aa_row0_col2, #T_556aa_row0_col3, #T_556aa_row1_col1 {\n",
       "  background-color: #fff5f0;\n",
       "  color: #000000;\n",
       "}\n",
       "#T_556aa_row0_col1 {\n",
       "  background-color: #dd2a25;\n",
       "  color: #f1f1f1;\n",
       "}\n",
       "#T_556aa_row1_col0 {\n",
       "  background-color: #fee3d6;\n",
       "  color: #000000;\n",
       "}\n",
       "#T_556aa_row1_col2 {\n",
       "  background-color: #fff2eb;\n",
       "  color: #000000;\n",
       "}\n",
       "#T_556aa_row1_col3 {\n",
       "  background-color: #fed9c9;\n",
       "  color: #000000;\n",
       "}\n",
       "#T_556aa_row2_col0 {\n",
       "  background-color: #fcc4ad;\n",
       "  color: #000000;\n",
       "}\n",
       "#T_556aa_row2_col1 {\n",
       "  background-color: #fee5d8;\n",
       "  color: #000000;\n",
       "}\n",
       "#T_556aa_row2_col2 {\n",
       "  background-color: #ffebe2;\n",
       "  color: #000000;\n",
       "}\n",
       "#T_556aa_row2_col3 {\n",
       "  background-color: #fdd1be;\n",
       "  color: #000000;\n",
       "}\n",
       "#T_556aa_row3_col0 {\n",
       "  background-color: #fca082;\n",
       "  color: #000000;\n",
       "}\n",
       "#T_556aa_row3_col1 {\n",
       "  background-color: #fcb398;\n",
       "  color: #000000;\n",
       "}\n",
       "#T_556aa_row3_col2 {\n",
       "  background-color: #fdcab5;\n",
       "  color: #000000;\n",
       "}\n",
       "#T_556aa_row3_col3 {\n",
       "  background-color: #fca98c;\n",
       "  color: #000000;\n",
       "}\n",
       "#T_556aa_row4_col0 {\n",
       "  background-color: #fb7c5c;\n",
       "  color: #f1f1f1;\n",
       "}\n",
       "#T_556aa_row4_col1 {\n",
       "  background-color: #f03f2e;\n",
       "  color: #f1f1f1;\n",
       "}\n",
       "#T_556aa_row4_col2 {\n",
       "  background-color: #fc8e6e;\n",
       "  color: #000000;\n",
       "}\n",
       "#T_556aa_row4_col3 {\n",
       "  background-color: #fc8b6b;\n",
       "  color: #f1f1f1;\n",
       "}\n",
       "#T_556aa_row5_col0 {\n",
       "  background-color: #f6553c;\n",
       "  color: #f1f1f1;\n",
       "}\n",
       "#T_556aa_row5_col1 {\n",
       "  background-color: #fb7a5a;\n",
       "  color: #f1f1f1;\n",
       "}\n",
       "#T_556aa_row5_col2 {\n",
       "  background-color: #be151a;\n",
       "  color: #f1f1f1;\n",
       "}\n",
       "#T_556aa_row5_col3 {\n",
       "  background-color: #9a0c14;\n",
       "  color: #f1f1f1;\n",
       "}\n",
       "#T_556aa_row6_col0 {\n",
       "  background-color: #e32f27;\n",
       "  color: #f1f1f1;\n",
       "}\n",
       "#T_556aa_row6_col1, #T_556aa_row8_col3 {\n",
       "  background-color: #d42121;\n",
       "  color: #f1f1f1;\n",
       "}\n",
       "#T_556aa_row6_col2 {\n",
       "  background-color: #7e0610;\n",
       "  color: #f1f1f1;\n",
       "}\n",
       "#T_556aa_row6_col3, #T_556aa_row8_col0 {\n",
       "  background-color: #9d0d14;\n",
       "  color: #f1f1f1;\n",
       "}\n",
       "#T_556aa_row7_col0 {\n",
       "  background-color: #c2161b;\n",
       "  color: #f1f1f1;\n",
       "}\n",
       "#T_556aa_row7_col1 {\n",
       "  background-color: #ffece3;\n",
       "  color: #000000;\n",
       "}\n",
       "#T_556aa_row7_col2 {\n",
       "  background-color: #f03d2d;\n",
       "  color: #f1f1f1;\n",
       "}\n",
       "#T_556aa_row7_col3, #T_556aa_row9_col0, #T_556aa_row9_col1, #T_556aa_row9_col2 {\n",
       "  background-color: #67000d;\n",
       "  color: #f1f1f1;\n",
       "}\n",
       "#T_556aa_row8_col1 {\n",
       "  background-color: #820711;\n",
       "  color: #f1f1f1;\n",
       "}\n",
       "#T_556aa_row8_col2 {\n",
       "  background-color: #a10e15;\n",
       "  color: #f1f1f1;\n",
       "}\n",
       "#T_556aa_row9_col3 {\n",
       "  background-color: #bf151b;\n",
       "  color: #f1f1f1;\n",
       "}\n",
       "</style>\n",
       "<table id=\"T_556aa\">\n",
       "  <thead>\n",
       "    <tr>\n",
       "      <th class=\"blank level0\" >&nbsp;</th>\n",
       "      <th id=\"T_556aa_level0_col0\" class=\"col_heading level0 col0\" >year</th>\n",
       "      <th id=\"T_556aa_level0_col1\" class=\"col_heading level0 col1\" >title</th>\n",
       "      <th id=\"T_556aa_level0_col2\" class=\"col_heading level0 col2\" >фильмы в прокате</th>\n",
       "      <th id=\"T_556aa_level0_col3\" class=\"col_heading level0 col3\" >доля фильмов в прокате</th>\n",
       "    </tr>\n",
       "  </thead>\n",
       "  <tbody>\n",
       "    <tr>\n",
       "      <th id=\"T_556aa_level0_row0\" class=\"row_heading level0 row0\" >0</th>\n",
       "      <td id=\"T_556aa_row0_col0\" class=\"data row0 col0\" >2010</td>\n",
       "      <td id=\"T_556aa_row0_col1\" class=\"data row0 col1\" >757</td>\n",
       "      <td id=\"T_556aa_row0_col2\" class=\"data row0 col2\" >88</td>\n",
       "      <td id=\"T_556aa_row0_col3\" class=\"data row0 col3\" >11.624835</td>\n",
       "    </tr>\n",
       "    <tr>\n",
       "      <th id=\"T_556aa_level0_row1\" class=\"row_heading level0 row1\" >1</th>\n",
       "      <td id=\"T_556aa_row1_col0\" class=\"data row1 col0\" >2011</td>\n",
       "      <td id=\"T_556aa_row1_col1\" class=\"data row1 col1\" >475</td>\n",
       "      <td id=\"T_556aa_row1_col2\" class=\"data row1 col2\" >98</td>\n",
       "      <td id=\"T_556aa_row1_col3\" class=\"data row1 col3\" >20.631579</td>\n",
       "    </tr>\n",
       "    <tr>\n",
       "      <th id=\"T_556aa_level0_row2\" class=\"row_heading level0 row2\" >2</th>\n",
       "      <td id=\"T_556aa_row2_col0\" class=\"data row2 col0\" >2012</td>\n",
       "      <td id=\"T_556aa_row2_col1\" class=\"data row2 col1\" >516</td>\n",
       "      <td id=\"T_556aa_row2_col2\" class=\"data row2 col2\" >115</td>\n",
       "      <td id=\"T_556aa_row2_col3\" class=\"data row2 col3\" >22.286822</td>\n",
       "    </tr>\n",
       "    <tr>\n",
       "      <th id=\"T_556aa_level0_row3\" class=\"row_heading level0 row3\" >3</th>\n",
       "      <td id=\"T_556aa_row3_col0\" class=\"data row3 col0\" >2013</td>\n",
       "      <td id=\"T_556aa_row3_col1\" class=\"data row3 col1\" >589</td>\n",
       "      <td id=\"T_556aa_row3_col2\" class=\"data row3 col2\" >176</td>\n",
       "      <td id=\"T_556aa_row3_col3\" class=\"data row3 col3\" >29.881154</td>\n",
       "    </tr>\n",
       "    <tr>\n",
       "      <th id=\"T_556aa_level0_row4\" class=\"row_heading level0 row4\" >4</th>\n",
       "      <td id=\"T_556aa_row4_col0\" class=\"data row4 col0\" >2014</td>\n",
       "      <td id=\"T_556aa_row4_col1\" class=\"data row4 col1\" >728</td>\n",
       "      <td id=\"T_556aa_row4_col2\" class=\"data row4 col2\" >257</td>\n",
       "      <td id=\"T_556aa_row4_col3\" class=\"data row4 col3\" >35.302198</td>\n",
       "    </tr>\n",
       "    <tr>\n",
       "      <th id=\"T_556aa_level0_row5\" class=\"row_heading level0 row5\" >5</th>\n",
       "      <td id=\"T_556aa_row5_col0\" class=\"data row5 col0\" >2015</td>\n",
       "      <td id=\"T_556aa_row5_col1\" class=\"data row5 col1\" >661</td>\n",
       "      <td id=\"T_556aa_row5_col2\" class=\"data row5 col2\" >431</td>\n",
       "      <td id=\"T_556aa_row5_col3\" class=\"data row5 col3\" >65.204236</td>\n",
       "    </tr>\n",
       "    <tr>\n",
       "      <th id=\"T_556aa_level0_row6\" class=\"row_heading level0 row6\" >6</th>\n",
       "      <td id=\"T_556aa_row6_col0\" class=\"data row6 col0\" >2016</td>\n",
       "      <td id=\"T_556aa_row6_col1\" class=\"data row6 col1\" >770</td>\n",
       "      <td id=\"T_556aa_row6_col2\" class=\"data row6 col2\" >500</td>\n",
       "      <td id=\"T_556aa_row6_col3\" class=\"data row6 col3\" >64.935065</td>\n",
       "    </tr>\n",
       "    <tr>\n",
       "      <th id=\"T_556aa_level0_row7\" class=\"row_heading level0 row7\" >7</th>\n",
       "      <td id=\"T_556aa_row7_col0\" class=\"data row7 col0\" >2017</td>\n",
       "      <td id=\"T_556aa_row7_col1\" class=\"data row7 col1\" >498</td>\n",
       "      <td id=\"T_556aa_row7_col2\" class=\"data row7 col2\" >356</td>\n",
       "      <td id=\"T_556aa_row7_col3\" class=\"data row7 col3\" >71.485944</td>\n",
       "    </tr>\n",
       "    <tr>\n",
       "      <th id=\"T_556aa_level0_row8\" class=\"row_heading level0 row8\" >8</th>\n",
       "      <td id=\"T_556aa_row8_col0\" class=\"data row8 col0\" >2018</td>\n",
       "      <td id=\"T_556aa_row8_col1\" class=\"data row8 col1\" >864</td>\n",
       "      <td id=\"T_556aa_row8_col2\" class=\"data row8 col2\" >471</td>\n",
       "      <td id=\"T_556aa_row8_col3\" class=\"data row8 col3\" >54.513889</td>\n",
       "    </tr>\n",
       "    <tr>\n",
       "      <th id=\"T_556aa_level0_row9\" class=\"row_heading level0 row9\" >9</th>\n",
       "      <td id=\"T_556aa_row9_col0\" class=\"data row9 col0\" >2019</td>\n",
       "      <td id=\"T_556aa_row9_col1\" class=\"data row9 col1\" >887</td>\n",
       "      <td id=\"T_556aa_row9_col2\" class=\"data row9 col2\" >522</td>\n",
       "      <td id=\"T_556aa_row9_col3\" class=\"data row9 col3\" >58.850056</td>\n",
       "    </tr>\n",
       "  </tbody>\n",
       "</table>\n"
      ],
      "text/plain": [
       "<pandas.io.formats.style.Styler at 0x12e1b215150>"
      ]
     },
     "metadata": {},
     "output_type": "display_data"
    },
    {
     "data": {
      "application/vnd.plotly.v1+json": {
       "config": {
        "plotlyServerURL": "https://plot.ly"
       },
       "data": [
        {
         "hovertemplate": "year=%{x}<br>доля фильмов в прокате=%{y}<extra></extra>",
         "legendgroup": "",
         "line": {
          "color": "#636efa",
          "dash": "solid"
         },
         "marker": {
          "symbol": "circle"
         },
         "mode": "lines+markers",
         "name": "",
         "orientation": "v",
         "showlegend": false,
         "type": "scatter",
         "x": [
          2010,
          2011,
          2012,
          2013,
          2014,
          2015,
          2016,
          2017,
          2018,
          2019
         ],
         "xaxis": "x",
         "y": [
          11.624834874504623,
          20.63157894736842,
          22.28682170542636,
          29.8811544991511,
          35.3021978021978,
          65.20423600605145,
          64.93506493506493,
          71.4859437751004,
          54.513888888888886,
          58.8500563697858
         ],
         "yaxis": "y"
        }
       ],
       "layout": {
        "legend": {
         "tracegroupgap": 0
        },
        "template": {
         "data": {
          "bar": [
           {
            "error_x": {
             "color": "#2a3f5f"
            },
            "error_y": {
             "color": "#2a3f5f"
            },
            "marker": {
             "line": {
              "color": "#E5ECF6",
              "width": 0.5
             },
             "pattern": {
              "fillmode": "overlay",
              "size": 10,
              "solidity": 0.2
             }
            },
            "type": "bar"
           }
          ],
          "barpolar": [
           {
            "marker": {
             "line": {
              "color": "#E5ECF6",
              "width": 0.5
             },
             "pattern": {
              "fillmode": "overlay",
              "size": 10,
              "solidity": 0.2
             }
            },
            "type": "barpolar"
           }
          ],
          "carpet": [
           {
            "aaxis": {
             "endlinecolor": "#2a3f5f",
             "gridcolor": "white",
             "linecolor": "white",
             "minorgridcolor": "white",
             "startlinecolor": "#2a3f5f"
            },
            "baxis": {
             "endlinecolor": "#2a3f5f",
             "gridcolor": "white",
             "linecolor": "white",
             "minorgridcolor": "white",
             "startlinecolor": "#2a3f5f"
            },
            "type": "carpet"
           }
          ],
          "choropleth": [
           {
            "colorbar": {
             "outlinewidth": 0,
             "ticks": ""
            },
            "type": "choropleth"
           }
          ],
          "contour": [
           {
            "colorbar": {
             "outlinewidth": 0,
             "ticks": ""
            },
            "colorscale": [
             [
              0,
              "#0d0887"
             ],
             [
              0.1111111111111111,
              "#46039f"
             ],
             [
              0.2222222222222222,
              "#7201a8"
             ],
             [
              0.3333333333333333,
              "#9c179e"
             ],
             [
              0.4444444444444444,
              "#bd3786"
             ],
             [
              0.5555555555555556,
              "#d8576b"
             ],
             [
              0.6666666666666666,
              "#ed7953"
             ],
             [
              0.7777777777777778,
              "#fb9f3a"
             ],
             [
              0.8888888888888888,
              "#fdca26"
             ],
             [
              1,
              "#f0f921"
             ]
            ],
            "type": "contour"
           }
          ],
          "contourcarpet": [
           {
            "colorbar": {
             "outlinewidth": 0,
             "ticks": ""
            },
            "type": "contourcarpet"
           }
          ],
          "heatmap": [
           {
            "colorbar": {
             "outlinewidth": 0,
             "ticks": ""
            },
            "colorscale": [
             [
              0,
              "#0d0887"
             ],
             [
              0.1111111111111111,
              "#46039f"
             ],
             [
              0.2222222222222222,
              "#7201a8"
             ],
             [
              0.3333333333333333,
              "#9c179e"
             ],
             [
              0.4444444444444444,
              "#bd3786"
             ],
             [
              0.5555555555555556,
              "#d8576b"
             ],
             [
              0.6666666666666666,
              "#ed7953"
             ],
             [
              0.7777777777777778,
              "#fb9f3a"
             ],
             [
              0.8888888888888888,
              "#fdca26"
             ],
             [
              1,
              "#f0f921"
             ]
            ],
            "type": "heatmap"
           }
          ],
          "heatmapgl": [
           {
            "colorbar": {
             "outlinewidth": 0,
             "ticks": ""
            },
            "colorscale": [
             [
              0,
              "#0d0887"
             ],
             [
              0.1111111111111111,
              "#46039f"
             ],
             [
              0.2222222222222222,
              "#7201a8"
             ],
             [
              0.3333333333333333,
              "#9c179e"
             ],
             [
              0.4444444444444444,
              "#bd3786"
             ],
             [
              0.5555555555555556,
              "#d8576b"
             ],
             [
              0.6666666666666666,
              "#ed7953"
             ],
             [
              0.7777777777777778,
              "#fb9f3a"
             ],
             [
              0.8888888888888888,
              "#fdca26"
             ],
             [
              1,
              "#f0f921"
             ]
            ],
            "type": "heatmapgl"
           }
          ],
          "histogram": [
           {
            "marker": {
             "pattern": {
              "fillmode": "overlay",
              "size": 10,
              "solidity": 0.2
             }
            },
            "type": "histogram"
           }
          ],
          "histogram2d": [
           {
            "colorbar": {
             "outlinewidth": 0,
             "ticks": ""
            },
            "colorscale": [
             [
              0,
              "#0d0887"
             ],
             [
              0.1111111111111111,
              "#46039f"
             ],
             [
              0.2222222222222222,
              "#7201a8"
             ],
             [
              0.3333333333333333,
              "#9c179e"
             ],
             [
              0.4444444444444444,
              "#bd3786"
             ],
             [
              0.5555555555555556,
              "#d8576b"
             ],
             [
              0.6666666666666666,
              "#ed7953"
             ],
             [
              0.7777777777777778,
              "#fb9f3a"
             ],
             [
              0.8888888888888888,
              "#fdca26"
             ],
             [
              1,
              "#f0f921"
             ]
            ],
            "type": "histogram2d"
           }
          ],
          "histogram2dcontour": [
           {
            "colorbar": {
             "outlinewidth": 0,
             "ticks": ""
            },
            "colorscale": [
             [
              0,
              "#0d0887"
             ],
             [
              0.1111111111111111,
              "#46039f"
             ],
             [
              0.2222222222222222,
              "#7201a8"
             ],
             [
              0.3333333333333333,
              "#9c179e"
             ],
             [
              0.4444444444444444,
              "#bd3786"
             ],
             [
              0.5555555555555556,
              "#d8576b"
             ],
             [
              0.6666666666666666,
              "#ed7953"
             ],
             [
              0.7777777777777778,
              "#fb9f3a"
             ],
             [
              0.8888888888888888,
              "#fdca26"
             ],
             [
              1,
              "#f0f921"
             ]
            ],
            "type": "histogram2dcontour"
           }
          ],
          "mesh3d": [
           {
            "colorbar": {
             "outlinewidth": 0,
             "ticks": ""
            },
            "type": "mesh3d"
           }
          ],
          "parcoords": [
           {
            "line": {
             "colorbar": {
              "outlinewidth": 0,
              "ticks": ""
             }
            },
            "type": "parcoords"
           }
          ],
          "pie": [
           {
            "automargin": true,
            "type": "pie"
           }
          ],
          "scatter": [
           {
            "fillpattern": {
             "fillmode": "overlay",
             "size": 10,
             "solidity": 0.2
            },
            "type": "scatter"
           }
          ],
          "scatter3d": [
           {
            "line": {
             "colorbar": {
              "outlinewidth": 0,
              "ticks": ""
             }
            },
            "marker": {
             "colorbar": {
              "outlinewidth": 0,
              "ticks": ""
             }
            },
            "type": "scatter3d"
           }
          ],
          "scattercarpet": [
           {
            "marker": {
             "colorbar": {
              "outlinewidth": 0,
              "ticks": ""
             }
            },
            "type": "scattercarpet"
           }
          ],
          "scattergeo": [
           {
            "marker": {
             "colorbar": {
              "outlinewidth": 0,
              "ticks": ""
             }
            },
            "type": "scattergeo"
           }
          ],
          "scattergl": [
           {
            "marker": {
             "colorbar": {
              "outlinewidth": 0,
              "ticks": ""
             }
            },
            "type": "scattergl"
           }
          ],
          "scattermapbox": [
           {
            "marker": {
             "colorbar": {
              "outlinewidth": 0,
              "ticks": ""
             }
            },
            "type": "scattermapbox"
           }
          ],
          "scatterpolar": [
           {
            "marker": {
             "colorbar": {
              "outlinewidth": 0,
              "ticks": ""
             }
            },
            "type": "scatterpolar"
           }
          ],
          "scatterpolargl": [
           {
            "marker": {
             "colorbar": {
              "outlinewidth": 0,
              "ticks": ""
             }
            },
            "type": "scatterpolargl"
           }
          ],
          "scatterternary": [
           {
            "marker": {
             "colorbar": {
              "outlinewidth": 0,
              "ticks": ""
             }
            },
            "type": "scatterternary"
           }
          ],
          "surface": [
           {
            "colorbar": {
             "outlinewidth": 0,
             "ticks": ""
            },
            "colorscale": [
             [
              0,
              "#0d0887"
             ],
             [
              0.1111111111111111,
              "#46039f"
             ],
             [
              0.2222222222222222,
              "#7201a8"
             ],
             [
              0.3333333333333333,
              "#9c179e"
             ],
             [
              0.4444444444444444,
              "#bd3786"
             ],
             [
              0.5555555555555556,
              "#d8576b"
             ],
             [
              0.6666666666666666,
              "#ed7953"
             ],
             [
              0.7777777777777778,
              "#fb9f3a"
             ],
             [
              0.8888888888888888,
              "#fdca26"
             ],
             [
              1,
              "#f0f921"
             ]
            ],
            "type": "surface"
           }
          ],
          "table": [
           {
            "cells": {
             "fill": {
              "color": "#EBF0F8"
             },
             "line": {
              "color": "white"
             }
            },
            "header": {
             "fill": {
              "color": "#C8D4E3"
             },
             "line": {
              "color": "white"
             }
            },
            "type": "table"
           }
          ]
         },
         "layout": {
          "annotationdefaults": {
           "arrowcolor": "#2a3f5f",
           "arrowhead": 0,
           "arrowwidth": 1
          },
          "autotypenumbers": "strict",
          "coloraxis": {
           "colorbar": {
            "outlinewidth": 0,
            "ticks": ""
           }
          },
          "colorscale": {
           "diverging": [
            [
             0,
             "#8e0152"
            ],
            [
             0.1,
             "#c51b7d"
            ],
            [
             0.2,
             "#de77ae"
            ],
            [
             0.3,
             "#f1b6da"
            ],
            [
             0.4,
             "#fde0ef"
            ],
            [
             0.5,
             "#f7f7f7"
            ],
            [
             0.6,
             "#e6f5d0"
            ],
            [
             0.7,
             "#b8e186"
            ],
            [
             0.8,
             "#7fbc41"
            ],
            [
             0.9,
             "#4d9221"
            ],
            [
             1,
             "#276419"
            ]
           ],
           "sequential": [
            [
             0,
             "#0d0887"
            ],
            [
             0.1111111111111111,
             "#46039f"
            ],
            [
             0.2222222222222222,
             "#7201a8"
            ],
            [
             0.3333333333333333,
             "#9c179e"
            ],
            [
             0.4444444444444444,
             "#bd3786"
            ],
            [
             0.5555555555555556,
             "#d8576b"
            ],
            [
             0.6666666666666666,
             "#ed7953"
            ],
            [
             0.7777777777777778,
             "#fb9f3a"
            ],
            [
             0.8888888888888888,
             "#fdca26"
            ],
            [
             1,
             "#f0f921"
            ]
           ],
           "sequentialminus": [
            [
             0,
             "#0d0887"
            ],
            [
             0.1111111111111111,
             "#46039f"
            ],
            [
             0.2222222222222222,
             "#7201a8"
            ],
            [
             0.3333333333333333,
             "#9c179e"
            ],
            [
             0.4444444444444444,
             "#bd3786"
            ],
            [
             0.5555555555555556,
             "#d8576b"
            ],
            [
             0.6666666666666666,
             "#ed7953"
            ],
            [
             0.7777777777777778,
             "#fb9f3a"
            ],
            [
             0.8888888888888888,
             "#fdca26"
            ],
            [
             1,
             "#f0f921"
            ]
           ]
          },
          "colorway": [
           "#636efa",
           "#EF553B",
           "#00cc96",
           "#ab63fa",
           "#FFA15A",
           "#19d3f3",
           "#FF6692",
           "#B6E880",
           "#FF97FF",
           "#FECB52"
          ],
          "font": {
           "color": "#2a3f5f"
          },
          "geo": {
           "bgcolor": "white",
           "lakecolor": "white",
           "landcolor": "#E5ECF6",
           "showlakes": true,
           "showland": true,
           "subunitcolor": "white"
          },
          "hoverlabel": {
           "align": "left"
          },
          "hovermode": "closest",
          "mapbox": {
           "style": "light"
          },
          "paper_bgcolor": "white",
          "plot_bgcolor": "#E5ECF6",
          "polar": {
           "angularaxis": {
            "gridcolor": "white",
            "linecolor": "white",
            "ticks": ""
           },
           "bgcolor": "#E5ECF6",
           "radialaxis": {
            "gridcolor": "white",
            "linecolor": "white",
            "ticks": ""
           }
          },
          "scene": {
           "xaxis": {
            "backgroundcolor": "#E5ECF6",
            "gridcolor": "white",
            "gridwidth": 2,
            "linecolor": "white",
            "showbackground": true,
            "ticks": "",
            "zerolinecolor": "white"
           },
           "yaxis": {
            "backgroundcolor": "#E5ECF6",
            "gridcolor": "white",
            "gridwidth": 2,
            "linecolor": "white",
            "showbackground": true,
            "ticks": "",
            "zerolinecolor": "white"
           },
           "zaxis": {
            "backgroundcolor": "#E5ECF6",
            "gridcolor": "white",
            "gridwidth": 2,
            "linecolor": "white",
            "showbackground": true,
            "ticks": "",
            "zerolinecolor": "white"
           }
          },
          "shapedefaults": {
           "line": {
            "color": "#2a3f5f"
           }
          },
          "ternary": {
           "aaxis": {
            "gridcolor": "white",
            "linecolor": "white",
            "ticks": ""
           },
           "baxis": {
            "gridcolor": "white",
            "linecolor": "white",
            "ticks": ""
           },
           "bgcolor": "#E5ECF6",
           "caxis": {
            "gridcolor": "white",
            "linecolor": "white",
            "ticks": ""
           }
          },
          "title": {
           "x": 0.05
          },
          "xaxis": {
           "automargin": true,
           "gridcolor": "white",
           "linecolor": "white",
           "ticks": "",
           "title": {
            "standoff": 15
           },
           "zerolinecolor": "white",
           "zerolinewidth": 2
          },
          "yaxis": {
           "automargin": true,
           "gridcolor": "white",
           "linecolor": "white",
           "ticks": "",
           "title": {
            "standoff": 15
           },
           "zerolinecolor": "white",
           "zerolinewidth": 2
          }
         }
        },
        "title": {
         "text": "Доля фильмов в прокате по каждому году"
        },
        "xaxis": {
         "anchor": "y",
         "domain": [
          0,
          1
         ],
         "title": {
          "text": "year"
         }
        },
        "yaxis": {
         "anchor": "x",
         "domain": [
          0,
          1
         ],
         "title": {
          "text": "доля фильмов в прокате"
         }
        }
       }
      }
     },
     "metadata": {},
     "output_type": "display_data"
    }
   ],
   "source": [
    "movies_in_cinema = data.groupby('year')['box_office'].count()\n",
    "movies_in_cinema = movies_in_cinema.to_frame().reset_index()\n",
    "#display(movies_in_cinema)\n",
    "\n",
    "movies_info = data.groupby('year')['title'].count()\n",
    "movies_info = movies_info.to_frame().reset_index()\n",
    "\n",
    "movies_info['фильмы в прокате'] = movies_in_cinema['box_office']\n",
    "movies_info['доля фильмов в прокате']=(movies_info['фильмы в прокате']/movies_info['title'])*100\n",
    "\n",
    "display(movies_info.style.background_gradient('Reds'))\n",
    "\n",
    "fig = px.line(\n",
    "\tmovies_info,\n",
    "\tx=movies_info['year'],\n",
    "\ty=movies_info['доля фильмов в прокате'],\n",
    "\tlabels={'x':'Годы', 'y':'Доля фильмов'},\n",
    "\ttitle=\"Доля фильмов в прокате по каждому году\",\n",
    "\tmarkers=True\n",
    ")\n",
    "fig.show()"
   ]
  },
  {
   "cell_type": "markdown",
   "metadata": {},
   "source": [
    "**Вывод:**\n",
    "\n",
    "Мы выяснили, что во всем датафрейме, доля фильмов с известной нам информацией о прокате состаявляет ~ 0.42.\n",
    "Также вывели новую таблицу с общей информацией по количеству фильмов по каждому году (как с информацией о прокате фильма, так и без информации), с колиечеством фильмов с информацией о прокате по каждому году и их долю от общего числа фильма за определенный год.\n",
    "По выведенной гистограмме и информации таблицы можно сказать, что фильмы, выпущенные в период с 2015 по 2019, имеют куда больший процент показов в кинотеатрах чем фильмы выпущенные в другие периоды времени."
   ]
  },
  {
   "cell_type": "markdown",
   "metadata": {
    "id": "BEOdcIrIgFyW"
   },
   "source": [
    "#### Динамика проката по годам. Выделим минимальные и максимальные значения."
   ]
  },
  {
   "cell_type": "code",
   "execution_count": 30,
   "metadata": {
    "id": "tfEhofYvgFyX"
   },
   "outputs": [
    {
     "data": {
      "text/html": [
       "<style type=\"text/css\">\n",
       "#T_088bb_row0_col0, #T_088bb_row1_col0, #T_088bb_row2_col0, #T_088bb_row3_col0 {\n",
       "  background-color: #fff5f0;\n",
       "  color: #000000;\n",
       "}\n",
       "#T_088bb_row4_col0 {\n",
       "  background-color: #fed9c9;\n",
       "  color: #000000;\n",
       "}\n",
       "#T_088bb_row5_col0 {\n",
       "  background-color: #e43027;\n",
       "  color: #f1f1f1;\n",
       "}\n",
       "#T_088bb_row6_col0 {\n",
       "  background-color: #980c13;\n",
       "  color: #f1f1f1;\n",
       "}\n",
       "#T_088bb_row7_col0, #T_088bb_row9_col0 {\n",
       "  background-color: #67000d;\n",
       "  color: #f1f1f1;\n",
       "}\n",
       "#T_088bb_row8_col0 {\n",
       "  background-color: #6d010e;\n",
       "  color: #f1f1f1;\n",
       "}\n",
       "</style>\n",
       "<table id=\"T_088bb\">\n",
       "  <thead>\n",
       "    <tr>\n",
       "      <th class=\"blank level0\" >&nbsp;</th>\n",
       "      <th id=\"T_088bb_level0_col0\" class=\"col_heading level0 col0\" >box_office</th>\n",
       "    </tr>\n",
       "    <tr>\n",
       "      <th class=\"index_name level0\" >year</th>\n",
       "      <th class=\"blank col0\" >&nbsp;</th>\n",
       "    </tr>\n",
       "  </thead>\n",
       "  <tbody>\n",
       "    <tr>\n",
       "      <th id=\"T_088bb_level0_row0\" class=\"row_heading level0 row0\" >2010</th>\n",
       "      <td id=\"T_088bb_row0_col0\" class=\"data row0 col0\" >2.374340</td>\n",
       "    </tr>\n",
       "    <tr>\n",
       "      <th id=\"T_088bb_level0_row1\" class=\"row_heading level0 row1\" >2011</th>\n",
       "      <td id=\"T_088bb_row1_col0\" class=\"data row1 col0\" >13.944390</td>\n",
       "    </tr>\n",
       "    <tr>\n",
       "      <th id=\"T_088bb_level0_row2\" class=\"row_heading level0 row2\" >2012</th>\n",
       "      <td id=\"T_088bb_row2_col0\" class=\"data row2 col0\" >6.420761</td>\n",
       "    </tr>\n",
       "    <tr>\n",
       "      <th id=\"T_088bb_level0_row3\" class=\"row_heading level0 row3\" >2013</th>\n",
       "      <td id=\"T_088bb_row3_col0\" class=\"data row3 col0\" >29.768531</td>\n",
       "    </tr>\n",
       "    <tr>\n",
       "      <th id=\"T_088bb_level0_row4\" class=\"row_heading level0 row4\" >2014</th>\n",
       "      <td id=\"T_088bb_row4_col0\" class=\"data row4 col0\" >7372.598572</td>\n",
       "    </tr>\n",
       "    <tr>\n",
       "      <th id=\"T_088bb_level0_row5\" class=\"row_heading level0 row5\" >2015</th>\n",
       "      <td id=\"T_088bb_row5_col0\" class=\"data row5 col0\" >32084.649858</td>\n",
       "    </tr>\n",
       "    <tr>\n",
       "      <th id=\"T_088bb_level0_row6\" class=\"row_heading level0 row6\" >2016</th>\n",
       "      <td id=\"T_088bb_row6_col0\" class=\"data row6 col0\" >43731.250162</td>\n",
       "    </tr>\n",
       "    <tr>\n",
       "      <th id=\"T_088bb_level0_row7\" class=\"row_heading level0 row7\" >2017</th>\n",
       "      <td id=\"T_088bb_row7_col0\" class=\"data row7 col0\" >48561.554267</td>\n",
       "    </tr>\n",
       "    <tr>\n",
       "      <th id=\"T_088bb_level0_row8\" class=\"row_heading level0 row8\" >2018</th>\n",
       "      <td id=\"T_088bb_row8_col0\" class=\"data row8 col0\" >47970.952311</td>\n",
       "    </tr>\n",
       "    <tr>\n",
       "      <th id=\"T_088bb_level0_row9\" class=\"row_heading level0 row9\" >2019</th>\n",
       "      <td id=\"T_088bb_row9_col0\" class=\"data row9 col0\" >48409.400347</td>\n",
       "    </tr>\n",
       "  </tbody>\n",
       "</table>\n"
      ],
      "text/plain": [
       "<pandas.io.formats.style.Styler at 0x12e1a09df10>"
      ]
     },
     "metadata": {},
     "output_type": "display_data"
    },
    {
     "data": {
      "application/vnd.plotly.v1+json": {
       "config": {
        "plotlyServerURL": "https://plot.ly"
       },
       "data": [
        {
         "hovertemplate": "Год=%{x}<br>Сумма кассовых сборов=%{y}<extra></extra>",
         "legendgroup": "",
         "line": {
          "color": "#636efa",
          "dash": "solid"
         },
         "marker": {
          "symbol": "circle"
         },
         "mode": "lines+markers",
         "name": "",
         "orientation": "v",
         "showlegend": false,
         "type": "scatter",
         "x": [
          2010,
          2011,
          2012,
          2013,
          2014,
          2015,
          2016,
          2017,
          2018,
          2019
         ],
         "xaxis": "x",
         "y": [
          2.37434,
          13.94439,
          6.420761,
          29.768531199999998,
          7372.5985716000005,
          32084.649858369998,
          43731.250162339995,
          48561.55426651,
          47970.95231128,
          48409.400346610004
         ],
         "yaxis": "y"
        }
       ],
       "layout": {
        "legend": {
         "tracegroupgap": 0
        },
        "template": {
         "data": {
          "bar": [
           {
            "error_x": {
             "color": "#2a3f5f"
            },
            "error_y": {
             "color": "#2a3f5f"
            },
            "marker": {
             "line": {
              "color": "#E5ECF6",
              "width": 0.5
             },
             "pattern": {
              "fillmode": "overlay",
              "size": 10,
              "solidity": 0.2
             }
            },
            "type": "bar"
           }
          ],
          "barpolar": [
           {
            "marker": {
             "line": {
              "color": "#E5ECF6",
              "width": 0.5
             },
             "pattern": {
              "fillmode": "overlay",
              "size": 10,
              "solidity": 0.2
             }
            },
            "type": "barpolar"
           }
          ],
          "carpet": [
           {
            "aaxis": {
             "endlinecolor": "#2a3f5f",
             "gridcolor": "white",
             "linecolor": "white",
             "minorgridcolor": "white",
             "startlinecolor": "#2a3f5f"
            },
            "baxis": {
             "endlinecolor": "#2a3f5f",
             "gridcolor": "white",
             "linecolor": "white",
             "minorgridcolor": "white",
             "startlinecolor": "#2a3f5f"
            },
            "type": "carpet"
           }
          ],
          "choropleth": [
           {
            "colorbar": {
             "outlinewidth": 0,
             "ticks": ""
            },
            "type": "choropleth"
           }
          ],
          "contour": [
           {
            "colorbar": {
             "outlinewidth": 0,
             "ticks": ""
            },
            "colorscale": [
             [
              0,
              "#0d0887"
             ],
             [
              0.1111111111111111,
              "#46039f"
             ],
             [
              0.2222222222222222,
              "#7201a8"
             ],
             [
              0.3333333333333333,
              "#9c179e"
             ],
             [
              0.4444444444444444,
              "#bd3786"
             ],
             [
              0.5555555555555556,
              "#d8576b"
             ],
             [
              0.6666666666666666,
              "#ed7953"
             ],
             [
              0.7777777777777778,
              "#fb9f3a"
             ],
             [
              0.8888888888888888,
              "#fdca26"
             ],
             [
              1,
              "#f0f921"
             ]
            ],
            "type": "contour"
           }
          ],
          "contourcarpet": [
           {
            "colorbar": {
             "outlinewidth": 0,
             "ticks": ""
            },
            "type": "contourcarpet"
           }
          ],
          "heatmap": [
           {
            "colorbar": {
             "outlinewidth": 0,
             "ticks": ""
            },
            "colorscale": [
             [
              0,
              "#0d0887"
             ],
             [
              0.1111111111111111,
              "#46039f"
             ],
             [
              0.2222222222222222,
              "#7201a8"
             ],
             [
              0.3333333333333333,
              "#9c179e"
             ],
             [
              0.4444444444444444,
              "#bd3786"
             ],
             [
              0.5555555555555556,
              "#d8576b"
             ],
             [
              0.6666666666666666,
              "#ed7953"
             ],
             [
              0.7777777777777778,
              "#fb9f3a"
             ],
             [
              0.8888888888888888,
              "#fdca26"
             ],
             [
              1,
              "#f0f921"
             ]
            ],
            "type": "heatmap"
           }
          ],
          "heatmapgl": [
           {
            "colorbar": {
             "outlinewidth": 0,
             "ticks": ""
            },
            "colorscale": [
             [
              0,
              "#0d0887"
             ],
             [
              0.1111111111111111,
              "#46039f"
             ],
             [
              0.2222222222222222,
              "#7201a8"
             ],
             [
              0.3333333333333333,
              "#9c179e"
             ],
             [
              0.4444444444444444,
              "#bd3786"
             ],
             [
              0.5555555555555556,
              "#d8576b"
             ],
             [
              0.6666666666666666,
              "#ed7953"
             ],
             [
              0.7777777777777778,
              "#fb9f3a"
             ],
             [
              0.8888888888888888,
              "#fdca26"
             ],
             [
              1,
              "#f0f921"
             ]
            ],
            "type": "heatmapgl"
           }
          ],
          "histogram": [
           {
            "marker": {
             "pattern": {
              "fillmode": "overlay",
              "size": 10,
              "solidity": 0.2
             }
            },
            "type": "histogram"
           }
          ],
          "histogram2d": [
           {
            "colorbar": {
             "outlinewidth": 0,
             "ticks": ""
            },
            "colorscale": [
             [
              0,
              "#0d0887"
             ],
             [
              0.1111111111111111,
              "#46039f"
             ],
             [
              0.2222222222222222,
              "#7201a8"
             ],
             [
              0.3333333333333333,
              "#9c179e"
             ],
             [
              0.4444444444444444,
              "#bd3786"
             ],
             [
              0.5555555555555556,
              "#d8576b"
             ],
             [
              0.6666666666666666,
              "#ed7953"
             ],
             [
              0.7777777777777778,
              "#fb9f3a"
             ],
             [
              0.8888888888888888,
              "#fdca26"
             ],
             [
              1,
              "#f0f921"
             ]
            ],
            "type": "histogram2d"
           }
          ],
          "histogram2dcontour": [
           {
            "colorbar": {
             "outlinewidth": 0,
             "ticks": ""
            },
            "colorscale": [
             [
              0,
              "#0d0887"
             ],
             [
              0.1111111111111111,
              "#46039f"
             ],
             [
              0.2222222222222222,
              "#7201a8"
             ],
             [
              0.3333333333333333,
              "#9c179e"
             ],
             [
              0.4444444444444444,
              "#bd3786"
             ],
             [
              0.5555555555555556,
              "#d8576b"
             ],
             [
              0.6666666666666666,
              "#ed7953"
             ],
             [
              0.7777777777777778,
              "#fb9f3a"
             ],
             [
              0.8888888888888888,
              "#fdca26"
             ],
             [
              1,
              "#f0f921"
             ]
            ],
            "type": "histogram2dcontour"
           }
          ],
          "mesh3d": [
           {
            "colorbar": {
             "outlinewidth": 0,
             "ticks": ""
            },
            "type": "mesh3d"
           }
          ],
          "parcoords": [
           {
            "line": {
             "colorbar": {
              "outlinewidth": 0,
              "ticks": ""
             }
            },
            "type": "parcoords"
           }
          ],
          "pie": [
           {
            "automargin": true,
            "type": "pie"
           }
          ],
          "scatter": [
           {
            "fillpattern": {
             "fillmode": "overlay",
             "size": 10,
             "solidity": 0.2
            },
            "type": "scatter"
           }
          ],
          "scatter3d": [
           {
            "line": {
             "colorbar": {
              "outlinewidth": 0,
              "ticks": ""
             }
            },
            "marker": {
             "colorbar": {
              "outlinewidth": 0,
              "ticks": ""
             }
            },
            "type": "scatter3d"
           }
          ],
          "scattercarpet": [
           {
            "marker": {
             "colorbar": {
              "outlinewidth": 0,
              "ticks": ""
             }
            },
            "type": "scattercarpet"
           }
          ],
          "scattergeo": [
           {
            "marker": {
             "colorbar": {
              "outlinewidth": 0,
              "ticks": ""
             }
            },
            "type": "scattergeo"
           }
          ],
          "scattergl": [
           {
            "marker": {
             "colorbar": {
              "outlinewidth": 0,
              "ticks": ""
             }
            },
            "type": "scattergl"
           }
          ],
          "scattermapbox": [
           {
            "marker": {
             "colorbar": {
              "outlinewidth": 0,
              "ticks": ""
             }
            },
            "type": "scattermapbox"
           }
          ],
          "scatterpolar": [
           {
            "marker": {
             "colorbar": {
              "outlinewidth": 0,
              "ticks": ""
             }
            },
            "type": "scatterpolar"
           }
          ],
          "scatterpolargl": [
           {
            "marker": {
             "colorbar": {
              "outlinewidth": 0,
              "ticks": ""
             }
            },
            "type": "scatterpolargl"
           }
          ],
          "scatterternary": [
           {
            "marker": {
             "colorbar": {
              "outlinewidth": 0,
              "ticks": ""
             }
            },
            "type": "scatterternary"
           }
          ],
          "surface": [
           {
            "colorbar": {
             "outlinewidth": 0,
             "ticks": ""
            },
            "colorscale": [
             [
              0,
              "#0d0887"
             ],
             [
              0.1111111111111111,
              "#46039f"
             ],
             [
              0.2222222222222222,
              "#7201a8"
             ],
             [
              0.3333333333333333,
              "#9c179e"
             ],
             [
              0.4444444444444444,
              "#bd3786"
             ],
             [
              0.5555555555555556,
              "#d8576b"
             ],
             [
              0.6666666666666666,
              "#ed7953"
             ],
             [
              0.7777777777777778,
              "#fb9f3a"
             ],
             [
              0.8888888888888888,
              "#fdca26"
             ],
             [
              1,
              "#f0f921"
             ]
            ],
            "type": "surface"
           }
          ],
          "table": [
           {
            "cells": {
             "fill": {
              "color": "#EBF0F8"
             },
             "line": {
              "color": "white"
             }
            },
            "header": {
             "fill": {
              "color": "#C8D4E3"
             },
             "line": {
              "color": "white"
             }
            },
            "type": "table"
           }
          ]
         },
         "layout": {
          "annotationdefaults": {
           "arrowcolor": "#2a3f5f",
           "arrowhead": 0,
           "arrowwidth": 1
          },
          "autotypenumbers": "strict",
          "coloraxis": {
           "colorbar": {
            "outlinewidth": 0,
            "ticks": ""
           }
          },
          "colorscale": {
           "diverging": [
            [
             0,
             "#8e0152"
            ],
            [
             0.1,
             "#c51b7d"
            ],
            [
             0.2,
             "#de77ae"
            ],
            [
             0.3,
             "#f1b6da"
            ],
            [
             0.4,
             "#fde0ef"
            ],
            [
             0.5,
             "#f7f7f7"
            ],
            [
             0.6,
             "#e6f5d0"
            ],
            [
             0.7,
             "#b8e186"
            ],
            [
             0.8,
             "#7fbc41"
            ],
            [
             0.9,
             "#4d9221"
            ],
            [
             1,
             "#276419"
            ]
           ],
           "sequential": [
            [
             0,
             "#0d0887"
            ],
            [
             0.1111111111111111,
             "#46039f"
            ],
            [
             0.2222222222222222,
             "#7201a8"
            ],
            [
             0.3333333333333333,
             "#9c179e"
            ],
            [
             0.4444444444444444,
             "#bd3786"
            ],
            [
             0.5555555555555556,
             "#d8576b"
            ],
            [
             0.6666666666666666,
             "#ed7953"
            ],
            [
             0.7777777777777778,
             "#fb9f3a"
            ],
            [
             0.8888888888888888,
             "#fdca26"
            ],
            [
             1,
             "#f0f921"
            ]
           ],
           "sequentialminus": [
            [
             0,
             "#0d0887"
            ],
            [
             0.1111111111111111,
             "#46039f"
            ],
            [
             0.2222222222222222,
             "#7201a8"
            ],
            [
             0.3333333333333333,
             "#9c179e"
            ],
            [
             0.4444444444444444,
             "#bd3786"
            ],
            [
             0.5555555555555556,
             "#d8576b"
            ],
            [
             0.6666666666666666,
             "#ed7953"
            ],
            [
             0.7777777777777778,
             "#fb9f3a"
            ],
            [
             0.8888888888888888,
             "#fdca26"
            ],
            [
             1,
             "#f0f921"
            ]
           ]
          },
          "colorway": [
           "#636efa",
           "#EF553B",
           "#00cc96",
           "#ab63fa",
           "#FFA15A",
           "#19d3f3",
           "#FF6692",
           "#B6E880",
           "#FF97FF",
           "#FECB52"
          ],
          "font": {
           "color": "#2a3f5f"
          },
          "geo": {
           "bgcolor": "white",
           "lakecolor": "white",
           "landcolor": "#E5ECF6",
           "showlakes": true,
           "showland": true,
           "subunitcolor": "white"
          },
          "hoverlabel": {
           "align": "left"
          },
          "hovermode": "closest",
          "mapbox": {
           "style": "light"
          },
          "paper_bgcolor": "white",
          "plot_bgcolor": "#E5ECF6",
          "polar": {
           "angularaxis": {
            "gridcolor": "white",
            "linecolor": "white",
            "ticks": ""
           },
           "bgcolor": "#E5ECF6",
           "radialaxis": {
            "gridcolor": "white",
            "linecolor": "white",
            "ticks": ""
           }
          },
          "scene": {
           "xaxis": {
            "backgroundcolor": "#E5ECF6",
            "gridcolor": "white",
            "gridwidth": 2,
            "linecolor": "white",
            "showbackground": true,
            "ticks": "",
            "zerolinecolor": "white"
           },
           "yaxis": {
            "backgroundcolor": "#E5ECF6",
            "gridcolor": "white",
            "gridwidth": 2,
            "linecolor": "white",
            "showbackground": true,
            "ticks": "",
            "zerolinecolor": "white"
           },
           "zaxis": {
            "backgroundcolor": "#E5ECF6",
            "gridcolor": "white",
            "gridwidth": 2,
            "linecolor": "white",
            "showbackground": true,
            "ticks": "",
            "zerolinecolor": "white"
           }
          },
          "shapedefaults": {
           "line": {
            "color": "#2a3f5f"
           }
          },
          "ternary": {
           "aaxis": {
            "gridcolor": "white",
            "linecolor": "white",
            "ticks": ""
           },
           "baxis": {
            "gridcolor": "white",
            "linecolor": "white",
            "ticks": ""
           },
           "bgcolor": "#E5ECF6",
           "caxis": {
            "gridcolor": "white",
            "linecolor": "white",
            "ticks": ""
           }
          },
          "title": {
           "x": 0.05
          },
          "xaxis": {
           "automargin": true,
           "gridcolor": "white",
           "linecolor": "white",
           "ticks": "",
           "title": {
            "standoff": 15
           },
           "zerolinecolor": "white",
           "zerolinewidth": 2
          },
          "yaxis": {
           "automargin": true,
           "gridcolor": "white",
           "linecolor": "white",
           "ticks": "",
           "title": {
            "standoff": 15
           },
           "zerolinecolor": "white",
           "zerolinewidth": 2
          }
         }
        },
        "title": {
         "text": "Динамика изменения суммы кассовых сборов по годам"
        },
        "xaxis": {
         "anchor": "y",
         "domain": [
          0,
          1
         ],
         "title": {
          "text": "Год"
         }
        },
        "yaxis": {
         "anchor": "x",
         "domain": [
          0,
          1
         ],
         "title": {
          "text": "Сумма кассовых сборов"
         }
        }
       }
      }
     },
     "metadata": {},
     "output_type": "display_data"
    },
    {
     "data": {
      "application/vnd.plotly.v1+json": {
       "config": {
        "plotlyServerURL": "https://plot.ly"
       },
       "data": [
        {
         "alignmentgroup": "True",
         "hovertemplate": "Год=%{x}<br>Сумма кассовых сборов=%{y}<extra></extra>",
         "legendgroup": "",
         "marker": {
          "color": "#636efa",
          "pattern": {
           "shape": ""
          }
         },
         "name": "",
         "offsetgroup": "",
         "orientation": "v",
         "showlegend": false,
         "textposition": "auto",
         "type": "bar",
         "x": [
          2010,
          2011,
          2012,
          2013,
          2014,
          2015,
          2016,
          2017,
          2018,
          2019
         ],
         "xaxis": "x",
         "y": [
          2.37434,
          13.94439,
          6.420761,
          29.768531199999998,
          7372.5985716000005,
          32084.649858369998,
          43731.250162339995,
          48561.55426651,
          47970.95231128,
          48409.400346610004
         ],
         "yaxis": "y"
        }
       ],
       "layout": {
        "barmode": "relative",
        "legend": {
         "tracegroupgap": 0
        },
        "template": {
         "data": {
          "bar": [
           {
            "error_x": {
             "color": "#2a3f5f"
            },
            "error_y": {
             "color": "#2a3f5f"
            },
            "marker": {
             "line": {
              "color": "#E5ECF6",
              "width": 0.5
             },
             "pattern": {
              "fillmode": "overlay",
              "size": 10,
              "solidity": 0.2
             }
            },
            "type": "bar"
           }
          ],
          "barpolar": [
           {
            "marker": {
             "line": {
              "color": "#E5ECF6",
              "width": 0.5
             },
             "pattern": {
              "fillmode": "overlay",
              "size": 10,
              "solidity": 0.2
             }
            },
            "type": "barpolar"
           }
          ],
          "carpet": [
           {
            "aaxis": {
             "endlinecolor": "#2a3f5f",
             "gridcolor": "white",
             "linecolor": "white",
             "minorgridcolor": "white",
             "startlinecolor": "#2a3f5f"
            },
            "baxis": {
             "endlinecolor": "#2a3f5f",
             "gridcolor": "white",
             "linecolor": "white",
             "minorgridcolor": "white",
             "startlinecolor": "#2a3f5f"
            },
            "type": "carpet"
           }
          ],
          "choropleth": [
           {
            "colorbar": {
             "outlinewidth": 0,
             "ticks": ""
            },
            "type": "choropleth"
           }
          ],
          "contour": [
           {
            "colorbar": {
             "outlinewidth": 0,
             "ticks": ""
            },
            "colorscale": [
             [
              0,
              "#0d0887"
             ],
             [
              0.1111111111111111,
              "#46039f"
             ],
             [
              0.2222222222222222,
              "#7201a8"
             ],
             [
              0.3333333333333333,
              "#9c179e"
             ],
             [
              0.4444444444444444,
              "#bd3786"
             ],
             [
              0.5555555555555556,
              "#d8576b"
             ],
             [
              0.6666666666666666,
              "#ed7953"
             ],
             [
              0.7777777777777778,
              "#fb9f3a"
             ],
             [
              0.8888888888888888,
              "#fdca26"
             ],
             [
              1,
              "#f0f921"
             ]
            ],
            "type": "contour"
           }
          ],
          "contourcarpet": [
           {
            "colorbar": {
             "outlinewidth": 0,
             "ticks": ""
            },
            "type": "contourcarpet"
           }
          ],
          "heatmap": [
           {
            "colorbar": {
             "outlinewidth": 0,
             "ticks": ""
            },
            "colorscale": [
             [
              0,
              "#0d0887"
             ],
             [
              0.1111111111111111,
              "#46039f"
             ],
             [
              0.2222222222222222,
              "#7201a8"
             ],
             [
              0.3333333333333333,
              "#9c179e"
             ],
             [
              0.4444444444444444,
              "#bd3786"
             ],
             [
              0.5555555555555556,
              "#d8576b"
             ],
             [
              0.6666666666666666,
              "#ed7953"
             ],
             [
              0.7777777777777778,
              "#fb9f3a"
             ],
             [
              0.8888888888888888,
              "#fdca26"
             ],
             [
              1,
              "#f0f921"
             ]
            ],
            "type": "heatmap"
           }
          ],
          "heatmapgl": [
           {
            "colorbar": {
             "outlinewidth": 0,
             "ticks": ""
            },
            "colorscale": [
             [
              0,
              "#0d0887"
             ],
             [
              0.1111111111111111,
              "#46039f"
             ],
             [
              0.2222222222222222,
              "#7201a8"
             ],
             [
              0.3333333333333333,
              "#9c179e"
             ],
             [
              0.4444444444444444,
              "#bd3786"
             ],
             [
              0.5555555555555556,
              "#d8576b"
             ],
             [
              0.6666666666666666,
              "#ed7953"
             ],
             [
              0.7777777777777778,
              "#fb9f3a"
             ],
             [
              0.8888888888888888,
              "#fdca26"
             ],
             [
              1,
              "#f0f921"
             ]
            ],
            "type": "heatmapgl"
           }
          ],
          "histogram": [
           {
            "marker": {
             "pattern": {
              "fillmode": "overlay",
              "size": 10,
              "solidity": 0.2
             }
            },
            "type": "histogram"
           }
          ],
          "histogram2d": [
           {
            "colorbar": {
             "outlinewidth": 0,
             "ticks": ""
            },
            "colorscale": [
             [
              0,
              "#0d0887"
             ],
             [
              0.1111111111111111,
              "#46039f"
             ],
             [
              0.2222222222222222,
              "#7201a8"
             ],
             [
              0.3333333333333333,
              "#9c179e"
             ],
             [
              0.4444444444444444,
              "#bd3786"
             ],
             [
              0.5555555555555556,
              "#d8576b"
             ],
             [
              0.6666666666666666,
              "#ed7953"
             ],
             [
              0.7777777777777778,
              "#fb9f3a"
             ],
             [
              0.8888888888888888,
              "#fdca26"
             ],
             [
              1,
              "#f0f921"
             ]
            ],
            "type": "histogram2d"
           }
          ],
          "histogram2dcontour": [
           {
            "colorbar": {
             "outlinewidth": 0,
             "ticks": ""
            },
            "colorscale": [
             [
              0,
              "#0d0887"
             ],
             [
              0.1111111111111111,
              "#46039f"
             ],
             [
              0.2222222222222222,
              "#7201a8"
             ],
             [
              0.3333333333333333,
              "#9c179e"
             ],
             [
              0.4444444444444444,
              "#bd3786"
             ],
             [
              0.5555555555555556,
              "#d8576b"
             ],
             [
              0.6666666666666666,
              "#ed7953"
             ],
             [
              0.7777777777777778,
              "#fb9f3a"
             ],
             [
              0.8888888888888888,
              "#fdca26"
             ],
             [
              1,
              "#f0f921"
             ]
            ],
            "type": "histogram2dcontour"
           }
          ],
          "mesh3d": [
           {
            "colorbar": {
             "outlinewidth": 0,
             "ticks": ""
            },
            "type": "mesh3d"
           }
          ],
          "parcoords": [
           {
            "line": {
             "colorbar": {
              "outlinewidth": 0,
              "ticks": ""
             }
            },
            "type": "parcoords"
           }
          ],
          "pie": [
           {
            "automargin": true,
            "type": "pie"
           }
          ],
          "scatter": [
           {
            "fillpattern": {
             "fillmode": "overlay",
             "size": 10,
             "solidity": 0.2
            },
            "type": "scatter"
           }
          ],
          "scatter3d": [
           {
            "line": {
             "colorbar": {
              "outlinewidth": 0,
              "ticks": ""
             }
            },
            "marker": {
             "colorbar": {
              "outlinewidth": 0,
              "ticks": ""
             }
            },
            "type": "scatter3d"
           }
          ],
          "scattercarpet": [
           {
            "marker": {
             "colorbar": {
              "outlinewidth": 0,
              "ticks": ""
             }
            },
            "type": "scattercarpet"
           }
          ],
          "scattergeo": [
           {
            "marker": {
             "colorbar": {
              "outlinewidth": 0,
              "ticks": ""
             }
            },
            "type": "scattergeo"
           }
          ],
          "scattergl": [
           {
            "marker": {
             "colorbar": {
              "outlinewidth": 0,
              "ticks": ""
             }
            },
            "type": "scattergl"
           }
          ],
          "scattermapbox": [
           {
            "marker": {
             "colorbar": {
              "outlinewidth": 0,
              "ticks": ""
             }
            },
            "type": "scattermapbox"
           }
          ],
          "scatterpolar": [
           {
            "marker": {
             "colorbar": {
              "outlinewidth": 0,
              "ticks": ""
             }
            },
            "type": "scatterpolar"
           }
          ],
          "scatterpolargl": [
           {
            "marker": {
             "colorbar": {
              "outlinewidth": 0,
              "ticks": ""
             }
            },
            "type": "scatterpolargl"
           }
          ],
          "scatterternary": [
           {
            "marker": {
             "colorbar": {
              "outlinewidth": 0,
              "ticks": ""
             }
            },
            "type": "scatterternary"
           }
          ],
          "surface": [
           {
            "colorbar": {
             "outlinewidth": 0,
             "ticks": ""
            },
            "colorscale": [
             [
              0,
              "#0d0887"
             ],
             [
              0.1111111111111111,
              "#46039f"
             ],
             [
              0.2222222222222222,
              "#7201a8"
             ],
             [
              0.3333333333333333,
              "#9c179e"
             ],
             [
              0.4444444444444444,
              "#bd3786"
             ],
             [
              0.5555555555555556,
              "#d8576b"
             ],
             [
              0.6666666666666666,
              "#ed7953"
             ],
             [
              0.7777777777777778,
              "#fb9f3a"
             ],
             [
              0.8888888888888888,
              "#fdca26"
             ],
             [
              1,
              "#f0f921"
             ]
            ],
            "type": "surface"
           }
          ],
          "table": [
           {
            "cells": {
             "fill": {
              "color": "#EBF0F8"
             },
             "line": {
              "color": "white"
             }
            },
            "header": {
             "fill": {
              "color": "#C8D4E3"
             },
             "line": {
              "color": "white"
             }
            },
            "type": "table"
           }
          ]
         },
         "layout": {
          "annotationdefaults": {
           "arrowcolor": "#2a3f5f",
           "arrowhead": 0,
           "arrowwidth": 1
          },
          "autotypenumbers": "strict",
          "coloraxis": {
           "colorbar": {
            "outlinewidth": 0,
            "ticks": ""
           }
          },
          "colorscale": {
           "diverging": [
            [
             0,
             "#8e0152"
            ],
            [
             0.1,
             "#c51b7d"
            ],
            [
             0.2,
             "#de77ae"
            ],
            [
             0.3,
             "#f1b6da"
            ],
            [
             0.4,
             "#fde0ef"
            ],
            [
             0.5,
             "#f7f7f7"
            ],
            [
             0.6,
             "#e6f5d0"
            ],
            [
             0.7,
             "#b8e186"
            ],
            [
             0.8,
             "#7fbc41"
            ],
            [
             0.9,
             "#4d9221"
            ],
            [
             1,
             "#276419"
            ]
           ],
           "sequential": [
            [
             0,
             "#0d0887"
            ],
            [
             0.1111111111111111,
             "#46039f"
            ],
            [
             0.2222222222222222,
             "#7201a8"
            ],
            [
             0.3333333333333333,
             "#9c179e"
            ],
            [
             0.4444444444444444,
             "#bd3786"
            ],
            [
             0.5555555555555556,
             "#d8576b"
            ],
            [
             0.6666666666666666,
             "#ed7953"
            ],
            [
             0.7777777777777778,
             "#fb9f3a"
            ],
            [
             0.8888888888888888,
             "#fdca26"
            ],
            [
             1,
             "#f0f921"
            ]
           ],
           "sequentialminus": [
            [
             0,
             "#0d0887"
            ],
            [
             0.1111111111111111,
             "#46039f"
            ],
            [
             0.2222222222222222,
             "#7201a8"
            ],
            [
             0.3333333333333333,
             "#9c179e"
            ],
            [
             0.4444444444444444,
             "#bd3786"
            ],
            [
             0.5555555555555556,
             "#d8576b"
            ],
            [
             0.6666666666666666,
             "#ed7953"
            ],
            [
             0.7777777777777778,
             "#fb9f3a"
            ],
            [
             0.8888888888888888,
             "#fdca26"
            ],
            [
             1,
             "#f0f921"
            ]
           ]
          },
          "colorway": [
           "#636efa",
           "#EF553B",
           "#00cc96",
           "#ab63fa",
           "#FFA15A",
           "#19d3f3",
           "#FF6692",
           "#B6E880",
           "#FF97FF",
           "#FECB52"
          ],
          "font": {
           "color": "#2a3f5f"
          },
          "geo": {
           "bgcolor": "white",
           "lakecolor": "white",
           "landcolor": "#E5ECF6",
           "showlakes": true,
           "showland": true,
           "subunitcolor": "white"
          },
          "hoverlabel": {
           "align": "left"
          },
          "hovermode": "closest",
          "mapbox": {
           "style": "light"
          },
          "paper_bgcolor": "white",
          "plot_bgcolor": "#E5ECF6",
          "polar": {
           "angularaxis": {
            "gridcolor": "white",
            "linecolor": "white",
            "ticks": ""
           },
           "bgcolor": "#E5ECF6",
           "radialaxis": {
            "gridcolor": "white",
            "linecolor": "white",
            "ticks": ""
           }
          },
          "scene": {
           "xaxis": {
            "backgroundcolor": "#E5ECF6",
            "gridcolor": "white",
            "gridwidth": 2,
            "linecolor": "white",
            "showbackground": true,
            "ticks": "",
            "zerolinecolor": "white"
           },
           "yaxis": {
            "backgroundcolor": "#E5ECF6",
            "gridcolor": "white",
            "gridwidth": 2,
            "linecolor": "white",
            "showbackground": true,
            "ticks": "",
            "zerolinecolor": "white"
           },
           "zaxis": {
            "backgroundcolor": "#E5ECF6",
            "gridcolor": "white",
            "gridwidth": 2,
            "linecolor": "white",
            "showbackground": true,
            "ticks": "",
            "zerolinecolor": "white"
           }
          },
          "shapedefaults": {
           "line": {
            "color": "#2a3f5f"
           }
          },
          "ternary": {
           "aaxis": {
            "gridcolor": "white",
            "linecolor": "white",
            "ticks": ""
           },
           "baxis": {
            "gridcolor": "white",
            "linecolor": "white",
            "ticks": ""
           },
           "bgcolor": "#E5ECF6",
           "caxis": {
            "gridcolor": "white",
            "linecolor": "white",
            "ticks": ""
           }
          },
          "title": {
           "x": 0.05
          },
          "xaxis": {
           "automargin": true,
           "gridcolor": "white",
           "linecolor": "white",
           "ticks": "",
           "title": {
            "standoff": 15
           },
           "zerolinecolor": "white",
           "zerolinewidth": 2
          },
          "yaxis": {
           "automargin": true,
           "gridcolor": "white",
           "linecolor": "white",
           "ticks": "",
           "title": {
            "standoff": 15
           },
           "zerolinecolor": "white",
           "zerolinewidth": 2
          }
         }
        },
        "title": {
         "text": "Динамика изменения суммы кассовых сборов по годам"
        },
        "xaxis": {
         "anchor": "y",
         "domain": [
          0,
          1
         ],
         "title": {
          "text": "Год"
         }
        },
        "yaxis": {
         "anchor": "x",
         "domain": [
          0,
          1
         ],
         "title": {
          "text": "Сумма кассовых сборов"
         }
        }
       }
      }
     },
     "metadata": {},
     "output_type": "display_data"
    }
   ],
   "source": [
    "# покажем изменения суммы сборов по каждому году \n",
    "box_office_sum = data.groupby('year')['box_office'].agg('sum')\n",
    "box_office_sum = box_office_sum/10e5\n",
    "\n",
    "# выводим показатель с градиентом\n",
    "display(pd.DataFrame(box_office_sum).style.background_gradient('Reds'))\n",
    "\n",
    "# создаем датафрейм для plotly\n",
    "box_office_sum_df = box_office_sum.reset_index()\n",
    "\n",
    "# строим линейный график динамики изменения показателя\n",
    "fig = px.line(\n",
    "\tbox_office_sum_df,\n",
    "    x='year', \n",
    "\ty='box_office', \n",
    "    title='Динамика изменения суммы кассовых сборов по годам',\n",
    "\tlabels={'year':'Год', 'box_office':'Сумма кассовых сборов'},\n",
    "    markers=True\n",
    ")\n",
    "\n",
    "# выводим график\n",
    "fig.show()\n",
    "\n",
    "# также построим столбчатую диаграмму\n",
    "fig1 = px.bar(\n",
    "\tbox_office_sum_df,\n",
    "\tx='year',\n",
    "\ty='box_office',\n",
    "\ttitle='Динамика изменения суммы кассовых сборов по годам',\n",
    "\tlabels={'year':'Год', 'box_office':'Сумма кассовых сборов'}\n",
    ")\n",
    "\n",
    "fig1.show()"
   ]
  },
  {
   "cell_type": "markdown",
   "metadata": {},
   "source": [
    "**Вывод:**\n",
    "\n",
    "Исходя из полученных данных максимальную сумму кассовых сборов удалость получить в 2017 году. Тройку лидеров в указанном промежутке по сумме касовых сборов занял период с 2017 по 2019 годы. Самое минимальное значение суммы было в 2010 году, однако в прошлом пункте работы я указывал, что самый большой процент показов в кинотеатрах приходится на период с 2015 по 2019 года, поэтому если брать минимум из этого периода времени, то самым минимальный показатель приходится на 2015 год.\n",
    "\n",
    "То есть:\n",
    "- максимальное значение кассовых сборов - 2017 год\n",
    "- минимальное значение кассовых сборов - 2010 год\n",
    "- минимальное значение в период самых больших показов в кино - 2015 год."
   ]
  },
  {
   "cell_type": "markdown",
   "metadata": {
    "id": "G-7qS-N-gFyY"
   },
   "source": [
    "#### Средняя и медианная сумма сборов по годам."
   ]
  },
  {
   "cell_type": "code",
   "execution_count": 31,
   "metadata": {
    "id": "jmp-rgg9gFyY"
   },
   "outputs": [
    {
     "data": {
      "application/vnd.plotly.v1+json": {
       "config": {
        "plotlyServerURL": "https://plot.ly"
       },
       "data": [
        {
         "name": "Средняя сумма кассовых сборов",
         "type": "bar",
         "x": [
          2010,
          2011,
          2012,
          2013,
          2014,
          2015,
          2016,
          2017,
          2018,
          2019
         ],
         "xaxis": "x",
         "y": [
          26981,
          142290,
          55833,
          169139,
          28687154,
          74442343,
          87462500,
          136408860,
          101849156,
          92738315
         ],
         "yaxis": "y"
        },
        {
         "name": "Медианная сумма кассовых сборов",
         "type": "bar",
         "x": [
          2010,
          2011,
          2012,
          2013,
          2014,
          2015,
          2016,
          2017,
          2018,
          2019
         ],
         "xaxis": "x2",
         "y": [
          1868,
          3042,
          6655,
          3565,
          22490,
          4327266,
          3650261,
          10177834,
          8891102,
          4774520
         ],
         "yaxis": "y2"
        }
       ],
       "layout": {
        "annotations": [
         {
          "font": {
           "size": 16
          },
          "showarrow": false,
          "text": "Средняя сумма кассовых сборов по годам",
          "x": 0.225,
          "xanchor": "center",
          "xref": "paper",
          "y": 1,
          "yanchor": "bottom",
          "yref": "paper"
         },
         {
          "font": {
           "size": 16
          },
          "showarrow": false,
          "text": "Медианная сумма кассовых сборов по годам",
          "x": 0.775,
          "xanchor": "center",
          "xref": "paper",
          "y": 1,
          "yanchor": "bottom",
          "yref": "paper"
         }
        ],
        "template": {
         "data": {
          "bar": [
           {
            "error_x": {
             "color": "#2a3f5f"
            },
            "error_y": {
             "color": "#2a3f5f"
            },
            "marker": {
             "line": {
              "color": "#E5ECF6",
              "width": 0.5
             },
             "pattern": {
              "fillmode": "overlay",
              "size": 10,
              "solidity": 0.2
             }
            },
            "type": "bar"
           }
          ],
          "barpolar": [
           {
            "marker": {
             "line": {
              "color": "#E5ECF6",
              "width": 0.5
             },
             "pattern": {
              "fillmode": "overlay",
              "size": 10,
              "solidity": 0.2
             }
            },
            "type": "barpolar"
           }
          ],
          "carpet": [
           {
            "aaxis": {
             "endlinecolor": "#2a3f5f",
             "gridcolor": "white",
             "linecolor": "white",
             "minorgridcolor": "white",
             "startlinecolor": "#2a3f5f"
            },
            "baxis": {
             "endlinecolor": "#2a3f5f",
             "gridcolor": "white",
             "linecolor": "white",
             "minorgridcolor": "white",
             "startlinecolor": "#2a3f5f"
            },
            "type": "carpet"
           }
          ],
          "choropleth": [
           {
            "colorbar": {
             "outlinewidth": 0,
             "ticks": ""
            },
            "type": "choropleth"
           }
          ],
          "contour": [
           {
            "colorbar": {
             "outlinewidth": 0,
             "ticks": ""
            },
            "colorscale": [
             [
              0,
              "#0d0887"
             ],
             [
              0.1111111111111111,
              "#46039f"
             ],
             [
              0.2222222222222222,
              "#7201a8"
             ],
             [
              0.3333333333333333,
              "#9c179e"
             ],
             [
              0.4444444444444444,
              "#bd3786"
             ],
             [
              0.5555555555555556,
              "#d8576b"
             ],
             [
              0.6666666666666666,
              "#ed7953"
             ],
             [
              0.7777777777777778,
              "#fb9f3a"
             ],
             [
              0.8888888888888888,
              "#fdca26"
             ],
             [
              1,
              "#f0f921"
             ]
            ],
            "type": "contour"
           }
          ],
          "contourcarpet": [
           {
            "colorbar": {
             "outlinewidth": 0,
             "ticks": ""
            },
            "type": "contourcarpet"
           }
          ],
          "heatmap": [
           {
            "colorbar": {
             "outlinewidth": 0,
             "ticks": ""
            },
            "colorscale": [
             [
              0,
              "#0d0887"
             ],
             [
              0.1111111111111111,
              "#46039f"
             ],
             [
              0.2222222222222222,
              "#7201a8"
             ],
             [
              0.3333333333333333,
              "#9c179e"
             ],
             [
              0.4444444444444444,
              "#bd3786"
             ],
             [
              0.5555555555555556,
              "#d8576b"
             ],
             [
              0.6666666666666666,
              "#ed7953"
             ],
             [
              0.7777777777777778,
              "#fb9f3a"
             ],
             [
              0.8888888888888888,
              "#fdca26"
             ],
             [
              1,
              "#f0f921"
             ]
            ],
            "type": "heatmap"
           }
          ],
          "heatmapgl": [
           {
            "colorbar": {
             "outlinewidth": 0,
             "ticks": ""
            },
            "colorscale": [
             [
              0,
              "#0d0887"
             ],
             [
              0.1111111111111111,
              "#46039f"
             ],
             [
              0.2222222222222222,
              "#7201a8"
             ],
             [
              0.3333333333333333,
              "#9c179e"
             ],
             [
              0.4444444444444444,
              "#bd3786"
             ],
             [
              0.5555555555555556,
              "#d8576b"
             ],
             [
              0.6666666666666666,
              "#ed7953"
             ],
             [
              0.7777777777777778,
              "#fb9f3a"
             ],
             [
              0.8888888888888888,
              "#fdca26"
             ],
             [
              1,
              "#f0f921"
             ]
            ],
            "type": "heatmapgl"
           }
          ],
          "histogram": [
           {
            "marker": {
             "pattern": {
              "fillmode": "overlay",
              "size": 10,
              "solidity": 0.2
             }
            },
            "type": "histogram"
           }
          ],
          "histogram2d": [
           {
            "colorbar": {
             "outlinewidth": 0,
             "ticks": ""
            },
            "colorscale": [
             [
              0,
              "#0d0887"
             ],
             [
              0.1111111111111111,
              "#46039f"
             ],
             [
              0.2222222222222222,
              "#7201a8"
             ],
             [
              0.3333333333333333,
              "#9c179e"
             ],
             [
              0.4444444444444444,
              "#bd3786"
             ],
             [
              0.5555555555555556,
              "#d8576b"
             ],
             [
              0.6666666666666666,
              "#ed7953"
             ],
             [
              0.7777777777777778,
              "#fb9f3a"
             ],
             [
              0.8888888888888888,
              "#fdca26"
             ],
             [
              1,
              "#f0f921"
             ]
            ],
            "type": "histogram2d"
           }
          ],
          "histogram2dcontour": [
           {
            "colorbar": {
             "outlinewidth": 0,
             "ticks": ""
            },
            "colorscale": [
             [
              0,
              "#0d0887"
             ],
             [
              0.1111111111111111,
              "#46039f"
             ],
             [
              0.2222222222222222,
              "#7201a8"
             ],
             [
              0.3333333333333333,
              "#9c179e"
             ],
             [
              0.4444444444444444,
              "#bd3786"
             ],
             [
              0.5555555555555556,
              "#d8576b"
             ],
             [
              0.6666666666666666,
              "#ed7953"
             ],
             [
              0.7777777777777778,
              "#fb9f3a"
             ],
             [
              0.8888888888888888,
              "#fdca26"
             ],
             [
              1,
              "#f0f921"
             ]
            ],
            "type": "histogram2dcontour"
           }
          ],
          "mesh3d": [
           {
            "colorbar": {
             "outlinewidth": 0,
             "ticks": ""
            },
            "type": "mesh3d"
           }
          ],
          "parcoords": [
           {
            "line": {
             "colorbar": {
              "outlinewidth": 0,
              "ticks": ""
             }
            },
            "type": "parcoords"
           }
          ],
          "pie": [
           {
            "automargin": true,
            "type": "pie"
           }
          ],
          "scatter": [
           {
            "fillpattern": {
             "fillmode": "overlay",
             "size": 10,
             "solidity": 0.2
            },
            "type": "scatter"
           }
          ],
          "scatter3d": [
           {
            "line": {
             "colorbar": {
              "outlinewidth": 0,
              "ticks": ""
             }
            },
            "marker": {
             "colorbar": {
              "outlinewidth": 0,
              "ticks": ""
             }
            },
            "type": "scatter3d"
           }
          ],
          "scattercarpet": [
           {
            "marker": {
             "colorbar": {
              "outlinewidth": 0,
              "ticks": ""
             }
            },
            "type": "scattercarpet"
           }
          ],
          "scattergeo": [
           {
            "marker": {
             "colorbar": {
              "outlinewidth": 0,
              "ticks": ""
             }
            },
            "type": "scattergeo"
           }
          ],
          "scattergl": [
           {
            "marker": {
             "colorbar": {
              "outlinewidth": 0,
              "ticks": ""
             }
            },
            "type": "scattergl"
           }
          ],
          "scattermapbox": [
           {
            "marker": {
             "colorbar": {
              "outlinewidth": 0,
              "ticks": ""
             }
            },
            "type": "scattermapbox"
           }
          ],
          "scatterpolar": [
           {
            "marker": {
             "colorbar": {
              "outlinewidth": 0,
              "ticks": ""
             }
            },
            "type": "scatterpolar"
           }
          ],
          "scatterpolargl": [
           {
            "marker": {
             "colorbar": {
              "outlinewidth": 0,
              "ticks": ""
             }
            },
            "type": "scatterpolargl"
           }
          ],
          "scatterternary": [
           {
            "marker": {
             "colorbar": {
              "outlinewidth": 0,
              "ticks": ""
             }
            },
            "type": "scatterternary"
           }
          ],
          "surface": [
           {
            "colorbar": {
             "outlinewidth": 0,
             "ticks": ""
            },
            "colorscale": [
             [
              0,
              "#0d0887"
             ],
             [
              0.1111111111111111,
              "#46039f"
             ],
             [
              0.2222222222222222,
              "#7201a8"
             ],
             [
              0.3333333333333333,
              "#9c179e"
             ],
             [
              0.4444444444444444,
              "#bd3786"
             ],
             [
              0.5555555555555556,
              "#d8576b"
             ],
             [
              0.6666666666666666,
              "#ed7953"
             ],
             [
              0.7777777777777778,
              "#fb9f3a"
             ],
             [
              0.8888888888888888,
              "#fdca26"
             ],
             [
              1,
              "#f0f921"
             ]
            ],
            "type": "surface"
           }
          ],
          "table": [
           {
            "cells": {
             "fill": {
              "color": "#EBF0F8"
             },
             "line": {
              "color": "white"
             }
            },
            "header": {
             "fill": {
              "color": "#C8D4E3"
             },
             "line": {
              "color": "white"
             }
            },
            "type": "table"
           }
          ]
         },
         "layout": {
          "annotationdefaults": {
           "arrowcolor": "#2a3f5f",
           "arrowhead": 0,
           "arrowwidth": 1
          },
          "autotypenumbers": "strict",
          "coloraxis": {
           "colorbar": {
            "outlinewidth": 0,
            "ticks": ""
           }
          },
          "colorscale": {
           "diverging": [
            [
             0,
             "#8e0152"
            ],
            [
             0.1,
             "#c51b7d"
            ],
            [
             0.2,
             "#de77ae"
            ],
            [
             0.3,
             "#f1b6da"
            ],
            [
             0.4,
             "#fde0ef"
            ],
            [
             0.5,
             "#f7f7f7"
            ],
            [
             0.6,
             "#e6f5d0"
            ],
            [
             0.7,
             "#b8e186"
            ],
            [
             0.8,
             "#7fbc41"
            ],
            [
             0.9,
             "#4d9221"
            ],
            [
             1,
             "#276419"
            ]
           ],
           "sequential": [
            [
             0,
             "#0d0887"
            ],
            [
             0.1111111111111111,
             "#46039f"
            ],
            [
             0.2222222222222222,
             "#7201a8"
            ],
            [
             0.3333333333333333,
             "#9c179e"
            ],
            [
             0.4444444444444444,
             "#bd3786"
            ],
            [
             0.5555555555555556,
             "#d8576b"
            ],
            [
             0.6666666666666666,
             "#ed7953"
            ],
            [
             0.7777777777777778,
             "#fb9f3a"
            ],
            [
             0.8888888888888888,
             "#fdca26"
            ],
            [
             1,
             "#f0f921"
            ]
           ],
           "sequentialminus": [
            [
             0,
             "#0d0887"
            ],
            [
             0.1111111111111111,
             "#46039f"
            ],
            [
             0.2222222222222222,
             "#7201a8"
            ],
            [
             0.3333333333333333,
             "#9c179e"
            ],
            [
             0.4444444444444444,
             "#bd3786"
            ],
            [
             0.5555555555555556,
             "#d8576b"
            ],
            [
             0.6666666666666666,
             "#ed7953"
            ],
            [
             0.7777777777777778,
             "#fb9f3a"
            ],
            [
             0.8888888888888888,
             "#fdca26"
            ],
            [
             1,
             "#f0f921"
            ]
           ]
          },
          "colorway": [
           "#636efa",
           "#EF553B",
           "#00cc96",
           "#ab63fa",
           "#FFA15A",
           "#19d3f3",
           "#FF6692",
           "#B6E880",
           "#FF97FF",
           "#FECB52"
          ],
          "font": {
           "color": "#2a3f5f"
          },
          "geo": {
           "bgcolor": "white",
           "lakecolor": "white",
           "landcolor": "#E5ECF6",
           "showlakes": true,
           "showland": true,
           "subunitcolor": "white"
          },
          "hoverlabel": {
           "align": "left"
          },
          "hovermode": "closest",
          "mapbox": {
           "style": "light"
          },
          "paper_bgcolor": "white",
          "plot_bgcolor": "#E5ECF6",
          "polar": {
           "angularaxis": {
            "gridcolor": "white",
            "linecolor": "white",
            "ticks": ""
           },
           "bgcolor": "#E5ECF6",
           "radialaxis": {
            "gridcolor": "white",
            "linecolor": "white",
            "ticks": ""
           }
          },
          "scene": {
           "xaxis": {
            "backgroundcolor": "#E5ECF6",
            "gridcolor": "white",
            "gridwidth": 2,
            "linecolor": "white",
            "showbackground": true,
            "ticks": "",
            "zerolinecolor": "white"
           },
           "yaxis": {
            "backgroundcolor": "#E5ECF6",
            "gridcolor": "white",
            "gridwidth": 2,
            "linecolor": "white",
            "showbackground": true,
            "ticks": "",
            "zerolinecolor": "white"
           },
           "zaxis": {
            "backgroundcolor": "#E5ECF6",
            "gridcolor": "white",
            "gridwidth": 2,
            "linecolor": "white",
            "showbackground": true,
            "ticks": "",
            "zerolinecolor": "white"
           }
          },
          "shapedefaults": {
           "line": {
            "color": "#2a3f5f"
           }
          },
          "ternary": {
           "aaxis": {
            "gridcolor": "white",
            "linecolor": "white",
            "ticks": ""
           },
           "baxis": {
            "gridcolor": "white",
            "linecolor": "white",
            "ticks": ""
           },
           "bgcolor": "#E5ECF6",
           "caxis": {
            "gridcolor": "white",
            "linecolor": "white",
            "ticks": ""
           }
          },
          "title": {
           "x": 0.05
          },
          "xaxis": {
           "automargin": true,
           "gridcolor": "white",
           "linecolor": "white",
           "ticks": "",
           "title": {
            "standoff": 15
           },
           "zerolinecolor": "white",
           "zerolinewidth": 2
          },
          "yaxis": {
           "automargin": true,
           "gridcolor": "white",
           "linecolor": "white",
           "ticks": "",
           "title": {
            "standoff": 15
           },
           "zerolinecolor": "white",
           "zerolinewidth": 2
          }
         }
        },
        "title": {
         "text": "Динамика средней и медианной суммы кассовых сборов по годам"
        },
        "xaxis": {
         "anchor": "y",
         "domain": [
          0,
          0.45
         ],
         "title": {
          "text": "Годы"
         }
        },
        "xaxis2": {
         "anchor": "y2",
         "domain": [
          0.55,
          1
         ],
         "title": {
          "text": "Годы"
         }
        },
        "yaxis": {
         "anchor": "x",
         "domain": [
          0,
          1
         ],
         "title": {
          "text": "Средняя сумма"
         }
        },
        "yaxis2": {
         "anchor": "x2",
         "domain": [
          0,
          1
         ],
         "title": {
          "text": "Медианная сумма"
         }
        }
       }
      }
     },
     "metadata": {},
     "output_type": "display_data"
    }
   ],
   "source": [
    "# создаем таблицу со средним значением кассоувых сборов по годам\n",
    "avg_box_office = data.groupby('year')['box_office'].mean().round().reset_index()  # округлили значения\n",
    "\n",
    "# создаем таблицу с медианным значениям суммы кассовых сборов по годам\n",
    "median_box_office = data.groupby('year')['box_office'].median().round().reset_index() # окрглили значения\n",
    "\n",
    "# создаем сабплоты\n",
    "fig = make_subplots(rows=1, cols=2, subplot_titles=('Средняя сумма кассовых сборов по годам', 'Медианная сумма кассовых сборов по годам'))\n",
    "\n",
    "# создаем график для среднего\n",
    "fig.add_trace(\n",
    "\tgo.Bar(\n",
    "\t\tx = avg_box_office['year'], # годы\n",
    "\t\ty = avg_box_office['box_office'], # средняя сумма\n",
    "\t\tname='Средняя сумма кассовых сборов'),\n",
    "\trow=1, col=1\n",
    ")\n",
    "# дополним подписи на осях\n",
    "fig.update_xaxes(title_text=\"Годы\", row=1, col=1)\n",
    "fig.update_yaxes(title_text=\"Средняя сумма\", row=1, col=1)\n",
    "\n",
    "# создаем график для медианны\n",
    "fig.add_trace(\n",
    "\tgo.Bar(\n",
    "\t\tx = median_box_office['year'], # годы\n",
    "\t\ty = median_box_office['box_office'], # медианная сумма\n",
    "\t\tname='Медианная сумма кассовых сборов'\n",
    "\t\t), row=1, col=2\n",
    ")\n",
    "# дополняем подписи на осях\n",
    "fig.update_xaxes(title_text=\"Годы\", row=1, col=2)\n",
    "fig.update_yaxes(title_text=\"Медианная сумма\", row=1, col=2)\n",
    "\n",
    "# задает общее название графикам\n",
    "fig.update_layout(title_text='Динамика средней и медианной суммы кассовых сборов по годам')\n",
    "fig.show()"
   ]
  },
  {
   "cell_type": "markdown",
   "metadata": {},
   "source": [
    "**Вывод:**\n",
    "\n",
    "Мы посчитали среднюю и медианную сумму кассовых сборов по каждому году с 2010 по 2019 года, также софрмировали граффики как менялись данные показатели по каждому году.\n",
    "\n",
    "В 2017 году было запущено в прокат больше всего фильмов, средняя сумма и медианна в этот же год самые высокие, что связанно как рас таки с долей фильмов в прокате. Однако, эта зависимость не для всего периода."
   ]
  },
  {
   "cell_type": "markdown",
   "metadata": {
    "id": "Ok89WFwJgFyZ"
   },
   "source": [
    "#### Влияет ли возрастное ограничение аудитории («6+», «12+», «16+», «18+» и т. д.) на сборы фильма в прокате в период с 2015 по 2019 год? Фильмы с каким возрастным ограничением собрали больше всего денег в прокате? Меняется ли картина в зависимости от года?"
   ]
  },
  {
   "cell_type": "code",
   "execution_count": 32,
   "metadata": {
    "id": "jsSbEqfjgFya"
   },
   "outputs": [
    {
     "data": {
      "text/html": [
       "<style type=\"text/css\">\n",
       "#T_5b682_row0_col0 {\n",
       "  background-color: #fff3ed;\n",
       "  color: #000000;\n",
       "}\n",
       "#T_5b682_row1_col0 {\n",
       "  background-color: #eb372a;\n",
       "  color: #f1f1f1;\n",
       "}\n",
       "#T_5b682_row2_col0 {\n",
       "  background-color: #fb7d5d;\n",
       "  color: #f1f1f1;\n",
       "}\n",
       "#T_5b682_row3_col0 {\n",
       "  background-color: #fdd3c1;\n",
       "  color: #000000;\n",
       "}\n",
       "#T_5b682_row4_col0 {\n",
       "  background-color: #fb7b5b;\n",
       "  color: #f1f1f1;\n",
       "}\n",
       "#T_5b682_row5_col0 {\n",
       "  background-color: #fff4ef;\n",
       "  color: #000000;\n",
       "}\n",
       "#T_5b682_row6_col0 {\n",
       "  background-color: #e83429;\n",
       "  color: #f1f1f1;\n",
       "}\n",
       "#T_5b682_row7_col0 {\n",
       "  background-color: #c5171c;\n",
       "  color: #f1f1f1;\n",
       "}\n",
       "#T_5b682_row8_col0 {\n",
       "  background-color: #fcb79c;\n",
       "  color: #000000;\n",
       "}\n",
       "#T_5b682_row9_col0, #T_5b682_row14_col0 {\n",
       "  background-color: #ea362a;\n",
       "  color: #f1f1f1;\n",
       "}\n",
       "#T_5b682_row10_col0 {\n",
       "  background-color: #fff4ee;\n",
       "  color: #000000;\n",
       "}\n",
       "#T_5b682_row11_col0 {\n",
       "  background-color: #fc8464;\n",
       "  color: #f1f1f1;\n",
       "}\n",
       "#T_5b682_row12_col0 {\n",
       "  background-color: #67000d;\n",
       "  color: #f1f1f1;\n",
       "}\n",
       "#T_5b682_row13_col0 {\n",
       "  background-color: #fa6547;\n",
       "  color: #f1f1f1;\n",
       "}\n",
       "#T_5b682_row15_col0, #T_5b682_row20_col0 {\n",
       "  background-color: #fff5f0;\n",
       "  color: #000000;\n",
       "}\n",
       "#T_5b682_row16_col0 {\n",
       "  background-color: #c8171c;\n",
       "  color: #f1f1f1;\n",
       "}\n",
       "#T_5b682_row17_col0 {\n",
       "  background-color: #be151a;\n",
       "  color: #f1f1f1;\n",
       "}\n",
       "#T_5b682_row18_col0 {\n",
       "  background-color: #fb7555;\n",
       "  color: #f1f1f1;\n",
       "}\n",
       "#T_5b682_row19_col0 {\n",
       "  background-color: #f75c41;\n",
       "  color: #f1f1f1;\n",
       "}\n",
       "#T_5b682_row21_col0 {\n",
       "  background-color: #e02c26;\n",
       "  color: #f1f1f1;\n",
       "}\n",
       "#T_5b682_row22_col0 {\n",
       "  background-color: #de2b25;\n",
       "  color: #f1f1f1;\n",
       "}\n",
       "#T_5b682_row23_col0 {\n",
       "  background-color: #f75b40;\n",
       "  color: #f1f1f1;\n",
       "}\n",
       "#T_5b682_row24_col0 {\n",
       "  background-color: #dd2a25;\n",
       "  color: #f1f1f1;\n",
       "}\n",
       "</style>\n",
       "<table id=\"T_5b682\">\n",
       "  <thead>\n",
       "    <tr>\n",
       "      <th class=\"blank\" >&nbsp;</th>\n",
       "      <th class=\"blank level0\" >&nbsp;</th>\n",
       "      <th id=\"T_5b682_level0_col0\" class=\"col_heading level0 col0\" >сумма кассовых сборов в млн.руб.</th>\n",
       "    </tr>\n",
       "    <tr>\n",
       "      <th class=\"index_name level0\" >year</th>\n",
       "      <th class=\"index_name level1\" >age_restriction</th>\n",
       "      <th class=\"blank col0\" >&nbsp;</th>\n",
       "    </tr>\n",
       "  </thead>\n",
       "  <tbody>\n",
       "    <tr>\n",
       "      <th id=\"T_5b682_level0_row0\" class=\"row_heading level0 row0\" rowspan=\"5\">2015</th>\n",
       "      <th id=\"T_5b682_level1_row0\" class=\"row_heading level1 row0\" >0+</th>\n",
       "      <td id=\"T_5b682_row0_col0\" class=\"data row0 col0\" >27.336777</td>\n",
       "    </tr>\n",
       "    <tr>\n",
       "      <th id=\"T_5b682_level1_row1\" class=\"row_heading level1 row1\" >12+</th>\n",
       "      <td id=\"T_5b682_row1_col0\" class=\"data row1 col0\" >1195.722058</td>\n",
       "    </tr>\n",
       "    <tr>\n",
       "      <th id=\"T_5b682_level1_row2\" class=\"row_heading level1 row2\" >16+</th>\n",
       "      <td id=\"T_5b682_row2_col0\" class=\"data row2 col0\" >827.425319</td>\n",
       "    </tr>\n",
       "    <tr>\n",
       "      <th id=\"T_5b682_level1_row3\" class=\"row_heading level1 row3\" >18+</th>\n",
       "      <td id=\"T_5b682_row3_col0\" class=\"data row3 col0\" >318.409794</td>\n",
       "    </tr>\n",
       "    <tr>\n",
       "      <th id=\"T_5b682_level1_row4\" class=\"row_heading level1 row4\" >6+</th>\n",
       "      <td id=\"T_5b682_row4_col0\" class=\"data row4 col0\" >839.571038</td>\n",
       "    </tr>\n",
       "    <tr>\n",
       "      <th id=\"T_5b682_level0_row5\" class=\"row_heading level0 row5\" rowspan=\"5\">2016</th>\n",
       "      <th id=\"T_5b682_level1_row5\" class=\"row_heading level1 row5\" >0+</th>\n",
       "      <td id=\"T_5b682_row5_col0\" class=\"data row5 col0\" >14.998902</td>\n",
       "    </tr>\n",
       "    <tr>\n",
       "      <th id=\"T_5b682_level1_row6\" class=\"row_heading level1 row6\" >12+</th>\n",
       "      <td id=\"T_5b682_row6_col0\" class=\"data row6 col0\" >1217.833705</td>\n",
       "    </tr>\n",
       "    <tr>\n",
       "      <th id=\"T_5b682_level1_row7\" class=\"row_heading level1 row7\" >16+</th>\n",
       "      <td id=\"T_5b682_row7_col0\" class=\"data row7 col0\" >1435.934961</td>\n",
       "    </tr>\n",
       "    <tr>\n",
       "      <th id=\"T_5b682_level1_row8\" class=\"row_heading level1 row8\" >18+</th>\n",
       "      <td id=\"T_5b682_row8_col0\" class=\"data row8 col0\" >499.043006</td>\n",
       "    </tr>\n",
       "    <tr>\n",
       "      <th id=\"T_5b682_level1_row9\" class=\"row_heading level1 row9\" >6+</th>\n",
       "      <td id=\"T_5b682_row9_col0\" class=\"data row9 col0\" >1205.314441</td>\n",
       "    </tr>\n",
       "    <tr>\n",
       "      <th id=\"T_5b682_level0_row10\" class=\"row_heading level0 row10\" rowspan=\"5\">2017</th>\n",
       "      <th id=\"T_5b682_level1_row10\" class=\"row_heading level1 row10\" >0+</th>\n",
       "      <td id=\"T_5b682_row10_col0\" class=\"data row10 col0\" >22.959893</td>\n",
       "    </tr>\n",
       "    <tr>\n",
       "      <th id=\"T_5b682_level1_row11\" class=\"row_heading level1 row11\" >12+</th>\n",
       "      <td id=\"T_5b682_row11_col0\" class=\"data row11 col0\" >785.142766</td>\n",
       "    </tr>\n",
       "    <tr>\n",
       "      <th id=\"T_5b682_level1_row12\" class=\"row_heading level1 row12\" >16+</th>\n",
       "      <td id=\"T_5b682_row12_col0\" class=\"data row12 col0\" >1874.288995</td>\n",
       "    </tr>\n",
       "    <tr>\n",
       "      <th id=\"T_5b682_level1_row13\" class=\"row_heading level1 row13\" >18+</th>\n",
       "      <td id=\"T_5b682_row13_col0\" class=\"data row13 col0\" >965.149558</td>\n",
       "    </tr>\n",
       "    <tr>\n",
       "      <th id=\"T_5b682_level1_row14\" class=\"row_heading level1 row14\" >6+</th>\n",
       "      <td id=\"T_5b682_row14_col0\" class=\"data row14 col0\" >1208.614215</td>\n",
       "    </tr>\n",
       "    <tr>\n",
       "      <th id=\"T_5b682_level0_row15\" class=\"row_heading level0 row15\" rowspan=\"5\">2018</th>\n",
       "      <th id=\"T_5b682_level1_row15\" class=\"row_heading level1 row15\" >0+</th>\n",
       "      <td id=\"T_5b682_row15_col0\" class=\"data row15 col0\" >3.244900</td>\n",
       "    </tr>\n",
       "    <tr>\n",
       "      <th id=\"T_5b682_level1_row16\" class=\"row_heading level1 row16\" >12+</th>\n",
       "      <td id=\"T_5b682_row16_col0\" class=\"data row16 col0\" >1426.725044</td>\n",
       "    </tr>\n",
       "    <tr>\n",
       "      <th id=\"T_5b682_level1_row17\" class=\"row_heading level1 row17\" >16+</th>\n",
       "      <td id=\"T_5b682_row17_col0\" class=\"data row17 col0\" >1482.092231</td>\n",
       "    </tr>\n",
       "    <tr>\n",
       "      <th id=\"T_5b682_level1_row18\" class=\"row_heading level1 row18\" >18+</th>\n",
       "      <td id=\"T_5b682_row18_col0\" class=\"data row18 col0\" >874.535594</td>\n",
       "    </tr>\n",
       "    <tr>\n",
       "      <th id=\"T_5b682_level1_row19\" class=\"row_heading level1 row19\" >6+</th>\n",
       "      <td id=\"T_5b682_row19_col0\" class=\"data row19 col0\" >1010.497462</td>\n",
       "    </tr>\n",
       "    <tr>\n",
       "      <th id=\"T_5b682_level0_row20\" class=\"row_heading level0 row20\" rowspan=\"5\">2019</th>\n",
       "      <th id=\"T_5b682_level1_row20\" class=\"row_heading level1 row20\" >0+</th>\n",
       "      <td id=\"T_5b682_row20_col0\" class=\"data row20 col0\" >1.774607</td>\n",
       "    </tr>\n",
       "    <tr>\n",
       "      <th id=\"T_5b682_level1_row21\" class=\"row_heading level1 row21\" >12+</th>\n",
       "      <td id=\"T_5b682_row21_col0\" class=\"data row21 col0\" >1267.655369</td>\n",
       "    </tr>\n",
       "    <tr>\n",
       "      <th id=\"T_5b682_level1_row22\" class=\"row_heading level1 row22\" >16+</th>\n",
       "      <td id=\"T_5b682_row22_col0\" class=\"data row22 col0\" >1274.854267</td>\n",
       "    </tr>\n",
       "    <tr>\n",
       "      <th id=\"T_5b682_level1_row23\" class=\"row_heading level1 row23\" >18+</th>\n",
       "      <td id=\"T_5b682_row23_col0\" class=\"data row23 col0\" >1011.400927</td>\n",
       "    </tr>\n",
       "    <tr>\n",
       "      <th id=\"T_5b682_level1_row24\" class=\"row_heading level1 row24\" >6+</th>\n",
       "      <td id=\"T_5b682_row24_col0\" class=\"data row24 col0\" >1285.254865</td>\n",
       "    </tr>\n",
       "  </tbody>\n",
       "</table>\n"
      ],
      "text/plain": [
       "<pandas.io.formats.style.Styler at 0x12e1c83f7d0>"
      ]
     },
     "metadata": {},
     "output_type": "display_data"
    },
    {
     "data": {
      "image/png": "[encoded data removed]",
      "text/plain": [
       "<Figure size 1700x800 with 1 Axes>"
      ]
     },
     "metadata": {},
     "output_type": "display_data"
    }
   ],
   "source": [
    "data_age_box = data.query('year >= 2015').pivot_table(index= ['year', 'age_restriction'], values= 'box_office', aggfunc='sum')\n",
    "data_age_box['box_office'] = data_age_box['box_office']/10000000\n",
    "data_age_box.rename(columns ={'box_office':'сумма кассовых сборов в млн.руб.'}, inplace=True)\n",
    "display(data_age_box.style.background_gradient('Reds'))\n",
    "\n",
    "data_age_box.plot(figsize = (17,8), style = 'o-')\n",
    "plt.show()"
   ]
  },
  {
   "cell_type": "code",
   "execution_count": 33,
   "metadata": {},
   "outputs": [
    {
     "data": {
      "image/png": "[encoded data removed]",
      "text/plain": [
       "<Figure size 640x480 with 1 Axes>"
      ]
     },
     "metadata": {},
     "output_type": "display_data"
    }
   ],
   "source": [
    "# сумма кассовых сборов по возрастным группам\n",
    "data.query('year >= 2015').groupby('age_restriction')['box_office'].sum().sort_values(ascending=False).plot(kind='bar', grid=True)\n",
    "plt.title('сборы по возрастным группам (2015 - 2019)')\n",
    "plt.ylabel('сумма сборов')\n",
    "plt.show()"
   ]
  },
  {
   "cell_type": "markdown",
   "metadata": {},
   "source": [
    "**Вывод:**\n",
    "\n",
    "Особой популярностью в сумме за весь период времени пользуются фильмы с возрастным ограничением в 16+ и 12+. В период с 2016 по 2018 год самыми популярными были фильмы именно с рейтингом 16+. Объяснить подобную закономерность можно тем, что обычно фильмы или мультфильмы с такими возрастными ограничениями как 12+ и 16+ посещают семьи и подростки. Также исходя из полученных данных мы можем увидеть закономерные падения на отметке в 18+ каждый год. Что явно говорит о низкой популярности фильмов с таким возрастным ограничением. Самый же низкий показатель у фильмов с возрастным ограничением 0+, обычно это мультипликационные фильмы расчитанные на детей, которые собственно ребенок зачастую не может посетить без родителей (так как возраст таких детей от 0 до 10 лет), с этим и связанна низкая посещаемость подобных картин в кинотеатрах."
   ]
  },
  {
   "cell_type": "markdown",
   "metadata": {
    "id": "l_Kg6Ku4gFya"
   },
   "source": [
    "### Шаг 4. Исследуем фильмы, которые получили государственную поддержку."
   ]
  },
  {
   "cell_type": "code",
   "execution_count": 34,
   "metadata": {
    "id": "W9QKpjUdgFyb"
   },
   "outputs": [
    {
     "data": {
      "text/html": [
       "<style type=\"text/css\">\n",
       "#T_aeb3f_row0_col0, #T_aeb3f_row0_col1 {\n",
       "  background-color: #fff5f0;\n",
       "  color: #000000;\n",
       "}\n",
       "#T_aeb3f_row1_col0 {\n",
       "  background-color: #fdd4c2;\n",
       "  color: #000000;\n",
       "}\n",
       "#T_aeb3f_row1_col1 {\n",
       "  background-color: #fee4d8;\n",
       "  color: #000000;\n",
       "}\n",
       "#T_aeb3f_row2_col0 {\n",
       "  background-color: #fca082;\n",
       "  color: #000000;\n",
       "}\n",
       "#T_aeb3f_row2_col1, #T_aeb3f_row5_col0 {\n",
       "  background-color: #b11218;\n",
       "  color: #f1f1f1;\n",
       "}\n",
       "#T_aeb3f_row3_col0 {\n",
       "  background-color: #fb694a;\n",
       "  color: #f1f1f1;\n",
       "}\n",
       "#T_aeb3f_row3_col1 {\n",
       "  background-color: #6b010e;\n",
       "  color: #f1f1f1;\n",
       "}\n",
       "#T_aeb3f_row4_col0 {\n",
       "  background-color: #e32f27;\n",
       "  color: #f1f1f1;\n",
       "}\n",
       "#T_aeb3f_row4_col1 {\n",
       "  background-color: #d21f20;\n",
       "  color: #f1f1f1;\n",
       "}\n",
       "#T_aeb3f_row5_col1 {\n",
       "  background-color: #bf151b;\n",
       "  color: #f1f1f1;\n",
       "}\n",
       "#T_aeb3f_row6_col0, #T_aeb3f_row6_col1 {\n",
       "  background-color: #67000d;\n",
       "  color: #f1f1f1;\n",
       "}\n",
       "</style>\n",
       "<table id=\"T_aeb3f\">\n",
       "  <thead>\n",
       "    <tr>\n",
       "      <th class=\"blank level0\" >&nbsp;</th>\n",
       "      <th id=\"T_aeb3f_level0_col0\" class=\"col_heading level0 col0\" >year</th>\n",
       "      <th id=\"T_aeb3f_level0_col1\" class=\"col_heading level0 col1\" >support_sum</th>\n",
       "    </tr>\n",
       "  </thead>\n",
       "  <tbody>\n",
       "    <tr>\n",
       "      <th id=\"T_aeb3f_level0_row0\" class=\"row_heading level0 row0\" >0</th>\n",
       "      <td id=\"T_aeb3f_row0_col0\" class=\"data row0 col0\" >2013</td>\n",
       "      <td id=\"T_aeb3f_row0_col1\" class=\"data row0 col1\" >0.134348</td>\n",
       "    </tr>\n",
       "    <tr>\n",
       "      <th id=\"T_aeb3f_level0_row1\" class=\"row_heading level0 row1\" >1</th>\n",
       "      <td id=\"T_aeb3f_row1_col0\" class=\"data row1 col0\" >2014</td>\n",
       "      <td id=\"T_aeb3f_row1_col1\" class=\"data row1 col1\" >0.572002</td>\n",
       "    </tr>\n",
       "    <tr>\n",
       "      <th id=\"T_aeb3f_level0_row2\" class=\"row_heading level0 row2\" >2</th>\n",
       "      <td id=\"T_aeb3f_row2_col0\" class=\"data row2 col0\" >2015</td>\n",
       "      <td id=\"T_aeb3f_row2_col1\" class=\"data row2 col1\" >3.656241</td>\n",
       "    </tr>\n",
       "    <tr>\n",
       "      <th id=\"T_aeb3f_level0_row3\" class=\"row_heading level0 row3\" >3</th>\n",
       "      <td id=\"T_aeb3f_row3_col0\" class=\"data row3 col0\" >2016</td>\n",
       "      <td id=\"T_aeb3f_row3_col1\" class=\"data row3 col1\" >4.303155</td>\n",
       "    </tr>\n",
       "    <tr>\n",
       "      <th id=\"T_aeb3f_level0_row4\" class=\"row_heading level0 row4\" >4</th>\n",
       "      <td id=\"T_aeb3f_row4_col0\" class=\"data row4 col0\" >2017</td>\n",
       "      <td id=\"T_aeb3f_row4_col1\" class=\"data row4 col1\" >3.183972</td>\n",
       "    </tr>\n",
       "    <tr>\n",
       "      <th id=\"T_aeb3f_level0_row5\" class=\"row_heading level0 row5\" >5</th>\n",
       "      <td id=\"T_aeb3f_row5_col0\" class=\"data row5 col0\" >2018</td>\n",
       "      <td id=\"T_aeb3f_row5_col1\" class=\"data row5 col1\" >3.446969</td>\n",
       "    </tr>\n",
       "    <tr>\n",
       "      <th id=\"T_aeb3f_level0_row6\" class=\"row_heading level0 row6\" >6</th>\n",
       "      <td id=\"T_aeb3f_row6_col0\" class=\"data row6 col0\" >2019</td>\n",
       "      <td id=\"T_aeb3f_row6_col1\" class=\"data row6 col1\" >4.349000</td>\n",
       "    </tr>\n",
       "  </tbody>\n",
       "</table>\n"
      ],
      "text/plain": [
       "<pandas.io.formats.style.Styler at 0x12e1c8d77d0>"
      ]
     },
     "metadata": {},
     "output_type": "display_data"
    },
    {
     "data": {
      "application/vnd.plotly.v1+json": {
       "config": {
        "plotlyServerURL": "https://plot.ly"
       },
       "data": [
        {
         "hovertemplate": "Год=%{x}<br>Сумма господдержки=%{y}<extra></extra>",
         "legendgroup": "",
         "line": {
          "color": "#636efa",
          "dash": "solid"
         },
         "marker": {
          "symbol": "circle"
         },
         "mode": "lines+markers",
         "name": "",
         "orientation": "v",
         "showlegend": false,
         "type": "scatter",
         "x": [
          2013,
          2014,
          2015,
          2016,
          2017,
          2018,
          2019
         ],
         "xaxis": "x",
         "y": [
          0.134347945,
          0.572002299,
          3.656241459,
          4.303155482,
          3.183971662,
          3.446969465,
          4.349
         ],
         "yaxis": "y"
        }
       ],
       "layout": {
        "legend": {
         "tracegroupgap": 0
        },
        "template": {
         "data": {
          "bar": [
           {
            "error_x": {
             "color": "#2a3f5f"
            },
            "error_y": {
             "color": "#2a3f5f"
            },
            "marker": {
             "line": {
              "color": "#E5ECF6",
              "width": 0.5
             },
             "pattern": {
              "fillmode": "overlay",
              "size": 10,
              "solidity": 0.2
             }
            },
            "type": "bar"
           }
          ],
          "barpolar": [
           {
            "marker": {
             "line": {
              "color": "#E5ECF6",
              "width": 0.5
             },
             "pattern": {
              "fillmode": "overlay",
              "size": 10,
              "solidity": 0.2
             }
            },
            "type": "barpolar"
           }
          ],
          "carpet": [
           {
            "aaxis": {
             "endlinecolor": "#2a3f5f",
             "gridcolor": "white",
             "linecolor": "white",
             "minorgridcolor": "white",
             "startlinecolor": "#2a3f5f"
            },
            "baxis": {
             "endlinecolor": "#2a3f5f",
             "gridcolor": "white",
             "linecolor": "white",
             "minorgridcolor": "white",
             "startlinecolor": "#2a3f5f"
            },
            "type": "carpet"
           }
          ],
          "choropleth": [
           {
            "colorbar": {
             "outlinewidth": 0,
             "ticks": ""
            },
            "type": "choropleth"
           }
          ],
          "contour": [
           {
            "colorbar": {
             "outlinewidth": 0,
             "ticks": ""
            },
            "colorscale": [
             [
              0,
              "#0d0887"
             ],
             [
              0.1111111111111111,
              "#46039f"
             ],
             [
              0.2222222222222222,
              "#7201a8"
             ],
             [
              0.3333333333333333,
              "#9c179e"
             ],
             [
              0.4444444444444444,
              "#bd3786"
             ],
             [
              0.5555555555555556,
              "#d8576b"
             ],
             [
              0.6666666666666666,
              "#ed7953"
             ],
             [
              0.7777777777777778,
              "#fb9f3a"
             ],
             [
              0.8888888888888888,
              "#fdca26"
             ],
             [
              1,
              "#f0f921"
             ]
            ],
            "type": "contour"
           }
          ],
          "contourcarpet": [
           {
            "colorbar": {
             "outlinewidth": 0,
             "ticks": ""
            },
            "type": "contourcarpet"
           }
          ],
          "heatmap": [
           {
            "colorbar": {
             "outlinewidth": 0,
             "ticks": ""
            },
            "colorscale": [
             [
              0,
              "#0d0887"
             ],
             [
              0.1111111111111111,
              "#46039f"
             ],
             [
              0.2222222222222222,
              "#7201a8"
             ],
             [
              0.3333333333333333,
              "#9c179e"
             ],
             [
              0.4444444444444444,
              "#bd3786"
             ],
             [
              0.5555555555555556,
              "#d8576b"
             ],
             [
              0.6666666666666666,
              "#ed7953"
             ],
             [
              0.7777777777777778,
              "#fb9f3a"
             ],
             [
              0.8888888888888888,
              "#fdca26"
             ],
             [
              1,
              "#f0f921"
             ]
            ],
            "type": "heatmap"
           }
          ],
          "heatmapgl": [
           {
            "colorbar": {
             "outlinewidth": 0,
             "ticks": ""
            },
            "colorscale": [
             [
              0,
              "#0d0887"
             ],
             [
              0.1111111111111111,
              "#46039f"
             ],
             [
              0.2222222222222222,
              "#7201a8"
             ],
             [
              0.3333333333333333,
              "#9c179e"
             ],
             [
              0.4444444444444444,
              "#bd3786"
             ],
             [
              0.5555555555555556,
              "#d8576b"
             ],
             [
              0.6666666666666666,
              "#ed7953"
             ],
             [
              0.7777777777777778,
              "#fb9f3a"
             ],
             [
              0.8888888888888888,
              "#fdca26"
             ],
             [
              1,
              "#f0f921"
             ]
            ],
            "type": "heatmapgl"
           }
          ],
          "histogram": [
           {
            "marker": {
             "pattern": {
              "fillmode": "overlay",
              "size": 10,
              "solidity": 0.2
             }
            },
            "type": "histogram"
           }
          ],
          "histogram2d": [
           {
            "colorbar": {
             "outlinewidth": 0,
             "ticks": ""
            },
            "colorscale": [
             [
              0,
              "#0d0887"
             ],
             [
              0.1111111111111111,
              "#46039f"
             ],
             [
              0.2222222222222222,
              "#7201a8"
             ],
             [
              0.3333333333333333,
              "#9c179e"
             ],
             [
              0.4444444444444444,
              "#bd3786"
             ],
             [
              0.5555555555555556,
              "#d8576b"
             ],
             [
              0.6666666666666666,
              "#ed7953"
             ],
             [
              0.7777777777777778,
              "#fb9f3a"
             ],
             [
              0.8888888888888888,
              "#fdca26"
             ],
             [
              1,
              "#f0f921"
             ]
            ],
            "type": "histogram2d"
           }
          ],
          "histogram2dcontour": [
           {
            "colorbar": {
             "outlinewidth": 0,
             "ticks": ""
            },
            "colorscale": [
             [
              0,
              "#0d0887"
             ],
             [
              0.1111111111111111,
              "#46039f"
             ],
             [
              0.2222222222222222,
              "#7201a8"
             ],
             [
              0.3333333333333333,
              "#9c179e"
             ],
             [
              0.4444444444444444,
              "#bd3786"
             ],
             [
              0.5555555555555556,
              "#d8576b"
             ],
             [
              0.6666666666666666,
              "#ed7953"
             ],
             [
              0.7777777777777778,
              "#fb9f3a"
             ],
             [
              0.8888888888888888,
              "#fdca26"
             ],
             [
              1,
              "#f0f921"
             ]
            ],
            "type": "histogram2dcontour"
           }
          ],
          "mesh3d": [
           {
            "colorbar": {
             "outlinewidth": 0,
             "ticks": ""
            },
            "type": "mesh3d"
           }
          ],
          "parcoords": [
           {
            "line": {
             "colorbar": {
              "outlinewidth": 0,
              "ticks": ""
             }
            },
            "type": "parcoords"
           }
          ],
          "pie": [
           {
            "automargin": true,
            "type": "pie"
           }
          ],
          "scatter": [
           {
            "fillpattern": {
             "fillmode": "overlay",
             "size": 10,
             "solidity": 0.2
            },
            "type": "scatter"
           }
          ],
          "scatter3d": [
           {
            "line": {
             "colorbar": {
              "outlinewidth": 0,
              "ticks": ""
             }
            },
            "marker": {
             "colorbar": {
              "outlinewidth": 0,
              "ticks": ""
             }
            },
            "type": "scatter3d"
           }
          ],
          "scattercarpet": [
           {
            "marker": {
             "colorbar": {
              "outlinewidth": 0,
              "ticks": ""
             }
            },
            "type": "scattercarpet"
           }
          ],
          "scattergeo": [
           {
            "marker": {
             "colorbar": {
              "outlinewidth": 0,
              "ticks": ""
             }
            },
            "type": "scattergeo"
           }
          ],
          "scattergl": [
           {
            "marker": {
             "colorbar": {
              "outlinewidth": 0,
              "ticks": ""
             }
            },
            "type": "scattergl"
           }
          ],
          "scattermapbox": [
           {
            "marker": {
             "colorbar": {
              "outlinewidth": 0,
              "ticks": ""
             }
            },
            "type": "scattermapbox"
           }
          ],
          "scatterpolar": [
           {
            "marker": {
             "colorbar": {
              "outlinewidth": 0,
              "ticks": ""
             }
            },
            "type": "scatterpolar"
           }
          ],
          "scatterpolargl": [
           {
            "marker": {
             "colorbar": {
              "outlinewidth": 0,
              "ticks": ""
             }
            },
            "type": "scatterpolargl"
           }
          ],
          "scatterternary": [
           {
            "marker": {
             "colorbar": {
              "outlinewidth": 0,
              "ticks": ""
             }
            },
            "type": "scatterternary"
           }
          ],
          "surface": [
           {
            "colorbar": {
             "outlinewidth": 0,
             "ticks": ""
            },
            "colorscale": [
             [
              0,
              "#0d0887"
             ],
             [
              0.1111111111111111,
              "#46039f"
             ],
             [
              0.2222222222222222,
              "#7201a8"
             ],
             [
              0.3333333333333333,
              "#9c179e"
             ],
             [
              0.4444444444444444,
              "#bd3786"
             ],
             [
              0.5555555555555556,
              "#d8576b"
             ],
             [
              0.6666666666666666,
              "#ed7953"
             ],
             [
              0.7777777777777778,
              "#fb9f3a"
             ],
             [
              0.8888888888888888,
              "#fdca26"
             ],
             [
              1,
              "#f0f921"
             ]
            ],
            "type": "surface"
           }
          ],
          "table": [
           {
            "cells": {
             "fill": {
              "color": "#EBF0F8"
             },
             "line": {
              "color": "white"
             }
            },
            "header": {
             "fill": {
              "color": "#C8D4E3"
             },
             "line": {
              "color": "white"
             }
            },
            "type": "table"
           }
          ]
         },
         "layout": {
          "annotationdefaults": {
           "arrowcolor": "#2a3f5f",
           "arrowhead": 0,
           "arrowwidth": 1
          },
          "autotypenumbers": "strict",
          "coloraxis": {
           "colorbar": {
            "outlinewidth": 0,
            "ticks": ""
           }
          },
          "colorscale": {
           "diverging": [
            [
             0,
             "#8e0152"
            ],
            [
             0.1,
             "#c51b7d"
            ],
            [
             0.2,
             "#de77ae"
            ],
            [
             0.3,
             "#f1b6da"
            ],
            [
             0.4,
             "#fde0ef"
            ],
            [
             0.5,
             "#f7f7f7"
            ],
            [
             0.6,
             "#e6f5d0"
            ],
            [
             0.7,
             "#b8e186"
            ],
            [
             0.8,
             "#7fbc41"
            ],
            [
             0.9,
             "#4d9221"
            ],
            [
             1,
             "#276419"
            ]
           ],
           "sequential": [
            [
             0,
             "#0d0887"
            ],
            [
             0.1111111111111111,
             "#46039f"
            ],
            [
             0.2222222222222222,
             "#7201a8"
            ],
            [
             0.3333333333333333,
             "#9c179e"
            ],
            [
             0.4444444444444444,
             "#bd3786"
            ],
            [
             0.5555555555555556,
             "#d8576b"
            ],
            [
             0.6666666666666666,
             "#ed7953"
            ],
            [
             0.7777777777777778,
             "#fb9f3a"
            ],
            [
             0.8888888888888888,
             "#fdca26"
            ],
            [
             1,
             "#f0f921"
            ]
           ],
           "sequentialminus": [
            [
             0,
             "#0d0887"
            ],
            [
             0.1111111111111111,
             "#46039f"
            ],
            [
             0.2222222222222222,
             "#7201a8"
            ],
            [
             0.3333333333333333,
             "#9c179e"
            ],
            [
             0.4444444444444444,
             "#bd3786"
            ],
            [
             0.5555555555555556,
             "#d8576b"
            ],
            [
             0.6666666666666666,
             "#ed7953"
            ],
            [
             0.7777777777777778,
             "#fb9f3a"
            ],
            [
             0.8888888888888888,
             "#fdca26"
            ],
            [
             1,
             "#f0f921"
            ]
           ]
          },
          "colorway": [
           "#636efa",
           "#EF553B",
           "#00cc96",
           "#ab63fa",
           "#FFA15A",
           "#19d3f3",
           "#FF6692",
           "#B6E880",
           "#FF97FF",
           "#FECB52"
          ],
          "font": {
           "color": "#2a3f5f"
          },
          "geo": {
           "bgcolor": "white",
           "lakecolor": "white",
           "landcolor": "#E5ECF6",
           "showlakes": true,
           "showland": true,
           "subunitcolor": "white"
          },
          "hoverlabel": {
           "align": "left"
          },
          "hovermode": "closest",
          "mapbox": {
           "style": "light"
          },
          "paper_bgcolor": "white",
          "plot_bgcolor": "#E5ECF6",
          "polar": {
           "angularaxis": {
            "gridcolor": "white",
            "linecolor": "white",
            "ticks": ""
           },
           "bgcolor": "#E5ECF6",
           "radialaxis": {
            "gridcolor": "white",
            "linecolor": "white",
            "ticks": ""
           }
          },
          "scene": {
           "xaxis": {
            "backgroundcolor": "#E5ECF6",
            "gridcolor": "white",
            "gridwidth": 2,
            "linecolor": "white",
            "showbackground": true,
            "ticks": "",
            "zerolinecolor": "white"
           },
           "yaxis": {
            "backgroundcolor": "#E5ECF6",
            "gridcolor": "white",
            "gridwidth": 2,
            "linecolor": "white",
            "showbackground": true,
            "ticks": "",
            "zerolinecolor": "white"
           },
           "zaxis": {
            "backgroundcolor": "#E5ECF6",
            "gridcolor": "white",
            "gridwidth": 2,
            "linecolor": "white",
            "showbackground": true,
            "ticks": "",
            "zerolinecolor": "white"
           }
          },
          "shapedefaults": {
           "line": {
            "color": "#2a3f5f"
           }
          },
          "ternary": {
           "aaxis": {
            "gridcolor": "white",
            "linecolor": "white",
            "ticks": ""
           },
           "baxis": {
            "gridcolor": "white",
            "linecolor": "white",
            "ticks": ""
           },
           "bgcolor": "#E5ECF6",
           "caxis": {
            "gridcolor": "white",
            "linecolor": "white",
            "ticks": ""
           }
          },
          "title": {
           "x": 0.05
          },
          "xaxis": {
           "automargin": true,
           "gridcolor": "white",
           "linecolor": "white",
           "ticks": "",
           "title": {
            "standoff": 15
           },
           "zerolinecolor": "white",
           "zerolinewidth": 2
          },
          "yaxis": {
           "automargin": true,
           "gridcolor": "white",
           "linecolor": "white",
           "ticks": "",
           "title": {
            "standoff": 15
           },
           "zerolinecolor": "white",
           "zerolinewidth": 2
          }
         }
        },
        "title": {
         "text": "Динамика гос.поддержки по годам"
        },
        "xaxis": {
         "anchor": "y",
         "domain": [
          0,
          1
         ],
         "title": {
          "text": "Год"
         }
        },
        "yaxis": {
         "anchor": "x",
         "domain": [
          0,
          1
         ],
         "title": {
          "text": "Сумма господдержки"
         }
        }
       }
      }
     },
     "metadata": {},
     "output_type": "display_data"
    }
   ],
   "source": [
    "# Создаём копию среза, чтобы избежать предупреждения\n",
    "support_data = data.loc[data['refundable_support'].notna() | data['nonrefundable_support'].notna()].copy()\n",
    "\n",
    "# Добавление нового столбца к копии, а не к виду\n",
    "support_data['support_sum'] = support_data['refundable_support'] + support_data['nonrefundable_support']\n",
    "\n",
    "support_sum = support_data.groupby('year')['support_sum'].sum() / 1e9\n",
    "support_sum_df = support_sum.reset_index()\n",
    "display(support_sum_df.style.background_gradient('Reds'))\n",
    "\n",
    "fig = px.line(\n",
    "\tsupport_sum_df,\n",
    "\tx='year',\n",
    "\ty='support_sum',\n",
    "\tlabels={'year':'Год','support_sum':'Сумма господдержки'},\n",
    "\ttitle='Динамика гос.поддержки по годам',\n",
    "\tmarkers=True\n",
    ")\n",
    "fig.show()"
   ]
  },
  {
   "cell_type": "markdown",
   "metadata": {},
   "source": [
    "1. Мы вывели изменение суммы государственной поддержки по годам, как мы можем видеть данные представленны только с 2013 года, что говорит нам об отсутствии данных о спонсировании фильмов выпущенных до 13года. С 13 года до 16 года наблюдается особенный рост, далее идет спад и движение к максимуму. Максимальное значение государственной поддержки было в 2019 году."
   ]
  },
  {
   "cell_type": "code",
   "execution_count": 35,
   "metadata": {},
   "outputs": [
    {
     "data": {
      "application/vnd.plotly.v1+json": {
       "config": {
        "plotlyServerURL": "https://plot.ly"
       },
       "data": [
        {
         "hovertemplate": "Год=%{x}<br>Сумма господдержки=%{y}<extra></extra>",
         "legendgroup": "",
         "line": {
          "color": "#636efa",
          "dash": "solid"
         },
         "marker": {
          "symbol": "circle"
         },
         "mode": "lines+markers",
         "name": "",
         "orientation": "v",
         "showlegend": false,
         "type": "scatter",
         "x": [
          2013,
          2014,
          2015,
          2016,
          2017,
          2018,
          2019
         ],
         "xaxis": "x",
         "y": [
          0.134347945,
          0.572002299,
          3.656241459,
          4.303155482,
          3.183971662,
          3.446969465,
          4.349
         ],
         "yaxis": "y"
        },
        {
         "line": {
          "dash": "solid",
          "shape": "linear"
         },
         "mode": "lines+markers",
         "name": "Гос. поддержка",
         "type": "scatter",
         "x": [
          2013,
          2014,
          2015,
          2016,
          2017,
          2018,
          2019
         ],
         "y": [
          134347945,
          572002299,
          3656241459,
          4303155482,
          3183971662,
          3446969465,
          4349000000
         ]
        },
        {
         "line": {
          "dash": "solid",
          "shape": "linear"
         },
         "mode": "lines+markers",
         "name": "Кассовые сборы",
         "type": "scatter",
         "x": [
          2013,
          2014,
          2015,
          2016,
          2017,
          2018,
          2019
         ],
         "y": [
          255435390,
          1302484783,
          7738669207,
          7554942748,
          7057172568,
          7000664099,
          11655866609
         ]
        }
       ],
       "layout": {
        "legend": {
         "tracegroupgap": 0
        },
        "template": {
         "data": {
          "bar": [
           {
            "error_x": {
             "color": "#2a3f5f"
            },
            "error_y": {
             "color": "#2a3f5f"
            },
            "marker": {
             "line": {
              "color": "#E5ECF6",
              "width": 0.5
             },
             "pattern": {
              "fillmode": "overlay",
              "size": 10,
              "solidity": 0.2
             }
            },
            "type": "bar"
           }
          ],
          "barpolar": [
           {
            "marker": {
             "line": {
              "color": "#E5ECF6",
              "width": 0.5
             },
             "pattern": {
              "fillmode": "overlay",
              "size": 10,
              "solidity": 0.2
             }
            },
            "type": "barpolar"
           }
          ],
          "carpet": [
           {
            "aaxis": {
             "endlinecolor": "#2a3f5f",
             "gridcolor": "white",
             "linecolor": "white",
             "minorgridcolor": "white",
             "startlinecolor": "#2a3f5f"
            },
            "baxis": {
             "endlinecolor": "#2a3f5f",
             "gridcolor": "white",
             "linecolor": "white",
             "minorgridcolor": "white",
             "startlinecolor": "#2a3f5f"
            },
            "type": "carpet"
           }
          ],
          "choropleth": [
           {
            "colorbar": {
             "outlinewidth": 0,
             "ticks": ""
            },
            "type": "choropleth"
           }
          ],
          "contour": [
           {
            "colorbar": {
             "outlinewidth": 0,
             "ticks": ""
            },
            "colorscale": [
             [
              0,
              "#0d0887"
             ],
             [
              0.1111111111111111,
              "#46039f"
             ],
             [
              0.2222222222222222,
              "#7201a8"
             ],
             [
              0.3333333333333333,
              "#9c179e"
             ],
             [
              0.4444444444444444,
              "#bd3786"
             ],
             [
              0.5555555555555556,
              "#d8576b"
             ],
             [
              0.6666666666666666,
              "#ed7953"
             ],
             [
              0.7777777777777778,
              "#fb9f3a"
             ],
             [
              0.8888888888888888,
              "#fdca26"
             ],
             [
              1,
              "#f0f921"
             ]
            ],
            "type": "contour"
           }
          ],
          "contourcarpet": [
           {
            "colorbar": {
             "outlinewidth": 0,
             "ticks": ""
            },
            "type": "contourcarpet"
           }
          ],
          "heatmap": [
           {
            "colorbar": {
             "outlinewidth": 0,
             "ticks": ""
            },
            "colorscale": [
             [
              0,
              "#0d0887"
             ],
             [
              0.1111111111111111,
              "#46039f"
             ],
             [
              0.2222222222222222,
              "#7201a8"
             ],
             [
              0.3333333333333333,
              "#9c179e"
             ],
             [
              0.4444444444444444,
              "#bd3786"
             ],
             [
              0.5555555555555556,
              "#d8576b"
             ],
             [
              0.6666666666666666,
              "#ed7953"
             ],
             [
              0.7777777777777778,
              "#fb9f3a"
             ],
             [
              0.8888888888888888,
              "#fdca26"
             ],
             [
              1,
              "#f0f921"
             ]
            ],
            "type": "heatmap"
           }
          ],
          "heatmapgl": [
           {
            "colorbar": {
             "outlinewidth": 0,
             "ticks": ""
            },
            "colorscale": [
             [
              0,
              "#0d0887"
             ],
             [
              0.1111111111111111,
              "#46039f"
             ],
             [
              0.2222222222222222,
              "#7201a8"
             ],
             [
              0.3333333333333333,
              "#9c179e"
             ],
             [
              0.4444444444444444,
              "#bd3786"
             ],
             [
              0.5555555555555556,
              "#d8576b"
             ],
             [
              0.6666666666666666,
              "#ed7953"
             ],
             [
              0.7777777777777778,
              "#fb9f3a"
             ],
             [
              0.8888888888888888,
              "#fdca26"
             ],
             [
              1,
              "#f0f921"
             ]
            ],
            "type": "heatmapgl"
           }
          ],
          "histogram": [
           {
            "marker": {
             "pattern": {
              "fillmode": "overlay",
              "size": 10,
              "solidity": 0.2
             }
            },
            "type": "histogram"
           }
          ],
          "histogram2d": [
           {
            "colorbar": {
             "outlinewidth": 0,
             "ticks": ""
            },
            "colorscale": [
             [
              0,
              "#0d0887"
             ],
             [
              0.1111111111111111,
              "#46039f"
             ],
             [
              0.2222222222222222,
              "#7201a8"
             ],
             [
              0.3333333333333333,
              "#9c179e"
             ],
             [
              0.4444444444444444,
              "#bd3786"
             ],
             [
              0.5555555555555556,
              "#d8576b"
             ],
             [
              0.6666666666666666,
              "#ed7953"
             ],
             [
              0.7777777777777778,
              "#fb9f3a"
             ],
             [
              0.8888888888888888,
              "#fdca26"
             ],
             [
              1,
              "#f0f921"
             ]
            ],
            "type": "histogram2d"
           }
          ],
          "histogram2dcontour": [
           {
            "colorbar": {
             "outlinewidth": 0,
             "ticks": ""
            },
            "colorscale": [
             [
              0,
              "#0d0887"
             ],
             [
              0.1111111111111111,
              "#46039f"
             ],
             [
              0.2222222222222222,
              "#7201a8"
             ],
             [
              0.3333333333333333,
              "#9c179e"
             ],
             [
              0.4444444444444444,
              "#bd3786"
             ],
             [
              0.5555555555555556,
              "#d8576b"
             ],
             [
              0.6666666666666666,
              "#ed7953"
             ],
             [
              0.7777777777777778,
              "#fb9f3a"
             ],
             [
              0.8888888888888888,
              "#fdca26"
             ],
             [
              1,
              "#f0f921"
             ]
            ],
            "type": "histogram2dcontour"
           }
          ],
          "mesh3d": [
           {
            "colorbar": {
             "outlinewidth": 0,
             "ticks": ""
            },
            "type": "mesh3d"
           }
          ],
          "parcoords": [
           {
            "line": {
             "colorbar": {
              "outlinewidth": 0,
              "ticks": ""
             }
            },
            "type": "parcoords"
           }
          ],
          "pie": [
           {
            "automargin": true,
            "type": "pie"
           }
          ],
          "scatter": [
           {
            "fillpattern": {
             "fillmode": "overlay",
             "size": 10,
             "solidity": 0.2
            },
            "type": "scatter"
           }
          ],
          "scatter3d": [
           {
            "line": {
             "colorbar": {
              "outlinewidth": 0,
              "ticks": ""
             }
            },
            "marker": {
             "colorbar": {
              "outlinewidth": 0,
              "ticks": ""
             }
            },
            "type": "scatter3d"
           }
          ],
          "scattercarpet": [
           {
            "marker": {
             "colorbar": {
              "outlinewidth": 0,
              "ticks": ""
             }
            },
            "type": "scattercarpet"
           }
          ],
          "scattergeo": [
           {
            "marker": {
             "colorbar": {
              "outlinewidth": 0,
              "ticks": ""
             }
            },
            "type": "scattergeo"
           }
          ],
          "scattergl": [
           {
            "marker": {
             "colorbar": {
              "outlinewidth": 0,
              "ticks": ""
             }
            },
            "type": "scattergl"
           }
          ],
          "scattermapbox": [
           {
            "marker": {
             "colorbar": {
              "outlinewidth": 0,
              "ticks": ""
             }
            },
            "type": "scattermapbox"
           }
          ],
          "scatterpolar": [
           {
            "marker": {
             "colorbar": {
              "outlinewidth": 0,
              "ticks": ""
             }
            },
            "type": "scatterpolar"
           }
          ],
          "scatterpolargl": [
           {
            "marker": {
             "colorbar": {
              "outlinewidth": 0,
              "ticks": ""
             }
            },
            "type": "scatterpolargl"
           }
          ],
          "scatterternary": [
           {
            "marker": {
             "colorbar": {
              "outlinewidth": 0,
              "ticks": ""
             }
            },
            "type": "scatterternary"
           }
          ],
          "surface": [
           {
            "colorbar": {
             "outlinewidth": 0,
             "ticks": ""
            },
            "colorscale": [
             [
              0,
              "#0d0887"
             ],
             [
              0.1111111111111111,
              "#46039f"
             ],
             [
              0.2222222222222222,
              "#7201a8"
             ],
             [
              0.3333333333333333,
              "#9c179e"
             ],
             [
              0.4444444444444444,
              "#bd3786"
             ],
             [
              0.5555555555555556,
              "#d8576b"
             ],
             [
              0.6666666666666666,
              "#ed7953"
             ],
             [
              0.7777777777777778,
              "#fb9f3a"
             ],
             [
              0.8888888888888888,
              "#fdca26"
             ],
             [
              1,
              "#f0f921"
             ]
            ],
            "type": "surface"
           }
          ],
          "table": [
           {
            "cells": {
             "fill": {
              "color": "#EBF0F8"
             },
             "line": {
              "color": "white"
             }
            },
            "header": {
             "fill": {
              "color": "#C8D4E3"
             },
             "line": {
              "color": "white"
             }
            },
            "type": "table"
           }
          ]
         },
         "layout": {
          "annotationdefaults": {
           "arrowcolor": "#2a3f5f",
           "arrowhead": 0,
           "arrowwidth": 1
          },
          "autotypenumbers": "strict",
          "coloraxis": {
           "colorbar": {
            "outlinewidth": 0,
            "ticks": ""
           }
          },
          "colorscale": {
           "diverging": [
            [
             0,
             "#8e0152"
            ],
            [
             0.1,
             "#c51b7d"
            ],
            [
             0.2,
             "#de77ae"
            ],
            [
             0.3,
             "#f1b6da"
            ],
            [
             0.4,
             "#fde0ef"
            ],
            [
             0.5,
             "#f7f7f7"
            ],
            [
             0.6,
             "#e6f5d0"
            ],
            [
             0.7,
             "#b8e186"
            ],
            [
             0.8,
             "#7fbc41"
            ],
            [
             0.9,
             "#4d9221"
            ],
            [
             1,
             "#276419"
            ]
           ],
           "sequential": [
            [
             0,
             "#0d0887"
            ],
            [
             0.1111111111111111,
             "#46039f"
            ],
            [
             0.2222222222222222,
             "#7201a8"
            ],
            [
             0.3333333333333333,
             "#9c179e"
            ],
            [
             0.4444444444444444,
             "#bd3786"
            ],
            [
             0.5555555555555556,
             "#d8576b"
            ],
            [
             0.6666666666666666,
             "#ed7953"
            ],
            [
             0.7777777777777778,
             "#fb9f3a"
            ],
            [
             0.8888888888888888,
             "#fdca26"
            ],
            [
             1,
             "#f0f921"
            ]
           ],
           "sequentialminus": [
            [
             0,
             "#0d0887"
            ],
            [
             0.1111111111111111,
             "#46039f"
            ],
            [
             0.2222222222222222,
             "#7201a8"
            ],
            [
             0.3333333333333333,
             "#9c179e"
            ],
            [
             0.4444444444444444,
             "#bd3786"
            ],
            [
             0.5555555555555556,
             "#d8576b"
            ],
            [
             0.6666666666666666,
             "#ed7953"
            ],
            [
             0.7777777777777778,
             "#fb9f3a"
            ],
            [
             0.8888888888888888,
             "#fdca26"
            ],
            [
             1,
             "#f0f921"
            ]
           ]
          },
          "colorway": [
           "#636efa",
           "#EF553B",
           "#00cc96",
           "#ab63fa",
           "#FFA15A",
           "#19d3f3",
           "#FF6692",
           "#B6E880",
           "#FF97FF",
           "#FECB52"
          ],
          "font": {
           "color": "#2a3f5f"
          },
          "geo": {
           "bgcolor": "white",
           "lakecolor": "white",
           "landcolor": "#E5ECF6",
           "showlakes": true,
           "showland": true,
           "subunitcolor": "white"
          },
          "hoverlabel": {
           "align": "left"
          },
          "hovermode": "closest",
          "mapbox": {
           "style": "light"
          },
          "paper_bgcolor": "white",
          "plot_bgcolor": "#E5ECF6",
          "polar": {
           "angularaxis": {
            "gridcolor": "white",
            "linecolor": "white",
            "ticks": ""
           },
           "bgcolor": "#E5ECF6",
           "radialaxis": {
            "gridcolor": "white",
            "linecolor": "white",
            "ticks": ""
           }
          },
          "scene": {
           "xaxis": {
            "backgroundcolor": "#E5ECF6",
            "gridcolor": "white",
            "gridwidth": 2,
            "linecolor": "white",
            "showbackground": true,
            "ticks": "",
            "zerolinecolor": "white"
           },
           "yaxis": {
            "backgroundcolor": "#E5ECF6",
            "gridcolor": "white",
            "gridwidth": 2,
            "linecolor": "white",
            "showbackground": true,
            "ticks": "",
            "zerolinecolor": "white"
           },
           "zaxis": {
            "backgroundcolor": "#E5ECF6",
            "gridcolor": "white",
            "gridwidth": 2,
            "linecolor": "white",
            "showbackground": true,
            "ticks": "",
            "zerolinecolor": "white"
           }
          },
          "shapedefaults": {
           "line": {
            "color": "#2a3f5f"
           }
          },
          "ternary": {
           "aaxis": {
            "gridcolor": "white",
            "linecolor": "white",
            "ticks": ""
           },
           "baxis": {
            "gridcolor": "white",
            "linecolor": "white",
            "ticks": ""
           },
           "bgcolor": "#E5ECF6",
           "caxis": {
            "gridcolor": "white",
            "linecolor": "white",
            "ticks": ""
           }
          },
          "title": {
           "x": 0.05
          },
          "xaxis": {
           "automargin": true,
           "gridcolor": "white",
           "linecolor": "white",
           "ticks": "",
           "title": {
            "standoff": 15
           },
           "zerolinecolor": "white",
           "zerolinewidth": 2
          },
          "yaxis": {
           "automargin": true,
           "gridcolor": "white",
           "linecolor": "white",
           "ticks": "",
           "title": {
            "standoff": 15
           },
           "zerolinecolor": "white",
           "zerolinewidth": 2
          }
         }
        },
        "title": {
         "text": "Сравнение государственной поддержки и кассовых сборов по годам"
        },
        "xaxis": {
         "anchor": "y",
         "domain": [
          0,
          1
         ],
         "title": {
          "text": "Год"
         }
        },
        "yaxis": {
         "anchor": "x",
         "domain": [
          0,
          1
         ],
         "title": {
          "text": "Сумма"
         }
        }
       }
      }
     },
     "metadata": {},
     "output_type": "display_data"
    }
   ],
   "source": [
    "# счтроим новые срезы для визуализации\n",
    "support_sum_by_year = support_data.groupby('year')['support_sum'].sum().reset_index()\n",
    "budget_sum_by_year = support_data.groupby('year')['correct_budget'].sum().reset_index()\n",
    "\n",
    "# график государственной поддержки\n",
    "fig.add_trace(go.Scatter(x=support_sum_by_year['year'], \n",
    "                         y=support_sum_by_year['support_sum'], \n",
    "                         mode='lines+markers', \n",
    "                         name='Гос. поддержка',\n",
    "                         line=dict(shape='linear', dash='solid')))\n",
    "\n",
    "#график кассовых сборов\n",
    "fig.add_trace(go.Scatter(x=budget_sum_by_year['year'], \n",
    "                         y=budget_sum_by_year['correct_budget'], \n",
    "                         mode='lines+markers', \n",
    "                         name='Кассовые сборы',\n",
    "                         line=dict(shape='linear', dash='solid')))\n",
    "\n",
    "# подписи осей\n",
    "fig.update_layout(title='Сравнение государственной поддержки и кассовых сборов по годам',\n",
    "                  xaxis_title='Год',\n",
    "                  yaxis_title='Сумма',\n",
    "                  template='plotly')\n",
    "\n",
    "# вывод\n",
    "fig.show()"
   ]
  },
  {
   "cell_type": "markdown",
   "metadata": {},
   "source": [
    "2. Мы вывели таблицу с показателями изменения суммы государственной поддержки по годам, на основе которой был сформирован график, демонсрирующий общий путь изменений. Исходя из данных представленных на графике можно сказать, что общая закономерность и динамика наблюдается лишь в период с 13 года по 16 год. Именно в этот период времени государственная поддержка и сумма кассовых сборов увеличивались паралельно. В показателях кассовых сборов динамика сохранялась растущей до 17 года, после чего пошла на спад. Также стоит сказать, что сумма кассовых сборов практически всегда превышала сумму государственной поддержки, не считая показателей за 2013 год."
   ]
  },
  {
   "cell_type": "code",
   "execution_count": 36,
   "metadata": {},
   "outputs": [
    {
     "data": {
      "image/png": "[encoded data removed]",
      "text/plain": [
       "<Figure size 1500x800 with 1 Axes>"
      ]
     },
     "metadata": {},
     "output_type": "display_data"
    }
   ],
   "source": [
    "# датафрейм со строками без пропусков в столбце `budget` \n",
    "budget = data[data['correct_budget'].notna()].copy()\n",
    "#budget[budget['box_office'].isna()]\n",
    "budget = budget[budget['box_office'].notna()]\n",
    "#budget[budget['box_office'].isna()]\n",
    "budget = budget[budget['ratings'].notna()]\n",
    "\n",
    "# сумма государственной поддержки\n",
    "budget['sum_support'] = budget['refundable_support'] + budget['nonrefundable_support']\n",
    "# разность кассовых сборов и общего бюджета фильма, то есть общий доход фильма\n",
    "budget['income'] = budget['box_office'] - budget['correct_budget']\n",
    "\n",
    "budget.groupby('year')['income'].sum().plot(kind='bar', title = 'Доход фильмов с государственной поддержкой', grid = True, figsize=(15,8))\n",
    "plt.show()"
   ]
  },
  {
   "cell_type": "markdown",
   "metadata": {},
   "source": [
    "3. Мы вывели столбчатую диаграмму в которой продемонстрирован общий доход фильмов по годам. В качестве дохода мы расчитали разность кассовых сборов фильмов и общего бюджета этих фильмов. Как мы можем видеть, в большей степени доходными стали фильмы выпущенные в 2017 и 2018 годах. Остальные фильмы потеряли в доходе относительно бюджета, больше всего потеряли в доходе фильмы выпущенные в 2019 году."
   ]
  },
  {
   "cell_type": "code",
   "execution_count": 37,
   "metadata": {},
   "outputs": [
    {
     "name": "stdout",
     "output_type": "stream",
     "text": [
      "Корреляция между суммой поддержки и доходом фильма 0.09700914613609835\n",
      "Корреляция между суммой поддержки и бюджетом фильма 0.7141819143120117\n",
      "Корреляция между суммой дохода и суммой кассовых сборов 0.8319468052890169\n"
     ]
    }
   ],
   "source": [
    "print(f\"Корреляция между суммой поддержки и доходом фильма {budget['sum_support'].corr(budget['income'])}\")\n",
    "\n",
    "print(f\"Корреляция между суммой поддержки и бюджетом фильма {budget['sum_support'].corr(budget['correct_budget'])}\")\n",
    "\n",
    "print(f\"Корреляция между суммой дохода и суммой кассовых сборов {budget['income'].corr(budget['box_office'])}\")"
   ]
  },
  {
   "cell_type": "markdown",
   "metadata": {},
   "source": [
    "Мы видим вполне объяснимые связи между суммой поддержки и бюджетом фильма, так как гос.поддержка явно является основной частью бюджета большинства фильмов."
   ]
  },
  {
   "cell_type": "code",
   "execution_count": 38,
   "metadata": {},
   "outputs": [
    {
     "data": {
      "text/plain": [
       "(0.0, 200000000.0)"
      ]
     },
     "execution_count": 38,
     "metadata": {},
     "output_type": "execute_result"
    },
    {
     "data": {
      "image/png": "[encoded data removed]",
      "text/plain": [
       "<Figure size 640x480 with 1 Axes>"
      ]
     },
     "metadata": {},
     "output_type": "display_data"
    }
   ],
   "source": [
    "# строим диаграмму рассеивания\n",
    "budget.plot(kind='scatter', x='sum_support', y='budget', alpha=0.7)\n",
    "plt.title('Диаграмма заимосвязи бюджета и суммы государственной поддержки')\n",
    "plt.xlim(0, 1e8)\n",
    "plt.ylim(0, 0.2e9)"
   ]
  },
  {
   "cell_type": "markdown",
   "metadata": {},
   "source": [
    "Также исходя из данных таблицы мы видим, что в датафрейме присудствует заимосвязь между доходами фильмов и суммой кассовых сборов."
   ]
  },
  {
   "cell_type": "code",
   "execution_count": 39,
   "metadata": {},
   "outputs": [
    {
     "data": {
      "image/png": "[encoded data removed]",
      "text/plain": [
       "<Figure size 640x480 with 1 Axes>"
      ]
     },
     "metadata": {},
     "output_type": "display_data"
    }
   ],
   "source": [
    "budget.plot(kind='scatter', x='income', y='box_office')\n",
    "plt.xlim(-0.1e9,0.3e8)\n",
    "plt.ylim(-0.1e7, 0.4e7)\n",
    "plt.show()"
   ]
  },
  {
   "cell_type": "markdown",
   "metadata": {},
   "source": [
    "Не смотря на весьма значительный показатель корелляции доходов и кассовых сборов (~0.83), на граффике она выражена нечетко."
   ]
  },
  {
   "cell_type": "markdown",
   "metadata": {},
   "source": [
    "**Вывод:**\n",
    "\n",
    "У некоторых показателей датафрейма весьма большая корреляция что говорит нам о плотной заимосвязи аспектов. (доходы - кассовые сборы, бюджет - сумма государственной поддержки)"
   ]
  },
  {
   "cell_type": "markdown",
   "metadata": {
    "id": "V2gYwMcPgFyd"
   },
   "source": [
    "### Шаг 5. Общий вывод"
   ]
  },
  {
   "cell_type": "markdown",
   "metadata": {
    "id": "AYRg3dzXgFye"
   },
   "source": [
    "#### Вывод данных\n",
    "\n",
    "- мы объединили данные двух таблиц в одну\n",
    "- вывели датафрейм \n",
    "\n",
    "#### Предобработка данных\n",
    "\n",
    "- Изменили тип данных в столбце с датой и временем премьеры фильма\n",
    "- Удалили и заменили пропуски в датафрейме\n",
    "- Исправили ошибки и удалили дубликаты\n",
    "- создали новые столбцы:\n",
    "   -- 'correct_budget'\n",
    "   -- 'year'\n",
    "   -- 'main_director'\n",
    "   -- 'main_genres'\n",
    "   -- 'budget_share'\n",
    "\n",
    "#### Исследовательский анализ данных\n",
    "\n",
    "- фильмы, выпущенные в период с 2015 по 2019, имеют куда больший процент показов в кинотеатрах чем фильмы выпущенные в другие периоды времени. \n",
    "\n",
    "- в 2018 году была достигнута отметка максимальной суммы кассовых сборов, минимальное значение приходилось на 2010 год. Общая динамика положительная, с каждым годом сумма кассовых сборов росла.\n",
    "   -- максимальное значение кассовых сборов - 2018 год\n",
    "   -- минимальное значение кассовых сборов - 2010 год\n",
    "   -- минимальное значение в период самых больших показов в кино - 2015 год.\n",
    "\n",
    "- особой популярностью в сумме за весь период времени пользуются фильмы с возрастным ограничением в 16+ и 12+. В период с 2016 по 2018 год самыми популярными были фильмы именно с рейтингом 16+. Также, мы можем увидеть закономерные падения на отметке в 18+ каждый год. Самый же низкий показатель у фильмов с возрастным ограничением 0+.\n",
    "\n",
    "- с 13 года до 16 года наблюдается особенный рост государственной поддержки фильмов, далее идет спад и снова движение к максимуму. Максимальное значение государственной поддержки было в 2019 году.\n",
    "\n",
    "- сумма кассовых сборов практически всегда превышала сумму государственной поддержки, не считая показателей за 2013 год.\n",
    "\n",
    "-  в большей степени доходными стали фильмы выпущенные в 2017 и 2018 годах. Остальные фильмы потеряли в доходе относительно бюджета, больше всего потеряли в доходе фильмы выпущенные в 2019 году.\n",
    "\n",
    "В ходе исследовательского анализа мы выснили, что государственная поддержка фильмов с 2013 года росла, не смотря на это, не все фильмы с большой государственной поддержкой смогли окупить затраты благодаря кассовым сборам в кинотеатрах, хотя сама сумма этих сборов росла. Это говрит нам о росте бюджетов фильмов, который не соответстует росту кассовых сборов, однако динамика у обоих показателей положительна от года к году.\n",
    "\n",
    "Рост количества показов фильмов в кино, также говорит нам о первоначальной цели руководств собрать больший процент сборов в кино. Если брать данную цель за основу, то можно сказать, что у большинства команд цель не была достигнута, так как сборы в кино не покрыли затраченного бюджета, кроме большинства фильмов выпущенных в 2017 и 2018 годах. \n",
    "\n",
    "Среди населения более популярными считаются картины с возрастным ограничением 16+ расчитанные на семейный просмотр и подростков."
   ]
  }
 ],
 "metadata": {
  "ExecuteTimeLog": [
   {
    "duration": 537,
    "start_time": "2021-07-07T10:12:08.634Z"
   },
   {
    "duration": 206,
    "start_time": "2021-07-07T10:12:30.191Z"
   },
   {
    "duration": 227,
    "start_time": "2021-07-07T10:12:33.078Z"
   },
   {
    "duration": 153,
    "start_time": "2021-07-07T10:13:42.146Z"
   },
   {
    "duration": 233,
    "start_time": "2021-07-07T10:30:09.252Z"
   },
   {
    "duration": 19,
    "start_time": "2021-07-07T10:30:15.577Z"
   },
   {
    "duration": 18,
    "start_time": "2021-07-07T10:30:57.348Z"
   },
   {
    "duration": 19,
    "start_time": "2021-07-07T10:31:17.452Z"
   },
   {
    "duration": 21,
    "start_time": "2021-07-07T10:31:32.227Z"
   },
   {
    "duration": 27,
    "start_time": "2021-07-07T10:32:06.588Z"
   },
   {
    "duration": 23,
    "start_time": "2021-07-07T10:32:43.645Z"
   },
   {
    "duration": 24,
    "start_time": "2021-07-07T10:33:06.948Z"
   },
   {
    "duration": 7,
    "start_time": "2021-07-07T10:33:28.558Z"
   },
   {
    "duration": 23,
    "start_time": "2021-07-07T10:33:43.761Z"
   },
   {
    "duration": 28,
    "start_time": "2021-07-07T10:34:13.466Z"
   },
   {
    "duration": 23,
    "start_time": "2021-07-07T10:35:56.187Z"
   },
   {
    "duration": 6,
    "start_time": "2021-07-07T10:36:48.182Z"
   },
   {
    "duration": 14,
    "start_time": "2021-07-07T10:37:49.641Z"
   },
   {
    "duration": 6,
    "start_time": "2021-07-07T10:38:06.694Z"
   },
   {
    "duration": 6,
    "start_time": "2021-07-07T10:38:13.493Z"
   },
   {
    "duration": 19,
    "start_time": "2021-07-07T10:38:44.056Z"
   },
   {
    "duration": 186,
    "start_time": "2021-07-07T10:48:35.618Z"
   },
   {
    "duration": 24,
    "start_time": "2021-07-07T10:48:51.498Z"
   },
   {
    "duration": 20,
    "start_time": "2021-07-07T10:48:59.415Z"
   },
   {
    "duration": 20,
    "start_time": "2021-07-07T10:53:02.195Z"
   },
   {
    "duration": 188,
    "start_time": "2021-07-07T10:54:40.486Z"
   },
   {
    "duration": 115,
    "start_time": "2021-07-07T10:54:52.552Z"
   },
   {
    "duration": 214,
    "start_time": "2021-07-07T10:54:56.354Z"
   },
   {
    "duration": 47,
    "start_time": "2021-07-07T10:54:58.282Z"
   },
   {
    "duration": 217,
    "start_time": "2021-07-07T10:59:16.075Z"
   },
   {
    "duration": 51,
    "start_time": "2021-07-07T10:59:16.243Z"
   },
   {
    "duration": 578,
    "start_time": "2021-07-07T10:59:18.774Z"
   },
   {
    "duration": 161,
    "start_time": "2021-07-07T10:59:21.238Z"
   },
   {
    "duration": 59,
    "start_time": "2021-07-07T10:59:21.453Z"
   },
   {
    "duration": 3,
    "start_time": "2021-07-07T11:02:10.786Z"
   },
   {
    "duration": 13,
    "start_time": "2021-07-07T11:07:07.722Z"
   },
   {
    "duration": 26,
    "start_time": "2021-07-07T11:07:17.958Z"
   },
   {
    "duration": 22,
    "start_time": "2021-07-07T11:08:17.939Z"
   },
   {
    "duration": 212,
    "start_time": "2021-07-07T11:08:19.665Z"
   },
   {
    "duration": 21,
    "start_time": "2021-07-07T11:08:29.945Z"
   },
   {
    "duration": 31,
    "start_time": "2021-07-07T11:08:38.899Z"
   },
   {
    "duration": 23,
    "start_time": "2021-07-07T11:08:54.527Z"
   },
   {
    "duration": 8,
    "start_time": "2021-07-07T11:18:55.974Z"
   },
   {
    "duration": 7,
    "start_time": "2021-07-07T11:19:03.639Z"
   },
   {
    "duration": 7,
    "start_time": "2021-07-07T11:19:06.444Z"
   },
   {
    "duration": 578,
    "start_time": "2021-07-07T12:09:59.576Z"
   },
   {
    "duration": 195,
    "start_time": "2021-07-07T12:10:00.156Z"
   },
   {
    "duration": 115,
    "start_time": "2021-07-07T12:10:00.353Z"
   },
   {
    "duration": 3,
    "start_time": "2021-07-07T12:10:00.470Z"
   },
   {
    "duration": 32,
    "start_time": "2021-07-07T12:10:00.474Z"
   },
   {
    "duration": 23,
    "start_time": "2021-07-07T12:10:00.508Z"
   },
   {
    "duration": 19,
    "start_time": "2021-07-07T12:10:00.533Z"
   },
   {
    "duration": 44,
    "start_time": "2021-07-07T12:10:00.553Z"
   },
   {
    "duration": 7,
    "start_time": "2021-07-07T12:10:00.600Z"
   },
   {
    "duration": 7,
    "start_time": "2021-07-07T12:19:45.761Z"
   },
   {
    "duration": 21,
    "start_time": "2021-07-07T12:21:35.482Z"
   },
   {
    "duration": 21,
    "start_time": "2021-07-07T12:29:23.569Z"
   },
   {
    "duration": 525,
    "start_time": "2021-07-07T12:29:44.542Z"
   },
   {
    "duration": 214,
    "start_time": "2021-07-07T12:29:45.069Z"
   },
   {
    "duration": 92,
    "start_time": "2021-07-07T12:29:45.285Z"
   },
   {
    "duration": 3,
    "start_time": "2021-07-07T12:29:45.379Z"
   },
   {
    "duration": 28,
    "start_time": "2021-07-07T12:29:45.384Z"
   },
   {
    "duration": 23,
    "start_time": "2021-07-07T12:29:45.413Z"
   },
   {
    "duration": 21,
    "start_time": "2021-07-07T12:29:45.437Z"
   },
   {
    "duration": 41,
    "start_time": "2021-07-07T12:29:45.460Z"
   },
   {
    "duration": 7,
    "start_time": "2021-07-07T12:29:45.502Z"
   },
   {
    "duration": 20,
    "start_time": "2021-07-07T12:29:45.511Z"
   },
   {
    "duration": 12,
    "start_time": "2021-07-07T12:34:02.800Z"
   },
   {
    "duration": 7,
    "start_time": "2021-07-07T12:35:10.479Z"
   },
   {
    "duration": 8,
    "start_time": "2021-07-07T12:35:22.440Z"
   },
   {
    "duration": 6,
    "start_time": "2021-07-07T12:35:35.649Z"
   },
   {
    "duration": 6,
    "start_time": "2021-07-07T12:35:43.107Z"
   },
   {
    "duration": 22,
    "start_time": "2021-07-07T12:38:03.029Z"
   },
   {
    "duration": 10,
    "start_time": "2021-07-07T12:38:06.592Z"
   },
   {
    "duration": 563,
    "start_time": "2021-07-07T12:38:46.493Z"
   },
   {
    "duration": 265,
    "start_time": "2021-07-07T12:38:47.058Z"
   },
   {
    "duration": 94,
    "start_time": "2021-07-07T12:38:47.325Z"
   },
   {
    "duration": 3,
    "start_time": "2021-07-07T12:38:47.422Z"
   },
   {
    "duration": 30,
    "start_time": "2021-07-07T12:38:47.427Z"
   },
   {
    "duration": 16,
    "start_time": "2021-07-07T12:38:53.305Z"
   },
   {
    "duration": 10,
    "start_time": "2021-07-07T12:38:53.499Z"
   },
   {
    "duration": 8,
    "start_time": "2021-07-07T12:39:48.161Z"
   },
   {
    "duration": 27,
    "start_time": "2021-07-07T12:41:17.629Z"
   },
   {
    "duration": 17,
    "start_time": "2021-07-07T12:41:17.867Z"
   },
   {
    "duration": 21,
    "start_time": "2021-07-07T12:41:19.310Z"
   },
   {
    "duration": 7,
    "start_time": "2021-07-07T12:41:19.544Z"
   },
   {
    "duration": 20,
    "start_time": "2021-07-07T12:41:20.504Z"
   },
   {
    "duration": 554,
    "start_time": "2021-07-07T12:56:23.696Z"
   },
   {
    "duration": 200,
    "start_time": "2021-07-07T12:56:25.234Z"
   },
   {
    "duration": 119,
    "start_time": "2021-07-07T12:56:25.480Z"
   },
   {
    "duration": 4,
    "start_time": "2021-07-07T12:56:25.762Z"
   },
   {
    "duration": 26,
    "start_time": "2021-07-07T12:56:27.172Z"
   },
   {
    "duration": 12,
    "start_time": "2021-07-07T12:56:29.051Z"
   },
   {
    "duration": 10,
    "start_time": "2021-07-07T12:56:29.291Z"
   },
   {
    "duration": 8,
    "start_time": "2021-07-07T12:56:29.623Z"
   },
   {
    "duration": 28,
    "start_time": "2021-07-07T12:56:32.137Z"
   },
   {
    "duration": 19,
    "start_time": "2021-07-07T12:56:39.785Z"
   },
   {
    "duration": 20,
    "start_time": "2021-07-07T12:56:44.297Z"
   },
   {
    "duration": 7,
    "start_time": "2021-07-07T12:56:45.392Z"
   },
   {
    "duration": 23,
    "start_time": "2021-07-07T12:56:46.615Z"
   },
   {
    "duration": 4,
    "start_time": "2021-07-07T12:57:06.625Z"
   },
   {
    "duration": 32,
    "start_time": "2021-07-07T12:57:36.690Z"
   },
   {
    "duration": 18,
    "start_time": "2021-07-07T12:58:00.149Z"
   },
   {
    "duration": 15,
    "start_time": "2021-07-07T12:59:16.793Z"
   },
   {
    "duration": 7,
    "start_time": "2021-07-07T13:19:22.624Z"
   },
   {
    "duration": 6,
    "start_time": "2021-07-07T14:17:33.527Z"
   },
   {
    "duration": 9,
    "start_time": "2021-07-07T14:17:48.409Z"
   },
   {
    "duration": 8,
    "start_time": "2021-07-07T14:20:13.060Z"
   },
   {
    "duration": 8,
    "start_time": "2021-07-07T14:20:37.957Z"
   },
   {
    "duration": 8,
    "start_time": "2021-07-07T14:20:47.470Z"
   },
   {
    "duration": 9,
    "start_time": "2021-07-07T14:20:54.503Z"
   },
   {
    "duration": 10,
    "start_time": "2021-07-07T14:28:57.763Z"
   },
   {
    "duration": 3,
    "start_time": "2021-07-07T14:30:23.377Z"
   },
   {
    "duration": 3,
    "start_time": "2021-07-07T14:30:36.489Z"
   },
   {
    "duration": 103,
    "start_time": "2021-07-07T14:30:52.351Z"
   },
   {
    "duration": 8,
    "start_time": "2021-07-07T14:30:54.763Z"
   },
   {
    "duration": 8,
    "start_time": "2021-07-07T14:31:29.301Z"
   },
   {
    "duration": 13,
    "start_time": "2021-07-07T14:31:44.516Z"
   },
   {
    "duration": 7,
    "start_time": "2021-07-07T14:33:10.972Z"
   },
   {
    "duration": 11,
    "start_time": "2021-07-07T14:33:27.780Z"
   },
   {
    "duration": 8,
    "start_time": "2021-07-07T14:34:44.588Z"
   },
   {
    "duration": 57,
    "start_time": "2021-07-07T14:35:59.042Z"
   },
   {
    "duration": 3,
    "start_time": "2021-07-07T14:36:28.168Z"
   },
   {
    "duration": 5,
    "start_time": "2021-07-07T14:36:46.254Z"
   },
   {
    "duration": 4,
    "start_time": "2021-07-07T14:36:52.714Z"
   },
   {
    "duration": 3,
    "start_time": "2021-07-07T14:36:56.612Z"
   },
   {
    "duration": 4,
    "start_time": "2021-07-07T14:36:57.049Z"
   },
   {
    "duration": 3,
    "start_time": "2021-07-07T14:39:21.214Z"
   },
   {
    "duration": 7,
    "start_time": "2021-07-07T14:39:52.406Z"
   },
   {
    "duration": 11,
    "start_time": "2021-07-07T14:39:58.576Z"
   },
   {
    "duration": 9,
    "start_time": "2021-07-07T14:40:26.301Z"
   },
   {
    "duration": 10,
    "start_time": "2021-07-07T14:40:31.704Z"
   },
   {
    "duration": 11,
    "start_time": "2021-07-07T14:40:36.249Z"
   },
   {
    "duration": 10,
    "start_time": "2021-07-07T14:40:39.783Z"
   },
   {
    "duration": 9,
    "start_time": "2021-07-07T14:40:48.558Z"
   },
   {
    "duration": 10,
    "start_time": "2021-07-07T14:40:57.143Z"
   },
   {
    "duration": 9,
    "start_time": "2021-07-07T14:41:06.074Z"
   },
   {
    "duration": 4324,
    "start_time": "2021-07-07T14:41:22.004Z"
   },
   {
    "duration": 11,
    "start_time": "2021-07-07T14:41:33.392Z"
   },
   {
    "duration": 9,
    "start_time": "2021-07-07T14:41:39.288Z"
   },
   {
    "duration": 569,
    "start_time": "2021-07-07T14:42:14.387Z"
   },
   {
    "duration": 197,
    "start_time": "2021-07-07T14:42:14.959Z"
   },
   {
    "duration": 84,
    "start_time": "2021-07-07T14:42:16.052Z"
   },
   {
    "duration": 4,
    "start_time": "2021-07-07T14:42:16.900Z"
   },
   {
    "duration": 27,
    "start_time": "2021-07-07T14:42:19.898Z"
   },
   {
    "duration": 12,
    "start_time": "2021-07-07T14:42:21.577Z"
   },
   {
    "duration": 9,
    "start_time": "2021-07-07T14:42:21.813Z"
   },
   {
    "duration": 9,
    "start_time": "2021-07-07T14:42:22.569Z"
   },
   {
    "duration": 29,
    "start_time": "2021-07-07T14:42:25.837Z"
   },
   {
    "duration": 20,
    "start_time": "2021-07-07T14:42:27.003Z"
   },
   {
    "duration": 21,
    "start_time": "2021-07-07T14:42:28.767Z"
   },
   {
    "duration": 7,
    "start_time": "2021-07-07T14:42:29.838Z"
   },
   {
    "duration": 4,
    "start_time": "2021-07-07T14:43:25.493Z"
   },
   {
    "duration": 7,
    "start_time": "2021-07-07T14:43:26.573Z"
   },
   {
    "duration": 10,
    "start_time": "2021-07-07T14:43:31.639Z"
   },
   {
    "duration": 9,
    "start_time": "2021-07-07T14:43:32.046Z"
   },
   {
    "duration": 10,
    "start_time": "2021-07-07T14:43:33.301Z"
   },
   {
    "duration": 12,
    "start_time": "2021-07-07T14:43:33.658Z"
   },
   {
    "duration": 8,
    "start_time": "2021-07-07T14:43:34.552Z"
   },
   {
    "duration": 9,
    "start_time": "2021-07-07T14:43:35.058Z"
   },
   {
    "duration": 12,
    "start_time": "2021-07-07T14:43:35.914Z"
   },
   {
    "duration": 17,
    "start_time": "2021-07-07T14:45:34.368Z"
   },
   {
    "duration": 512,
    "start_time": "2021-07-07T14:51:58.236Z"
   },
   {
    "duration": 223,
    "start_time": "2021-07-07T14:51:58.750Z"
   },
   {
    "duration": 93,
    "start_time": "2021-07-07T14:51:58.977Z"
   },
   {
    "duration": 4,
    "start_time": "2021-07-07T14:51:59.071Z"
   },
   {
    "duration": 37,
    "start_time": "2021-07-07T14:51:59.077Z"
   },
   {
    "duration": 18,
    "start_time": "2021-07-07T14:51:59.116Z"
   },
   {
    "duration": 10,
    "start_time": "2021-07-07T14:51:59.137Z"
   },
   {
    "duration": 8,
    "start_time": "2021-07-07T14:51:59.149Z"
   },
   {
    "duration": 54,
    "start_time": "2021-07-07T14:51:59.158Z"
   },
   {
    "duration": 18,
    "start_time": "2021-07-07T14:51:59.213Z"
   },
   {
    "duration": 22,
    "start_time": "2021-07-07T14:51:59.232Z"
   },
   {
    "duration": 36,
    "start_time": "2021-07-07T14:51:59.255Z"
   },
   {
    "duration": 7,
    "start_time": "2021-07-07T14:51:59.293Z"
   },
   {
    "duration": 10,
    "start_time": "2021-07-07T14:51:59.302Z"
   },
   {
    "duration": 9,
    "start_time": "2021-07-07T14:51:59.313Z"
   },
   {
    "duration": 11,
    "start_time": "2021-07-07T14:51:59.324Z"
   },
   {
    "duration": 8,
    "start_time": "2021-07-07T14:51:59.337Z"
   },
   {
    "duration": 46,
    "start_time": "2021-07-07T14:51:59.347Z"
   },
   {
    "duration": 22,
    "start_time": "2021-07-07T14:51:59.395Z"
   },
   {
    "duration": 24,
    "start_time": "2021-07-07T14:57:32.911Z"
   },
   {
    "duration": 7,
    "start_time": "2021-07-07T14:58:22.070Z"
   },
   {
    "duration": 4,
    "start_time": "2021-07-07T14:59:11.239Z"
   },
   {
    "duration": 25,
    "start_time": "2021-07-07T15:07:22.208Z"
   },
   {
    "duration": 16,
    "start_time": "2021-07-07T15:08:25.560Z"
   },
   {
    "duration": 15,
    "start_time": "2021-07-07T15:08:40.647Z"
   },
   {
    "duration": 14,
    "start_time": "2021-07-07T15:08:46.669Z"
   },
   {
    "duration": 533,
    "start_time": "2021-07-07T15:18:07.440Z"
   },
   {
    "duration": 173,
    "start_time": "2021-07-07T15:18:07.974Z"
   },
   {
    "duration": 84,
    "start_time": "2021-07-07T15:18:08.149Z"
   },
   {
    "duration": 3,
    "start_time": "2021-07-07T15:18:08.235Z"
   },
   {
    "duration": 30,
    "start_time": "2021-07-07T15:18:08.240Z"
   },
   {
    "duration": 22,
    "start_time": "2021-07-07T15:18:08.272Z"
   },
   {
    "duration": 11,
    "start_time": "2021-07-07T15:18:08.295Z"
   },
   {
    "duration": 11,
    "start_time": "2021-07-07T15:18:08.309Z"
   },
   {
    "duration": 40,
    "start_time": "2021-07-07T15:18:08.322Z"
   },
   {
    "duration": 42,
    "start_time": "2021-07-07T15:18:08.364Z"
   },
   {
    "duration": 22,
    "start_time": "2021-07-07T15:18:08.408Z"
   },
   {
    "duration": 5,
    "start_time": "2021-07-07T15:18:08.432Z"
   },
   {
    "duration": 13,
    "start_time": "2021-07-07T15:18:08.439Z"
   },
   {
    "duration": 9,
    "start_time": "2021-07-07T15:18:08.454Z"
   },
   {
    "duration": 32,
    "start_time": "2021-07-07T15:18:08.465Z"
   },
   {
    "duration": 10,
    "start_time": "2021-07-07T15:18:08.501Z"
   },
   {
    "duration": 7,
    "start_time": "2021-07-07T15:18:08.513Z"
   },
   {
    "duration": 11,
    "start_time": "2021-07-07T15:18:08.521Z"
   },
   {
    "duration": 17,
    "start_time": "2021-07-07T15:18:08.534Z"
   },
   {
    "duration": 44,
    "start_time": "2021-07-07T15:18:08.553Z"
   },
   {
    "duration": 22,
    "start_time": "2021-07-07T15:18:08.599Z"
   },
   {
    "duration": 61,
    "start_time": "2021-07-07T15:18:08.622Z"
   },
   {
    "duration": 7,
    "start_time": "2021-07-07T15:18:39.457Z"
   },
   {
    "duration": 5,
    "start_time": "2021-07-07T16:05:17.020Z"
   },
   {
    "duration": 5,
    "start_time": "2021-07-07T16:51:28.794Z"
   },
   {
    "duration": 546,
    "start_time": "2021-07-07T16:52:26.306Z"
   },
   {
    "duration": 203,
    "start_time": "2021-07-07T16:52:27.523Z"
   },
   {
    "duration": 85,
    "start_time": "2021-07-07T16:52:27.736Z"
   },
   {
    "duration": 4,
    "start_time": "2021-07-07T16:52:27.899Z"
   },
   {
    "duration": 25,
    "start_time": "2021-07-07T16:52:28.674Z"
   },
   {
    "duration": 8,
    "start_time": "2021-07-07T16:52:32.956Z"
   },
   {
    "duration": 18,
    "start_time": "2021-07-07T16:52:35.616Z"
   },
   {
    "duration": 6,
    "start_time": "2021-07-07T16:52:36.913Z"
   },
   {
    "duration": 11,
    "start_time": "2021-07-07T16:52:40.258Z"
   },
   {
    "duration": 10,
    "start_time": "2021-07-07T16:52:46.251Z"
   },
   {
    "duration": 8,
    "start_time": "2021-07-07T16:52:47.182Z"
   },
   {
    "duration": 27,
    "start_time": "2021-07-07T16:53:20.391Z"
   },
   {
    "duration": 20,
    "start_time": "2021-07-07T16:53:22.022Z"
   },
   {
    "duration": 23,
    "start_time": "2021-07-07T16:53:23.690Z"
   },
   {
    "duration": 8,
    "start_time": "2021-07-07T16:53:24.261Z"
   },
   {
    "duration": 4,
    "start_time": "2021-07-07T16:53:38.733Z"
   },
   {
    "duration": 7,
    "start_time": "2021-07-07T16:53:40.445Z"
   },
   {
    "duration": 11,
    "start_time": "2021-07-07T16:53:41.348Z"
   },
   {
    "duration": 13,
    "start_time": "2021-07-07T16:53:45.250Z"
   },
   {
    "duration": 12,
    "start_time": "2021-07-07T16:53:45.467Z"
   },
   {
    "duration": 4,
    "start_time": "2021-07-07T16:55:32.704Z"
   },
   {
    "duration": 12,
    "start_time": "2021-07-07T16:55:49.012Z"
   },
   {
    "duration": 18,
    "start_time": "2021-07-07T16:55:49.547Z"
   },
   {
    "duration": 611,
    "start_time": "2021-07-07T16:58:35.156Z"
   },
   {
    "duration": 200,
    "start_time": "2021-07-07T16:58:35.770Z"
   },
   {
    "duration": 86,
    "start_time": "2021-07-07T16:58:35.972Z"
   },
   {
    "duration": 3,
    "start_time": "2021-07-07T16:58:36.060Z"
   },
   {
    "duration": 27,
    "start_time": "2021-07-07T16:58:36.065Z"
   },
   {
    "duration": 8,
    "start_time": "2021-07-07T16:58:36.094Z"
   },
   {
    "duration": 17,
    "start_time": "2021-07-07T16:58:36.103Z"
   },
   {
    "duration": 5,
    "start_time": "2021-07-07T16:58:36.123Z"
   },
   {
    "duration": 11,
    "start_time": "2021-07-07T16:58:36.130Z"
   },
   {
    "duration": 7,
    "start_time": "2021-07-07T16:58:36.143Z"
   },
   {
    "duration": 37,
    "start_time": "2021-07-07T16:58:36.152Z"
   },
   {
    "duration": 27,
    "start_time": "2021-07-07T16:58:36.191Z"
   },
   {
    "duration": 19,
    "start_time": "2021-07-07T16:58:36.219Z"
   },
   {
    "duration": 49,
    "start_time": "2021-07-07T16:58:36.240Z"
   },
   {
    "duration": 6,
    "start_time": "2021-07-07T16:58:36.291Z"
   },
   {
    "duration": 3,
    "start_time": "2021-07-07T16:58:36.299Z"
   },
   {
    "duration": 13,
    "start_time": "2021-07-07T16:58:36.304Z"
   },
   {
    "duration": 10,
    "start_time": "2021-07-07T16:58:36.319Z"
   },
   {
    "duration": 10,
    "start_time": "2021-07-07T16:58:36.331Z"
   },
   {
    "duration": 44,
    "start_time": "2021-07-07T16:58:36.343Z"
   },
   {
    "duration": 4,
    "start_time": "2021-07-07T16:58:36.388Z"
   },
   {
    "duration": 13,
    "start_time": "2021-07-07T16:58:36.394Z"
   },
   {
    "duration": 16,
    "start_time": "2021-07-07T16:58:36.410Z"
   },
   {
    "duration": 8,
    "start_time": "2021-07-07T17:02:31.629Z"
   },
   {
    "duration": 8,
    "start_time": "2021-07-07T17:02:34.308Z"
   },
   {
    "duration": 6,
    "start_time": "2021-07-07T17:05:13.483Z"
   },
   {
    "duration": 17,
    "start_time": "2021-07-07T17:05:20.606Z"
   },
   {
    "duration": 7,
    "start_time": "2021-07-07T17:05:34.638Z"
   },
   {
    "duration": 3,
    "start_time": "2021-07-07T17:06:31.883Z"
   },
   {
    "duration": 570,
    "start_time": "2021-07-07T17:06:37.165Z"
   },
   {
    "duration": 174,
    "start_time": "2021-07-07T17:06:37.737Z"
   },
   {
    "duration": 47,
    "start_time": "2021-07-07T17:06:37.913Z"
   },
   {
    "duration": 3,
    "start_time": "2021-07-07T17:06:37.962Z"
   },
   {
    "duration": 27,
    "start_time": "2021-07-07T17:06:37.967Z"
   },
   {
    "duration": 7,
    "start_time": "2021-07-07T17:06:37.996Z"
   },
   {
    "duration": 16,
    "start_time": "2021-07-07T17:06:38.005Z"
   },
   {
    "duration": 6,
    "start_time": "2021-07-07T17:06:38.024Z"
   },
   {
    "duration": 12,
    "start_time": "2021-07-07T17:06:38.031Z"
   },
   {
    "duration": 41,
    "start_time": "2021-07-07T17:06:38.045Z"
   },
   {
    "duration": 8,
    "start_time": "2021-07-07T17:06:38.088Z"
   },
   {
    "duration": 26,
    "start_time": "2021-07-07T17:06:38.098Z"
   },
   {
    "duration": 17,
    "start_time": "2021-07-07T17:06:38.126Z"
   },
   {
    "duration": 43,
    "start_time": "2021-07-07T17:06:38.144Z"
   },
   {
    "duration": 6,
    "start_time": "2021-07-07T17:06:38.188Z"
   },
   {
    "duration": 5,
    "start_time": "2021-07-07T17:06:38.195Z"
   },
   {
    "duration": 9,
    "start_time": "2021-07-07T17:06:38.201Z"
   },
   {
    "duration": 12,
    "start_time": "2021-07-07T17:06:38.212Z"
   },
   {
    "duration": 11,
    "start_time": "2021-07-07T17:06:38.226Z"
   },
   {
    "duration": 47,
    "start_time": "2021-07-07T17:06:38.239Z"
   },
   {
    "duration": 4,
    "start_time": "2021-07-07T17:06:38.288Z"
   },
   {
    "duration": 13,
    "start_time": "2021-07-07T17:06:38.293Z"
   },
   {
    "duration": 5,
    "start_time": "2021-07-07T17:06:38.309Z"
   },
   {
    "duration": 18,
    "start_time": "2021-07-07T17:06:38.325Z"
   },
   {
    "duration": 20,
    "start_time": "2021-07-07T17:07:02.805Z"
   },
   {
    "duration": 19,
    "start_time": "2021-07-07T17:07:08.527Z"
   },
   {
    "duration": 19,
    "start_time": "2021-07-07T17:07:12.758Z"
   },
   {
    "duration": 22,
    "start_time": "2021-07-07T17:07:17.497Z"
   },
   {
    "duration": 19,
    "start_time": "2021-07-07T17:07:19.645Z"
   },
   {
    "duration": 10,
    "start_time": "2021-07-07T17:07:34.239Z"
   },
   {
    "duration": 17,
    "start_time": "2021-07-07T17:07:54.144Z"
   },
   {
    "duration": 14,
    "start_time": "2021-07-07T17:08:14.357Z"
   },
   {
    "duration": 616,
    "start_time": "2021-07-07T17:08:45.254Z"
   },
   {
    "duration": 178,
    "start_time": "2021-07-07T17:08:45.872Z"
   },
   {
    "duration": 60,
    "start_time": "2021-07-07T17:08:46.054Z"
   },
   {
    "duration": 3,
    "start_time": "2021-07-07T17:08:46.116Z"
   },
   {
    "duration": 26,
    "start_time": "2021-07-07T17:08:46.121Z"
   },
   {
    "duration": 7,
    "start_time": "2021-07-07T17:08:46.149Z"
   },
   {
    "duration": 17,
    "start_time": "2021-07-07T17:08:46.158Z"
   },
   {
    "duration": 14,
    "start_time": "2021-07-07T17:08:46.176Z"
   },
   {
    "duration": 17,
    "start_time": "2021-07-07T17:08:46.193Z"
   },
   {
    "duration": 9,
    "start_time": "2021-07-07T17:08:46.211Z"
   },
   {
    "duration": 21,
    "start_time": "2021-07-07T17:08:46.221Z"
   },
   {
    "duration": 49,
    "start_time": "2021-07-07T17:08:46.244Z"
   },
   {
    "duration": 24,
    "start_time": "2021-07-07T17:08:46.295Z"
   },
   {
    "duration": 22,
    "start_time": "2021-07-07T17:08:46.321Z"
   },
   {
    "duration": 6,
    "start_time": "2021-07-07T17:08:46.345Z"
   },
   {
    "duration": 5,
    "start_time": "2021-07-07T17:08:46.353Z"
   },
   {
    "duration": 13,
    "start_time": "2021-07-07T17:08:46.386Z"
   },
   {
    "duration": 12,
    "start_time": "2021-07-07T17:08:46.402Z"
   },
   {
    "duration": 10,
    "start_time": "2021-07-07T17:08:46.415Z"
   },
   {
    "duration": 7,
    "start_time": "2021-07-07T17:08:46.427Z"
   },
   {
    "duration": 8,
    "start_time": "2021-07-07T17:08:46.435Z"
   },
   {
    "duration": 68,
    "start_time": "2021-07-07T17:08:46.446Z"
   },
   {
    "duration": 13,
    "start_time": "2021-07-07T17:08:46.516Z"
   },
   {
    "duration": 78,
    "start_time": "2021-07-07T17:08:46.530Z"
   },
   {
    "duration": 40,
    "start_time": "2021-07-07T17:09:08.185Z"
   },
   {
    "duration": 16,
    "start_time": "2021-07-07T17:09:19.324Z"
   },
   {
    "duration": 21,
    "start_time": "2021-07-07T17:09:23.290Z"
   },
   {
    "duration": 13,
    "start_time": "2021-07-07T17:09:54.812Z"
   },
   {
    "duration": 13,
    "start_time": "2021-07-07T17:10:02.039Z"
   },
   {
    "duration": 10,
    "start_time": "2021-07-07T17:10:29.632Z"
   },
   {
    "duration": 13,
    "start_time": "2021-07-07T17:10:52.372Z"
   },
   {
    "duration": 13,
    "start_time": "2021-07-07T17:11:17.270Z"
   },
   {
    "duration": 13,
    "start_time": "2021-07-07T17:14:59.284Z"
   },
   {
    "duration": 547,
    "start_time": "2021-07-07T17:18:52.403Z"
   },
   {
    "duration": 163,
    "start_time": "2021-07-07T17:18:52.952Z"
   },
   {
    "duration": 44,
    "start_time": "2021-07-07T17:18:53.117Z"
   },
   {
    "duration": 3,
    "start_time": "2021-07-07T17:18:53.162Z"
   },
   {
    "duration": 26,
    "start_time": "2021-07-07T17:18:53.167Z"
   },
   {
    "duration": 6,
    "start_time": "2021-07-07T17:18:53.195Z"
   },
   {
    "duration": 15,
    "start_time": "2021-07-07T17:18:53.203Z"
   },
   {
    "duration": 5,
    "start_time": "2021-07-07T17:18:53.220Z"
   },
   {
    "duration": 11,
    "start_time": "2021-07-07T17:18:53.228Z"
   },
   {
    "duration": 9,
    "start_time": "2021-07-07T17:18:53.241Z"
   },
   {
    "duration": 41,
    "start_time": "2021-07-07T17:18:53.252Z"
   },
   {
    "duration": 33,
    "start_time": "2021-07-07T17:18:53.295Z"
   },
   {
    "duration": 19,
    "start_time": "2021-07-07T17:18:53.330Z"
   },
   {
    "duration": 49,
    "start_time": "2021-07-07T17:18:53.350Z"
   },
   {
    "duration": 5,
    "start_time": "2021-07-07T17:18:53.401Z"
   },
   {
    "duration": 5,
    "start_time": "2021-07-07T17:18:53.408Z"
   },
   {
    "duration": 11,
    "start_time": "2021-07-07T17:18:53.414Z"
   },
   {
    "duration": 9,
    "start_time": "2021-07-07T17:18:53.427Z"
   },
   {
    "duration": 10,
    "start_time": "2021-07-07T17:18:53.437Z"
   },
   {
    "duration": 39,
    "start_time": "2021-07-07T17:18:53.448Z"
   },
   {
    "duration": 26,
    "start_time": "2021-07-07T17:18:55.799Z"
   },
   {
    "duration": 598,
    "start_time": "2021-07-07T17:20:17.862Z"
   },
   {
    "duration": 161,
    "start_time": "2021-07-07T17:20:18.462Z"
   },
   {
    "duration": 45,
    "start_time": "2021-07-07T17:20:18.626Z"
   },
   {
    "duration": 4,
    "start_time": "2021-07-07T17:20:18.673Z"
   },
   {
    "duration": 38,
    "start_time": "2021-07-07T17:20:26.877Z"
   },
   {
    "duration": 7,
    "start_time": "2021-07-07T17:20:37.405Z"
   },
   {
    "duration": 19,
    "start_time": "2021-07-07T17:20:51.534Z"
   },
   {
    "duration": 5,
    "start_time": "2021-07-07T17:20:57.228Z"
   },
   {
    "duration": 7,
    "start_time": "2021-07-07T17:21:08.235Z"
   },
   {
    "duration": 19,
    "start_time": "2021-07-07T17:21:42.158Z"
   },
   {
    "duration": 14,
    "start_time": "2021-07-07T17:21:50.225Z"
   },
   {
    "duration": 22,
    "start_time": "2021-07-07T17:22:54.104Z"
   },
   {
    "duration": 5,
    "start_time": "2021-07-07T17:22:56.371Z"
   },
   {
    "duration": 14,
    "start_time": "2021-07-07T17:22:58.316Z"
   },
   {
    "duration": 5,
    "start_time": "2021-07-07T17:22:58.493Z"
   },
   {
    "duration": 35,
    "start_time": "2021-07-07T17:22:59.666Z"
   },
   {
    "duration": 6,
    "start_time": "2021-07-07T17:23:02.410Z"
   },
   {
    "duration": 611,
    "start_time": "2021-07-07T17:24:59.664Z"
   },
   {
    "duration": 178,
    "start_time": "2021-07-07T17:25:01.945Z"
   },
   {
    "duration": 47,
    "start_time": "2021-07-07T17:25:02.125Z"
   },
   {
    "duration": 2,
    "start_time": "2021-07-07T17:25:07.903Z"
   },
   {
    "duration": 254,
    "start_time": "2021-07-07T17:25:08.232Z"
   },
   {
    "duration": 182,
    "start_time": "2021-07-07T17:25:08.671Z"
   },
   {
    "duration": 6,
    "start_time": "2021-07-07T17:25:13.104Z"
   },
   {
    "duration": 36,
    "start_time": "2021-07-07T17:25:13.662Z"
   },
   {
    "duration": 7,
    "start_time": "2021-07-07T17:25:14.528Z"
   },
   {
    "duration": 24,
    "start_time": "2021-07-07T17:25:27.982Z"
   },
   {
    "duration": 3,
    "start_time": "2021-07-07T17:25:48.982Z"
   },
   {
    "duration": 165,
    "start_time": "2021-07-07T17:25:48.987Z"
   },
   {
    "duration": 50,
    "start_time": "2021-07-07T17:25:49.154Z"
   },
   {
    "duration": 4,
    "start_time": "2021-07-07T17:25:49.206Z"
   },
   {
    "duration": 26,
    "start_time": "2021-07-07T17:25:49.212Z"
   },
   {
    "duration": 7,
    "start_time": "2021-07-07T17:25:49.240Z"
   },
   {
    "duration": 16,
    "start_time": "2021-07-07T17:25:49.249Z"
   },
   {
    "duration": 22,
    "start_time": "2021-07-07T17:25:49.266Z"
   },
   {
    "duration": 16,
    "start_time": "2021-07-07T17:25:49.291Z"
   },
   {
    "duration": 9,
    "start_time": "2021-07-07T17:25:49.309Z"
   },
   {
    "duration": 7,
    "start_time": "2021-07-07T17:25:49.319Z"
   },
   {
    "duration": 28,
    "start_time": "2021-07-07T17:25:49.328Z"
   },
   {
    "duration": 44,
    "start_time": "2021-07-07T17:25:49.357Z"
   },
   {
    "duration": 22,
    "start_time": "2021-07-07T17:25:49.403Z"
   },
   {
    "duration": 7,
    "start_time": "2021-07-07T17:25:49.427Z"
   },
   {
    "duration": 3,
    "start_time": "2021-07-07T17:25:49.436Z"
   },
   {
    "duration": 44,
    "start_time": "2021-07-07T17:25:49.441Z"
   },
   {
    "duration": 12,
    "start_time": "2021-07-07T17:25:49.488Z"
   },
   {
    "duration": 13,
    "start_time": "2021-07-07T17:25:49.502Z"
   },
   {
    "duration": 10,
    "start_time": "2021-07-07T17:25:49.516Z"
   },
   {
    "duration": 62,
    "start_time": "2021-07-07T17:25:49.527Z"
   },
   {
    "duration": 26,
    "start_time": "2021-07-07T17:26:51.809Z"
   },
   {
    "duration": 26,
    "start_time": "2021-07-07T17:26:55.759Z"
   },
   {
    "duration": 26,
    "start_time": "2021-07-07T17:27:04.501Z"
   },
   {
    "duration": 25,
    "start_time": "2021-07-07T17:28:24.859Z"
   },
   {
    "duration": 21,
    "start_time": "2021-07-07T17:28:55.250Z"
   },
   {
    "duration": 21,
    "start_time": "2021-07-07T17:28:58.885Z"
   },
   {
    "duration": 7,
    "start_time": "2021-07-07T17:45:40.972Z"
   },
   {
    "duration": 13,
    "start_time": "2021-07-07T17:45:42.529Z"
   },
   {
    "duration": 27,
    "start_time": "2021-07-07T17:45:51.026Z"
   },
   {
    "duration": 518,
    "start_time": "2021-07-07T17:46:15.532Z"
   },
   {
    "duration": 235,
    "start_time": "2021-07-07T17:46:16.053Z"
   },
   {
    "duration": 80,
    "start_time": "2021-07-07T17:46:16.292Z"
   },
   {
    "duration": 5,
    "start_time": "2021-07-07T17:46:16.373Z"
   },
   {
    "duration": 26,
    "start_time": "2021-07-07T17:46:16.380Z"
   },
   {
    "duration": 7,
    "start_time": "2021-07-07T17:46:16.408Z"
   },
   {
    "duration": 16,
    "start_time": "2021-07-07T17:46:16.418Z"
   },
   {
    "duration": 5,
    "start_time": "2021-07-07T17:46:16.436Z"
   },
   {
    "duration": 13,
    "start_time": "2021-07-07T17:46:16.442Z"
   },
   {
    "duration": 35,
    "start_time": "2021-07-07T17:46:16.456Z"
   },
   {
    "duration": 8,
    "start_time": "2021-07-07T17:46:16.493Z"
   },
   {
    "duration": 28,
    "start_time": "2021-07-07T17:46:16.502Z"
   },
   {
    "duration": 17,
    "start_time": "2021-07-07T17:46:16.532Z"
   },
   {
    "duration": 44,
    "start_time": "2021-07-07T17:46:16.551Z"
   },
   {
    "duration": 6,
    "start_time": "2021-07-07T17:46:16.597Z"
   },
   {
    "duration": 4,
    "start_time": "2021-07-07T17:46:16.605Z"
   },
   {
    "duration": 9,
    "start_time": "2021-07-07T17:46:16.610Z"
   },
   {
    "duration": 9,
    "start_time": "2021-07-07T17:46:16.621Z"
   },
   {
    "duration": 10,
    "start_time": "2021-07-07T17:46:16.632Z"
   },
   {
    "duration": 43,
    "start_time": "2021-07-07T17:46:16.644Z"
   },
   {
    "duration": 26,
    "start_time": "2021-07-07T17:46:16.689Z"
   },
   {
    "duration": 19,
    "start_time": "2021-07-07T17:46:16.718Z"
   },
   {
    "duration": 8,
    "start_time": "2021-07-07T17:46:16.738Z"
   },
   {
    "duration": 43,
    "start_time": "2021-07-07T17:46:16.747Z"
   },
   {
    "duration": 19,
    "start_time": "2021-07-07T17:46:16.791Z"
   },
   {
    "duration": 9,
    "start_time": "2021-07-07T17:46:16.812Z"
   },
   {
    "duration": 60,
    "start_time": "2021-07-07T17:46:16.822Z"
   },
   {
    "duration": -8,
    "start_time": "2021-07-07T17:46:16.892Z"
   },
   {
    "duration": 12,
    "start_time": "2021-07-07T17:48:47.707Z"
   },
   {
    "duration": 553,
    "start_time": "2021-07-07T18:10:09.350Z"
   },
   {
    "duration": 230,
    "start_time": "2021-07-07T18:10:09.905Z"
   },
   {
    "duration": 97,
    "start_time": "2021-07-07T18:10:10.137Z"
   },
   {
    "duration": 5,
    "start_time": "2021-07-07T18:10:10.236Z"
   },
   {
    "duration": 29,
    "start_time": "2021-07-07T18:10:10.242Z"
   },
   {
    "duration": 7,
    "start_time": "2021-07-07T18:10:10.272Z"
   },
   {
    "duration": 15,
    "start_time": "2021-07-07T18:10:10.281Z"
   },
   {
    "duration": 4,
    "start_time": "2021-07-07T18:10:10.299Z"
   },
   {
    "duration": 14,
    "start_time": "2021-07-07T18:10:10.305Z"
   },
   {
    "duration": 8,
    "start_time": "2021-07-07T18:10:10.321Z"
   },
   {
    "duration": 8,
    "start_time": "2021-07-07T18:10:10.331Z"
   },
   {
    "duration": 56,
    "start_time": "2021-07-07T18:10:10.341Z"
   },
   {
    "duration": 19,
    "start_time": "2021-07-07T18:10:10.399Z"
   },
   {
    "duration": 23,
    "start_time": "2021-07-07T18:10:10.419Z"
   },
   {
    "duration": 6,
    "start_time": "2021-07-07T18:10:10.444Z"
   },
   {
    "duration": 9,
    "start_time": "2021-07-07T18:10:10.451Z"
   },
   {
    "duration": 30,
    "start_time": "2021-07-07T18:10:10.462Z"
   },
   {
    "duration": 9,
    "start_time": "2021-07-07T18:10:10.494Z"
   },
   {
    "duration": 14,
    "start_time": "2021-07-07T18:10:10.505Z"
   },
   {
    "duration": 7,
    "start_time": "2021-07-07T18:10:10.521Z"
   },
   {
    "duration": 26,
    "start_time": "2021-07-07T18:10:10.530Z"
   },
   {
    "duration": 44,
    "start_time": "2021-07-07T18:10:10.558Z"
   },
   {
    "duration": 7,
    "start_time": "2021-07-07T18:10:10.605Z"
   },
   {
    "duration": 11,
    "start_time": "2021-07-07T18:10:10.614Z"
   },
   {
    "duration": 19,
    "start_time": "2021-07-07T18:10:10.626Z"
   },
   {
    "duration": 44,
    "start_time": "2021-07-07T18:10:10.646Z"
   },
   {
    "duration": 516,
    "start_time": "2021-07-07T18:14:00.826Z"
   },
   {
    "duration": 230,
    "start_time": "2021-07-07T18:14:01.344Z"
   },
   {
    "duration": 105,
    "start_time": "2021-07-07T18:14:01.576Z"
   },
   {
    "duration": 5,
    "start_time": "2021-07-07T18:14:01.683Z"
   },
   {
    "duration": 46,
    "start_time": "2021-07-07T18:14:01.690Z"
   },
   {
    "duration": 7,
    "start_time": "2021-07-07T18:14:01.738Z"
   },
   {
    "duration": 20,
    "start_time": "2021-07-07T18:14:01.747Z"
   },
   {
    "duration": 16,
    "start_time": "2021-07-07T18:14:01.769Z"
   },
   {
    "duration": 14,
    "start_time": "2021-07-07T18:14:01.787Z"
   },
   {
    "duration": 15,
    "start_time": "2021-07-07T18:14:01.803Z"
   },
   {
    "duration": 12,
    "start_time": "2021-07-07T18:14:01.820Z"
   },
   {
    "duration": 35,
    "start_time": "2021-07-07T18:14:01.833Z"
   },
   {
    "duration": 31,
    "start_time": "2021-07-07T18:14:01.869Z"
   },
   {
    "duration": 37,
    "start_time": "2021-07-07T18:14:01.902Z"
   },
   {
    "duration": 8,
    "start_time": "2021-07-07T18:14:01.942Z"
   },
   {
    "duration": 16,
    "start_time": "2021-07-07T18:14:01.952Z"
   },
   {
    "duration": 13,
    "start_time": "2021-07-07T18:14:01.970Z"
   },
   {
    "duration": 32,
    "start_time": "2021-07-07T18:14:01.985Z"
   },
   {
    "duration": 11,
    "start_time": "2021-07-07T18:14:02.019Z"
   },
   {
    "duration": 22,
    "start_time": "2021-07-07T18:14:02.031Z"
   },
   {
    "duration": 27,
    "start_time": "2021-07-07T18:14:02.055Z"
   },
   {
    "duration": 18,
    "start_time": "2021-07-07T18:14:02.084Z"
   },
   {
    "duration": 18,
    "start_time": "2021-07-07T18:14:02.106Z"
   },
   {
    "duration": 11,
    "start_time": "2021-07-07T18:14:02.126Z"
   },
   {
    "duration": 21,
    "start_time": "2021-07-07T18:14:02.138Z"
   },
   {
    "duration": 32,
    "start_time": "2021-07-07T18:14:02.161Z"
   },
   {
    "duration": 28,
    "start_time": "2021-07-07T18:14:44.295Z"
   },
   {
    "duration": 6,
    "start_time": "2021-07-07T18:15:05.834Z"
   },
   {
    "duration": 511,
    "start_time": "2021-07-07T18:15:41.541Z"
   },
   {
    "duration": 183,
    "start_time": "2021-07-07T18:15:42.054Z"
   },
   {
    "duration": 50,
    "start_time": "2021-07-07T18:15:42.239Z"
   },
   {
    "duration": 5,
    "start_time": "2021-07-07T18:15:42.291Z"
   },
   {
    "duration": 48,
    "start_time": "2021-07-07T18:15:42.297Z"
   },
   {
    "duration": 8,
    "start_time": "2021-07-07T18:15:42.346Z"
   },
   {
    "duration": 17,
    "start_time": "2021-07-07T18:15:42.356Z"
   },
   {
    "duration": 15,
    "start_time": "2021-07-07T18:15:42.375Z"
   },
   {
    "duration": 12,
    "start_time": "2021-07-07T18:15:42.392Z"
   },
   {
    "duration": 7,
    "start_time": "2021-07-07T18:15:42.406Z"
   },
   {
    "duration": 7,
    "start_time": "2021-07-07T18:15:42.415Z"
   },
   {
    "duration": 29,
    "start_time": "2021-07-07T18:15:42.423Z"
   },
   {
    "duration": 43,
    "start_time": "2021-07-07T18:15:42.453Z"
   },
   {
    "duration": 18,
    "start_time": "2021-07-07T18:15:42.497Z"
   },
   {
    "duration": 6,
    "start_time": "2021-07-07T18:15:42.516Z"
   },
   {
    "duration": 3,
    "start_time": "2021-07-07T18:15:42.523Z"
   },
   {
    "duration": 18,
    "start_time": "2021-07-07T18:15:42.528Z"
   },
   {
    "duration": 10,
    "start_time": "2021-07-07T18:15:42.547Z"
   },
   {
    "duration": 36,
    "start_time": "2021-07-07T18:15:42.559Z"
   },
   {
    "duration": 8,
    "start_time": "2021-07-07T18:15:42.597Z"
   },
   {
    "duration": 28,
    "start_time": "2021-07-07T18:15:42.606Z"
   },
   {
    "duration": 52,
    "start_time": "2021-07-07T18:15:42.635Z"
   },
   {
    "duration": 7,
    "start_time": "2021-07-07T18:15:42.690Z"
   },
   {
    "duration": 10,
    "start_time": "2021-07-07T18:15:42.699Z"
   },
   {
    "duration": 19,
    "start_time": "2021-07-07T18:15:42.711Z"
   },
   {
    "duration": 9,
    "start_time": "2021-07-07T18:15:42.732Z"
   },
   {
    "duration": 5,
    "start_time": "2021-07-07T18:15:42.743Z"
   },
   {
    "duration": 1450,
    "start_time": "2021-07-07T18:15:51.984Z"
   },
   {
    "duration": 161,
    "start_time": "2021-07-07T18:15:53.435Z"
   },
   {
    "duration": 124,
    "start_time": "2021-07-07T18:15:53.598Z"
   },
   {
    "duration": 5,
    "start_time": "2021-07-07T18:15:53.724Z"
   },
   {
    "duration": 34,
    "start_time": "2021-07-07T18:15:53.730Z"
   },
   {
    "duration": 7,
    "start_time": "2021-07-07T18:15:53.765Z"
   },
   {
    "duration": 15,
    "start_time": "2021-07-07T18:15:53.773Z"
   },
   {
    "duration": 5,
    "start_time": "2021-07-07T18:15:53.791Z"
   },
   {
    "duration": 19,
    "start_time": "2021-07-07T18:15:53.798Z"
   },
   {
    "duration": 9,
    "start_time": "2021-07-07T18:15:53.818Z"
   },
   {
    "duration": 19,
    "start_time": "2021-07-07T18:15:53.828Z"
   },
   {
    "duration": 27,
    "start_time": "2021-07-07T18:15:53.848Z"
   },
   {
    "duration": 16,
    "start_time": "2021-07-07T18:15:53.884Z"
   },
   {
    "duration": 29,
    "start_time": "2021-07-07T18:15:53.901Z"
   },
   {
    "duration": 5,
    "start_time": "2021-07-07T18:15:53.932Z"
   },
   {
    "duration": 15,
    "start_time": "2021-07-07T18:15:53.939Z"
   },
   {
    "duration": 13,
    "start_time": "2021-07-07T18:15:53.956Z"
   },
   {
    "duration": 20,
    "start_time": "2021-07-07T18:15:53.971Z"
   },
   {
    "duration": 14,
    "start_time": "2021-07-07T18:15:53.992Z"
   },
   {
    "duration": 9,
    "start_time": "2021-07-07T18:15:54.009Z"
   },
   {
    "duration": 28,
    "start_time": "2021-07-07T18:15:54.020Z"
   },
   {
    "duration": 50,
    "start_time": "2021-07-07T18:15:54.051Z"
   },
   {
    "duration": 8,
    "start_time": "2021-07-07T18:15:54.105Z"
   },
   {
    "duration": 11,
    "start_time": "2021-07-07T18:15:54.115Z"
   },
   {
    "duration": 20,
    "start_time": "2021-07-07T18:15:54.128Z"
   },
   {
    "duration": 13,
    "start_time": "2021-07-07T18:15:54.184Z"
   },
   {
    "duration": 7,
    "start_time": "2021-07-07T18:15:54.199Z"
   },
   {
    "duration": 7,
    "start_time": "2021-07-07T18:17:08.042Z"
   },
   {
    "duration": 8,
    "start_time": "2021-07-07T18:17:21.008Z"
   },
   {
    "duration": 7,
    "start_time": "2021-07-07T18:17:29.003Z"
   },
   {
    "duration": 8,
    "start_time": "2021-07-07T18:17:32.492Z"
   },
   {
    "duration": 9,
    "start_time": "2021-07-07T18:17:41.758Z"
   },
   {
    "duration": 255,
    "start_time": "2021-07-07T18:20:20.897Z"
   },
   {
    "duration": 173,
    "start_time": "2021-07-07T18:20:26.636Z"
   },
   {
    "duration": 7,
    "start_time": "2021-07-07T18:21:47.164Z"
   },
   {
    "duration": 254,
    "start_time": "2021-07-07T18:23:08.703Z"
   },
   {
    "duration": 21,
    "start_time": "2021-07-07T18:23:22.506Z"
   },
   {
    "duration": 315,
    "start_time": "2021-07-07T18:25:54.801Z"
   },
   {
    "duration": 34,
    "start_time": "2021-07-07T18:26:51.817Z"
   },
   {
    "duration": 327,
    "start_time": "2021-07-07T18:26:56.147Z"
   },
   {
    "duration": 342,
    "start_time": "2021-07-07T18:27:15.887Z"
   },
   {
    "duration": 302,
    "start_time": "2021-07-07T18:28:18.569Z"
   },
   {
    "duration": 226,
    "start_time": "2021-07-07T18:29:20.879Z"
   },
   {
    "duration": 207,
    "start_time": "2021-07-07T18:29:58.114Z"
   },
   {
    "duration": 140,
    "start_time": "2021-07-07T18:32:04.372Z"
   },
   {
    "duration": 158,
    "start_time": "2021-07-07T18:32:32.508Z"
   },
   {
    "duration": 145,
    "start_time": "2021-07-07T18:32:41.365Z"
   },
   {
    "duration": 132,
    "start_time": "2021-07-07T18:32:45.199Z"
   },
   {
    "duration": 11,
    "start_time": "2021-07-07T18:35:24.679Z"
   },
   {
    "duration": 268,
    "start_time": "2021-07-07T18:36:16.145Z"
   },
   {
    "duration": 227,
    "start_time": "2021-07-07T18:37:04.918Z"
   },
   {
    "duration": 3,
    "start_time": "2021-07-07T18:37:33.012Z"
   },
   {
    "duration": 671,
    "start_time": "2021-07-07T18:37:38.295Z"
   },
   {
    "duration": 54,
    "start_time": "2021-07-07T18:37:53.406Z"
   },
   {
    "duration": 631,
    "start_time": "2021-07-07T18:37:56.463Z"
   },
   {
    "duration": 19,
    "start_time": "2021-07-07T18:39:40.535Z"
   },
   {
    "duration": 20,
    "start_time": "2021-07-07T18:40:12.236Z"
   },
   {
    "duration": 633,
    "start_time": "2021-07-07T18:42:00.398Z"
   },
   {
    "duration": 218,
    "start_time": "2021-07-07T18:42:01.033Z"
   },
   {
    "duration": 49,
    "start_time": "2021-07-07T18:42:01.253Z"
   },
   {
    "duration": 5,
    "start_time": "2021-07-07T18:42:01.303Z"
   },
   {
    "duration": 27,
    "start_time": "2021-07-07T18:42:01.310Z"
   },
   {
    "duration": 8,
    "start_time": "2021-07-07T18:42:01.339Z"
   },
   {
    "duration": 20,
    "start_time": "2021-07-07T18:42:01.348Z"
   },
   {
    "duration": 6,
    "start_time": "2021-07-07T18:42:01.386Z"
   },
   {
    "duration": 16,
    "start_time": "2021-07-07T18:42:01.394Z"
   },
   {
    "duration": 9,
    "start_time": "2021-07-07T18:42:01.411Z"
   },
   {
    "duration": 11,
    "start_time": "2021-07-07T18:42:01.421Z"
   },
   {
    "duration": 31,
    "start_time": "2021-07-07T18:42:01.434Z"
   },
   {
    "duration": 18,
    "start_time": "2021-07-07T18:42:01.485Z"
   },
   {
    "duration": 23,
    "start_time": "2021-07-07T18:42:01.505Z"
   },
   {
    "duration": 6,
    "start_time": "2021-07-07T18:42:01.530Z"
   },
   {
    "duration": 10,
    "start_time": "2021-07-07T18:42:01.538Z"
   },
   {
    "duration": 13,
    "start_time": "2021-07-07T18:42:01.550Z"
   },
   {
    "duration": 24,
    "start_time": "2021-07-07T18:42:01.564Z"
   },
   {
    "duration": 20,
    "start_time": "2021-07-07T18:42:01.590Z"
   },
   {
    "duration": 8,
    "start_time": "2021-07-07T18:42:01.611Z"
   },
   {
    "duration": 31,
    "start_time": "2021-07-07T18:42:01.620Z"
   },
   {
    "duration": 39,
    "start_time": "2021-07-07T18:42:01.653Z"
   },
   {
    "duration": 8,
    "start_time": "2021-07-07T18:42:01.696Z"
   },
   {
    "duration": 13,
    "start_time": "2021-07-07T18:42:01.705Z"
   },
   {
    "duration": 20,
    "start_time": "2021-07-07T18:42:01.720Z"
   },
   {
    "duration": 12,
    "start_time": "2021-07-07T18:42:01.741Z"
   },
   {
    "duration": 35,
    "start_time": "2021-07-07T18:42:01.755Z"
   },
   {
    "duration": 14,
    "start_time": "2021-07-07T18:42:01.792Z"
   },
   {
    "duration": 188,
    "start_time": "2021-07-07T18:42:01.808Z"
   },
   {
    "duration": 19,
    "start_time": "2021-07-07T18:42:01.998Z"
   },
   {
    "duration": 175,
    "start_time": "2021-07-07T18:42:02.019Z"
   },
   {
    "duration": 134,
    "start_time": "2021-07-07T18:42:02.196Z"
   },
   {
    "duration": 10,
    "start_time": "2021-07-07T18:42:02.331Z"
   },
   {
    "duration": 19,
    "start_time": "2021-07-07T18:42:02.343Z"
   },
   {
    "duration": 628,
    "start_time": "2021-07-07T18:46:30.701Z"
   },
   {
    "duration": 183,
    "start_time": "2021-07-07T18:46:31.331Z"
   },
   {
    "duration": 48,
    "start_time": "2021-07-07T18:46:31.516Z"
   },
   {
    "duration": 5,
    "start_time": "2021-07-07T18:46:31.566Z"
   },
   {
    "duration": 28,
    "start_time": "2021-07-07T18:46:31.572Z"
   },
   {
    "duration": 8,
    "start_time": "2021-07-07T18:46:31.602Z"
   },
   {
    "duration": 19,
    "start_time": "2021-07-07T18:46:31.611Z"
   },
   {
    "duration": 6,
    "start_time": "2021-07-07T18:46:31.633Z"
   },
   {
    "duration": 17,
    "start_time": "2021-07-07T18:46:31.642Z"
   },
   {
    "duration": 10,
    "start_time": "2021-07-07T18:46:31.684Z"
   },
   {
    "duration": 9,
    "start_time": "2021-07-07T18:46:31.695Z"
   },
   {
    "duration": 28,
    "start_time": "2021-07-07T18:46:31.705Z"
   },
   {
    "duration": 18,
    "start_time": "2021-07-07T18:46:31.735Z"
   },
   {
    "duration": 48,
    "start_time": "2021-07-07T18:46:31.755Z"
   },
   {
    "duration": 6,
    "start_time": "2021-07-07T18:46:31.804Z"
   },
   {
    "duration": 4,
    "start_time": "2021-07-07T18:46:31.812Z"
   },
   {
    "duration": 9,
    "start_time": "2021-07-07T18:46:31.817Z"
   },
   {
    "duration": 10,
    "start_time": "2021-07-07T18:46:31.827Z"
   },
   {
    "duration": 12,
    "start_time": "2021-07-07T18:46:31.838Z"
   },
   {
    "duration": 39,
    "start_time": "2021-07-07T18:46:31.851Z"
   },
   {
    "duration": 24,
    "start_time": "2021-07-07T18:46:31.892Z"
   },
   {
    "duration": 15,
    "start_time": "2021-07-07T18:46:31.918Z"
   },
   {
    "duration": 7,
    "start_time": "2021-07-07T18:46:31.936Z"
   },
   {
    "duration": 8,
    "start_time": "2021-07-07T18:46:31.944Z"
   },
   {
    "duration": 19,
    "start_time": "2021-07-07T18:46:31.984Z"
   },
   {
    "duration": 10,
    "start_time": "2021-07-07T18:46:32.004Z"
   },
   {
    "duration": 5,
    "start_time": "2021-07-07T18:46:32.016Z"
   },
   {
    "duration": 9,
    "start_time": "2021-07-07T18:46:32.023Z"
   },
   {
    "duration": 199,
    "start_time": "2021-07-07T18:46:32.033Z"
   },
   {
    "duration": 19,
    "start_time": "2021-07-07T18:46:32.234Z"
   },
   {
    "duration": 159,
    "start_time": "2021-07-07T18:46:32.255Z"
   },
   {
    "duration": 134,
    "start_time": "2021-07-07T18:46:32.416Z"
   },
   {
    "duration": 10,
    "start_time": "2021-07-07T18:46:32.552Z"
   },
   {
    "duration": 34,
    "start_time": "2021-07-07T18:46:32.563Z"
   },
   {
    "duration": 1039,
    "start_time": "2021-07-08T08:41:09.419Z"
   },
   {
    "duration": 333,
    "start_time": "2021-07-08T08:41:10.459Z"
   },
   {
    "duration": 173,
    "start_time": "2021-07-08T08:41:10.794Z"
   },
   {
    "duration": 5,
    "start_time": "2021-07-08T08:41:10.968Z"
   },
   {
    "duration": 25,
    "start_time": "2021-07-08T08:41:10.975Z"
   },
   {
    "duration": 9,
    "start_time": "2021-07-08T08:41:11.002Z"
   },
   {
    "duration": 18,
    "start_time": "2021-07-08T08:41:11.013Z"
   },
   {
    "duration": 6,
    "start_time": "2021-07-08T08:41:11.033Z"
   },
   {
    "duration": 44,
    "start_time": "2021-07-08T08:41:11.042Z"
   },
   {
    "duration": 10,
    "start_time": "2021-07-08T08:41:11.088Z"
   },
   {
    "duration": 9,
    "start_time": "2021-07-08T08:41:11.100Z"
   },
   {
    "duration": 27,
    "start_time": "2021-07-08T08:41:11.111Z"
   },
   {
    "duration": 46,
    "start_time": "2021-07-08T08:41:11.140Z"
   },
   {
    "duration": 17,
    "start_time": "2021-07-08T08:41:11.187Z"
   },
   {
    "duration": 6,
    "start_time": "2021-07-08T08:41:11.206Z"
   },
   {
    "duration": 5,
    "start_time": "2021-07-08T08:41:11.213Z"
   },
   {
    "duration": 10,
    "start_time": "2021-07-08T08:41:11.219Z"
   },
   {
    "duration": 9,
    "start_time": "2021-07-08T08:41:11.230Z"
   },
   {
    "duration": 45,
    "start_time": "2021-07-08T08:41:11.241Z"
   },
   {
    "duration": 7,
    "start_time": "2021-07-08T08:41:11.287Z"
   },
   {
    "duration": 24,
    "start_time": "2021-07-08T08:41:11.296Z"
   },
   {
    "duration": 16,
    "start_time": "2021-07-08T08:41:11.322Z"
   },
   {
    "duration": 7,
    "start_time": "2021-07-08T08:41:11.341Z"
   },
   {
    "duration": 41,
    "start_time": "2021-07-08T08:41:11.349Z"
   },
   {
    "duration": 17,
    "start_time": "2021-07-08T08:41:11.391Z"
   },
   {
    "duration": 9,
    "start_time": "2021-07-08T08:41:11.410Z"
   },
   {
    "duration": 5,
    "start_time": "2021-07-08T08:41:11.421Z"
   },
   {
    "duration": 6,
    "start_time": "2021-07-08T08:41:11.428Z"
   },
   {
    "duration": 198,
    "start_time": "2021-07-08T08:41:11.435Z"
   },
   {
    "duration": 18,
    "start_time": "2021-07-08T08:41:11.635Z"
   },
   {
    "duration": 155,
    "start_time": "2021-07-08T08:41:11.655Z"
   },
   {
    "duration": 138,
    "start_time": "2021-07-08T08:41:11.811Z"
   },
   {
    "duration": 10,
    "start_time": "2021-07-08T08:41:11.950Z"
   },
   {
    "duration": 29,
    "start_time": "2021-07-08T08:41:11.961Z"
   },
   {
    "duration": 171,
    "start_time": "2021-07-08T08:47:44.522Z"
   },
   {
    "duration": 124,
    "start_time": "2021-07-08T08:47:46.872Z"
   },
   {
    "duration": 191,
    "start_time": "2021-07-08T08:47:58.148Z"
   },
   {
    "duration": 191,
    "start_time": "2021-07-08T08:48:07.412Z"
   },
   {
    "duration": 261,
    "start_time": "2021-07-08T08:48:10.385Z"
   },
   {
    "duration": 255,
    "start_time": "2021-07-08T08:48:14.494Z"
   },
   {
    "duration": 219,
    "start_time": "2021-07-08T08:48:22.752Z"
   },
   {
    "duration": 173,
    "start_time": "2021-07-08T08:49:06.395Z"
   },
   {
    "duration": 180,
    "start_time": "2021-07-08T08:49:21.011Z"
   },
   {
    "duration": 6,
    "start_time": "2021-07-08T08:50:31.697Z"
   },
   {
    "duration": 10,
    "start_time": "2021-07-08T08:50:47.394Z"
   },
   {
    "duration": 11,
    "start_time": "2021-07-08T08:53:49.332Z"
   },
   {
    "duration": 171,
    "start_time": "2021-07-08T08:54:28.408Z"
   },
   {
    "duration": 636,
    "start_time": "2021-07-08T09:02:48.385Z"
   },
   {
    "duration": 227,
    "start_time": "2021-07-08T09:02:49.023Z"
   },
   {
    "duration": 104,
    "start_time": "2021-07-08T09:02:49.252Z"
   },
   {
    "duration": 5,
    "start_time": "2021-07-08T09:02:49.358Z"
   },
   {
    "duration": 27,
    "start_time": "2021-07-08T09:02:49.365Z"
   },
   {
    "duration": 8,
    "start_time": "2021-07-08T09:02:49.394Z"
   },
   {
    "duration": 18,
    "start_time": "2021-07-08T09:02:49.404Z"
   },
   {
    "duration": 6,
    "start_time": "2021-07-08T09:02:49.424Z"
   },
   {
    "duration": 11,
    "start_time": "2021-07-08T09:02:49.433Z"
   },
   {
    "duration": 13,
    "start_time": "2021-07-08T09:02:49.485Z"
   },
   {
    "duration": 9,
    "start_time": "2021-07-08T09:02:49.500Z"
   },
   {
    "duration": 38,
    "start_time": "2021-07-08T09:02:49.511Z"
   },
   {
    "duration": 42,
    "start_time": "2021-07-08T09:02:49.551Z"
   },
   {
    "duration": 21,
    "start_time": "2021-07-08T09:02:49.594Z"
   },
   {
    "duration": 6,
    "start_time": "2021-07-08T09:02:49.616Z"
   },
   {
    "duration": 3,
    "start_time": "2021-07-08T09:02:49.623Z"
   },
   {
    "duration": 9,
    "start_time": "2021-07-08T09:02:49.628Z"
   },
   {
    "duration": 52,
    "start_time": "2021-07-08T09:02:49.638Z"
   },
   {
    "duration": 11,
    "start_time": "2021-07-08T09:02:49.692Z"
   },
   {
    "duration": 8,
    "start_time": "2021-07-08T09:02:49.704Z"
   },
   {
    "duration": 27,
    "start_time": "2021-07-08T09:02:49.713Z"
   },
   {
    "duration": 59,
    "start_time": "2021-07-08T09:02:49.741Z"
   },
   {
    "duration": 8,
    "start_time": "2021-07-08T09:02:49.803Z"
   },
   {
    "duration": 14,
    "start_time": "2021-07-08T09:02:49.813Z"
   },
   {
    "duration": 20,
    "start_time": "2021-07-08T09:02:49.829Z"
   },
   {
    "duration": 44,
    "start_time": "2021-07-08T09:02:49.851Z"
   },
   {
    "duration": 14,
    "start_time": "2021-07-08T09:02:49.896Z"
   },
   {
    "duration": 221,
    "start_time": "2021-07-08T09:02:49.912Z"
   },
   {
    "duration": 6,
    "start_time": "2021-07-08T09:02:50.134Z"
   },
   {
    "duration": 206,
    "start_time": "2021-07-08T09:02:50.142Z"
   },
   {
    "duration": 19,
    "start_time": "2021-07-08T09:02:50.350Z"
   },
   {
    "duration": 21,
    "start_time": "2021-07-08T09:02:50.370Z"
   },
   {
    "duration": 20,
    "start_time": "2021-07-08T09:02:50.393Z"
   },
   {
    "duration": 5,
    "start_time": "2021-07-08T09:02:50.414Z"
   },
   {
    "duration": 5,
    "start_time": "2021-07-08T09:03:34.173Z"
   },
   {
    "duration": 6,
    "start_time": "2021-07-08T09:04:49.062Z"
   },
   {
    "duration": 9,
    "start_time": "2021-07-08T09:04:50.118Z"
   },
   {
    "duration": 14,
    "start_time": "2021-07-08T09:04:58.512Z"
   },
   {
    "duration": 9,
    "start_time": "2021-07-08T09:05:10.988Z"
   },
   {
    "duration": 11,
    "start_time": "2021-07-08T09:05:11.743Z"
   },
   {
    "duration": 7,
    "start_time": "2021-07-08T09:05:25.677Z"
   },
   {
    "duration": 13,
    "start_time": "2021-07-08T09:05:47.189Z"
   },
   {
    "duration": 13,
    "start_time": "2021-07-08T09:05:54.755Z"
   },
   {
    "duration": 4,
    "start_time": "2021-07-08T09:06:29.189Z"
   },
   {
    "duration": 244,
    "start_time": "2021-07-08T09:06:29.195Z"
   },
   {
    "duration": 91,
    "start_time": "2021-07-08T09:06:29.441Z"
   },
   {
    "duration": 4,
    "start_time": "2021-07-08T09:06:29.534Z"
   },
   {
    "duration": 28,
    "start_time": "2021-07-08T09:06:29.540Z"
   },
   {
    "duration": 6,
    "start_time": "2021-07-08T09:06:29.570Z"
   },
   {
    "duration": 18,
    "start_time": "2021-07-08T09:06:29.578Z"
   },
   {
    "duration": 5,
    "start_time": "2021-07-08T09:06:29.597Z"
   },
   {
    "duration": 13,
    "start_time": "2021-07-08T09:06:29.605Z"
   },
   {
    "duration": 8,
    "start_time": "2021-07-08T09:06:29.620Z"
   },
   {
    "duration": 7,
    "start_time": "2021-07-08T09:06:29.630Z"
   },
   {
    "duration": 63,
    "start_time": "2021-07-08T09:06:29.639Z"
   },
   {
    "duration": 17,
    "start_time": "2021-07-08T09:06:29.704Z"
   },
   {
    "duration": 20,
    "start_time": "2021-07-08T09:06:29.723Z"
   },
   {
    "duration": 6,
    "start_time": "2021-07-08T09:06:29.745Z"
   },
   {
    "duration": 3,
    "start_time": "2021-07-08T09:06:29.752Z"
   },
   {
    "duration": 7,
    "start_time": "2021-07-08T09:06:29.785Z"
   },
   {
    "duration": 11,
    "start_time": "2021-07-08T09:06:29.794Z"
   },
   {
    "duration": 15,
    "start_time": "2021-07-08T09:06:29.807Z"
   },
   {
    "duration": 8,
    "start_time": "2021-07-08T09:06:29.823Z"
   },
   {
    "duration": 70,
    "start_time": "2021-07-08T09:06:29.832Z"
   },
   {
    "duration": 17,
    "start_time": "2021-07-08T09:06:29.903Z"
   },
   {
    "duration": 9,
    "start_time": "2021-07-08T09:06:29.921Z"
   },
   {
    "duration": 9,
    "start_time": "2021-07-08T09:06:29.932Z"
   },
   {
    "duration": 57,
    "start_time": "2021-07-08T09:06:29.942Z"
   },
   {
    "duration": 11,
    "start_time": "2021-07-08T09:06:30.001Z"
   },
   {
    "duration": 19,
    "start_time": "2021-07-08T09:06:30.016Z"
   },
   {
    "duration": 217,
    "start_time": "2021-07-08T09:06:30.037Z"
   },
   {
    "duration": 6,
    "start_time": "2021-07-08T09:06:30.255Z"
   },
   {
    "duration": 205,
    "start_time": "2021-07-08T09:06:30.263Z"
   },
   {
    "duration": 27,
    "start_time": "2021-07-08T09:06:30.470Z"
   },
   {
    "duration": 11,
    "start_time": "2021-07-08T09:06:30.500Z"
   },
   {
    "duration": 31,
    "start_time": "2021-07-08T09:06:30.513Z"
   },
   {
    "duration": 18,
    "start_time": "2021-07-08T09:06:30.546Z"
   },
   {
    "duration": 11,
    "start_time": "2021-07-08T09:06:30.566Z"
   },
   {
    "duration": 19,
    "start_time": "2021-07-08T09:06:30.579Z"
   },
   {
    "duration": 20,
    "start_time": "2021-07-08T09:06:49.466Z"
   },
   {
    "duration": 9,
    "start_time": "2021-07-08T09:06:51.994Z"
   },
   {
    "duration": 20,
    "start_time": "2021-07-08T09:06:52.273Z"
   },
   {
    "duration": 246,
    "start_time": "2021-07-08T09:10:21.272Z"
   },
   {
    "duration": 84,
    "start_time": "2021-07-08T09:10:21.436Z"
   },
   {
    "duration": 7,
    "start_time": "2021-07-08T09:10:37.608Z"
   },
   {
    "duration": 189,
    "start_time": "2021-07-08T09:10:38.573Z"
   },
   {
    "duration": 185,
    "start_time": "2021-07-08T09:10:53.181Z"
   },
   {
    "duration": 11,
    "start_time": "2021-07-08T09:10:59.549Z"
   },
   {
    "duration": 42,
    "start_time": "2021-07-08T09:10:59.709Z"
   },
   {
    "duration": 12,
    "start_time": "2021-07-08T09:11:02.857Z"
   },
   {
    "duration": 28,
    "start_time": "2021-07-08T09:11:10.062Z"
   },
   {
    "duration": 249,
    "start_time": "2021-07-08T09:11:37.388Z"
   },
   {
    "duration": 232,
    "start_time": "2021-07-08T09:11:49.485Z"
   },
   {
    "duration": 453,
    "start_time": "2021-07-08T09:12:01.546Z"
   },
   {
    "duration": 440,
    "start_time": "2021-07-08T09:12:12.347Z"
   },
   {
    "duration": 213,
    "start_time": "2021-07-08T09:13:32.196Z"
   },
   {
    "duration": 172,
    "start_time": "2021-07-08T09:14:07.400Z"
   },
   {
    "duration": 185,
    "start_time": "2021-07-08T09:14:14.905Z"
   },
   {
    "duration": 209,
    "start_time": "2021-07-08T09:14:40.109Z"
   },
   {
    "duration": 201,
    "start_time": "2021-07-08T09:14:54.506Z"
   },
   {
    "duration": 622,
    "start_time": "2021-07-08T09:18:14.497Z"
   },
   {
    "duration": 220,
    "start_time": "2021-07-08T09:18:15.121Z"
   },
   {
    "duration": 79,
    "start_time": "2021-07-08T09:18:15.343Z"
   },
   {
    "duration": 4,
    "start_time": "2021-07-08T09:18:15.425Z"
   },
   {
    "duration": 24,
    "start_time": "2021-07-08T09:18:15.431Z"
   },
   {
    "duration": 8,
    "start_time": "2021-07-08T09:18:15.457Z"
   },
   {
    "duration": 16,
    "start_time": "2021-07-08T09:18:15.466Z"
   },
   {
    "duration": 5,
    "start_time": "2021-07-08T09:18:15.484Z"
   },
   {
    "duration": 10,
    "start_time": "2021-07-08T09:18:15.493Z"
   },
   {
    "duration": 8,
    "start_time": "2021-07-08T09:18:15.504Z"
   },
   {
    "duration": 7,
    "start_time": "2021-07-08T09:18:15.513Z"
   },
   {
    "duration": 26,
    "start_time": "2021-07-08T09:18:15.522Z"
   },
   {
    "duration": 49,
    "start_time": "2021-07-08T09:18:15.550Z"
   },
   {
    "duration": 21,
    "start_time": "2021-07-08T09:18:15.601Z"
   },
   {
    "duration": 8,
    "start_time": "2021-07-08T09:18:15.624Z"
   },
   {
    "duration": 3,
    "start_time": "2021-07-08T09:18:15.634Z"
   },
   {
    "duration": 8,
    "start_time": "2021-07-08T09:18:15.639Z"
   },
   {
    "duration": 45,
    "start_time": "2021-07-08T09:18:15.649Z"
   },
   {
    "duration": 13,
    "start_time": "2021-07-08T09:18:15.696Z"
   },
   {
    "duration": 10,
    "start_time": "2021-07-08T09:18:15.711Z"
   },
   {
    "duration": 64,
    "start_time": "2021-07-08T09:18:15.722Z"
   },
   {
    "duration": 19,
    "start_time": "2021-07-08T09:18:15.788Z"
   },
   {
    "duration": 9,
    "start_time": "2021-07-08T09:18:15.809Z"
   },
   {
    "duration": 9,
    "start_time": "2021-07-08T09:18:15.820Z"
   },
   {
    "duration": 18,
    "start_time": "2021-07-08T09:18:15.831Z"
   },
   {
    "duration": 43,
    "start_time": "2021-07-08T09:18:15.851Z"
   },
   {
    "duration": 12,
    "start_time": "2021-07-08T09:18:15.897Z"
   },
   {
    "duration": 219,
    "start_time": "2021-07-08T09:18:15.911Z"
   },
   {
    "duration": 8,
    "start_time": "2021-07-08T09:18:16.132Z"
   },
   {
    "duration": 199,
    "start_time": "2021-07-08T09:18:16.141Z"
   },
   {
    "duration": 18,
    "start_time": "2021-07-08T09:18:16.341Z"
   },
   {
    "duration": 24,
    "start_time": "2021-07-08T09:18:16.361Z"
   },
   {
    "duration": 24,
    "start_time": "2021-07-08T09:18:16.387Z"
   },
   {
    "duration": 211,
    "start_time": "2021-07-08T09:18:16.413Z"
   },
   {
    "duration": 18,
    "start_time": "2021-07-08T09:18:16.626Z"
   },
   {
    "duration": 596,
    "start_time": "2021-07-08T10:06:33.623Z"
   },
   {
    "duration": 181,
    "start_time": "2021-07-08T10:06:34.221Z"
   },
   {
    "duration": 176,
    "start_time": "2021-07-08T10:06:34.635Z"
   },
   {
    "duration": 239,
    "start_time": "2021-07-08T10:06:55.572Z"
   },
   {
    "duration": 6,
    "start_time": "2021-07-08T10:06:57.687Z"
   },
   {
    "duration": 4,
    "start_time": "2021-07-08T10:07:03.956Z"
   },
   {
    "duration": 4,
    "start_time": "2021-07-08T10:07:10.376Z"
   },
   {
    "duration": 4,
    "start_time": "2021-07-08T10:17:19.889Z"
   },
   {
    "duration": 3,
    "start_time": "2021-07-08T10:19:19.407Z"
   },
   {
    "duration": 197,
    "start_time": "2021-07-08T10:19:19.412Z"
   },
   {
    "duration": 127,
    "start_time": "2021-07-08T10:19:19.611Z"
   },
   {
    "duration": 4,
    "start_time": "2021-07-08T10:19:19.740Z"
   },
   {
    "duration": 27,
    "start_time": "2021-07-08T10:19:19.746Z"
   },
   {
    "duration": 7,
    "start_time": "2021-07-08T10:19:19.775Z"
   },
   {
    "duration": 30,
    "start_time": "2021-07-08T10:19:19.784Z"
   },
   {
    "duration": 7,
    "start_time": "2021-07-08T10:19:19.817Z"
   },
   {
    "duration": 26,
    "start_time": "2021-07-08T10:19:19.826Z"
   },
   {
    "duration": 18,
    "start_time": "2021-07-08T10:19:19.854Z"
   },
   {
    "duration": 14,
    "start_time": "2021-07-08T10:19:19.874Z"
   },
   {
    "duration": 48,
    "start_time": "2021-07-08T10:19:19.890Z"
   },
   {
    "duration": 17,
    "start_time": "2021-07-08T10:19:19.940Z"
   },
   {
    "duration": 38,
    "start_time": "2021-07-08T10:19:19.959Z"
   },
   {
    "duration": 8,
    "start_time": "2021-07-08T10:19:19.999Z"
   },
   {
    "duration": 15,
    "start_time": "2021-07-08T10:19:20.009Z"
   },
   {
    "duration": 22,
    "start_time": "2021-07-08T10:19:20.026Z"
   },
   {
    "duration": 10,
    "start_time": "2021-07-08T10:19:20.050Z"
   },
   {
    "duration": 10,
    "start_time": "2021-07-08T10:19:20.062Z"
   },
   {
    "duration": 20,
    "start_time": "2021-07-08T10:19:20.073Z"
   },
   {
    "duration": 29,
    "start_time": "2021-07-08T10:19:20.095Z"
   },
   {
    "duration": 17,
    "start_time": "2021-07-08T10:19:20.126Z"
   },
   {
    "duration": 40,
    "start_time": "2021-07-08T10:19:20.146Z"
   },
   {
    "duration": 15,
    "start_time": "2021-07-08T10:19:20.189Z"
   },
   {
    "duration": 19,
    "start_time": "2021-07-08T10:19:20.206Z"
   },
   {
    "duration": 10,
    "start_time": "2021-07-08T10:19:20.226Z"
   },
   {
    "duration": 11,
    "start_time": "2021-07-08T10:19:20.238Z"
   },
   {
    "duration": 297,
    "start_time": "2021-07-08T10:19:20.250Z"
   },
   {
    "duration": 6,
    "start_time": "2021-07-08T10:19:20.549Z"
   },
   {
    "duration": 191,
    "start_time": "2021-07-08T10:19:20.557Z"
   },
   {
    "duration": 19,
    "start_time": "2021-07-08T10:19:20.750Z"
   },
   {
    "duration": 20,
    "start_time": "2021-07-08T10:19:20.771Z"
   },
   {
    "duration": 15,
    "start_time": "2021-07-08T10:19:20.793Z"
   },
   {
    "duration": 222,
    "start_time": "2021-07-08T10:19:20.809Z"
   },
   {
    "duration": 20,
    "start_time": "2021-07-08T10:19:21.033Z"
   },
   {
    "duration": 27,
    "start_time": "2021-07-08T10:45:04.055Z"
   },
   {
    "duration": 8,
    "start_time": "2021-07-08T10:45:08.478Z"
   },
   {
    "duration": 8,
    "start_time": "2021-07-08T10:45:31.982Z"
   },
   {
    "duration": 10,
    "start_time": "2021-07-08T10:46:01.221Z"
   },
   {
    "duration": 17,
    "start_time": "2021-07-08T10:46:40.011Z"
   },
   {
    "duration": 193,
    "start_time": "2021-07-08T10:48:19.471Z"
   },
   {
    "duration": 225,
    "start_time": "2021-07-08T10:49:26.480Z"
   },
   {
    "duration": 204,
    "start_time": "2021-07-08T10:49:59.992Z"
   },
   {
    "duration": 435,
    "start_time": "2021-07-08T10:50:06.779Z"
   },
   {
    "duration": 199,
    "start_time": "2021-07-08T10:50:14.891Z"
   },
   {
    "duration": 204,
    "start_time": "2021-07-08T10:50:18.501Z"
   },
   {
    "duration": 244,
    "start_time": "2021-07-08T10:50:23.359Z"
   },
   {
    "duration": 192,
    "start_time": "2021-07-08T10:50:29.135Z"
   },
   {
    "duration": 218,
    "start_time": "2021-07-08T10:50:33.092Z"
   },
   {
    "duration": 207,
    "start_time": "2021-07-08T10:52:45.381Z"
   },
   {
    "duration": 5,
    "start_time": "2021-07-08T10:53:34.641Z"
   },
   {
    "duration": 196,
    "start_time": "2021-07-08T10:53:41.478Z"
   },
   {
    "duration": 43,
    "start_time": "2021-07-08T10:53:50.335Z"
   },
   {
    "duration": 32,
    "start_time": "2021-07-08T10:53:55.294Z"
   },
   {
    "duration": 55,
    "start_time": "2021-07-08T10:54:09.675Z"
   },
   {
    "duration": 16,
    "start_time": "2021-07-08T10:54:12.260Z"
   },
   {
    "duration": 15,
    "start_time": "2021-07-08T10:54:49.150Z"
   },
   {
    "duration": 20,
    "start_time": "2021-07-08T10:56:07.596Z"
   },
   {
    "duration": 16,
    "start_time": "2021-07-08T10:58:26.276Z"
   },
   {
    "duration": 22,
    "start_time": "2021-07-08T10:59:00.486Z"
   },
   {
    "duration": 18,
    "start_time": "2021-07-08T11:02:09.653Z"
   },
   {
    "duration": 10,
    "start_time": "2021-07-08T11:03:44.331Z"
   },
   {
    "duration": 10,
    "start_time": "2021-07-08T11:03:54.055Z"
   },
   {
    "duration": 12,
    "start_time": "2021-07-08T11:04:41.967Z"
   },
   {
    "duration": 24,
    "start_time": "2021-07-08T11:07:30.732Z"
   },
   {
    "duration": 6,
    "start_time": "2021-07-08T11:07:37.364Z"
   },
   {
    "duration": 16,
    "start_time": "2021-07-08T11:08:01.819Z"
   },
   {
    "duration": 17,
    "start_time": "2021-07-08T11:09:47.488Z"
   },
   {
    "duration": 246,
    "start_time": "2021-07-08T11:10:00.830Z"
   },
   {
    "duration": 18,
    "start_time": "2021-07-08T11:13:55.195Z"
   },
   {
    "duration": 204,
    "start_time": "2021-07-08T11:14:04.951Z"
   },
   {
    "duration": 19,
    "start_time": "2021-07-08T11:15:10.613Z"
   },
   {
    "duration": 680,
    "start_time": "2021-07-08T11:16:25.793Z"
   },
   {
    "duration": 451,
    "start_time": "2021-07-08T11:16:40.313Z"
   },
   {
    "duration": 469,
    "start_time": "2021-07-08T11:17:21.286Z"
   },
   {
    "duration": 20,
    "start_time": "2021-07-08T11:19:12.554Z"
   },
   {
    "duration": 35,
    "start_time": "2021-07-08T11:20:05.484Z"
   },
   {
    "duration": 53,
    "start_time": "2021-07-08T11:21:40.050Z"
   },
   {
    "duration": 13,
    "start_time": "2021-07-08T11:22:26.059Z"
   },
   {
    "duration": 19,
    "start_time": "2021-07-08T11:22:47.419Z"
   },
   {
    "duration": 25,
    "start_time": "2021-07-08T11:23:19.958Z"
   },
   {
    "duration": 29,
    "start_time": "2021-07-08T11:23:25.415Z"
   },
   {
    "duration": 10,
    "start_time": "2021-07-08T11:24:45.138Z"
   },
   {
    "duration": 19,
    "start_time": "2021-07-08T11:24:54.498Z"
   },
   {
    "duration": 12,
    "start_time": "2021-07-08T11:25:32.225Z"
   },
   {
    "duration": 19,
    "start_time": "2021-07-08T11:25:37.092Z"
   },
   {
    "duration": 17,
    "start_time": "2021-07-08T11:25:58.116Z"
   },
   {
    "duration": 15,
    "start_time": "2021-07-08T11:26:02.258Z"
   },
   {
    "duration": 8,
    "start_time": "2021-07-08T11:26:59.682Z"
   },
   {
    "duration": 184,
    "start_time": "2021-07-08T11:27:21.894Z"
   },
   {
    "duration": 8,
    "start_time": "2021-07-08T11:27:23.824Z"
   },
   {
    "duration": 202,
    "start_time": "2021-07-08T11:27:23.962Z"
   },
   {
    "duration": 360,
    "start_time": "2021-07-08T11:28:33.215Z"
   },
   {
    "duration": 231,
    "start_time": "2021-07-08T11:32:05.542Z"
   },
   {
    "duration": 607,
    "start_time": "2021-07-08T11:36:27.854Z"
   },
   {
    "duration": 241,
    "start_time": "2021-07-08T11:36:28.463Z"
   },
   {
    "duration": 67,
    "start_time": "2021-07-08T11:36:28.709Z"
   },
   {
    "duration": 5,
    "start_time": "2021-07-08T11:36:28.778Z"
   },
   {
    "duration": 32,
    "start_time": "2021-07-08T11:36:28.784Z"
   },
   {
    "duration": 11,
    "start_time": "2021-07-08T11:36:28.819Z"
   },
   {
    "duration": 20,
    "start_time": "2021-07-08T11:36:28.834Z"
   },
   {
    "duration": 36,
    "start_time": "2021-07-08T11:36:28.857Z"
   },
   {
    "duration": 16,
    "start_time": "2021-07-08T11:36:28.895Z"
   },
   {
    "duration": 14,
    "start_time": "2021-07-08T11:36:28.913Z"
   },
   {
    "duration": 9,
    "start_time": "2021-07-08T11:36:28.930Z"
   },
   {
    "duration": 55,
    "start_time": "2021-07-08T11:36:28.941Z"
   },
   {
    "duration": 27,
    "start_time": "2021-07-08T11:36:28.999Z"
   },
   {
    "duration": 30,
    "start_time": "2021-07-08T11:36:29.028Z"
   },
   {
    "duration": 31,
    "start_time": "2021-07-08T11:36:29.060Z"
   },
   {
    "duration": 3,
    "start_time": "2021-07-08T11:36:29.093Z"
   },
   {
    "duration": 12,
    "start_time": "2021-07-08T11:36:29.099Z"
   },
   {
    "duration": 11,
    "start_time": "2021-07-08T11:36:29.112Z"
   },
   {
    "duration": 12,
    "start_time": "2021-07-08T11:36:29.125Z"
   },
   {
    "duration": 9,
    "start_time": "2021-07-08T11:36:29.139Z"
   },
   {
    "duration": 31,
    "start_time": "2021-07-08T11:36:29.191Z"
   },
   {
    "duration": 17,
    "start_time": "2021-07-08T11:36:29.226Z"
   },
   {
    "duration": 7,
    "start_time": "2021-07-08T11:36:29.245Z"
   },
   {
    "duration": 10,
    "start_time": "2021-07-08T11:36:29.254Z"
   },
   {
    "duration": 30,
    "start_time": "2021-07-08T11:36:29.292Z"
   },
   {
    "duration": 11,
    "start_time": "2021-07-08T11:36:29.324Z"
   },
   {
    "duration": 11,
    "start_time": "2021-07-08T11:36:29.337Z"
   },
   {
    "duration": 230,
    "start_time": "2021-07-08T11:36:29.349Z"
   },
   {
    "duration": 13,
    "start_time": "2021-07-08T11:36:29.588Z"
   },
   {
    "duration": 205,
    "start_time": "2021-07-08T11:36:29.603Z"
   },
   {
    "duration": 20,
    "start_time": "2021-07-08T11:36:29.810Z"
   },
   {
    "duration": 9,
    "start_time": "2021-07-08T11:36:29.832Z"
   },
   {
    "duration": 16,
    "start_time": "2021-07-08T11:36:29.843Z"
   },
   {
    "duration": 283,
    "start_time": "2021-07-08T11:36:29.861Z"
   },
   {
    "duration": 50,
    "start_time": "2021-07-08T11:36:30.146Z"
   },
   {
    "duration": 14,
    "start_time": "2021-07-08T11:36:30.198Z"
   },
   {
    "duration": 11,
    "start_time": "2021-07-08T11:36:30.214Z"
   },
   {
    "duration": 245,
    "start_time": "2021-07-08T11:36:30.227Z"
   },
   {
    "duration": 439,
    "start_time": "2021-07-08T11:36:30.474Z"
   },
   {
    "duration": 210,
    "start_time": "2021-07-08T11:36:30.915Z"
   },
   {
    "duration": 15,
    "start_time": "2021-07-08T11:36:31.127Z"
   },
   {
    "duration": 17,
    "start_time": "2021-07-08T11:38:20.451Z"
   },
   {
    "duration": 642,
    "start_time": "2021-07-08T11:46:17.881Z"
   },
   {
    "duration": 210,
    "start_time": "2021-07-08T11:46:18.525Z"
   },
   {
    "duration": 104,
    "start_time": "2021-07-08T11:46:18.741Z"
   },
   {
    "duration": 8,
    "start_time": "2021-07-08T11:46:18.847Z"
   },
   {
    "duration": 25,
    "start_time": "2021-07-08T11:46:18.857Z"
   },
   {
    "duration": 14,
    "start_time": "2021-07-08T11:46:18.884Z"
   },
   {
    "duration": 22,
    "start_time": "2021-07-08T11:46:18.900Z"
   },
   {
    "duration": 5,
    "start_time": "2021-07-08T11:46:18.924Z"
   },
   {
    "duration": 13,
    "start_time": "2021-07-08T11:46:18.931Z"
   },
   {
    "duration": 45,
    "start_time": "2021-07-08T11:46:18.946Z"
   },
   {
    "duration": 12,
    "start_time": "2021-07-08T11:46:18.993Z"
   },
   {
    "duration": 38,
    "start_time": "2021-07-08T11:46:19.006Z"
   },
   {
    "duration": 50,
    "start_time": "2021-07-08T11:46:19.046Z"
   },
   {
    "duration": 29,
    "start_time": "2021-07-08T11:46:19.099Z"
   },
   {
    "duration": 7,
    "start_time": "2021-07-08T11:46:19.130Z"
   },
   {
    "duration": 3,
    "start_time": "2021-07-08T11:46:19.139Z"
   },
   {
    "duration": 11,
    "start_time": "2021-07-08T11:46:19.144Z"
   },
   {
    "duration": 40,
    "start_time": "2021-07-08T11:46:19.157Z"
   },
   {
    "duration": 15,
    "start_time": "2021-07-08T11:46:19.199Z"
   },
   {
    "duration": 10,
    "start_time": "2021-07-08T11:46:19.217Z"
   },
   {
    "duration": 68,
    "start_time": "2021-07-08T11:46:19.230Z"
   },
   {
    "duration": 17,
    "start_time": "2021-07-08T11:46:19.301Z"
   },
   {
    "duration": 7,
    "start_time": "2021-07-08T11:46:19.321Z"
   },
   {
    "duration": 11,
    "start_time": "2021-07-08T11:46:19.330Z"
   },
   {
    "duration": 59,
    "start_time": "2021-07-08T11:46:19.343Z"
   },
   {
    "duration": 17,
    "start_time": "2021-07-08T11:46:19.405Z"
   },
   {
    "duration": 16,
    "start_time": "2021-07-08T11:46:19.424Z"
   },
   {
    "duration": 252,
    "start_time": "2021-07-08T11:46:19.443Z"
   },
   {
    "duration": 9,
    "start_time": "2021-07-08T11:46:19.697Z"
   },
   {
    "duration": 224,
    "start_time": "2021-07-08T11:46:19.708Z"
   },
   {
    "duration": 21,
    "start_time": "2021-07-08T11:46:19.934Z"
   },
   {
    "duration": 9,
    "start_time": "2021-07-08T11:46:19.956Z"
   },
   {
    "duration": 32,
    "start_time": "2021-07-08T11:46:19.967Z"
   },
   {
    "duration": 288,
    "start_time": "2021-07-08T11:46:20.004Z"
   },
   {
    "duration": 23,
    "start_time": "2021-07-08T11:46:20.300Z"
   },
   {
    "duration": 11,
    "start_time": "2021-07-08T11:46:20.325Z"
   },
   {
    "duration": 11,
    "start_time": "2021-07-08T11:46:20.339Z"
   },
   {
    "duration": 259,
    "start_time": "2021-07-08T11:46:20.352Z"
   },
   {
    "duration": 438,
    "start_time": "2021-07-08T11:46:20.613Z"
   },
   {
    "duration": 207,
    "start_time": "2021-07-08T11:46:21.054Z"
   },
   {
    "duration": 27,
    "start_time": "2021-07-08T11:46:21.262Z"
   },
   {
    "duration": 19,
    "start_time": "2021-07-08T11:46:21.291Z"
   },
   {
    "duration": 820,
    "start_time": "2021-07-08T11:49:01.655Z"
   },
   {
    "duration": 372,
    "start_time": "2021-07-08T11:49:02.478Z"
   },
   {
    "duration": 98,
    "start_time": "2021-07-08T11:49:02.853Z"
   },
   {
    "duration": 6,
    "start_time": "2021-07-08T11:49:02.953Z"
   },
   {
    "duration": 39,
    "start_time": "2021-07-08T11:49:02.960Z"
   },
   {
    "duration": 9,
    "start_time": "2021-07-08T11:49:03.003Z"
   },
   {
    "duration": 23,
    "start_time": "2021-07-08T11:49:03.014Z"
   },
   {
    "duration": 6,
    "start_time": "2021-07-08T11:49:03.041Z"
   },
   {
    "duration": 20,
    "start_time": "2021-07-08T11:49:03.049Z"
   },
   {
    "duration": 18,
    "start_time": "2021-07-08T11:49:03.084Z"
   },
   {
    "duration": 14,
    "start_time": "2021-07-08T11:49:03.104Z"
   },
   {
    "duration": 39,
    "start_time": "2021-07-08T11:49:03.119Z"
   },
   {
    "duration": 38,
    "start_time": "2021-07-08T11:49:03.160Z"
   },
   {
    "duration": 26,
    "start_time": "2021-07-08T11:49:03.200Z"
   },
   {
    "duration": 7,
    "start_time": "2021-07-08T11:49:03.227Z"
   },
   {
    "duration": 4,
    "start_time": "2021-07-08T11:49:03.236Z"
   },
   {
    "duration": 15,
    "start_time": "2021-07-08T11:49:03.243Z"
   },
   {
    "duration": 21,
    "start_time": "2021-07-08T11:49:03.285Z"
   },
   {
    "duration": 17,
    "start_time": "2021-07-08T11:49:03.309Z"
   },
   {
    "duration": 10,
    "start_time": "2021-07-08T11:49:03.328Z"
   },
   {
    "duration": 65,
    "start_time": "2021-07-08T11:49:03.340Z"
   },
   {
    "duration": 18,
    "start_time": "2021-07-08T11:49:03.407Z"
   },
   {
    "duration": 8,
    "start_time": "2021-07-08T11:49:03.428Z"
   },
   {
    "duration": 15,
    "start_time": "2021-07-08T11:49:03.438Z"
   },
   {
    "duration": 40,
    "start_time": "2021-07-08T11:49:03.455Z"
   },
   {
    "duration": 12,
    "start_time": "2021-07-08T11:49:03.497Z"
   },
   {
    "duration": 29,
    "start_time": "2021-07-08T11:49:03.511Z"
   },
   {
    "duration": 285,
    "start_time": "2021-07-08T11:49:03.542Z"
   },
   {
    "duration": 8,
    "start_time": "2021-07-08T11:49:03.829Z"
   },
   {
    "duration": 227,
    "start_time": "2021-07-08T11:49:03.838Z"
   },
   {
    "duration": 40,
    "start_time": "2021-07-08T11:49:04.066Z"
   },
   {
    "duration": 10,
    "start_time": "2021-07-08T11:49:04.108Z"
   },
   {
    "duration": 26,
    "start_time": "2021-07-08T11:49:04.121Z"
   },
   {
    "duration": 290,
    "start_time": "2021-07-08T11:49:04.149Z"
   },
   {
    "duration": 26,
    "start_time": "2021-07-08T11:49:04.441Z"
   },
   {
    "duration": 31,
    "start_time": "2021-07-08T11:49:04.470Z"
   },
   {
    "duration": 14,
    "start_time": "2021-07-08T11:49:04.503Z"
   },
   {
    "duration": 259,
    "start_time": "2021-07-08T11:49:04.521Z"
   },
   {
    "duration": 480,
    "start_time": "2021-07-08T11:49:04.782Z"
   },
   {
    "duration": 225,
    "start_time": "2021-07-08T11:49:05.264Z"
   },
   {
    "duration": 22,
    "start_time": "2021-07-08T11:49:05.491Z"
   },
   {
    "duration": 24,
    "start_time": "2021-07-08T11:49:05.515Z"
   },
   {
    "duration": 634,
    "start_time": "2021-07-08T11:52:24.960Z"
   },
   {
    "duration": 199,
    "start_time": "2021-07-08T11:52:25.599Z"
   },
   {
    "duration": 106,
    "start_time": "2021-07-08T11:52:25.803Z"
   },
   {
    "duration": 7,
    "start_time": "2021-07-08T11:52:25.911Z"
   },
   {
    "duration": 29,
    "start_time": "2021-07-08T11:52:25.920Z"
   },
   {
    "duration": 7,
    "start_time": "2021-07-08T11:52:25.951Z"
   },
   {
    "duration": 26,
    "start_time": "2021-07-08T11:52:25.961Z"
   },
   {
    "duration": 11,
    "start_time": "2021-07-08T11:52:25.990Z"
   },
   {
    "duration": 29,
    "start_time": "2021-07-08T11:52:26.005Z"
   },
   {
    "duration": 9,
    "start_time": "2021-07-08T11:52:26.036Z"
   },
   {
    "duration": 8,
    "start_time": "2021-07-08T11:52:26.047Z"
   },
   {
    "duration": 63,
    "start_time": "2021-07-08T11:52:26.057Z"
   },
   {
    "duration": 17,
    "start_time": "2021-07-08T11:52:26.122Z"
   },
   {
    "duration": 43,
    "start_time": "2021-07-08T11:52:26.142Z"
   },
   {
    "duration": 17,
    "start_time": "2021-07-08T11:52:26.187Z"
   },
   {
    "duration": 5,
    "start_time": "2021-07-08T11:52:26.206Z"
   },
   {
    "duration": 12,
    "start_time": "2021-07-08T11:52:26.212Z"
   },
   {
    "duration": 11,
    "start_time": "2021-07-08T11:52:26.226Z"
   },
   {
    "duration": 12,
    "start_time": "2021-07-08T11:52:26.238Z"
   },
   {
    "duration": 38,
    "start_time": "2021-07-08T11:52:26.252Z"
   },
   {
    "duration": 40,
    "start_time": "2021-07-08T11:52:26.292Z"
   },
   {
    "duration": 17,
    "start_time": "2021-07-08T11:52:26.336Z"
   },
   {
    "duration": 39,
    "start_time": "2021-07-08T11:52:26.355Z"
   },
   {
    "duration": 11,
    "start_time": "2021-07-08T11:52:26.395Z"
   },
   {
    "duration": 23,
    "start_time": "2021-07-08T11:52:26.408Z"
   },
   {
    "duration": 12,
    "start_time": "2021-07-08T11:52:26.432Z"
   },
   {
    "duration": 41,
    "start_time": "2021-07-08T11:52:26.446Z"
   },
   {
    "duration": 215,
    "start_time": "2021-07-08T11:52:26.493Z"
   },
   {
    "duration": 8,
    "start_time": "2021-07-08T11:52:26.710Z"
   },
   {
    "duration": 228,
    "start_time": "2021-07-08T11:52:26.720Z"
   },
   {
    "duration": 18,
    "start_time": "2021-07-08T11:52:26.950Z"
   },
   {
    "duration": 35,
    "start_time": "2021-07-08T11:52:26.969Z"
   },
   {
    "duration": 23,
    "start_time": "2021-07-08T11:52:27.006Z"
   },
   {
    "duration": 258,
    "start_time": "2021-07-08T11:52:27.030Z"
   },
   {
    "duration": 24,
    "start_time": "2021-07-08T11:52:27.290Z"
   },
   {
    "duration": 12,
    "start_time": "2021-07-08T11:52:27.316Z"
   },
   {
    "duration": 10,
    "start_time": "2021-07-08T11:52:27.329Z"
   },
   {
    "duration": 298,
    "start_time": "2021-07-08T11:52:27.341Z"
   },
   {
    "duration": 436,
    "start_time": "2021-07-08T11:52:27.641Z"
   },
   {
    "duration": 216,
    "start_time": "2021-07-08T11:52:28.079Z"
   },
   {
    "duration": 20,
    "start_time": "2021-07-08T11:52:28.297Z"
   },
   {
    "duration": 17,
    "start_time": "2021-07-08T11:52:28.319Z"
   },
   {
    "duration": 595,
    "start_time": "2024-04-20T19:18:34.131Z"
   },
   {
    "duration": 102,
    "start_time": "2024-04-20T19:18:41.550Z"
   },
   {
    "duration": 172,
    "start_time": "2024-04-20T19:20:03.816Z"
   },
   {
    "duration": 145,
    "start_time": "2024-04-20T19:20:19.284Z"
   },
   {
    "duration": 128,
    "start_time": "2024-04-20T19:20:34.057Z"
   },
   {
    "duration": 137,
    "start_time": "2024-04-20T19:22:15.028Z"
   },
   {
    "duration": 1174,
    "start_time": "2024-04-24T09:10:53.209Z"
   },
   {
    "duration": 1107,
    "start_time": "2024-04-26T18:51:43.331Z"
   },
   {
    "duration": 91,
    "start_time": "2024-04-26T18:52:45.805Z"
   },
   {
    "duration": 161,
    "start_time": "2024-04-26T18:52:51.758Z"
   },
   {
    "duration": 8,
    "start_time": "2024-04-26T18:52:51.921Z"
   },
   {
    "duration": 6,
    "start_time": "2024-04-26T18:53:11.865Z"
   },
   {
    "duration": 9,
    "start_time": "2024-04-26T18:54:02.855Z"
   },
   {
    "duration": 2,
    "start_time": "2024-04-26T19:02:41.428Z"
   },
   {
    "duration": 345,
    "start_time": "2024-04-26T19:17:00.318Z"
   },
   {
    "duration": 26,
    "start_time": "2024-04-26T19:21:36.702Z"
   },
   {
    "duration": 1063,
    "start_time": "2024-04-26T19:27:45.434Z"
   },
   {
    "duration": 413,
    "start_time": "2024-04-26T19:28:09.211Z"
   },
   {
    "duration": 2,
    "start_time": "2024-04-26T19:38:15.242Z"
   },
   {
    "duration": 15,
    "start_time": "2024-04-26T19:38:20.796Z"
   },
   {
    "duration": 14,
    "start_time": "2024-04-26T19:39:15.472Z"
   },
   {
    "duration": 19,
    "start_time": "2024-04-26T19:39:33.452Z"
   },
   {
    "duration": 734,
    "start_time": "2024-04-26T19:39:43.820Z"
   },
   {
    "duration": 713,
    "start_time": "2024-04-26T19:42:19.137Z"
   },
   {
    "duration": 21,
    "start_time": "2024-04-26T19:42:41.473Z"
   },
   {
    "duration": 27,
    "start_time": "2024-04-26T19:43:04.219Z"
   },
   {
    "duration": 47,
    "start_time": "2024-04-26T21:01:01.274Z"
   },
   {
    "duration": 31,
    "start_time": "2024-04-26T21:02:27.370Z"
   },
   {
    "duration": 24,
    "start_time": "2024-04-26T21:02:42.128Z"
   },
   {
    "duration": 14,
    "start_time": "2024-04-26T21:04:50.939Z"
   },
   {
    "duration": 14,
    "start_time": "2024-04-26T21:05:05.470Z"
   },
   {
    "duration": 26,
    "start_time": "2024-04-26T21:05:18.267Z"
   },
   {
    "duration": 30,
    "start_time": "2024-04-26T21:12:23.706Z"
   },
   {
    "duration": 39,
    "start_time": "2024-04-26T21:12:55.367Z"
   },
   {
    "duration": 29,
    "start_time": "2024-04-26T21:13:10.260Z"
   },
   {
    "duration": 35,
    "start_time": "2024-04-26T21:24:52.266Z"
   },
   {
    "duration": 31,
    "start_time": "2024-04-26T21:25:15.540Z"
   },
   {
    "duration": 28,
    "start_time": "2024-04-26T21:25:24.587Z"
   },
   {
    "duration": 54,
    "start_time": "2024-04-30T10:06:43.253Z"
   },
   {
    "duration": 1041,
    "start_time": "2024-04-30T10:06:47.561Z"
   },
   {
    "duration": 27,
    "start_time": "2024-04-30T10:06:48.604Z"
   },
   {
    "duration": 98,
    "start_time": "2024-04-30T10:06:48.632Z"
   },
   {
    "duration": 29,
    "start_time": "2024-04-30T10:07:06.288Z"
   },
   {
    "duration": 29,
    "start_time": "2024-04-30T10:23:48.045Z"
   },
   {
    "duration": 31,
    "start_time": "2024-04-30T10:28:23.373Z"
   },
   {
    "duration": 34,
    "start_time": "2024-04-30T11:14:39.606Z"
   },
   {
    "duration": 34,
    "start_time": "2024-04-30T11:19:16.281Z"
   },
   {
    "duration": 34,
    "start_time": "2024-04-30T11:31:33.848Z"
   },
   {
    "duration": 29,
    "start_time": "2024-04-30T11:46:53.186Z"
   },
   {
    "duration": 24,
    "start_time": "2024-04-30T11:47:13.147Z"
   },
   {
    "duration": 31,
    "start_time": "2024-04-30T12:09:53.343Z"
   },
   {
    "duration": 27,
    "start_time": "2024-04-30T12:10:23.234Z"
   },
   {
    "duration": 829,
    "start_time": "2024-04-30T12:17:33.698Z"
   },
   {
    "duration": 482,
    "start_time": "2024-04-30T12:21:09.501Z"
   },
   {
    "duration": 20,
    "start_time": "2024-04-30T12:27:36.877Z"
   },
   {
    "duration": 17,
    "start_time": "2024-04-30T12:28:14.174Z"
   },
   {
    "duration": 23,
    "start_time": "2024-04-30T12:28:49.632Z"
   },
   {
    "duration": 28,
    "start_time": "2024-04-30T12:33:23.810Z"
   },
   {
    "duration": 23,
    "start_time": "2024-04-30T12:34:51.810Z"
   },
   {
    "duration": 78,
    "start_time": "2024-04-30T12:35:25.419Z"
   },
   {
    "duration": 22,
    "start_time": "2024-04-30T12:35:55.439Z"
   },
   {
    "duration": 23,
    "start_time": "2024-04-30T12:37:07.645Z"
   },
   {
    "duration": 22,
    "start_time": "2024-04-30T12:37:47.886Z"
   },
   {
    "duration": 24,
    "start_time": "2024-04-30T12:38:20.889Z"
   },
   {
    "duration": 46,
    "start_time": "2024-04-30T16:27:48.023Z"
   },
   {
    "duration": 1197,
    "start_time": "2024-04-30T16:27:52.630Z"
   },
   {
    "duration": 29,
    "start_time": "2024-04-30T16:27:53.829Z"
   },
   {
    "duration": 33,
    "start_time": "2024-04-30T16:27:53.859Z"
   },
   {
    "duration": 51,
    "start_time": "2024-04-30T16:27:53.893Z"
   },
   {
    "duration": 11,
    "start_time": "2024-04-30T16:27:53.946Z"
   },
   {
    "duration": 47,
    "start_time": "2024-04-30T16:31:32.110Z"
   },
   {
    "duration": 8,
    "start_time": "2024-04-30T16:31:50.559Z"
   },
   {
    "duration": 9,
    "start_time": "2024-04-30T16:32:54.018Z"
   },
   {
    "duration": 1078,
    "start_time": "2024-05-05T13:51:46.159Z"
   },
   {
    "duration": 29,
    "start_time": "2024-05-05T13:51:47.239Z"
   },
   {
    "duration": 33,
    "start_time": "2024-05-05T13:51:47.270Z"
   },
   {
    "duration": 49,
    "start_time": "2024-05-05T13:51:47.305Z"
   },
   {
    "duration": 9,
    "start_time": "2024-05-05T13:51:47.357Z"
   },
   {
    "duration": 34,
    "start_time": "2024-05-05T13:51:47.368Z"
   },
   {
    "duration": 24,
    "start_time": "2024-05-05T13:52:53.871Z"
   },
   {
    "duration": 33,
    "start_time": "2024-05-05T13:53:08.454Z"
   },
   {
    "duration": 746,
    "start_time": "2024-05-05T14:01:57.833Z"
   },
   {
    "duration": 19,
    "start_time": "2024-05-05T14:02:08.354Z"
   },
   {
    "duration": 18,
    "start_time": "2024-05-05T14:02:18.655Z"
   },
   {
    "duration": 18,
    "start_time": "2024-05-05T14:02:24.062Z"
   },
   {
    "duration": 74,
    "start_time": "2024-05-05T14:02:35.614Z"
   },
   {
    "duration": 24,
    "start_time": "2024-05-05T14:30:28.807Z"
   },
   {
    "duration": 22,
    "start_time": "2024-05-05T14:30:49.003Z"
   },
   {
    "duration": 18,
    "start_time": "2024-05-05T14:30:58.053Z"
   },
   {
    "duration": 25,
    "start_time": "2024-05-05T14:31:29.891Z"
   },
   {
    "duration": 27,
    "start_time": "2024-05-05T14:31:52.196Z"
   },
   {
    "duration": 34,
    "start_time": "2024-05-05T14:32:09.817Z"
   },
   {
    "duration": 146,
    "start_time": "2024-05-05T14:32:28.729Z"
   },
   {
    "duration": 29,
    "start_time": "2024-05-05T14:32:28.877Z"
   },
   {
    "duration": 30,
    "start_time": "2024-05-05T14:32:28.908Z"
   },
   {
    "duration": 29,
    "start_time": "2024-05-05T14:32:28.939Z"
   },
   {
    "duration": 9,
    "start_time": "2024-05-05T14:32:28.970Z"
   },
   {
    "duration": 55,
    "start_time": "2024-05-05T14:32:28.980Z"
   },
   {
    "duration": 30,
    "start_time": "2024-05-05T14:34:16.477Z"
   },
   {
    "duration": 27,
    "start_time": "2024-05-05T14:34:44.070Z"
   },
   {
    "duration": 27,
    "start_time": "2024-05-05T14:37:35.049Z"
   },
   {
    "duration": 25,
    "start_time": "2024-05-05T14:37:47.543Z"
   },
   {
    "duration": 22,
    "start_time": "2024-05-05T14:37:50.572Z"
   },
   {
    "duration": 141,
    "start_time": "2024-05-05T14:38:04.334Z"
   },
   {
    "duration": 35,
    "start_time": "2024-05-05T14:38:04.477Z"
   },
   {
    "duration": 39,
    "start_time": "2024-05-05T14:38:04.513Z"
   },
   {
    "duration": 92,
    "start_time": "2024-05-05T14:38:04.554Z"
   },
   {
    "duration": 10,
    "start_time": "2024-05-05T14:38:04.647Z"
   },
   {
    "duration": 40,
    "start_time": "2024-05-05T14:38:04.658Z"
   },
   {
    "duration": 24,
    "start_time": "2024-05-05T14:38:48.194Z"
   },
   {
    "duration": 25,
    "start_time": "2024-05-05T14:39:27.611Z"
   },
   {
    "duration": 23,
    "start_time": "2024-05-05T14:39:47.922Z"
   },
   {
    "duration": 13,
    "start_time": "2024-05-05T14:40:49.436Z"
   },
   {
    "duration": 11,
    "start_time": "2024-05-05T14:41:49.481Z"
   },
   {
    "duration": 13,
    "start_time": "2024-05-05T14:42:12.098Z"
   },
   {
    "duration": 31,
    "start_time": "2024-05-05T14:43:07.452Z"
   },
   {
    "duration": 27,
    "start_time": "2024-05-05T14:43:52.984Z"
   },
   {
    "duration": 15,
    "start_time": "2024-05-05T14:44:09.269Z"
   },
   {
    "duration": 17,
    "start_time": "2024-05-05T14:44:20.741Z"
   },
   {
    "duration": 31,
    "start_time": "2024-05-05T14:44:26.325Z"
   },
   {
    "duration": 31,
    "start_time": "2024-05-05T14:44:48.618Z"
   },
   {
    "duration": 29,
    "start_time": "2024-05-05T14:44:59.309Z"
   },
   {
    "duration": 18,
    "start_time": "2024-05-05T14:45:54.322Z"
   },
   {
    "duration": 17,
    "start_time": "2024-05-05T14:45:58.891Z"
   },
   {
    "duration": 31,
    "start_time": "2024-05-05T14:46:04.341Z"
   },
   {
    "duration": 17,
    "start_time": "2024-05-05T14:46:30.752Z"
   },
   {
    "duration": 12,
    "start_time": "2024-05-05T14:46:44.766Z"
   },
   {
    "duration": 927,
    "start_time": "2024-05-05T14:47:21.712Z"
   },
   {
    "duration": 964,
    "start_time": "2024-05-05T14:47:33.088Z"
   },
   {
    "duration": 10,
    "start_time": "2024-05-05T14:47:42.934Z"
   },
   {
    "duration": 32,
    "start_time": "2024-05-05T14:48:18.793Z"
   },
   {
    "duration": 152,
    "start_time": "2024-05-05T14:48:45.130Z"
   },
   {
    "duration": 861,
    "start_time": "2024-05-05T14:49:04.245Z"
   },
   {
    "duration": 145,
    "start_time": "2024-05-05T14:49:20.257Z"
   },
   {
    "duration": 40,
    "start_time": "2024-05-05T14:49:30.054Z"
   },
   {
    "duration": 37,
    "start_time": "2024-05-05T14:49:38.188Z"
   },
   {
    "duration": 34,
    "start_time": "2024-05-05T14:49:47.883Z"
   },
   {
    "duration": 39,
    "start_time": "2024-05-05T14:51:10.691Z"
   },
   {
    "duration": 27,
    "start_time": "2024-05-05T14:51:42.571Z"
   },
   {
    "duration": 28,
    "start_time": "2024-05-05T14:51:53.187Z"
   },
   {
    "duration": 29,
    "start_time": "2024-05-05T14:54:12.900Z"
   },
   {
    "duration": 24,
    "start_time": "2024-05-05T14:54:34.913Z"
   },
   {
    "duration": 44,
    "start_time": "2024-05-05T15:00:07.984Z"
   },
   {
    "duration": 78,
    "start_time": "2024-05-05T15:01:42.529Z"
   },
   {
    "duration": 23,
    "start_time": "2024-05-05T15:04:37.374Z"
   },
   {
    "duration": 24,
    "start_time": "2024-05-05T15:05:10.485Z"
   },
   {
    "duration": 12,
    "start_time": "2024-05-05T15:10:04.985Z"
   },
   {
    "duration": 25,
    "start_time": "2024-05-05T15:12:33.581Z"
   },
   {
    "duration": 18,
    "start_time": "2024-05-05T15:13:26.106Z"
   },
   {
    "duration": 18,
    "start_time": "2024-05-05T15:14:08.318Z"
   },
   {
    "duration": 18,
    "start_time": "2024-05-05T15:14:51.049Z"
   },
   {
    "duration": 17,
    "start_time": "2024-05-05T15:15:03.941Z"
   },
   {
    "duration": 19,
    "start_time": "2024-05-05T15:59:18.058Z"
   },
   {
    "duration": 21,
    "start_time": "2024-05-05T16:05:06.186Z"
   },
   {
    "duration": 19,
    "start_time": "2024-05-05T16:34:30.542Z"
   },
   {
    "duration": 25,
    "start_time": "2024-05-05T16:35:33.898Z"
   },
   {
    "duration": 20,
    "start_time": "2024-05-05T16:35:44.182Z"
   },
   {
    "duration": 53,
    "start_time": "2024-05-06T11:23:16.466Z"
   },
   {
    "duration": 1310,
    "start_time": "2024-05-06T11:23:21.365Z"
   },
   {
    "duration": 29,
    "start_time": "2024-05-06T11:23:22.677Z"
   },
   {
    "duration": 33,
    "start_time": "2024-05-06T11:23:22.708Z"
   },
   {
    "duration": 47,
    "start_time": "2024-05-06T11:23:22.743Z"
   },
   {
    "duration": 17,
    "start_time": "2024-05-06T11:23:22.792Z"
   },
   {
    "duration": 17,
    "start_time": "2024-05-06T11:23:22.811Z"
   },
   {
    "duration": 23,
    "start_time": "2024-05-06T11:23:22.829Z"
   },
   {
    "duration": 8,
    "start_time": "2024-05-06T11:35:19.580Z"
   },
   {
    "duration": 4,
    "start_time": "2024-05-06T11:35:55.082Z"
   },
   {
    "duration": 4,
    "start_time": "2024-05-06T11:36:02.765Z"
   },
   {
    "duration": 5,
    "start_time": "2024-05-06T11:36:13.879Z"
   },
   {
    "duration": 4,
    "start_time": "2024-05-06T11:36:16.947Z"
   },
   {
    "duration": 5,
    "start_time": "2024-05-06T11:36:28.113Z"
   },
   {
    "duration": 7,
    "start_time": "2024-05-06T11:36:47.568Z"
   },
   {
    "duration": 11,
    "start_time": "2024-05-06T11:37:29.462Z"
   },
   {
    "duration": 12,
    "start_time": "2024-05-06T11:38:03.214Z"
   },
   {
    "duration": 11,
    "start_time": "2024-05-06T11:38:26.484Z"
   },
   {
    "duration": 39,
    "start_time": "2024-05-06T11:39:10.886Z"
   },
   {
    "duration": 68,
    "start_time": "2024-05-06T15:52:03.146Z"
   },
   {
    "duration": 1102,
    "start_time": "2024-05-06T15:52:08.162Z"
   },
   {
    "duration": 28,
    "start_time": "2024-05-06T15:52:09.266Z"
   },
   {
    "duration": 32,
    "start_time": "2024-05-06T15:52:09.295Z"
   },
   {
    "duration": 49,
    "start_time": "2024-05-06T15:52:09.328Z"
   },
   {
    "duration": 18,
    "start_time": "2024-05-06T15:52:09.379Z"
   },
   {
    "duration": 17,
    "start_time": "2024-05-06T15:52:09.399Z"
   },
   {
    "duration": 47,
    "start_time": "2024-05-06T15:52:09.418Z"
   },
   {
    "duration": 34,
    "start_time": "2024-05-06T15:52:09.467Z"
   },
   {
    "duration": 9,
    "start_time": "2024-05-06T15:52:09.503Z"
   },
   {
    "duration": 24,
    "start_time": "2024-05-06T15:52:31.854Z"
   },
   {
    "duration": 22,
    "start_time": "2024-05-06T15:57:45.243Z"
   },
   {
    "duration": 41,
    "start_time": "2024-05-06T15:59:17.886Z"
   },
   {
    "duration": 32,
    "start_time": "2024-05-06T15:59:32.939Z"
   },
   {
    "duration": 34,
    "start_time": "2024-05-06T15:59:42.763Z"
   },
   {
    "duration": 34,
    "start_time": "2024-05-06T16:00:00.113Z"
   },
   {
    "duration": 71,
    "start_time": "2024-05-06T16:00:37.759Z"
   },
   {
    "duration": 44,
    "start_time": "2024-05-06T16:01:10.113Z"
   },
   {
    "duration": 33,
    "start_time": "2024-05-06T16:01:20.507Z"
   },
   {
    "duration": 33,
    "start_time": "2024-05-06T16:01:40.763Z"
   },
   {
    "duration": 9,
    "start_time": "2024-05-06T16:05:29.271Z"
   },
   {
    "duration": 15,
    "start_time": "2024-05-06T16:06:06.632Z"
   },
   {
    "duration": 45,
    "start_time": "2024-05-06T16:07:10.634Z"
   },
   {
    "duration": 34,
    "start_time": "2024-05-06T16:07:50.048Z"
   },
   {
    "duration": 46,
    "start_time": "2024-05-06T16:08:00.708Z"
   },
   {
    "duration": 15,
    "start_time": "2024-05-06T16:08:27.562Z"
   },
   {
    "duration": 59,
    "start_time": "2024-05-08T14:01:59.845Z"
   },
   {
    "duration": 1271,
    "start_time": "2024-05-08T14:02:04.141Z"
   },
   {
    "duration": 49,
    "start_time": "2024-05-08T14:02:05.414Z"
   },
   {
    "duration": 44,
    "start_time": "2024-05-08T14:02:05.465Z"
   },
   {
    "duration": 66,
    "start_time": "2024-05-08T14:02:05.511Z"
   },
   {
    "duration": 18,
    "start_time": "2024-05-08T14:02:05.579Z"
   },
   {
    "duration": 28,
    "start_time": "2024-05-08T14:02:05.599Z"
   },
   {
    "duration": 45,
    "start_time": "2024-05-08T14:02:05.628Z"
   },
   {
    "duration": 38,
    "start_time": "2024-05-08T14:02:05.675Z"
   },
   {
    "duration": 17,
    "start_time": "2024-05-08T14:02:05.715Z"
   },
   {
    "duration": 19,
    "start_time": "2024-05-08T14:02:53.320Z"
   },
   {
    "duration": 18,
    "start_time": "2024-05-08T14:03:32.648Z"
   },
   {
    "duration": 16,
    "start_time": "2024-05-08T14:35:28.919Z"
   },
   {
    "duration": 15,
    "start_time": "2024-05-08T14:40:24.480Z"
   },
   {
    "duration": 11,
    "start_time": "2024-05-08T14:40:39.587Z"
   },
   {
    "duration": 11,
    "start_time": "2024-05-08T15:07:25.086Z"
   },
   {
    "duration": 9,
    "start_time": "2024-05-08T15:10:37.316Z"
   },
   {
    "duration": 9,
    "start_time": "2024-05-08T15:11:04.707Z"
   },
   {
    "duration": 12,
    "start_time": "2024-05-08T15:16:49.958Z"
   },
   {
    "duration": 8,
    "start_time": "2024-05-08T15:17:04.794Z"
   },
   {
    "duration": 9,
    "start_time": "2024-05-08T15:20:37.319Z"
   },
   {
    "duration": 9,
    "start_time": "2024-05-08T15:21:05.066Z"
   },
   {
    "duration": 9,
    "start_time": "2024-05-08T15:22:10.687Z"
   },
   {
    "duration": 8,
    "start_time": "2024-05-08T15:22:28.089Z"
   },
   {
    "duration": 15,
    "start_time": "2024-05-08T15:23:32.386Z"
   },
   {
    "duration": 23,
    "start_time": "2024-05-08T15:23:38.068Z"
   },
   {
    "duration": 17,
    "start_time": "2024-05-08T15:24:06.233Z"
   },
   {
    "duration": 24,
    "start_time": "2024-05-08T15:24:30.600Z"
   },
   {
    "duration": 15,
    "start_time": "2024-05-08T15:24:37.442Z"
   },
   {
    "duration": 25,
    "start_time": "2024-05-08T15:24:48.250Z"
   },
   {
    "duration": 17,
    "start_time": "2024-05-08T15:25:01.338Z"
   },
   {
    "duration": 17,
    "start_time": "2024-05-08T15:25:07.133Z"
   },
   {
    "duration": 17,
    "start_time": "2024-05-08T15:25:11.595Z"
   },
   {
    "duration": 20,
    "start_time": "2024-05-08T15:25:15.627Z"
   },
   {
    "duration": 24,
    "start_time": "2024-05-08T15:26:02.860Z"
   },
   {
    "duration": 15,
    "start_time": "2024-05-08T15:26:10.560Z"
   },
   {
    "duration": 8,
    "start_time": "2024-05-08T15:27:25.144Z"
   },
   {
    "duration": 6,
    "start_time": "2024-05-08T15:30:05.152Z"
   },
   {
    "duration": 6,
    "start_time": "2024-05-08T15:30:49.887Z"
   },
   {
    "duration": 7,
    "start_time": "2024-05-08T15:31:17.230Z"
   },
   {
    "duration": 44,
    "start_time": "2024-05-08T15:34:37.241Z"
   },
   {
    "duration": 10,
    "start_time": "2024-05-08T15:35:00.188Z"
   },
   {
    "duration": 14,
    "start_time": "2024-05-08T15:35:33.419Z"
   },
   {
    "duration": 13,
    "start_time": "2024-05-08T15:35:43.305Z"
   },
   {
    "duration": 17,
    "start_time": "2024-05-08T15:39:03.129Z"
   },
   {
    "duration": 14,
    "start_time": "2024-05-08T15:39:17.055Z"
   },
   {
    "duration": 13,
    "start_time": "2024-05-08T15:39:27.371Z"
   },
   {
    "duration": 94,
    "start_time": "2024-05-08T15:39:47.677Z"
   },
   {
    "duration": 15,
    "start_time": "2024-05-08T15:39:52.212Z"
   },
   {
    "duration": 912,
    "start_time": "2024-05-08T15:41:37.867Z"
   },
   {
    "duration": 12,
    "start_time": "2024-05-08T15:42:08.503Z"
   },
   {
    "duration": 27,
    "start_time": "2024-05-08T15:45:44.113Z"
   },
   {
    "duration": 28,
    "start_time": "2024-05-08T15:48:52.585Z"
   },
   {
    "duration": 32,
    "start_time": "2024-05-08T15:49:25.361Z"
   },
   {
    "duration": 9,
    "start_time": "2024-05-08T15:56:36.766Z"
   },
   {
    "duration": 7,
    "start_time": "2024-05-08T15:57:04.154Z"
   },
   {
    "duration": 34,
    "start_time": "2024-05-08T15:57:12.930Z"
   },
   {
    "duration": 22,
    "start_time": "2024-05-08T15:57:20.093Z"
   },
   {
    "duration": 30,
    "start_time": "2024-05-08T15:57:29.300Z"
   },
   {
    "duration": 53,
    "start_time": "2024-05-08T15:58:50.664Z"
   },
   {
    "duration": 1069,
    "start_time": "2024-05-08T15:59:30.790Z"
   },
   {
    "duration": 18,
    "start_time": "2024-05-08T16:00:03.556Z"
   },
   {
    "duration": 8,
    "start_time": "2024-05-08T16:00:09.530Z"
   },
   {
    "duration": 6,
    "start_time": "2024-05-08T16:00:22.722Z"
   },
   {
    "duration": 44,
    "start_time": "2024-05-08T16:02:19.123Z"
   },
   {
    "duration": 11,
    "start_time": "2024-05-08T16:07:01.993Z"
   },
   {
    "duration": 11,
    "start_time": "2024-05-08T16:07:10.376Z"
   },
   {
    "duration": 44,
    "start_time": "2024-05-08T16:15:30.120Z"
   },
   {
    "duration": 46,
    "start_time": "2024-05-08T16:15:49.754Z"
   },
   {
    "duration": 40,
    "start_time": "2024-05-08T16:16:07.909Z"
   },
   {
    "duration": 41,
    "start_time": "2024-05-08T16:16:24.132Z"
   },
   {
    "duration": 40,
    "start_time": "2024-05-08T16:17:20.562Z"
   },
   {
    "duration": 147,
    "start_time": "2024-05-08T16:17:40.831Z"
   },
   {
    "duration": 29,
    "start_time": "2024-05-08T16:17:40.980Z"
   },
   {
    "duration": 49,
    "start_time": "2024-05-08T16:17:41.010Z"
   },
   {
    "duration": 28,
    "start_time": "2024-05-08T16:17:41.061Z"
   },
   {
    "duration": 17,
    "start_time": "2024-05-08T16:17:41.091Z"
   },
   {
    "duration": 22,
    "start_time": "2024-05-08T16:17:41.110Z"
   },
   {
    "duration": 45,
    "start_time": "2024-05-08T16:17:41.134Z"
   },
   {
    "duration": 36,
    "start_time": "2024-05-08T16:17:41.180Z"
   },
   {
    "duration": 10,
    "start_time": "2024-05-08T16:18:13.915Z"
   },
   {
    "duration": 16,
    "start_time": "2024-05-08T16:18:29.726Z"
   },
   {
    "duration": 38,
    "start_time": "2024-05-08T16:20:39.385Z"
   },
   {
    "duration": 155,
    "start_time": "2024-05-08T16:20:45.743Z"
   },
   {
    "duration": 32,
    "start_time": "2024-05-08T16:20:45.900Z"
   },
   {
    "duration": 33,
    "start_time": "2024-05-08T16:20:45.933Z"
   },
   {
    "duration": 102,
    "start_time": "2024-05-08T16:20:45.967Z"
   },
   {
    "duration": 19,
    "start_time": "2024-05-08T16:20:46.071Z"
   },
   {
    "duration": 30,
    "start_time": "2024-05-08T16:20:46.092Z"
   },
   {
    "duration": 36,
    "start_time": "2024-05-08T16:20:46.124Z"
   },
   {
    "duration": 40,
    "start_time": "2024-05-08T16:20:46.162Z"
   },
   {
    "duration": 51,
    "start_time": "2024-05-08T16:20:59.726Z"
   },
   {
    "duration": 152,
    "start_time": "2024-05-08T16:21:06.674Z"
   },
   {
    "duration": 29,
    "start_time": "2024-05-08T16:21:06.828Z"
   },
   {
    "duration": 30,
    "start_time": "2024-05-08T16:21:06.859Z"
   },
   {
    "duration": 26,
    "start_time": "2024-05-08T16:21:06.891Z"
   },
   {
    "duration": 40,
    "start_time": "2024-05-08T16:21:06.919Z"
   },
   {
    "duration": 19,
    "start_time": "2024-05-08T16:21:06.961Z"
   },
   {
    "duration": 26,
    "start_time": "2024-05-08T16:21:06.982Z"
   },
   {
    "duration": 54,
    "start_time": "2024-05-08T16:21:07.010Z"
   },
   {
    "duration": 62,
    "start_time": "2024-05-11T15:21:06.501Z"
   },
   {
    "duration": 1064,
    "start_time": "2024-05-11T15:21:11.181Z"
   },
   {
    "duration": 30,
    "start_time": "2024-05-11T15:21:12.247Z"
   },
   {
    "duration": 32,
    "start_time": "2024-05-11T15:21:12.278Z"
   },
   {
    "duration": 26,
    "start_time": "2024-05-11T15:21:12.311Z"
   },
   {
    "duration": 38,
    "start_time": "2024-05-11T15:21:12.339Z"
   },
   {
    "duration": 17,
    "start_time": "2024-05-11T15:21:12.379Z"
   },
   {
    "duration": 22,
    "start_time": "2024-05-11T15:21:12.397Z"
   },
   {
    "duration": 76,
    "start_time": "2024-05-11T15:21:12.421Z"
   },
   {
    "duration": 15,
    "start_time": "2024-05-11T15:21:12.498Z"
   },
   {
    "duration": 8,
    "start_time": "2024-05-11T15:24:20.313Z"
   },
   {
    "duration": 16,
    "start_time": "2024-05-11T15:24:49.337Z"
   },
   {
    "duration": 6,
    "start_time": "2024-05-11T15:25:21.925Z"
   },
   {
    "duration": 15,
    "start_time": "2024-05-11T15:27:23.630Z"
   },
   {
    "duration": 7,
    "start_time": "2024-05-11T15:27:58.091Z"
   },
   {
    "duration": 8,
    "start_time": "2024-05-11T15:29:46.168Z"
   },
   {
    "duration": 8,
    "start_time": "2024-05-11T15:30:19.973Z"
   },
   {
    "duration": 17,
    "start_time": "2024-05-11T16:18:25.813Z"
   },
   {
    "duration": 8,
    "start_time": "2024-05-11T16:19:03.704Z"
   },
   {
    "duration": 14,
    "start_time": "2024-05-11T16:19:14.221Z"
   },
   {
    "duration": 9,
    "start_time": "2024-05-11T16:21:14.067Z"
   },
   {
    "duration": 10,
    "start_time": "2024-05-11T16:21:47.599Z"
   },
   {
    "duration": 12,
    "start_time": "2024-05-11T16:22:00.355Z"
   },
   {
    "duration": 15,
    "start_time": "2024-05-11T16:25:22.530Z"
   },
   {
    "duration": 11,
    "start_time": "2024-05-11T16:25:49.950Z"
   },
   {
    "duration": 13,
    "start_time": "2024-05-11T16:28:01.832Z"
   },
   {
    "duration": 10,
    "start_time": "2024-05-11T16:28:14.637Z"
   },
   {
    "duration": 16,
    "start_time": "2024-05-11T16:28:48.263Z"
   },
   {
    "duration": 12,
    "start_time": "2024-05-11T17:10:06.679Z"
   },
   {
    "duration": 9,
    "start_time": "2024-05-11T17:18:53.400Z"
   },
   {
    "duration": 40,
    "start_time": "2024-05-11T17:22:41.504Z"
   },
   {
    "duration": 41,
    "start_time": "2024-05-11T17:23:23.219Z"
   },
   {
    "duration": 8,
    "start_time": "2024-05-11T17:23:32.925Z"
   },
   {
    "duration": 8,
    "start_time": "2024-05-11T17:23:52.910Z"
   },
   {
    "duration": 15,
    "start_time": "2024-05-11T17:27:09.873Z"
   },
   {
    "duration": 13,
    "start_time": "2024-05-11T17:27:20.547Z"
   },
   {
    "duration": 18,
    "start_time": "2024-05-11T17:41:14.561Z"
   },
   {
    "duration": 16,
    "start_time": "2024-05-11T17:41:18.974Z"
   },
   {
    "duration": 10,
    "start_time": "2024-05-11T17:45:29.491Z"
   },
   {
    "duration": 10,
    "start_time": "2024-05-11T17:46:14.394Z"
   },
   {
    "duration": 11,
    "start_time": "2024-05-11T17:47:20.889Z"
   },
   {
    "duration": 9,
    "start_time": "2024-05-11T17:48:18.129Z"
   },
   {
    "duration": 8,
    "start_time": "2024-05-11T17:48:21.434Z"
   },
   {
    "duration": 148,
    "start_time": "2024-05-11T17:48:25.228Z"
   },
   {
    "duration": 34,
    "start_time": "2024-05-11T17:48:25.379Z"
   },
   {
    "duration": 52,
    "start_time": "2024-05-11T17:48:25.414Z"
   },
   {
    "duration": 26,
    "start_time": "2024-05-11T17:48:25.468Z"
   },
   {
    "duration": 16,
    "start_time": "2024-05-11T17:48:25.496Z"
   },
   {
    "duration": 16,
    "start_time": "2024-05-11T17:48:25.514Z"
   },
   {
    "duration": 50,
    "start_time": "2024-05-11T17:48:25.531Z"
   },
   {
    "duration": 32,
    "start_time": "2024-05-11T17:48:25.583Z"
   },
   {
    "duration": 12,
    "start_time": "2024-05-11T17:48:25.616Z"
   },
   {
    "duration": 38,
    "start_time": "2024-05-11T17:48:25.629Z"
   },
   {
    "duration": 10,
    "start_time": "2024-05-11T17:48:25.669Z"
   },
   {
    "duration": 13,
    "start_time": "2024-05-11T17:50:04.586Z"
   },
   {
    "duration": 16,
    "start_time": "2024-05-11T17:50:24.880Z"
   },
   {
    "duration": 40,
    "start_time": "2024-05-11T18:08:41.401Z"
   },
   {
    "duration": 24,
    "start_time": "2024-05-11T18:13:21.890Z"
   },
   {
    "duration": 13,
    "start_time": "2024-05-11T18:13:52.643Z"
   },
   {
    "duration": 34,
    "start_time": "2024-05-11T18:22:33.819Z"
   },
   {
    "duration": 35,
    "start_time": "2024-05-11T18:23:46.812Z"
   },
   {
    "duration": 48,
    "start_time": "2024-05-11T18:24:35.811Z"
   },
   {
    "duration": 38,
    "start_time": "2024-05-11T18:37:44.455Z"
   },
   {
    "duration": 71,
    "start_time": "2024-05-11T18:38:00.743Z"
   },
   {
    "duration": 21,
    "start_time": "2024-05-11T19:19:53.186Z"
   },
   {
    "duration": 9,
    "start_time": "2024-05-11T19:20:39.696Z"
   },
   {
    "duration": 9,
    "start_time": "2024-05-11T19:22:09.724Z"
   },
   {
    "duration": 7,
    "start_time": "2024-05-11T19:22:18.895Z"
   },
   {
    "duration": 8,
    "start_time": "2024-05-11T19:22:54.671Z"
   },
   {
    "duration": 5,
    "start_time": "2024-05-11T19:52:40.901Z"
   },
   {
    "duration": 54,
    "start_time": "2024-05-13T08:27:52.399Z"
   },
   {
    "duration": 1042,
    "start_time": "2024-05-13T08:27:57.360Z"
   },
   {
    "duration": 26,
    "start_time": "2024-05-13T08:27:58.404Z"
   },
   {
    "duration": 30,
    "start_time": "2024-05-13T08:27:58.432Z"
   },
   {
    "duration": 26,
    "start_time": "2024-05-13T08:27:58.464Z"
   },
   {
    "duration": 19,
    "start_time": "2024-05-13T08:27:58.491Z"
   },
   {
    "duration": 14,
    "start_time": "2024-05-13T08:27:58.511Z"
   },
   {
    "duration": 41,
    "start_time": "2024-05-13T08:27:58.526Z"
   },
   {
    "duration": 29,
    "start_time": "2024-05-13T08:27:58.568Z"
   },
   {
    "duration": 10,
    "start_time": "2024-05-13T08:27:58.599Z"
   },
   {
    "duration": 13,
    "start_time": "2024-05-13T08:27:58.611Z"
   },
   {
    "duration": 86,
    "start_time": "2024-05-13T08:27:58.626Z"
   },
   {
    "duration": 4,
    "start_time": "2024-05-13T08:27:58.714Z"
   },
   {
    "duration": 25,
    "start_time": "2024-05-13T08:27:58.720Z"
   },
   {
    "duration": 36,
    "start_time": "2024-05-13T08:31:06.216Z"
   },
   {
    "duration": 8,
    "start_time": "2024-05-13T08:31:33.672Z"
   },
   {
    "duration": 8,
    "start_time": "2024-05-13T08:31:50.941Z"
   },
   {
    "duration": 9,
    "start_time": "2024-05-13T08:31:57.735Z"
   },
   {
    "duration": 7,
    "start_time": "2024-05-13T08:33:02.991Z"
   },
   {
    "duration": 17,
    "start_time": "2024-05-13T08:34:06.233Z"
   },
   {
    "duration": 8,
    "start_time": "2024-05-13T08:34:49.276Z"
   },
   {
    "duration": 16,
    "start_time": "2024-05-13T08:34:57.976Z"
   },
   {
    "duration": 47,
    "start_time": "2024-05-13T08:43:19.241Z"
   },
   {
    "duration": 7,
    "start_time": "2024-05-13T08:43:35.113Z"
   },
   {
    "duration": 7,
    "start_time": "2024-05-13T08:44:06.772Z"
   },
   {
    "duration": 3,
    "start_time": "2024-05-13T08:44:19.429Z"
   },
   {
    "duration": 889,
    "start_time": "2024-05-13T08:44:30.012Z"
   },
   {
    "duration": 903,
    "start_time": "2024-05-13T08:45:34.799Z"
   },
   {
    "duration": 6,
    "start_time": "2024-05-13T10:02:27.498Z"
   },
   {
    "duration": 816,
    "start_time": "2024-05-13T10:02:46.451Z"
   },
   {
    "duration": 732,
    "start_time": "2024-05-13T10:02:56.680Z"
   },
   {
    "duration": 50,
    "start_time": "2024-05-13T10:49:15.194Z"
   },
   {
    "duration": 28,
    "start_time": "2024-05-13T10:49:32.198Z"
   },
   {
    "duration": 32,
    "start_time": "2024-05-13T10:49:43.018Z"
   },
   {
    "duration": 58,
    "start_time": "2024-05-13T10:49:56.218Z"
   },
   {
    "duration": 91,
    "start_time": "2024-05-13T10:51:28.266Z"
   },
   {
    "duration": 46,
    "start_time": "2024-05-13T11:22:47.065Z"
   },
   {
    "duration": 22,
    "start_time": "2024-05-13T11:31:02.003Z"
   },
   {
    "duration": 25,
    "start_time": "2024-05-13T11:31:06.047Z"
   },
   {
    "duration": 41,
    "start_time": "2024-05-13T11:31:11.547Z"
   },
   {
    "duration": 148,
    "start_time": "2024-05-13T11:31:39.137Z"
   },
   {
    "duration": 28,
    "start_time": "2024-05-13T11:31:39.287Z"
   },
   {
    "duration": 27,
    "start_time": "2024-05-13T11:31:39.317Z"
   },
   {
    "duration": 28,
    "start_time": "2024-05-13T11:31:39.363Z"
   },
   {
    "duration": 15,
    "start_time": "2024-05-13T11:31:39.393Z"
   },
   {
    "duration": 15,
    "start_time": "2024-05-13T11:31:39.410Z"
   },
   {
    "duration": 48,
    "start_time": "2024-05-13T11:31:39.426Z"
   },
   {
    "duration": 29,
    "start_time": "2024-05-13T11:31:39.476Z"
   },
   {
    "duration": 9,
    "start_time": "2024-05-13T11:31:39.507Z"
   },
   {
    "duration": 46,
    "start_time": "2024-05-13T11:31:39.517Z"
   },
   {
    "duration": 25,
    "start_time": "2024-05-13T11:31:39.571Z"
   },
   {
    "duration": 42,
    "start_time": "2024-05-13T11:31:39.597Z"
   },
   {
    "duration": 0,
    "start_time": "2024-05-13T11:31:39.640Z"
   },
   {
    "duration": 0,
    "start_time": "2024-05-13T11:31:39.642Z"
   },
   {
    "duration": 189,
    "start_time": "2024-05-13T11:38:44.931Z"
   },
   {
    "duration": 129,
    "start_time": "2024-05-13T11:39:04.028Z"
   },
   {
    "duration": 117,
    "start_time": "2024-05-13T11:39:24.807Z"
   },
   {
    "duration": 64,
    "start_time": "2024-05-13T11:40:58.913Z"
   },
   {
    "duration": 55,
    "start_time": "2024-05-13T11:41:49.168Z"
   },
   {
    "duration": 27,
    "start_time": "2024-05-13T11:42:27.907Z"
   },
   {
    "duration": 28,
    "start_time": "2024-05-13T11:47:30.164Z"
   },
   {
    "duration": 28,
    "start_time": "2024-05-13T11:47:49.579Z"
   },
   {
    "duration": 11,
    "start_time": "2024-05-13T11:48:02.370Z"
   },
   {
    "duration": 8,
    "start_time": "2024-05-13T11:48:13.509Z"
   },
   {
    "duration": 29,
    "start_time": "2024-05-13T11:48:18.986Z"
   },
   {
    "duration": 27,
    "start_time": "2024-05-13T11:49:02.008Z"
   },
   {
    "duration": 8,
    "start_time": "2024-05-13T11:49:15.085Z"
   },
   {
    "duration": 8,
    "start_time": "2024-05-13T11:49:20.078Z"
   },
   {
    "duration": 29,
    "start_time": "2024-05-13T11:49:27.328Z"
   },
   {
    "duration": 31,
    "start_time": "2024-05-13T11:49:38.708Z"
   },
   {
    "duration": 32,
    "start_time": "2024-05-13T11:49:46.724Z"
   },
   {
    "duration": 16,
    "start_time": "2024-05-13T11:50:42.483Z"
   },
   {
    "duration": 4,
    "start_time": "2024-05-13T11:50:56.501Z"
   },
   {
    "duration": 9526,
    "start_time": "2024-05-13T12:30:04.156Z"
   },
   {
    "duration": 22,
    "start_time": "2024-05-13T12:31:36.025Z"
   },
   {
    "duration": 9418,
    "start_time": "2024-05-13T12:32:01.671Z"
   },
   {
    "duration": 10376,
    "start_time": "2024-05-13T12:32:30.113Z"
   },
   {
    "duration": 24,
    "start_time": "2024-05-13T12:33:16.631Z"
   },
   {
    "duration": 3,
    "start_time": "2024-05-13T12:33:35.161Z"
   },
   {
    "duration": 9,
    "start_time": "2024-05-13T12:34:37.638Z"
   },
   {
    "duration": 9,
    "start_time": "2024-05-13T12:34:46.894Z"
   },
   {
    "duration": 45,
    "start_time": "2024-05-14T13:59:20.672Z"
   },
   {
    "duration": 985,
    "start_time": "2024-05-14T13:59:24.874Z"
   },
   {
    "duration": 26,
    "start_time": "2024-05-14T13:59:25.861Z"
   },
   {
    "duration": 29,
    "start_time": "2024-05-14T13:59:25.889Z"
   },
   {
    "duration": 41,
    "start_time": "2024-05-14T13:59:25.920Z"
   },
   {
    "duration": 17,
    "start_time": "2024-05-14T13:59:25.963Z"
   },
   {
    "duration": 27,
    "start_time": "2024-05-14T13:59:25.982Z"
   },
   {
    "duration": 64,
    "start_time": "2024-05-14T13:59:26.017Z"
   },
   {
    "duration": 52,
    "start_time": "2024-05-14T13:59:26.082Z"
   },
   {
    "duration": 9,
    "start_time": "2024-05-14T13:59:26.136Z"
   },
   {
    "duration": 38,
    "start_time": "2024-05-14T13:59:26.147Z"
   },
   {
    "duration": 41,
    "start_time": "2024-05-14T13:59:26.187Z"
   },
   {
    "duration": 152,
    "start_time": "2024-05-14T13:59:26.229Z"
   },
   {
    "duration": 16,
    "start_time": "2024-05-14T13:59:26.382Z"
   },
   {
    "duration": 31,
    "start_time": "2024-05-14T13:59:26.400Z"
   },
   {
    "duration": 44,
    "start_time": "2024-05-14T13:59:26.432Z"
   },
   {
    "duration": 21,
    "start_time": "2024-05-14T14:18:11.703Z"
   },
   {
    "duration": 6,
    "start_time": "2024-05-14T14:18:40.577Z"
   },
   {
    "duration": 11,
    "start_time": "2024-05-14T15:25:27.781Z"
   },
   {
    "duration": 23,
    "start_time": "2024-05-14T15:26:09.530Z"
   },
   {
    "duration": 19,
    "start_time": "2024-05-14T15:38:46.538Z"
   },
   {
    "duration": 34,
    "start_time": "2024-05-14T15:39:11.950Z"
   },
   {
    "duration": 21,
    "start_time": "2024-05-14T15:39:28.769Z"
   },
   {
    "duration": 20,
    "start_time": "2024-05-14T15:39:37.015Z"
   },
   {
    "duration": 32,
    "start_time": "2024-05-14T15:39:49.681Z"
   },
   {
    "duration": 28,
    "start_time": "2024-05-14T15:39:58.877Z"
   },
   {
    "duration": 18,
    "start_time": "2024-05-14T15:40:29.041Z"
   },
   {
    "duration": 7,
    "start_time": "2024-05-14T15:44:46.641Z"
   },
   {
    "duration": 203,
    "start_time": "2024-05-14T15:58:21.537Z"
   },
   {
    "duration": 224,
    "start_time": "2024-05-14T15:58:34.233Z"
   },
   {
    "duration": 136,
    "start_time": "2024-05-14T15:58:41.099Z"
   },
   {
    "duration": 136,
    "start_time": "2024-05-14T15:58:45.903Z"
   },
   {
    "duration": 118,
    "start_time": "2024-05-14T15:58:52.330Z"
   },
   {
    "duration": 118,
    "start_time": "2024-05-14T15:58:57.149Z"
   },
   {
    "duration": 145,
    "start_time": "2024-05-14T15:59:07.460Z"
   },
   {
    "duration": 137,
    "start_time": "2024-05-14T15:59:16.856Z"
   },
   {
    "duration": 145,
    "start_time": "2024-05-14T15:59:24.810Z"
   },
   {
    "duration": 58,
    "start_time": "2024-05-14T16:49:46.613Z"
   },
   {
    "duration": 757,
    "start_time": "2024-05-14T16:49:50.752Z"
   },
   {
    "duration": 34,
    "start_time": "2024-05-14T16:49:51.511Z"
   },
   {
    "duration": 31,
    "start_time": "2024-05-14T16:49:51.547Z"
   },
   {
    "duration": 40,
    "start_time": "2024-05-14T16:49:51.580Z"
   },
   {
    "duration": 27,
    "start_time": "2024-05-14T16:49:51.623Z"
   },
   {
    "duration": 18,
    "start_time": "2024-05-14T16:49:51.652Z"
   },
   {
    "duration": 46,
    "start_time": "2024-05-14T16:49:51.672Z"
   },
   {
    "duration": 35,
    "start_time": "2024-05-14T16:49:51.720Z"
   },
   {
    "duration": 10,
    "start_time": "2024-05-14T16:49:51.756Z"
   },
   {
    "duration": 24,
    "start_time": "2024-05-14T16:49:51.767Z"
   },
   {
    "duration": 52,
    "start_time": "2024-05-14T16:49:51.793Z"
   },
   {
    "duration": 132,
    "start_time": "2024-05-14T16:49:51.847Z"
   },
   {
    "duration": 16,
    "start_time": "2024-05-14T16:49:51.981Z"
   },
   {
    "duration": 47,
    "start_time": "2024-05-14T16:49:51.999Z"
   },
   {
    "duration": 11,
    "start_time": "2024-05-14T16:49:52.048Z"
   },
   {
    "duration": 212,
    "start_time": "2024-05-14T16:49:52.062Z"
   },
   {
    "duration": 15,
    "start_time": "2024-05-14T16:49:52.275Z"
   },
   {
    "duration": 195,
    "start_time": "2024-05-14T16:50:29.693Z"
   },
   {
    "duration": 169,
    "start_time": "2024-05-14T16:50:43.851Z"
   },
   {
    "duration": 170,
    "start_time": "2024-05-14T16:51:38.009Z"
   },
   {
    "duration": 5,
    "start_time": "2024-05-14T17:01:32.638Z"
   },
   {
    "duration": 7,
    "start_time": "2024-05-14T17:51:14.721Z"
   },
   {
    "duration": 679,
    "start_time": "2024-05-14T17:51:42.521Z"
   },
   {
    "duration": 4,
    "start_time": "2024-05-14T17:51:58.961Z"
   },
   {
    "duration": 4,
    "start_time": "2024-05-14T17:57:17.743Z"
   },
   {
    "duration": 5,
    "start_time": "2024-05-14T17:57:30.973Z"
   },
   {
    "duration": 5,
    "start_time": "2024-05-14T18:24:36.855Z"
   },
   {
    "duration": 37,
    "start_time": "2024-05-14T18:33:23.336Z"
   },
   {
    "duration": 4,
    "start_time": "2024-05-14T18:34:22.290Z"
   },
   {
    "duration": 4,
    "start_time": "2024-05-14T18:34:29.284Z"
   },
   {
    "duration": 4,
    "start_time": "2024-05-14T18:37:32.168Z"
   },
   {
    "duration": 6,
    "start_time": "2024-05-14T18:39:09.948Z"
   },
   {
    "duration": 7,
    "start_time": "2024-05-14T18:46:11.681Z"
   },
   {
    "duration": 6,
    "start_time": "2024-05-14T18:47:07.324Z"
   },
   {
    "duration": 6,
    "start_time": "2024-05-14T18:51:42.840Z"
   },
   {
    "duration": 18,
    "start_time": "2024-05-14T18:58:43.298Z"
   },
   {
    "duration": 7,
    "start_time": "2024-05-14T20:26:49.671Z"
   },
   {
    "duration": 5,
    "start_time": "2024-05-14T20:27:45.946Z"
   },
   {
    "duration": 4,
    "start_time": "2024-05-14T20:27:55.906Z"
   },
   {
    "duration": 4,
    "start_time": "2024-05-14T20:28:19.918Z"
   },
   {
    "duration": 36,
    "start_time": "2024-05-14T20:28:39.255Z"
   },
   {
    "duration": 16,
    "start_time": "2024-05-14T20:29:19.252Z"
   },
   {
    "duration": 12,
    "start_time": "2024-05-14T20:29:29.363Z"
   },
   {
    "duration": 12,
    "start_time": "2024-05-14T20:29:48.136Z"
   },
   {
    "duration": 6,
    "start_time": "2024-05-14T20:29:58.476Z"
   },
   {
    "duration": 6,
    "start_time": "2024-05-14T20:30:01.405Z"
   },
   {
    "duration": 12,
    "start_time": "2024-05-14T20:30:16.884Z"
   },
   {
    "duration": 13,
    "start_time": "2024-05-14T20:36:24.496Z"
   },
   {
    "duration": 9,
    "start_time": "2024-05-14T20:39:01.132Z"
   },
   {
    "duration": 18,
    "start_time": "2024-05-14T20:39:14.824Z"
   },
   {
    "duration": 10,
    "start_time": "2024-05-14T20:44:12.355Z"
   },
   {
    "duration": 6,
    "start_time": "2024-05-14T20:44:27.286Z"
   },
   {
    "duration": 5,
    "start_time": "2024-05-14T20:44:39.037Z"
   },
   {
    "duration": 8,
    "start_time": "2024-05-14T20:44:53.618Z"
   },
   {
    "duration": 694,
    "start_time": "2024-05-14T20:46:27.379Z"
   },
   {
    "duration": 19,
    "start_time": "2024-05-14T20:46:47.692Z"
   },
   {
    "duration": 330,
    "start_time": "2024-05-14T20:52:03.259Z"
   },
   {
    "duration": 141,
    "start_time": "2024-05-14T20:52:35.564Z"
   },
   {
    "duration": 140,
    "start_time": "2024-05-14T20:53:03.712Z"
   },
   {
    "duration": 117,
    "start_time": "2024-05-14T20:53:09.770Z"
   },
   {
    "duration": 129,
    "start_time": "2024-05-14T20:53:14.504Z"
   },
   {
    "duration": 140,
    "start_time": "2024-05-14T21:10:06.536Z"
   },
   {
    "duration": 188,
    "start_time": "2024-05-14T21:10:13.365Z"
   },
   {
    "duration": 7,
    "start_time": "2024-05-14T21:18:03.529Z"
   },
   {
    "duration": 11,
    "start_time": "2024-05-14T21:20:41.644Z"
   },
   {
    "duration": 7,
    "start_time": "2024-05-14T21:23:37.593Z"
   },
   {
    "duration": 10,
    "start_time": "2024-05-14T21:23:41.813Z"
   },
   {
    "duration": 11,
    "start_time": "2024-05-14T21:24:06.562Z"
   },
   {
    "duration": 11,
    "start_time": "2024-05-14T21:24:08.783Z"
   },
   {
    "duration": 14,
    "start_time": "2024-05-14T21:24:14.084Z"
   },
   {
    "duration": 11,
    "start_time": "2024-05-14T21:24:22.392Z"
   },
   {
    "duration": 11,
    "start_time": "2024-05-14T21:24:41.506Z"
   },
   {
    "duration": 10,
    "start_time": "2024-05-14T21:24:46.527Z"
   },
   {
    "duration": 11,
    "start_time": "2024-05-14T21:24:53.056Z"
   },
   {
    "duration": 4,
    "start_time": "2024-05-14T21:25:21.254Z"
   },
   {
    "duration": 6,
    "start_time": "2024-05-14T21:25:32.106Z"
   },
   {
    "duration": 6,
    "start_time": "2024-05-14T21:25:44.513Z"
   },
   {
    "duration": 508,
    "start_time": "2024-05-14T21:26:39.607Z"
   },
   {
    "duration": 4,
    "start_time": "2024-05-14T21:27:09.353Z"
   },
   {
    "duration": 8,
    "start_time": "2024-05-14T21:27:16.235Z"
   },
   {
    "duration": 7,
    "start_time": "2024-05-14T21:27:40.799Z"
   },
   {
    "duration": 6,
    "start_time": "2024-05-14T21:27:44.603Z"
   },
   {
    "duration": 8,
    "start_time": "2024-05-14T21:27:58.290Z"
   },
   {
    "duration": 111,
    "start_time": "2024-05-14T21:29:32.488Z"
   },
   {
    "duration": 113,
    "start_time": "2024-05-14T21:30:03.898Z"
   },
   {
    "duration": 109,
    "start_time": "2024-05-14T21:30:16.799Z"
   },
   {
    "duration": 12,
    "start_time": "2024-05-14T21:34:24.579Z"
   },
   {
    "duration": 18,
    "start_time": "2024-05-14T21:34:32.292Z"
   },
   {
    "duration": 22,
    "start_time": "2024-05-14T21:35:01.902Z"
   },
   {
    "duration": 23,
    "start_time": "2024-05-14T21:36:38.868Z"
   },
   {
    "duration": 163,
    "start_time": "2024-05-14T21:37:25.829Z"
   },
   {
    "duration": 131,
    "start_time": "2024-05-14T21:37:51.824Z"
   },
   {
    "duration": 31,
    "start_time": "2024-05-14T21:38:17.440Z"
   },
   {
    "duration": 33,
    "start_time": "2024-05-14T21:38:33.547Z"
   },
   {
    "duration": 24,
    "start_time": "2024-05-14T21:39:45.398Z"
   },
   {
    "duration": 19,
    "start_time": "2024-05-14T21:39:54.740Z"
   },
   {
    "duration": 23,
    "start_time": "2024-05-14T21:40:14.078Z"
   },
   {
    "duration": 23,
    "start_time": "2024-05-14T21:40:27.783Z"
   },
   {
    "duration": 772,
    "start_time": "2024-05-14T21:42:27.535Z"
   },
   {
    "duration": 29,
    "start_time": "2024-05-14T21:43:00.389Z"
   },
   {
    "duration": 669,
    "start_time": "2024-05-14T21:43:13.406Z"
   },
   {
    "duration": 167,
    "start_time": "2024-05-14T21:43:27.547Z"
   },
   {
    "duration": 145,
    "start_time": "2024-05-14T21:43:39.378Z"
   },
   {
    "duration": 716,
    "start_time": "2024-05-14T21:44:02.191Z"
   },
   {
    "duration": 143,
    "start_time": "2024-05-14T21:44:12.140Z"
   },
   {
    "duration": 254,
    "start_time": "2024-05-14T21:44:47.024Z"
   },
   {
    "duration": 253,
    "start_time": "2024-05-14T21:45:24.393Z"
   },
   {
    "duration": 357,
    "start_time": "2024-05-14T21:46:03.598Z"
   },
   {
    "duration": 269,
    "start_time": "2024-05-14T21:46:25.362Z"
   },
   {
    "duration": 112,
    "start_time": "2024-05-14T21:47:27.737Z"
   },
   {
    "duration": 278,
    "start_time": "2024-05-14T21:47:53.612Z"
   },
   {
    "duration": 52,
    "start_time": "2024-05-15T10:10:59.869Z"
   },
   {
    "duration": 1041,
    "start_time": "2024-05-15T10:11:03.745Z"
   },
   {
    "duration": 27,
    "start_time": "2024-05-15T10:11:04.788Z"
   },
   {
    "duration": 33,
    "start_time": "2024-05-15T10:11:04.816Z"
   },
   {
    "duration": 37,
    "start_time": "2024-05-15T10:11:04.851Z"
   },
   {
    "duration": 24,
    "start_time": "2024-05-15T10:11:04.889Z"
   },
   {
    "duration": 16,
    "start_time": "2024-05-15T10:11:04.915Z"
   },
   {
    "duration": 35,
    "start_time": "2024-05-15T10:11:04.932Z"
   },
   {
    "duration": 30,
    "start_time": "2024-05-15T10:11:04.969Z"
   },
   {
    "duration": 9,
    "start_time": "2024-05-15T10:11:05.001Z"
   },
   {
    "duration": 26,
    "start_time": "2024-05-15T10:11:05.013Z"
   },
   {
    "duration": 39,
    "start_time": "2024-05-15T10:11:05.040Z"
   },
   {
    "duration": 125,
    "start_time": "2024-05-15T10:11:05.080Z"
   },
   {
    "duration": 17,
    "start_time": "2024-05-15T10:11:05.207Z"
   },
   {
    "duration": 40,
    "start_time": "2024-05-15T10:11:05.225Z"
   },
   {
    "duration": 31,
    "start_time": "2024-05-15T10:11:05.266Z"
   },
   {
    "duration": 5,
    "start_time": "2024-05-15T10:11:05.299Z"
   },
   {
    "duration": 25,
    "start_time": "2024-05-15T10:11:05.306Z"
   },
   {
    "duration": 171,
    "start_time": "2024-05-15T10:11:05.333Z"
   },
   {
    "duration": 166,
    "start_time": "2024-05-15T10:11:05.505Z"
   },
   {
    "duration": 286,
    "start_time": "2024-05-15T10:11:05.673Z"
   },
   {
    "duration": 21,
    "start_time": "2024-05-15T10:11:05.961Z"
   },
   {
    "duration": 18,
    "start_time": "2024-05-15T10:13:23.418Z"
   },
   {
    "duration": 19,
    "start_time": "2024-05-15T10:13:36.214Z"
   },
   {
    "duration": 19,
    "start_time": "2024-05-15T10:13:42.203Z"
   },
   {
    "duration": 30,
    "start_time": "2024-05-15T10:13:54.291Z"
   },
   {
    "duration": 19,
    "start_time": "2024-05-15T10:14:06.449Z"
   },
   {
    "duration": 18,
    "start_time": "2024-05-15T10:16:27.036Z"
   },
   {
    "duration": 19,
    "start_time": "2024-05-15T10:16:31.322Z"
   },
   {
    "duration": 20,
    "start_time": "2024-05-15T10:20:41.086Z"
   },
   {
    "duration": 20,
    "start_time": "2024-05-15T10:21:24.428Z"
   },
   {
    "duration": 161,
    "start_time": "2024-05-15T10:27:48.386Z"
   },
   {
    "duration": 23,
    "start_time": "2024-05-15T10:28:10.787Z"
   },
   {
    "duration": 157,
    "start_time": "2024-05-15T10:28:57.069Z"
   },
   {
    "duration": 178,
    "start_time": "2024-05-15T10:30:25.395Z"
   },
   {
    "duration": 174,
    "start_time": "2024-05-15T10:30:46.527Z"
   },
   {
    "duration": 313,
    "start_time": "2024-05-15T10:31:35.866Z"
   },
   {
    "duration": 183,
    "start_time": "2024-05-15T11:14:17.850Z"
   },
   {
    "duration": 122,
    "start_time": "2024-05-15T11:20:12.933Z"
   },
   {
    "duration": 202,
    "start_time": "2024-05-15T11:22:46.991Z"
   },
   {
    "duration": 124,
    "start_time": "2024-05-15T11:23:12.154Z"
   },
   {
    "duration": 160,
    "start_time": "2024-05-15T11:23:58.792Z"
   },
   {
    "duration": 124,
    "start_time": "2024-05-15T11:24:09.916Z"
   },
   {
    "duration": 177,
    "start_time": "2024-05-15T11:29:15.856Z"
   },
   {
    "duration": 218,
    "start_time": "2024-05-15T11:34:50.767Z"
   },
   {
    "duration": 1223,
    "start_time": "2024-05-15T11:38:03.877Z"
   },
   {
    "duration": 181,
    "start_time": "2024-05-15T11:38:33.032Z"
   },
   {
    "duration": 186,
    "start_time": "2024-05-15T11:38:52.431Z"
   },
   {
    "duration": 184,
    "start_time": "2024-05-15T11:39:05.822Z"
   },
   {
    "duration": 261,
    "start_time": "2024-05-15T11:39:30.652Z"
   },
   {
    "duration": 144,
    "start_time": "2024-05-15T11:39:36.462Z"
   },
   {
    "duration": 51,
    "start_time": "2024-05-15T13:10:55.094Z"
   },
   {
    "duration": 1021,
    "start_time": "2024-05-15T13:10:59.380Z"
   },
   {
    "duration": 28,
    "start_time": "2024-05-15T13:11:00.403Z"
   },
   {
    "duration": 104,
    "start_time": "2024-05-15T13:11:00.433Z"
   },
   {
    "duration": 50,
    "start_time": "2024-05-15T13:11:00.539Z"
   },
   {
    "duration": 71,
    "start_time": "2024-05-15T13:11:00.591Z"
   },
   {
    "duration": 58,
    "start_time": "2024-05-15T13:11:00.663Z"
   },
   {
    "duration": 131,
    "start_time": "2024-05-15T13:11:00.722Z"
   },
   {
    "duration": 139,
    "start_time": "2024-05-15T13:11:00.854Z"
   },
   {
    "duration": 57,
    "start_time": "2024-05-15T13:11:00.995Z"
   },
   {
    "duration": 67,
    "start_time": "2024-05-15T13:11:01.054Z"
   },
   {
    "duration": 84,
    "start_time": "2024-05-15T13:11:01.123Z"
   },
   {
    "duration": 209,
    "start_time": "2024-05-15T13:11:01.208Z"
   },
   {
    "duration": 17,
    "start_time": "2024-05-15T13:11:01.419Z"
   },
   {
    "duration": 70,
    "start_time": "2024-05-15T13:11:01.439Z"
   },
   {
    "duration": 51,
    "start_time": "2024-05-15T13:11:01.510Z"
   },
   {
    "duration": 62,
    "start_time": "2024-05-15T13:11:01.563Z"
   },
   {
    "duration": 69,
    "start_time": "2024-05-15T13:11:01.627Z"
   },
   {
    "duration": 231,
    "start_time": "2024-05-15T13:11:01.698Z"
   },
   {
    "duration": 196,
    "start_time": "2024-05-15T13:11:01.931Z"
   },
   {
    "duration": 305,
    "start_time": "2024-05-15T13:11:02.128Z"
   },
   {
    "duration": 194,
    "start_time": "2024-05-15T13:11:02.435Z"
   },
   {
    "duration": 138,
    "start_time": "2024-05-15T13:11:02.631Z"
   },
   {
    "duration": 202,
    "start_time": "2024-05-15T13:17:39.105Z"
   },
   {
    "duration": 169,
    "start_time": "2024-05-15T13:18:16.396Z"
   },
   {
    "duration": 137,
    "start_time": "2024-05-15T13:20:41.471Z"
   },
   {
    "duration": 148,
    "start_time": "2024-05-15T13:22:32.864Z"
   },
   {
    "duration": 137,
    "start_time": "2024-05-15T13:23:49.260Z"
   },
   {
    "duration": 149,
    "start_time": "2024-05-15T13:24:05.271Z"
   },
   {
    "duration": 219,
    "start_time": "2024-05-15T13:24:13.572Z"
   },
   {
    "duration": 55,
    "start_time": "2024-05-15T18:38:11.216Z"
   },
   {
    "duration": 1180,
    "start_time": "2024-05-15T18:38:15.649Z"
   },
   {
    "duration": 48,
    "start_time": "2024-05-15T18:38:16.832Z"
   },
   {
    "duration": 34,
    "start_time": "2024-05-15T18:38:16.882Z"
   },
   {
    "duration": 44,
    "start_time": "2024-05-15T18:38:16.918Z"
   },
   {
    "duration": 29,
    "start_time": "2024-05-15T18:38:16.965Z"
   },
   {
    "duration": 27,
    "start_time": "2024-05-15T18:38:16.996Z"
   },
   {
    "duration": 78,
    "start_time": "2024-05-15T18:38:17.025Z"
   },
   {
    "duration": 56,
    "start_time": "2024-05-15T18:38:17.105Z"
   },
   {
    "duration": 15,
    "start_time": "2024-05-15T18:38:17.163Z"
   },
   {
    "duration": 47,
    "start_time": "2024-05-15T18:38:17.180Z"
   },
   {
    "duration": 53,
    "start_time": "2024-05-15T18:38:17.229Z"
   },
   {
    "duration": 137,
    "start_time": "2024-05-15T18:38:17.284Z"
   },
   {
    "duration": 18,
    "start_time": "2024-05-15T18:38:17.422Z"
   },
   {
    "duration": 56,
    "start_time": "2024-05-15T18:38:17.443Z"
   },
   {
    "duration": 22,
    "start_time": "2024-05-15T18:38:17.501Z"
   },
   {
    "duration": 25,
    "start_time": "2024-05-15T18:38:17.525Z"
   },
   {
    "duration": 30,
    "start_time": "2024-05-15T18:38:17.551Z"
   },
   {
    "duration": 199,
    "start_time": "2024-05-15T18:38:17.583Z"
   },
   {
    "duration": 203,
    "start_time": "2024-05-15T18:38:17.783Z"
   },
   {
    "duration": 317,
    "start_time": "2024-05-15T18:38:17.987Z"
   },
   {
    "duration": 200,
    "start_time": "2024-05-15T18:38:18.306Z"
   },
   {
    "duration": 149,
    "start_time": "2024-05-15T18:38:18.508Z"
   },
   {
    "duration": 41,
    "start_time": "2024-05-15T18:38:18.661Z"
   },
   {
    "duration": 37,
    "start_time": "2024-05-15T18:41:31.752Z"
   },
   {
    "duration": 13,
    "start_time": "2024-05-15T18:41:42.464Z"
   },
   {
    "duration": 10,
    "start_time": "2024-05-15T18:41:55.411Z"
   },
   {
    "duration": 12,
    "start_time": "2024-05-15T18:47:57.196Z"
   },
   {
    "duration": 151,
    "start_time": "2024-05-15T18:50:59.147Z"
   },
   {
    "duration": 159,
    "start_time": "2024-05-15T18:51:23.829Z"
   },
   {
    "duration": 140,
    "start_time": "2024-05-15T18:55:09.812Z"
   },
   {
    "duration": 140,
    "start_time": "2024-05-15T18:56:05.481Z"
   },
   {
    "duration": 181,
    "start_time": "2024-05-15T19:29:45.383Z"
   },
   {
    "duration": 150,
    "start_time": "2024-05-15T19:43:13.245Z"
   },
   {
    "duration": 197,
    "start_time": "2024-05-15T19:43:44.668Z"
   },
   {
    "duration": 131,
    "start_time": "2024-05-15T19:49:15.030Z"
   },
   {
    "duration": 59,
    "start_time": "2024-05-15T20:09:43.350Z"
   },
   {
    "duration": 13,
    "start_time": "2024-05-15T20:10:24.747Z"
   },
   {
    "duration": 20,
    "start_time": "2024-05-15T20:13:15.438Z"
   },
   {
    "duration": 15,
    "start_time": "2024-05-15T20:13:34.268Z"
   },
   {
    "duration": 166,
    "start_time": "2024-05-15T20:14:17.108Z"
   },
   {
    "duration": 132,
    "start_time": "2024-05-15T20:14:39.876Z"
   },
   {
    "duration": 11,
    "start_time": "2024-05-15T20:18:54.714Z"
   },
   {
    "duration": 13,
    "start_time": "2024-05-15T20:19:50.810Z"
   },
   {
    "duration": 127,
    "start_time": "2024-05-15T20:20:12.924Z"
   },
   {
    "duration": 14,
    "start_time": "2024-05-15T20:21:49.641Z"
   },
   {
    "duration": 168,
    "start_time": "2024-05-15T20:23:14.310Z"
   },
   {
    "duration": 135,
    "start_time": "2024-05-15T20:23:53.650Z"
   },
   {
    "duration": 166,
    "start_time": "2024-05-15T20:24:01.758Z"
   },
   {
    "duration": 181,
    "start_time": "2024-05-15T20:27:40.157Z"
   },
   {
    "duration": 251,
    "start_time": "2024-05-15T20:29:52.763Z"
   },
   {
    "duration": 249,
    "start_time": "2024-05-15T20:30:14.972Z"
   },
   {
    "duration": 5,
    "start_time": "2024-05-15T21:10:12.620Z"
   },
   {
    "duration": 13,
    "start_time": "2024-05-15T21:26:34.211Z"
   },
   {
    "duration": 6,
    "start_time": "2024-05-15T21:26:42.474Z"
   },
   {
    "duration": 29,
    "start_time": "2024-05-15T21:35:24.006Z"
   },
   {
    "duration": 25,
    "start_time": "2024-05-15T21:35:41.724Z"
   },
   {
    "duration": 30,
    "start_time": "2024-05-15T21:36:57.461Z"
   },
   {
    "duration": 17,
    "start_time": "2024-05-15T21:38:57.295Z"
   },
   {
    "duration": 5,
    "start_time": "2024-05-15T21:39:26.369Z"
   },
   {
    "duration": 28,
    "start_time": "2024-05-15T21:43:23.261Z"
   },
   {
    "duration": 32,
    "start_time": "2024-05-15T21:44:07.316Z"
   },
   {
    "duration": 10,
    "start_time": "2024-05-15T21:46:45.881Z"
   },
   {
    "duration": 921,
    "start_time": "2024-05-15T21:56:32.335Z"
   },
   {
    "duration": 201,
    "start_time": "2024-05-15T21:56:55.164Z"
   },
   {
    "duration": 161,
    "start_time": "2024-05-15T21:57:07.742Z"
   },
   {
    "duration": 1224,
    "start_time": "2024-05-15T21:57:32.401Z"
   },
   {
    "duration": 127,
    "start_time": "2024-05-15T21:57:57.592Z"
   },
   {
    "duration": 135,
    "start_time": "2024-05-15T21:58:17.210Z"
   },
   {
    "duration": 251,
    "start_time": "2024-05-15T21:58:29.679Z"
   },
   {
    "duration": 124,
    "start_time": "2024-05-15T21:59:17.324Z"
   },
   {
    "duration": 130,
    "start_time": "2024-05-15T21:59:30.180Z"
   },
   {
    "duration": 139,
    "start_time": "2024-05-15T22:07:42.084Z"
   },
   {
    "duration": 134,
    "start_time": "2024-05-15T22:08:10.028Z"
   },
   {
    "duration": 158,
    "start_time": "2024-05-15T22:09:15.745Z"
   },
   {
    "duration": 171,
    "start_time": "2024-05-15T22:22:13.094Z"
   },
   {
    "duration": 174,
    "start_time": "2024-05-15T22:23:31.016Z"
   },
   {
    "duration": 220,
    "start_time": "2024-05-15T22:23:53.415Z"
   },
   {
    "duration": 140,
    "start_time": "2024-05-15T22:26:16.608Z"
   },
   {
    "duration": 154,
    "start_time": "2024-05-15T22:26:27.471Z"
   },
   {
    "duration": 264,
    "start_time": "2024-05-15T22:27:16.994Z"
   },
   {
    "duration": 144,
    "start_time": "2024-05-15T22:27:38.845Z"
   },
   {
    "duration": 161,
    "start_time": "2024-05-15T22:29:03.505Z"
   },
   {
    "duration": 147,
    "start_time": "2024-05-15T22:47:19.176Z"
   },
   {
    "duration": 68,
    "start_time": "2024-05-15T22:51:56.444Z"
   },
   {
    "duration": 147,
    "start_time": "2024-05-15T22:52:12.483Z"
   },
   {
    "duration": 98,
    "start_time": "2024-05-15T22:56:56.996Z"
   },
   {
    "duration": 144,
    "start_time": "2024-05-15T22:57:23.480Z"
   },
   {
    "duration": 1110,
    "start_time": "2024-05-15T22:57:33.812Z"
   },
   {
    "duration": 1166,
    "start_time": "2024-05-15T22:57:56.928Z"
   },
   {
    "duration": 166,
    "start_time": "2024-05-15T22:58:18.547Z"
   },
   {
    "duration": 165,
    "start_time": "2024-05-15T22:59:38.978Z"
   },
   {
    "duration": 158,
    "start_time": "2024-05-15T22:59:56.266Z"
   },
   {
    "duration": 266,
    "start_time": "2024-05-15T23:00:20.519Z"
   },
   {
    "duration": 191,
    "start_time": "2024-05-15T23:00:47.042Z"
   },
   {
    "duration": 158,
    "start_time": "2024-05-15T23:14:17.768Z"
   },
   {
    "duration": 155,
    "start_time": "2024-05-15T23:14:37.697Z"
   },
   {
    "duration": 153,
    "start_time": "2024-05-15T23:14:58.446Z"
   },
   {
    "duration": 141,
    "start_time": "2024-05-15T23:16:34.755Z"
   },
   {
    "duration": 1123,
    "start_time": "2024-05-15T23:30:29.763Z"
   },
   {
    "duration": 150,
    "start_time": "2024-05-15T23:31:31.350Z"
   },
   {
    "duration": 149,
    "start_time": "2024-05-15T23:33:05.045Z"
   },
   {
    "duration": 145,
    "start_time": "2024-05-15T23:33:49.461Z"
   },
   {
    "duration": 143,
    "start_time": "2024-05-15T23:34:53.293Z"
   },
   {
    "duration": 240,
    "start_time": "2024-05-15T23:35:50.825Z"
   },
   {
    "duration": 52,
    "start_time": "2024-05-16T10:23:05.762Z"
   },
   {
    "duration": 1245,
    "start_time": "2024-05-16T10:23:09.993Z"
   },
   {
    "duration": 29,
    "start_time": "2024-05-16T10:23:11.240Z"
   },
   {
    "duration": 47,
    "start_time": "2024-05-16T10:23:11.271Z"
   },
   {
    "duration": 28,
    "start_time": "2024-05-16T10:23:11.320Z"
   },
   {
    "duration": 28,
    "start_time": "2024-05-16T10:23:11.350Z"
   },
   {
    "duration": 33,
    "start_time": "2024-05-16T10:23:11.380Z"
   },
   {
    "duration": 25,
    "start_time": "2024-05-16T10:23:11.415Z"
   },
   {
    "duration": 32,
    "start_time": "2024-05-16T10:23:11.442Z"
   },
   {
    "duration": 12,
    "start_time": "2024-05-16T10:23:11.475Z"
   },
   {
    "duration": 40,
    "start_time": "2024-05-16T10:23:11.489Z"
   },
   {
    "duration": 51,
    "start_time": "2024-05-16T10:23:11.531Z"
   },
   {
    "duration": 139,
    "start_time": "2024-05-16T10:23:11.583Z"
   },
   {
    "duration": 20,
    "start_time": "2024-05-16T10:23:11.724Z"
   },
   {
    "duration": 62,
    "start_time": "2024-05-16T10:23:11.746Z"
   },
   {
    "duration": 10,
    "start_time": "2024-05-16T10:23:11.809Z"
   },
   {
    "duration": 11,
    "start_time": "2024-05-16T10:23:11.821Z"
   },
   {
    "duration": 14,
    "start_time": "2024-05-16T10:23:11.833Z"
   },
   {
    "duration": 205,
    "start_time": "2024-05-16T10:23:11.848Z"
   },
   {
    "duration": 185,
    "start_time": "2024-05-16T10:23:12.054Z"
   },
   {
    "duration": 312,
    "start_time": "2024-05-16T10:23:12.241Z"
   },
   {
    "duration": 204,
    "start_time": "2024-05-16T10:23:12.554Z"
   },
   {
    "duration": 151,
    "start_time": "2024-05-16T10:23:12.760Z"
   },
   {
    "duration": 141,
    "start_time": "2024-05-16T10:23:12.912Z"
   },
   {
    "duration": 188,
    "start_time": "2024-05-16T10:23:13.055Z"
   },
   {
    "duration": 174,
    "start_time": "2024-05-16T10:23:13.245Z"
   },
   {
    "duration": 17,
    "start_time": "2024-05-16T10:49:52.528Z"
   },
   {
    "duration": 137,
    "start_time": "2024-05-16T11:01:25.850Z"
   },
   {
    "duration": 118,
    "start_time": "2024-05-16T11:02:07.805Z"
   },
   {
    "duration": 112,
    "start_time": "2024-05-16T11:02:19.506Z"
   },
   {
    "duration": 212,
    "start_time": "2024-05-16T11:02:53.452Z"
   },
   {
    "duration": 116,
    "start_time": "2024-05-16T11:03:24.934Z"
   },
   {
    "duration": 108,
    "start_time": "2024-05-16T11:03:54.039Z"
   },
   {
    "duration": 107,
    "start_time": "2024-05-16T11:04:21.954Z"
   },
   {
    "duration": 114,
    "start_time": "2024-05-16T11:04:28.041Z"
   },
   {
    "duration": 112,
    "start_time": "2024-05-16T11:04:32.508Z"
   },
   {
    "duration": 127,
    "start_time": "2024-05-16T11:04:40.960Z"
   },
   {
    "duration": 115,
    "start_time": "2024-05-16T11:04:54.319Z"
   },
   {
    "duration": 127,
    "start_time": "2024-05-16T11:05:03.620Z"
   },
   {
    "duration": 109,
    "start_time": "2024-05-16T11:05:14.162Z"
   },
   {
    "duration": 90,
    "start_time": "2024-05-16T11:05:39.591Z"
   },
   {
    "duration": 145,
    "start_time": "2024-05-16T11:06:13.622Z"
   },
   {
    "duration": 221,
    "start_time": "2024-05-16T11:07:35.234Z"
   },
   {
    "duration": 148,
    "start_time": "2024-05-16T11:07:48.719Z"
   },
   {
    "duration": 149,
    "start_time": "2024-05-16T11:08:09.209Z"
   },
   {
    "duration": 156,
    "start_time": "2024-05-16T11:08:17.237Z"
   },
   {
    "duration": 143,
    "start_time": "2024-05-16T11:08:27.907Z"
   },
   {
    "duration": 180,
    "start_time": "2024-05-16T11:08:41.461Z"
   },
   {
    "duration": 153,
    "start_time": "2024-05-16T11:09:13.882Z"
   },
   {
    "duration": 175,
    "start_time": "2024-05-16T11:09:46.230Z"
   },
   {
    "duration": 184,
    "start_time": "2024-05-16T11:10:03.960Z"
   },
   {
    "duration": 162,
    "start_time": "2024-05-16T11:10:58.088Z"
   },
   {
    "duration": 171,
    "start_time": "2024-05-16T11:11:06.402Z"
   },
   {
    "duration": 161,
    "start_time": "2024-05-16T11:11:24.866Z"
   },
   {
    "duration": 4231,
    "start_time": "2024-05-16T11:12:26.398Z"
   },
   {
    "duration": 4192,
    "start_time": "2024-05-16T11:12:43.813Z"
   },
   {
    "duration": 155,
    "start_time": "2024-05-16T11:18:14.959Z"
   },
   {
    "duration": 160,
    "start_time": "2024-05-16T11:20:39.985Z"
   },
   {
    "duration": 155,
    "start_time": "2024-05-16T11:21:25.691Z"
   },
   {
    "duration": 159,
    "start_time": "2024-05-16T11:21:52.916Z"
   },
   {
    "duration": 160,
    "start_time": "2024-05-16T11:22:15.624Z"
   },
   {
    "duration": 165,
    "start_time": "2024-05-16T11:22:34.095Z"
   },
   {
    "duration": 163,
    "start_time": "2024-05-16T11:22:43.436Z"
   },
   {
    "duration": 162,
    "start_time": "2024-05-16T11:22:49.127Z"
   },
   {
    "duration": 163,
    "start_time": "2024-05-16T11:22:56.937Z"
   },
   {
    "duration": 150,
    "start_time": "2024-05-16T11:37:00.278Z"
   },
   {
    "duration": 131,
    "start_time": "2024-05-16T11:37:33.027Z"
   },
   {
    "duration": 131,
    "start_time": "2024-05-16T11:37:53.419Z"
   },
   {
    "duration": 142,
    "start_time": "2024-05-16T11:38:11.848Z"
   },
   {
    "duration": 164,
    "start_time": "2024-05-16T11:38:50.147Z"
   },
   {
    "duration": 141,
    "start_time": "2024-05-16T11:38:58.164Z"
   },
   {
    "duration": 153,
    "start_time": "2024-05-16T11:39:34.732Z"
   },
   {
    "duration": 159,
    "start_time": "2024-05-16T11:40:00.176Z"
   },
   {
    "duration": 144,
    "start_time": "2024-05-16T11:40:33.094Z"
   },
   {
    "duration": 143,
    "start_time": "2024-05-16T11:41:00.630Z"
   },
   {
    "duration": 135,
    "start_time": "2024-05-16T11:41:20.932Z"
   },
   {
    "duration": 145,
    "start_time": "2024-05-16T11:41:36.845Z"
   },
   {
    "duration": 151,
    "start_time": "2024-05-16T11:46:17.705Z"
   },
   {
    "duration": 143,
    "start_time": "2024-05-16T11:46:39.762Z"
   },
   {
    "duration": 495,
    "start_time": "2024-05-16T11:46:58.642Z"
   },
   {
    "duration": 131,
    "start_time": "2024-05-16T11:47:18.010Z"
   },
   {
    "duration": 141,
    "start_time": "2024-05-16T11:49:33.824Z"
   },
   {
    "duration": 139,
    "start_time": "2024-05-16T11:49:47.911Z"
   },
   {
    "duration": 147,
    "start_time": "2024-05-16T11:50:00.992Z"
   },
   {
    "duration": 136,
    "start_time": "2024-05-16T11:50:12.227Z"
   },
   {
    "duration": 141,
    "start_time": "2024-05-16T11:50:21.391Z"
   },
   {
    "duration": 145,
    "start_time": "2024-05-16T11:50:35.118Z"
   },
   {
    "duration": 152,
    "start_time": "2024-05-16T11:50:45.589Z"
   },
   {
    "duration": 152,
    "start_time": "2024-05-16T11:50:51.821Z"
   },
   {
    "duration": 139,
    "start_time": "2024-05-16T11:51:02.788Z"
   },
   {
    "duration": 151,
    "start_time": "2024-05-16T11:54:15.402Z"
   },
   {
    "duration": 132,
    "start_time": "2024-05-16T11:55:47.038Z"
   },
   {
    "duration": 137,
    "start_time": "2024-05-16T11:56:15.257Z"
   },
   {
    "duration": 38,
    "start_time": "2024-05-16T12:01:33.794Z"
   },
   {
    "duration": 18,
    "start_time": "2024-05-16T12:01:39.941Z"
   },
   {
    "duration": 12,
    "start_time": "2024-05-16T12:02:15.915Z"
   },
   {
    "duration": 9,
    "start_time": "2024-05-16T12:05:12.476Z"
   },
   {
    "duration": 8,
    "start_time": "2024-05-16T12:05:19.540Z"
   },
   {
    "duration": 10,
    "start_time": "2024-05-16T12:05:36.998Z"
   },
   {
    "duration": 8,
    "start_time": "2024-05-16T12:05:43.419Z"
   },
   {
    "duration": 17,
    "start_time": "2024-05-16T12:08:26.645Z"
   },
   {
    "duration": 25,
    "start_time": "2024-05-16T12:08:49.865Z"
   },
   {
    "duration": 8,
    "start_time": "2024-05-16T12:09:08.038Z"
   },
   {
    "duration": 8,
    "start_time": "2024-05-16T12:09:35.262Z"
   },
   {
    "duration": 2,
    "start_time": "2024-05-16T12:16:41.175Z"
   },
   {
    "duration": 151,
    "start_time": "2024-05-16T12:16:44.291Z"
   },
   {
    "duration": 143,
    "start_time": "2024-05-16T13:28:07.536Z"
   },
   {
    "duration": 144,
    "start_time": "2024-05-16T13:28:24.840Z"
   },
   {
    "duration": 695,
    "start_time": "2024-05-16T16:00:37.619Z"
   },
   {
    "duration": 399,
    "start_time": "2024-05-16T16:00:38.316Z"
   },
   {
    "duration": 23,
    "start_time": "2024-05-16T16:00:38.717Z"
   },
   {
    "duration": 26,
    "start_time": "2024-05-16T16:00:38.742Z"
   },
   {
    "duration": 44,
    "start_time": "2024-05-16T16:00:38.769Z"
   },
   {
    "duration": 13,
    "start_time": "2024-05-16T16:00:38.814Z"
   },
   {
    "duration": 13,
    "start_time": "2024-05-16T16:00:38.828Z"
   },
   {
    "duration": 19,
    "start_time": "2024-05-16T16:00:38.842Z"
   },
   {
    "duration": 37,
    "start_time": "2024-05-16T16:00:38.862Z"
   },
   {
    "duration": 9,
    "start_time": "2024-05-16T16:00:38.901Z"
   },
   {
    "duration": 20,
    "start_time": "2024-05-16T16:00:38.912Z"
   },
   {
    "duration": 23,
    "start_time": "2024-05-16T16:00:38.933Z"
   },
   {
    "duration": 156,
    "start_time": "2024-05-16T16:00:38.957Z"
   },
   {
    "duration": 14,
    "start_time": "2024-05-16T16:00:39.115Z"
   },
   {
    "duration": 22,
    "start_time": "2024-05-16T16:00:39.130Z"
   },
   {
    "duration": 8,
    "start_time": "2024-05-16T16:00:39.154Z"
   },
   {
    "duration": 26,
    "start_time": "2024-05-16T16:00:39.163Z"
   },
   {
    "duration": 7,
    "start_time": "2024-05-16T16:00:39.190Z"
   },
   {
    "duration": 170,
    "start_time": "2024-05-16T16:00:39.199Z"
   },
   {
    "duration": 147,
    "start_time": "2024-05-16T16:00:39.371Z"
   },
   {
    "duration": 255,
    "start_time": "2024-05-16T16:00:39.519Z"
   },
   {
    "duration": 172,
    "start_time": "2024-05-16T16:00:39.775Z"
   },
   {
    "duration": 122,
    "start_time": "2024-05-16T16:00:39.948Z"
   },
   {
    "duration": 123,
    "start_time": "2024-05-16T16:00:40.071Z"
   },
   {
    "duration": 149,
    "start_time": "2024-05-16T16:00:40.195Z"
   },
   {
    "duration": 126,
    "start_time": "2024-05-16T16:00:40.345Z"
   },
   {
    "duration": 20,
    "start_time": "2024-05-16T16:00:40.473Z"
   },
   {
    "duration": 215,
    "start_time": "2024-05-16T16:00:40.497Z"
   },
   {
    "duration": 124,
    "start_time": "2024-05-16T16:00:40.714Z"
   },
   {
    "duration": 753,
    "start_time": "2024-05-17T11:29:24.783Z"
   },
   {
    "duration": 244,
    "start_time": "2024-05-17T11:29:25.538Z"
   },
   {
    "duration": 38,
    "start_time": "2024-05-17T11:29:25.784Z"
   },
   {
    "duration": 37,
    "start_time": "2024-05-17T11:29:25.825Z"
   },
   {
    "duration": 26,
    "start_time": "2024-05-17T11:29:25.863Z"
   },
   {
    "duration": 20,
    "start_time": "2024-05-17T11:29:25.890Z"
   },
   {
    "duration": 30,
    "start_time": "2024-05-17T11:29:25.911Z"
   },
   {
    "duration": 22,
    "start_time": "2024-05-17T11:29:25.957Z"
   },
   {
    "duration": 32,
    "start_time": "2024-05-17T11:29:25.981Z"
   },
   {
    "duration": 10,
    "start_time": "2024-05-17T11:29:26.015Z"
   },
   {
    "duration": 43,
    "start_time": "2024-05-17T11:29:26.027Z"
   },
   {
    "duration": 27,
    "start_time": "2024-05-17T11:29:26.072Z"
   },
   {
    "duration": 133,
    "start_time": "2024-05-17T11:29:26.101Z"
   },
   {
    "duration": 22,
    "start_time": "2024-05-17T11:29:26.235Z"
   },
   {
    "duration": 29,
    "start_time": "2024-05-17T11:29:26.259Z"
   },
   {
    "duration": 10,
    "start_time": "2024-05-17T11:29:26.290Z"
   },
   {
    "duration": 16,
    "start_time": "2024-05-17T11:29:26.302Z"
   },
   {
    "duration": 30,
    "start_time": "2024-05-17T11:29:26.319Z"
   },
   {
    "duration": 152,
    "start_time": "2024-05-17T11:29:26.350Z"
   },
   {
    "duration": 168,
    "start_time": "2024-05-17T11:29:26.503Z"
   },
   {
    "duration": 280,
    "start_time": "2024-05-17T11:29:26.673Z"
   },
   {
    "duration": 187,
    "start_time": "2024-05-17T11:29:26.954Z"
   },
   {
    "duration": 150,
    "start_time": "2024-05-17T11:29:27.142Z"
   },
   {
    "duration": 142,
    "start_time": "2024-05-17T11:29:27.293Z"
   },
   {
    "duration": 191,
    "start_time": "2024-05-17T11:29:27.436Z"
   },
   {
    "duration": 146,
    "start_time": "2024-05-17T11:29:27.629Z"
   },
   {
    "duration": 19,
    "start_time": "2024-05-17T11:29:27.777Z"
   },
   {
    "duration": 182,
    "start_time": "2024-05-17T11:29:27.800Z"
   },
   {
    "duration": 128,
    "start_time": "2024-05-17T11:29:27.984Z"
   },
   {
    "duration": 50,
    "start_time": "2024-05-18T04:10:02.377Z"
   },
   {
    "duration": 904,
    "start_time": "2024-05-18T04:10:09.449Z"
   },
   {
    "duration": 454,
    "start_time": "2024-05-18T04:10:10.356Z"
   },
   {
    "duration": 0,
    "start_time": "2024-05-18T04:10:10.812Z"
   },
   {
    "duration": 0,
    "start_time": "2024-05-18T04:10:10.814Z"
   },
   {
    "duration": 0,
    "start_time": "2024-05-18T04:10:10.816Z"
   },
   {
    "duration": 0,
    "start_time": "2024-05-18T04:10:10.816Z"
   },
   {
    "duration": 0,
    "start_time": "2024-05-18T04:10:10.818Z"
   },
   {
    "duration": 0,
    "start_time": "2024-05-18T04:10:10.819Z"
   },
   {
    "duration": 0,
    "start_time": "2024-05-18T04:10:10.820Z"
   },
   {
    "duration": 0,
    "start_time": "2024-05-18T04:10:10.821Z"
   },
   {
    "duration": 0,
    "start_time": "2024-05-18T04:10:10.822Z"
   },
   {
    "duration": 0,
    "start_time": "2024-05-18T04:10:10.823Z"
   },
   {
    "duration": 0,
    "start_time": "2024-05-18T04:10:10.824Z"
   },
   {
    "duration": 0,
    "start_time": "2024-05-18T04:10:10.826Z"
   },
   {
    "duration": 0,
    "start_time": "2024-05-18T04:10:10.827Z"
   },
   {
    "duration": 0,
    "start_time": "2024-05-18T04:10:10.828Z"
   },
   {
    "duration": 0,
    "start_time": "2024-05-18T04:10:10.829Z"
   },
   {
    "duration": 0,
    "start_time": "2024-05-18T04:10:10.831Z"
   },
   {
    "duration": 0,
    "start_time": "2024-05-18T04:10:10.832Z"
   },
   {
    "duration": 0,
    "start_time": "2024-05-18T04:10:10.833Z"
   },
   {
    "duration": 0,
    "start_time": "2024-05-18T04:10:10.873Z"
   },
   {
    "duration": 0,
    "start_time": "2024-05-18T04:10:10.875Z"
   },
   {
    "duration": 0,
    "start_time": "2024-05-18T04:10:10.875Z"
   },
   {
    "duration": 0,
    "start_time": "2024-05-18T04:10:10.877Z"
   },
   {
    "duration": 0,
    "start_time": "2024-05-18T04:10:10.878Z"
   },
   {
    "duration": 0,
    "start_time": "2024-05-18T04:10:10.879Z"
   },
   {
    "duration": 0,
    "start_time": "2024-05-18T04:10:10.880Z"
   },
   {
    "duration": 0,
    "start_time": "2024-05-18T04:10:10.881Z"
   },
   {
    "duration": 0,
    "start_time": "2024-05-18T04:10:10.883Z"
   },
   {
    "duration": 170,
    "start_time": "2024-05-18T04:10:58.486Z"
   },
   {
    "duration": 36,
    "start_time": "2024-05-18T04:12:39.367Z"
   },
   {
    "duration": 31,
    "start_time": "2024-05-18T04:15:33.048Z"
   },
   {
    "duration": 31,
    "start_time": "2024-05-18T04:23:36.450Z"
   },
   {
    "duration": 34,
    "start_time": "2024-05-18T04:30:50.472Z"
   },
   {
    "duration": 28,
    "start_time": "2024-05-18T04:33:26.243Z"
   },
   {
    "duration": 16,
    "start_time": "2024-05-18T04:35:08.620Z"
   },
   {
    "duration": 33,
    "start_time": "2024-05-18T04:35:21.512Z"
   },
   {
    "duration": 31,
    "start_time": "2024-05-18T04:35:36.084Z"
   },
   {
    "duration": 83,
    "start_time": "2024-05-18T04:36:08.686Z"
   },
   {
    "duration": 35,
    "start_time": "2024-05-18T04:36:21.669Z"
   },
   {
    "duration": 31,
    "start_time": "2024-05-18T04:40:10.142Z"
   },
   {
    "duration": 32,
    "start_time": "2024-05-18T04:40:33.423Z"
   },
   {
    "duration": 15,
    "start_time": "2024-05-18T04:43:51.817Z"
   },
   {
    "duration": 8,
    "start_time": "2024-05-18T04:44:00.836Z"
   },
   {
    "duration": 852,
    "start_time": "2024-05-18T04:44:08.676Z"
   },
   {
    "duration": 30,
    "start_time": "2024-05-18T04:44:12.197Z"
   },
   {
    "duration": 19,
    "start_time": "2024-05-18T04:44:16.024Z"
   },
   {
    "duration": 18,
    "start_time": "2024-05-18T04:44:18.435Z"
   },
   {
    "duration": 30,
    "start_time": "2024-05-18T04:44:21.983Z"
   },
   {
    "duration": 826,
    "start_time": "2024-05-18T04:44:24.524Z"
   },
   {
    "duration": 165,
    "start_time": "2024-05-18T04:44:52.272Z"
   }
  ],
  "colab": {
   "name": "DA+. Сборный проект 1. Шаблон (1).ipynb",
   "provenance": []
  },
  "kernelspec": {
   "display_name": "base",
   "language": "python",
   "name": "python3"
  },
  "language_info": {
   "codemirror_mode": {
    "name": "ipython",
    "version": 3
   },
   "file_extension": ".py",
   "mimetype": "text/x-python",
   "name": "python",
   "nbconvert_exporter": "python",
   "pygments_lexer": "ipython3",
   "version": "3.11.5"
  },
  "toc": {
   "base_numbering": 1,
   "nav_menu": {},
   "number_sections": true,
   "sideBar": true,
   "skip_h1_title": true,
   "title_cell": "Table of Contents",
   "title_sidebar": "Contents",
   "toc_cell": false,
   "toc_position": {
    "height": "calc(100% - 180px)",
    "left": "10px",
    "top": "150px",
    "width": "375.391px"
   },
   "toc_section_display": true,
   "toc_window_display": false
  }
 },
 "nbformat": 4,
 "nbformat_minor": 1
}
